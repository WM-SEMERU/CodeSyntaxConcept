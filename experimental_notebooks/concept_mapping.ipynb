{
 "cells": [
  {
   "cell_type": "markdown",
   "id": "55aec576",
   "metadata": {},
   "source": [
    "## Step 0 - You need to install tree sitter python grammar first"
   ]
  },
  {
   "cell_type": "code",
   "execution_count": 1,
   "id": "e1ad53d8",
   "metadata": {
    "pycharm": {
     "is_executing": true,
     "name": "#%%\n"
    }
   },
   "outputs": [
    {
     "name": "stdout",
     "output_type": "stream",
     "text": [
      "Cloning into 'tree-sitter-python'...\n",
      "remote: Enumerating objects: 2549, done.\u001b[K\n",
      "remote: Counting objects: 100% (293/293), done.\u001b[K\n",
      "remote: Compressing objects: 100% (131/131), done.\u001b[K\n",
      "remote: Total 2549 (delta 167), reused 270 (delta 151), pack-reused 2256\u001b[K\n",
      "Receiving objects: 100% (2549/2549), 19.05 MiB | 4.30 MiB/s, done.\n",
      "Resolving deltas: 100% (1596/1596), done.\n",
      "Updating files: 100% (44/44), done.\n"
     ]
    }
   ],
   "source": [
    "!git clone https://github.com/tree-sitter/tree-sitter-python"
   ]
  },
  {
   "cell_type": "markdown",
   "id": "5c6787c4",
   "metadata": {},
   "source": [
    "## Step 1 - Import modules"
   ]
  },
  {
   "cell_type": "code",
   "execution_count": 3,
   "id": "5023614f",
   "metadata": {},
   "outputs": [],
   "source": [
    "from transformers import AutoTokenizer, AutoModelWithLMHead\n",
    "\n",
    "from core.mappers.concept_mapper import ConceptMapper\n",
    "from core.parsers.tree_sitter_unparser import TreeSitterParser"
   ]
  },
  {
   "cell_type": "markdown",
   "id": "c8eb0145",
   "metadata": {},
   "source": [
    "## Step 2 - Define tokenizers"
   ]
  },
  {
   "cell_type": "code",
   "execution_count": 3,
   "id": "964f1a66",
   "metadata": {
    "pycharm": {
     "name": "#%%\n"
    }
   },
   "outputs": [
    {
     "name": "stderr",
     "output_type": "stream",
     "text": [
      "/usr/local/lib/python3.10/dist-packages/transformers/models/auto/modeling_auto.py:998: FutureWarning: The class `AutoModelWithLMHead` is deprecated and will be removed in a future version. Please use `AutoModelForCausalLM` for causal language models, `AutoModelForMaskedLM` for masked language models and `AutoModelForSeq2SeqLM` for encoder-decoder models.\n",
      "  warnings.warn(\n"
     ]
    }
   ],
   "source": [
    "# Model\n",
    "model = AutoModelWithLMHead.from_pretrained(\"gpt2\")\n",
    "# Define the tokenizer\n",
    "tokenizer = AutoTokenizer.from_pretrained(\"gpt2\")"
   ]
  },
  {
   "cell_type": "markdown",
   "id": "2fc2ca6b",
   "metadata": {
    "pycharm": {
     "name": "#%%\n"
    }
   },
   "source": [
    "## Step 3 - Use the Mapper"
   ]
  },
  {
   "cell_type": "code",
   "execution_count": 4,
   "id": "74fe2f9d",
   "metadata": {},
   "outputs": [
    {
     "name": "stdout",
     "output_type": "stream",
     "text": [
      "        token     concept   ast_token\n",
      "0         def         def         def\n",
      "1    Ġtesting  identifier     testing\n",
      "2           (           (           (\n",
      "3           a  identifier           a\n",
      "4           ,           ,           ,\n",
      "5           b  identifier           b\n",
      "6          ):           :           :\n",
      "7           Ċ        None        None\n",
      "8   Ġvariable  identifier  variable_1\n",
      "9           _  identifier  variable_1\n",
      "10          1  identifier  variable_1\n",
      "11          =           =           =\n",
      "12        565     integer     5656556\n",
      "13        655     integer     5656556\n",
      "14          6     integer     5656556\n",
      "15          Ċ        None        None\n",
      "16  Ġvariable  identifier  variable_2\n",
      "17          _  identifier  variable_2\n",
      "18          2  identifier  variable_2\n",
      "19          =           =           =\n",
      "20        565     integer     5656556\n",
      "21        655     integer     5656556\n",
      "22          6     integer     5656556\n",
      "23          Ċ        None        None\n",
      "24     Ġwhile       while       while\n",
      "25          (           (           (\n",
      "26          r  identifier           r\n",
      "27         ==          ==          ==\n",
      "28          3     integer           3\n",
      "29          )           )           )\n",
      "30      Ġtrue  identifier        true\n",
      "31          :           :           :\n",
      "32    Ġreturn      return      return\n",
      "33         Ġa  identifier           a\n",
      "34          *           *           *\n",
      "35          b  identifier           b\n"
     ]
    }
   ],
   "source": [
    "import pandas as pd\n",
    "\n",
    "# source code\n",
    "source_code = 'def testing(a,b):\\n variable_1=5656556\\n variable_2=5656556\\n while(r==3) true: return a*b'\n",
    "\n",
    "#use Mapper\n",
    "output = ConceptMapper.map_ast_families(source_code, tokenizer, TreeSitterParser.PY_LANGUAGE)\n",
    "\n",
    "#Use the output\n",
    "print(output)"
   ]
  },
  {
   "cell_type": "code",
   "execution_count": null,
   "id": "89fcf4b0",
   "metadata": {},
   "outputs": [],
   "source": []
  },
  {
   "cell_type": "code",
   "execution_count": null,
   "id": "c46dd0a3",
   "metadata": {},
   "outputs": [],
   "source": []
  }
 ],
 "metadata": {
  "kernelspec": {
   "display_name": "Python 3 (ipykernel)",
   "language": "python",
   "name": "python3"
  },
  "language_info": {
   "codemirror_mode": {
    "name": "ipython",
    "version": 3
   },
   "file_extension": ".py",
   "mimetype": "text/x-python",
   "name": "python",
   "nbconvert_exporter": "python",
   "pygments_lexer": "ipython3",
   "version": "3.10.4"
  }
 },
 "nbformat": 4,
 "nbformat_minor": 5
}
