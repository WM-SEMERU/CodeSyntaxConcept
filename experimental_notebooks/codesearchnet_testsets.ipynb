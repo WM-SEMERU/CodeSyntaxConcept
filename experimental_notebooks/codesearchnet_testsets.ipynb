{
 "cells": [
  {
   "cell_type": "markdown",
   "id": "be581a76",
   "metadata": {},
   "source": [
    "# Step 0 - Install Tree Sitter Languages "
   ]
  },
  {
   "cell_type": "code",
   "execution_count": 1,
   "id": "d817fc1a",
   "metadata": {},
   "outputs": [
    {
     "name": "stdout",
     "output_type": "stream",
     "text": [
      "fatal: destination path 'tree-sitter-java' already exists and is not an empty directory.\n",
      "fatal: destination path 'tree-sitter-python' already exists and is not an empty directory.\n"
     ]
    }
   ],
   "source": [
    "!git clone https://github.com/tree-sitter/tree-sitter-java.git\n",
    "!git clone https://github.com/tree-sitter/tree-sitter-python.git"
   ]
  },
  {
   "cell_type": "markdown",
   "id": "72fa88a8",
   "metadata": {},
   "source": [
    "# Step 1 - Import Modules"
   ]
  },
  {
   "cell_type": "code",
   "execution_count": 2,
   "id": "620b8abd",
   "metadata": {},
   "outputs": [],
   "source": [
    "import torch\n",
    "from datasets import load_dataset    \n",
    "import pandas as pd"
   ]
  },
  {
   "cell_type": "markdown",
   "id": "ed151ebe",
   "metadata": {},
   "source": [
    "# Step 2 - Import Library Modules"
   ]
  },
  {
   "cell_type": "code",
   "execution_count": 3,
   "id": "bc05e3df",
   "metadata": {},
   "outputs": [],
   "source": [
    "from CodeSyntaxConcept.core.parsers.tree_sitter_parser import TreeSitterParser\n",
    "from CodeSyntaxConcept.core.data.code_search_net import CodeSearchNet"
   ]
  },
  {
   "cell_type": "markdown",
   "id": "d4c745ae",
   "metadata": {},
   "source": [
    "# Step 3 - Split CodeSearchNet test sets by size"
   ]
  },
  {
   "cell_type": "code",
   "execution_count": 4,
   "id": "68e0476b",
   "metadata": {},
   "outputs": [
    {
     "name": "stderr",
     "output_type": "stream",
     "text": [
      "No config specified, defaulting to: code_search_net/all\n",
      "Found cached dataset code_search_net (/root/.cache/huggingface/datasets/code_search_net/all/1.0.0/80a244ab541c6b2125350b764dc5c2b715f65f00de7a56107a28915fac173a27)\n",
      "Loading cached processed dataset at /root/.cache/huggingface/datasets/code_search_net/all/1.0.0/80a244ab541c6b2125350b764dc5c2b715f65f00de7a56107a28915fac173a27/cache-b24d5e81f353d222.arrow\n",
      "Loading cached processed dataset at /root/.cache/huggingface/datasets/code_search_net/all/1.0.0/80a244ab541c6b2125350b764dc5c2b715f65f00de7a56107a28915fac173a27/cache-b82b7038276ca520.arrow\n",
      "Loading cached processed dataset at /root/.cache/huggingface/datasets/code_search_net/all/1.0.0/80a244ab541c6b2125350b764dc5c2b715f65f00de7a56107a28915fac173a27/cache-4085f3a256d6c6ae.arrow\n",
      "Loading cached processed dataset at /root/.cache/huggingface/datasets/code_search_net/all/1.0.0/80a244ab541c6b2125350b764dc5c2b715f65f00de7a56107a28915fac173a27/cache-f535d56e9ed39a2b.arrow\n",
      "Loading cached processed dataset at /root/.cache/huggingface/datasets/code_search_net/all/1.0.0/80a244ab541c6b2125350b764dc5c2b715f65f00de7a56107a28915fac173a27/cache-a2491da814c237ac.arrow\n",
      "Loading cached processed dataset at /root/.cache/huggingface/datasets/code_search_net/all/1.0.0/80a244ab541c6b2125350b764dc5c2b715f65f00de7a56107a28915fac173a27/cache-966627b93d8f9e78.arrow\n",
      "Loading cached processed dataset at /root/.cache/huggingface/datasets/code_search_net/all/1.0.0/80a244ab541c6b2125350b764dc5c2b715f65f00de7a56107a28915fac173a27/cache-68afd81cfd0f31e1.arrow\n",
      "Loading cached processed dataset at /root/.cache/huggingface/datasets/code_search_net/all/1.0.0/80a244ab541c6b2125350b764dc5c2b715f65f00de7a56107a28915fac173a27/cache-1f0449f6f8f445e8.arrow\n",
      "Loading cached processed dataset at /root/.cache/huggingface/datasets/code_search_net/all/1.0.0/80a244ab541c6b2125350b764dc5c2b715f65f00de7a56107a28915fac173a27/cache-760652beca2d54e8.arrow\n"
     ]
    }
   ],
   "source": [
    "testset_small, testset_medium, testset_large = CodeSearchNet.get_test_sets(load_dataset(\"code_search_net\", split='test'))\n",
    "\n",
    "testset_small_python = testset_small.filter(lambda sample: sample['language']=='python')\n",
    "testset_medium_python = testset_medium.filter(lambda sample: sample['language']=='python')\n",
    "testset_large_python = testset_large.filter(lambda sample: sample['language']=='python')\n",
    "\n",
    "testset_small_java = testset_small.filter(lambda sample: sample['language']=='java')\n",
    "testset_medium_java = testset_medium.filter(lambda sample: sample['language']=='java')\n",
    "testset_large_java = testset_large.filter(lambda sample: sample['language']=='java')"
   ]
  },
  {
   "cell_type": "markdown",
   "id": "0483a623",
   "metadata": {},
   "source": [
    "# Step 4 - Context Analysis - Method Level"
   ]
  },
  {
   "cell_type": "code",
   "execution_count": 5,
   "id": "e8eeca96",
   "metadata": {},
   "outputs": [
    {
     "name": "stdout",
     "output_type": "stream",
     "text": [
      "---------------------------------------------------------------------------------\n",
      "                                          token  counts        avg\n",
      "0                                             (       8  14.814815\n",
      "1                                             )       8  14.814815\n",
      "2                                             ,       7  12.962963\n",
      "3                                           url       7  12.962963\n",
      "4                                            or       5   9.259259\n",
      "5                                        match1       4   7.407407\n",
      "6                             parse_query_param       3   5.555556\n",
      "7                                           'v'       2   3.703704\n",
      "8                r'youtube\\.com/watch/([^/?]+)'       1   1.851852\n",
      "9                    r'youtube\\.com/v/([^/?]+)'       1   1.851852\n",
      "10               r'youtube\\.com/embed/([^/?]+)'       1   1.851852\n",
      "11                                          def       1   1.851852\n",
      "12                        r'youtu\\.be/([^?/]+)'       1   1.851852\n",
      "13                             get_vid_from_url       1   1.851852\n",
      "14                                       return       1   1.851852\n",
      "15  \"\"\"Extracts video ID from URL.\\n        \"\"\"       1   1.851852\n",
      "16                                            :       1   1.851852\n",
      "17                                          'u'       1   1.851852\n",
      "---------------------------------------------------------------------------------\n",
      "    node_type  counts        avg\n",
      "0  identifier      15  27.777778\n",
      "1           (       8  14.814815\n",
      "2           )       8  14.814815\n",
      "3      string       8  14.814815\n",
      "4           ,       7  12.962963\n",
      "5          or       5   9.259259\n",
      "6         def       1   1.851852\n",
      "7           :       1   1.851852\n",
      "8      return       1   1.851852\n",
      "---------------------------------------------------------------------------------\n",
      "            parent_type  counts        avg\n",
      "0         argument_list      34  62.962963\n",
      "1                  call       7  12.962963\n",
      "2      boolean_operator       5   9.259259\n",
      "3   function_definition       3   5.555556\n",
      "4            parameters       3   5.555556\n",
      "5  expression_statement       1   1.851852\n",
      "6      return_statement       1   1.851852\n"
     ]
    }
   ],
   "source": [
    "token_counts, node_type_counts, parent_node_type_counts = CodeSearchNet.count_source_code_ast_type_frequency(testset_small_python[0]['whole_func_string'], testset_small_python[0]['language'])\n",
    "df_total_token_counts, df_total_node_type_counts, df_total_parent_node_type_counts = CodeSearchNet.transform_code_counts_to_dataframe( token_counts, node_type_counts, parent_node_type_counts)\n",
    "df_total_token_counts = CodeSearchNet.add_count_average(df_total_token_counts)\n",
    "df_total_node_type_counts = CodeSearchNet.add_count_average(df_total_node_type_counts)\n",
    "df_total_parent_node_type_counts = CodeSearchNet.add_count_average(df_total_parent_node_type_counts)\n",
    "\n",
    "print(\"---------------------------------------------------------------------------------\")\n",
    "print(testset_small_python[0]['whole_func_string'])\n",
    "print(\"---------------------------------------------------------------------------------\")\n",
    "print(df_total_token_counts)\n",
    "print(\"---------------------------------------------------------------------------------\")\n",
    "print(df_total_node_type_counts)\n",
    "print(\"---------------------------------------------------------------------------------\")\n",
    "print(df_total_parent_node_type_counts)"
   ]
  },
  {
   "cell_type": "markdown",
   "id": "22015f24",
   "metadata": {},
   "source": [
    "# Step 4 - Context Analysis - DataSet Level"
   ]
  },
  {
   "cell_type": "code",
   "execution_count": null,
   "id": "c0b98fb9",
   "metadata": {},
   "outputs": [],
   "source": [
    "df_total_token_counts, df_total_node_type_counts, df_total_parent_node_type_counts = CodeSearchNet.count_ast_type_frequency(testset_small_python)\n",
    "df_total_token_counts = CodeSearchNet.add_count_average(df_total_token_counts)\n",
    "df_total_node_type_counts = CodeSearchNet.add_count_average(df_total_node_type_counts)\n",
    "df_total_parent_node_type_counts = CodeSearchNet.add_count_average(df_total_parent_node_type_counts)\n",
    "\n",
    "print(\"---------------------------------------------------------------------------------\")\n",
    "print(df_total_token_counts)\n",
    "print(\"---------------------------------------------------------------------------------\")\n",
    "print(df_total_node_type_counts)\n",
    "print(\"---------------------------------------------------------------------------------\")\n",
    "print(df_total_parent_node_type_counts)"
   ]
  },
  {
   "cell_type": "code",
   "execution_count": null,
   "id": "86895e49",
   "metadata": {},
   "outputs": [],
   "source": []
  }
 ],
 "metadata": {
  "kernelspec": {
   "display_name": "Python 3.8.10 64-bit",
   "language": "python",
   "name": "python3"
  },
  "language_info": {
   "codemirror_mode": {
    "name": "ipython",
    "version": 3
   },
   "file_extension": ".py",
   "mimetype": "text/x-python",
   "name": "python",
   "nbconvert_exporter": "python",
   "pygments_lexer": "ipython3",
   "version": "3.8.10"
  },
  "vscode": {
   "interpreter": {
    "hash": "31f2aee4e71d21fbe5cf8b01ff0e069b9275f58929596ceb00d14d90e3e16cd6"
   }
  }
 },
 "nbformat": 4,
 "nbformat_minor": 5
}
