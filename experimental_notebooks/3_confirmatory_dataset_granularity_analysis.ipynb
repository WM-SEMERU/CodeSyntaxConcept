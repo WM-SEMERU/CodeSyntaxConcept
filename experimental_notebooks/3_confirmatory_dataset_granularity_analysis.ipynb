{
 "cells": [
  {
   "cell_type": "code",
   "execution_count": 1,
   "metadata": {},
   "outputs": [],
   "source": [
    "import seaborn as sns\n",
    "from scipy import stats\n",
    "from statistics import NormalDist\n",
    "import matplotlib.pyplot as plt"
   ]
  },
  {
   "cell_type": "code",
   "execution_count": 2,
   "metadata": {},
   "outputs": [],
   "source": [
    "import pandas as pd\n",
    "import os\n",
    "import time\n",
    "import numpy as np\n",
    "import torch"
   ]
  },
  {
   "cell_type": "code",
   "execution_count": 3,
   "metadata": {},
   "outputs": [],
   "source": [
    "#export\n",
    "import logging\n",
    "logging.basicConfig(format='%(asctime)s : %(levelname)s : %(message)s', level=logging.INFO)"
   ]
  },
  {
   "cell_type": "code",
   "execution_count": 4,
   "metadata": {},
   "outputs": [],
   "source": [
    "#! pip install dowhy\n",
    "from dowhy import CausalModel\n",
    "import dowhy.datasets, dowhy.plotter\n"
   ]
  },
  {
   "cell_type": "code",
   "execution_count": null,
   "metadata": {},
   "outputs": [],
   "source": [
    "! pip install plotly"
   ]
  },
  {
   "cell_type": "code",
   "execution_count": 5,
   "metadata": {},
   "outputs": [],
   "source": [
    "import plotly.express as px"
   ]
  },
  {
   "cell_type": "code",
   "execution_count": 6,
   "metadata": {},
   "outputs": [],
   "source": [
    "import tensorflow as tf\n",
    "#physical_devices = tf.config.list_physical_devices('CPU')\n",
    "physical_devices = tf.config.list_physical_devices('GPU')"
   ]
  },
  {
   "cell_type": "code",
   "execution_count": 7,
   "metadata": {},
   "outputs": [
    {
     "data": {
      "text/plain": [
       "device(type='cuda', index=0)"
      ]
     },
     "execution_count": 7,
     "metadata": {},
     "output_type": "execute_result"
    }
   ],
   "source": [
    "#device = torch.device('cuda') if torch.cuda.is_available() else torch.device('cpu')\n",
    "device = torch.device(\"cuda:0\" if torch.cuda.is_available() else \"cpu\")\n",
    "device\n"
   ]
  },
  {
   "cell_type": "code",
   "execution_count": 8,
   "metadata": {},
   "outputs": [],
   "source": [
    "%matplotlib inline"
   ]
  },
  {
   "cell_type": "markdown",
   "metadata": {},
   "source": [
    "# Data Upload"
   ]
  },
  {
   "cell_type": "code",
   "execution_count": 9,
   "metadata": {},
   "outputs": [],
   "source": [
    "pd_combined_models_filtered_global= pd.read_csv('/workspaces/CodeSyntaxConcept/data/ds_processed_logits_global/out_astevalverticalfiltered_global_filtered_bts.csv', index_col=0)  "
   ]
  },
  {
   "cell_type": "code",
   "execution_count": 45,
   "metadata": {},
   "outputs": [
    {
     "data": {
      "text/html": [
       "<div>\n",
       "<style scoped>\n",
       "    .dataframe tbody tr th:only-of-type {\n",
       "        vertical-align: middle;\n",
       "    }\n",
       "\n",
       "    .dataframe tbody tr th {\n",
       "        vertical-align: top;\n",
       "    }\n",
       "\n",
       "    .dataframe thead th {\n",
       "        text-align: right;\n",
       "    }\n",
       "</style>\n",
       "<table border=\"1\" class=\"dataframe\">\n",
       "  <thead>\n",
       "    <tr style=\"text-align: right;\">\n",
       "      <th></th>\n",
       "      <th>ast_element</th>\n",
       "      <th>node_type</th>\n",
       "      <th>concept_median_prob</th>\n",
       "      <th>concept_min_prob</th>\n",
       "      <th>concept_max_prob</th>\n",
       "      <th>model</th>\n",
       "      <th>id</th>\n",
       "      <th>type_model</th>\n",
       "      <th>size_model</th>\n",
       "      <th>median_bootstrap</th>\n",
       "      <th>median_standard_error</th>\n",
       "      <th>category</th>\n",
       "    </tr>\n",
       "  </thead>\n",
       "  <tbody>\n",
       "    <tr>\n",
       "      <th>4</th>\n",
       "      <td>]</td>\n",
       "      <td>leaf</td>\n",
       "      <td>[0.5011640191078186, 0.4131472706794739, 0.199...</td>\n",
       "      <td>[0.5011640191078186, 0.4131472706794739, 0.199...</td>\n",
       "      <td>[0.5011640191078186, 0.4131472706794739, 0.199...</td>\n",
       "      <td>EleutherAI/gpt-neo-125m</td>\n",
       "      <td>gpt-3 [125M]</td>\n",
       "      <td>gpt-3</td>\n",
       "      <td>125M</td>\n",
       "      <td>0.519970</td>\n",
       "      <td>0.002649</td>\n",
       "      <td>Scope</td>\n",
       "    </tr>\n",
       "    <tr>\n",
       "      <th>20</th>\n",
       "      <td>}</td>\n",
       "      <td>leaf</td>\n",
       "      <td>[0.054765164852142334, 0.2852576673030853, 0.1...</td>\n",
       "      <td>[0.054765164852142334, 0.2852576673030853, 0.1...</td>\n",
       "      <td>[0.054765164852142334, 0.2852576673030853, 0.1...</td>\n",
       "      <td>EleutherAI/gpt-neo-125m</td>\n",
       "      <td>gpt-3 [125M]</td>\n",
       "      <td>gpt-3</td>\n",
       "      <td>125M</td>\n",
       "      <td>0.407857</td>\n",
       "      <td>0.004083</td>\n",
       "      <td>Scope</td>\n",
       "    </tr>\n",
       "    <tr>\n",
       "      <th>26</th>\n",
       "      <td>comparison_operator</td>\n",
       "      <td>parent</td>\n",
       "      <td>[0.17771987480146992, 0.6588097332666317, 0.35...</td>\n",
       "      <td>[0.007373981905402616, 0.520501870661974, 0.16...</td>\n",
       "      <td>[0.41078073443430996, 0.8648846993843714, 0.51...</td>\n",
       "      <td>EleutherAI/gpt-neo-125m</td>\n",
       "      <td>gpt-3 [125M]</td>\n",
       "      <td>gpt-3</td>\n",
       "      <td>125M</td>\n",
       "      <td>0.520790</td>\n",
       "      <td>0.001535</td>\n",
       "      <td>Operator</td>\n",
       "    </tr>\n",
       "    <tr>\n",
       "      <th>28</th>\n",
       "      <td>list_comprehension</td>\n",
       "      <td>parent</td>\n",
       "      <td>[0.3324718966941873, 0.8159117991703398, 0.246...</td>\n",
       "      <td>[0.20159477380697022, 0.7707708460636502, 0.03...</td>\n",
       "      <td>[0.5388806954195554, 0.8741763405445288, 0.548...</td>\n",
       "      <td>EleutherAI/gpt-neo-125m</td>\n",
       "      <td>gpt-3 [125M]</td>\n",
       "      <td>gpt-3</td>\n",
       "      <td>125M</td>\n",
       "      <td>0.539435</td>\n",
       "      <td>0.004008</td>\n",
       "      <td>Functional Programming</td>\n",
       "    </tr>\n",
       "    <tr>\n",
       "      <th>34</th>\n",
       "      <td>identifier</td>\n",
       "      <td>leaf</td>\n",
       "      <td>[0.10797689084947706, 0.20358978114866963, 0.0...</td>\n",
       "      <td>[0.0017664427507043002, 0.0009960447205230594,...</td>\n",
       "      <td>[0.25789262652397155, 0.5796611309051514, 0.01...</td>\n",
       "      <td>EleutherAI/gpt-neo-125m</td>\n",
       "      <td>gpt-3 [125M]</td>\n",
       "      <td>gpt-3</td>\n",
       "      <td>125M</td>\n",
       "      <td>0.379062</td>\n",
       "      <td>0.000711</td>\n",
       "      <td>Natural Language</td>\n",
       "    </tr>\n",
       "  </tbody>\n",
       "</table>\n",
       "</div>"
      ],
      "text/plain": [
       "            ast_element node_type  \\\n",
       "4                     ]      leaf   \n",
       "20                    }      leaf   \n",
       "26  comparison_operator    parent   \n",
       "28   list_comprehension    parent   \n",
       "34           identifier      leaf   \n",
       "\n",
       "                                  concept_median_prob  \\\n",
       "4   [0.5011640191078186, 0.4131472706794739, 0.199...   \n",
       "20  [0.054765164852142334, 0.2852576673030853, 0.1...   \n",
       "26  [0.17771987480146992, 0.6588097332666317, 0.35...   \n",
       "28  [0.3324718966941873, 0.8159117991703398, 0.246...   \n",
       "34  [0.10797689084947706, 0.20358978114866963, 0.0...   \n",
       "\n",
       "                                     concept_min_prob  \\\n",
       "4   [0.5011640191078186, 0.4131472706794739, 0.199...   \n",
       "20  [0.054765164852142334, 0.2852576673030853, 0.1...   \n",
       "26  [0.007373981905402616, 0.520501870661974, 0.16...   \n",
       "28  [0.20159477380697022, 0.7707708460636502, 0.03...   \n",
       "34  [0.0017664427507043002, 0.0009960447205230594,...   \n",
       "\n",
       "                                     concept_max_prob  \\\n",
       "4   [0.5011640191078186, 0.4131472706794739, 0.199...   \n",
       "20  [0.054765164852142334, 0.2852576673030853, 0.1...   \n",
       "26  [0.41078073443430996, 0.8648846993843714, 0.51...   \n",
       "28  [0.5388806954195554, 0.8741763405445288, 0.548...   \n",
       "34  [0.25789262652397155, 0.5796611309051514, 0.01...   \n",
       "\n",
       "                      model            id type_model size_model  \\\n",
       "4   EleutherAI/gpt-neo-125m  gpt-3 [125M]      gpt-3       125M   \n",
       "20  EleutherAI/gpt-neo-125m  gpt-3 [125M]      gpt-3       125M   \n",
       "26  EleutherAI/gpt-neo-125m  gpt-3 [125M]      gpt-3       125M   \n",
       "28  EleutherAI/gpt-neo-125m  gpt-3 [125M]      gpt-3       125M   \n",
       "34  EleutherAI/gpt-neo-125m  gpt-3 [125M]      gpt-3       125M   \n",
       "\n",
       "    median_bootstrap  median_standard_error                category  \n",
       "4           0.519970               0.002649                   Scope  \n",
       "20          0.407857               0.004083                   Scope  \n",
       "26          0.520790               0.001535                Operator  \n",
       "28          0.539435               0.004008  Functional Programming  \n",
       "34          0.379062               0.000711        Natural Language  "
      ]
     },
     "execution_count": 45,
     "metadata": {},
     "output_type": "execute_result"
    }
   ],
   "source": [
    "pd_combined_models_filtered_global.head(5)"
   ]
  },
  {
   "attachments": {},
   "cell_type": "markdown",
   "metadata": {},
   "source": [
    "# Agreggated "
   ]
  },
  {
   "attachments": {},
   "cell_type": "markdown",
   "metadata": {},
   "source": [
    "### Quick Summary"
   ]
  },
  {
   "cell_type": "code",
   "execution_count": 13,
   "metadata": {},
   "outputs": [
    {
     "data": {
      "text/html": [
       "<div>\n",
       "<style scoped>\n",
       "    .dataframe tbody tr th:only-of-type {\n",
       "        vertical-align: middle;\n",
       "    }\n",
       "\n",
       "    .dataframe tbody tr th {\n",
       "        vertical-align: top;\n",
       "    }\n",
       "\n",
       "    .dataframe thead tr th {\n",
       "        text-align: left;\n",
       "    }\n",
       "\n",
       "    .dataframe thead tr:last-of-type th {\n",
       "        text-align: right;\n",
       "    }\n",
       "</style>\n",
       "<table border=\"1\" class=\"dataframe\">\n",
       "  <thead>\n",
       "    <tr>\n",
       "      <th></th>\n",
       "      <th></th>\n",
       "      <th colspan=\"8\" halign=\"left\">median_bootstrap</th>\n",
       "      <th colspan=\"8\" halign=\"left\">median_standard_error</th>\n",
       "    </tr>\n",
       "    <tr>\n",
       "      <th></th>\n",
       "      <th></th>\n",
       "      <th>count</th>\n",
       "      <th>mean</th>\n",
       "      <th>std</th>\n",
       "      <th>min</th>\n",
       "      <th>25%</th>\n",
       "      <th>50%</th>\n",
       "      <th>75%</th>\n",
       "      <th>max</th>\n",
       "      <th>count</th>\n",
       "      <th>mean</th>\n",
       "      <th>std</th>\n",
       "      <th>min</th>\n",
       "      <th>25%</th>\n",
       "      <th>50%</th>\n",
       "      <th>75%</th>\n",
       "      <th>max</th>\n",
       "    </tr>\n",
       "    <tr>\n",
       "      <th>type_model</th>\n",
       "      <th>id</th>\n",
       "      <th></th>\n",
       "      <th></th>\n",
       "      <th></th>\n",
       "      <th></th>\n",
       "      <th></th>\n",
       "      <th></th>\n",
       "      <th></th>\n",
       "      <th></th>\n",
       "      <th></th>\n",
       "      <th></th>\n",
       "      <th></th>\n",
       "      <th></th>\n",
       "      <th></th>\n",
       "      <th></th>\n",
       "      <th></th>\n",
       "      <th></th>\n",
       "    </tr>\n",
       "  </thead>\n",
       "  <tbody>\n",
       "    <tr>\n",
       "      <th rowspan=\"2\" valign=\"top\">codegen-nl</th>\n",
       "      <th>codegen-nl [2B]</th>\n",
       "      <td>32.0</td>\n",
       "      <td>0.646723</td>\n",
       "      <td>0.154739</td>\n",
       "      <td>0.252606</td>\n",
       "      <td>0.577375</td>\n",
       "      <td>0.646138</td>\n",
       "      <td>0.784025</td>\n",
       "      <td>0.910404</td>\n",
       "      <td>32.0</td>\n",
       "      <td>0.004092</td>\n",
       "      <td>0.005950</td>\n",
       "      <td>0.000328</td>\n",
       "      <td>0.001544</td>\n",
       "      <td>0.002530</td>\n",
       "      <td>0.004495</td>\n",
       "      <td>0.034027</td>\n",
       "    </tr>\n",
       "    <tr>\n",
       "      <th>codegen-nl [350M]</th>\n",
       "      <td>32.0</td>\n",
       "      <td>0.549319</td>\n",
       "      <td>0.171546</td>\n",
       "      <td>0.137299</td>\n",
       "      <td>0.484966</td>\n",
       "      <td>0.554837</td>\n",
       "      <td>0.657631</td>\n",
       "      <td>0.784024</td>\n",
       "      <td>32.0</td>\n",
       "      <td>0.003270</td>\n",
       "      <td>0.002524</td>\n",
       "      <td>0.000446</td>\n",
       "      <td>0.001472</td>\n",
       "      <td>0.002441</td>\n",
       "      <td>0.004249</td>\n",
       "      <td>0.010201</td>\n",
       "    </tr>\n",
       "    <tr>\n",
       "      <th rowspan=\"3\" valign=\"top\">gpt-3</th>\n",
       "      <th>gpt-3 [1.3B]</th>\n",
       "      <td>32.0</td>\n",
       "      <td>0.592519</td>\n",
       "      <td>0.161045</td>\n",
       "      <td>0.180514</td>\n",
       "      <td>0.531882</td>\n",
       "      <td>0.593474</td>\n",
       "      <td>0.700005</td>\n",
       "      <td>0.822950</td>\n",
       "      <td>32.0</td>\n",
       "      <td>0.003521</td>\n",
       "      <td>0.003370</td>\n",
       "      <td>0.000572</td>\n",
       "      <td>0.001597</td>\n",
       "      <td>0.002413</td>\n",
       "      <td>0.003842</td>\n",
       "      <td>0.014654</td>\n",
       "    </tr>\n",
       "    <tr>\n",
       "      <th>gpt-3 [125M]</th>\n",
       "      <td>32.0</td>\n",
       "      <td>0.481038</td>\n",
       "      <td>0.172751</td>\n",
       "      <td>0.075211</td>\n",
       "      <td>0.406782</td>\n",
       "      <td>0.492220</td>\n",
       "      <td>0.568160</td>\n",
       "      <td>0.758612</td>\n",
       "      <td>32.0</td>\n",
       "      <td>0.003417</td>\n",
       "      <td>0.002872</td>\n",
       "      <td>0.000704</td>\n",
       "      <td>0.001649</td>\n",
       "      <td>0.002670</td>\n",
       "      <td>0.004219</td>\n",
       "      <td>0.015722</td>\n",
       "    </tr>\n",
       "    <tr>\n",
       "      <th>gpt-3 [2.7B]</th>\n",
       "      <td>32.0</td>\n",
       "      <td>0.623586</td>\n",
       "      <td>0.159371</td>\n",
       "      <td>0.241559</td>\n",
       "      <td>0.557982</td>\n",
       "      <td>0.625026</td>\n",
       "      <td>0.753314</td>\n",
       "      <td>0.907840</td>\n",
       "      <td>32.0</td>\n",
       "      <td>0.003807</td>\n",
       "      <td>0.004984</td>\n",
       "      <td>0.000483</td>\n",
       "      <td>0.001517</td>\n",
       "      <td>0.002260</td>\n",
       "      <td>0.004243</td>\n",
       "      <td>0.028127</td>\n",
       "    </tr>\n",
       "    <tr>\n",
       "      <th rowspan=\"4\" valign=\"top\">mono-lang</th>\n",
       "      <th>mono-lang [1.5B]</th>\n",
       "      <td>32.0</td>\n",
       "      <td>0.714723</td>\n",
       "      <td>0.134081</td>\n",
       "      <td>0.331514</td>\n",
       "      <td>0.666210</td>\n",
       "      <td>0.697792</td>\n",
       "      <td>0.745167</td>\n",
       "      <td>0.997715</td>\n",
       "      <td>32.0</td>\n",
       "      <td>0.003570</td>\n",
       "      <td>0.003280</td>\n",
       "      <td>0.000134</td>\n",
       "      <td>0.001530</td>\n",
       "      <td>0.002150</td>\n",
       "      <td>0.005025</td>\n",
       "      <td>0.012618</td>\n",
       "    </tr>\n",
       "    <tr>\n",
       "      <th>mono-lang [110M]</th>\n",
       "      <td>32.0</td>\n",
       "      <td>0.613885</td>\n",
       "      <td>0.154761</td>\n",
       "      <td>0.221256</td>\n",
       "      <td>0.562234</td>\n",
       "      <td>0.602098</td>\n",
       "      <td>0.654079</td>\n",
       "      <td>0.993526</td>\n",
       "      <td>32.0</td>\n",
       "      <td>0.003770</td>\n",
       "      <td>0.005060</td>\n",
       "      <td>0.000266</td>\n",
       "      <td>0.001372</td>\n",
       "      <td>0.002021</td>\n",
       "      <td>0.004756</td>\n",
       "      <td>0.027738</td>\n",
       "    </tr>\n",
       "    <tr>\n",
       "      <th>mono-lang [2B]</th>\n",
       "      <td>32.0</td>\n",
       "      <td>0.841882</td>\n",
       "      <td>0.098313</td>\n",
       "      <td>0.496378</td>\n",
       "      <td>0.793711</td>\n",
       "      <td>0.824980</td>\n",
       "      <td>0.905215</td>\n",
       "      <td>0.996510</td>\n",
       "      <td>32.0</td>\n",
       "      <td>0.003117</td>\n",
       "      <td>0.002889</td>\n",
       "      <td>0.000164</td>\n",
       "      <td>0.001375</td>\n",
       "      <td>0.001999</td>\n",
       "      <td>0.003938</td>\n",
       "      <td>0.011803</td>\n",
       "    </tr>\n",
       "    <tr>\n",
       "      <th>mono-lang [350M]</th>\n",
       "      <td>32.0</td>\n",
       "      <td>0.727566</td>\n",
       "      <td>0.136148</td>\n",
       "      <td>0.308505</td>\n",
       "      <td>0.674388</td>\n",
       "      <td>0.717070</td>\n",
       "      <td>0.782298</td>\n",
       "      <td>0.992356</td>\n",
       "      <td>32.0</td>\n",
       "      <td>0.003055</td>\n",
       "      <td>0.002789</td>\n",
       "      <td>0.000267</td>\n",
       "      <td>0.001267</td>\n",
       "      <td>0.001955</td>\n",
       "      <td>0.003729</td>\n",
       "      <td>0.010753</td>\n",
       "    </tr>\n",
       "    <tr>\n",
       "      <th rowspan=\"3\" valign=\"top\">multi-lang</th>\n",
       "      <th>multi-lang [110M]</th>\n",
       "      <td>32.0</td>\n",
       "      <td>0.574428</td>\n",
       "      <td>0.162936</td>\n",
       "      <td>0.203202</td>\n",
       "      <td>0.502758</td>\n",
       "      <td>0.560349</td>\n",
       "      <td>0.627100</td>\n",
       "      <td>0.992427</td>\n",
       "      <td>32.0</td>\n",
       "      <td>0.003677</td>\n",
       "      <td>0.004929</td>\n",
       "      <td>0.000322</td>\n",
       "      <td>0.001477</td>\n",
       "      <td>0.002188</td>\n",
       "      <td>0.004052</td>\n",
       "      <td>0.027224</td>\n",
       "    </tr>\n",
       "    <tr>\n",
       "      <th>multi-lang [2B]</th>\n",
       "      <td>32.0</td>\n",
       "      <td>0.785699</td>\n",
       "      <td>0.121521</td>\n",
       "      <td>0.366043</td>\n",
       "      <td>0.738520</td>\n",
       "      <td>0.768264</td>\n",
       "      <td>0.853066</td>\n",
       "      <td>0.996264</td>\n",
       "      <td>32.0</td>\n",
       "      <td>0.003068</td>\n",
       "      <td>0.002749</td>\n",
       "      <td>0.000168</td>\n",
       "      <td>0.001396</td>\n",
       "      <td>0.002135</td>\n",
       "      <td>0.003356</td>\n",
       "      <td>0.010873</td>\n",
       "    </tr>\n",
       "    <tr>\n",
       "      <th>multi-lang [350M]</th>\n",
       "      <td>32.0</td>\n",
       "      <td>0.681593</td>\n",
       "      <td>0.151625</td>\n",
       "      <td>0.254662</td>\n",
       "      <td>0.622381</td>\n",
       "      <td>0.677102</td>\n",
       "      <td>0.734869</td>\n",
       "      <td>0.990339</td>\n",
       "      <td>32.0</td>\n",
       "      <td>0.003209</td>\n",
       "      <td>0.003484</td>\n",
       "      <td>0.000313</td>\n",
       "      <td>0.001341</td>\n",
       "      <td>0.002126</td>\n",
       "      <td>0.004000</td>\n",
       "      <td>0.017483</td>\n",
       "    </tr>\n",
       "  </tbody>\n",
       "</table>\n",
       "</div>"
      ],
      "text/plain": [
       "                             median_bootstrap                                \\\n",
       "                                        count      mean       std       min   \n",
       "type_model id                                                                 \n",
       "codegen-nl codegen-nl [2B]               32.0  0.646723  0.154739  0.252606   \n",
       "           codegen-nl [350M]             32.0  0.549319  0.171546  0.137299   \n",
       "gpt-3      gpt-3 [1.3B]                  32.0  0.592519  0.161045  0.180514   \n",
       "           gpt-3 [125M]                  32.0  0.481038  0.172751  0.075211   \n",
       "           gpt-3 [2.7B]                  32.0  0.623586  0.159371  0.241559   \n",
       "mono-lang  mono-lang [1.5B]              32.0  0.714723  0.134081  0.331514   \n",
       "           mono-lang [110M]              32.0  0.613885  0.154761  0.221256   \n",
       "           mono-lang [2B]                32.0  0.841882  0.098313  0.496378   \n",
       "           mono-lang [350M]              32.0  0.727566  0.136148  0.308505   \n",
       "multi-lang multi-lang [110M]             32.0  0.574428  0.162936  0.203202   \n",
       "           multi-lang [2B]               32.0  0.785699  0.121521  0.366043   \n",
       "           multi-lang [350M]             32.0  0.681593  0.151625  0.254662   \n",
       "\n",
       "                                                                      \\\n",
       "                                   25%       50%       75%       max   \n",
       "type_model id                                                          \n",
       "codegen-nl codegen-nl [2B]    0.577375  0.646138  0.784025  0.910404   \n",
       "           codegen-nl [350M]  0.484966  0.554837  0.657631  0.784024   \n",
       "gpt-3      gpt-3 [1.3B]       0.531882  0.593474  0.700005  0.822950   \n",
       "           gpt-3 [125M]       0.406782  0.492220  0.568160  0.758612   \n",
       "           gpt-3 [2.7B]       0.557982  0.625026  0.753314  0.907840   \n",
       "mono-lang  mono-lang [1.5B]   0.666210  0.697792  0.745167  0.997715   \n",
       "           mono-lang [110M]   0.562234  0.602098  0.654079  0.993526   \n",
       "           mono-lang [2B]     0.793711  0.824980  0.905215  0.996510   \n",
       "           mono-lang [350M]   0.674388  0.717070  0.782298  0.992356   \n",
       "multi-lang multi-lang [110M]  0.502758  0.560349  0.627100  0.992427   \n",
       "           multi-lang [2B]    0.738520  0.768264  0.853066  0.996264   \n",
       "           multi-lang [350M]  0.622381  0.677102  0.734869  0.990339   \n",
       "\n",
       "                             median_standard_error                      \\\n",
       "                                             count      mean       std   \n",
       "type_model id                                                            \n",
       "codegen-nl codegen-nl [2B]                    32.0  0.004092  0.005950   \n",
       "           codegen-nl [350M]                  32.0  0.003270  0.002524   \n",
       "gpt-3      gpt-3 [1.3B]                       32.0  0.003521  0.003370   \n",
       "           gpt-3 [125M]                       32.0  0.003417  0.002872   \n",
       "           gpt-3 [2.7B]                       32.0  0.003807  0.004984   \n",
       "mono-lang  mono-lang [1.5B]                   32.0  0.003570  0.003280   \n",
       "           mono-lang [110M]                   32.0  0.003770  0.005060   \n",
       "           mono-lang [2B]                     32.0  0.003117  0.002889   \n",
       "           mono-lang [350M]                   32.0  0.003055  0.002789   \n",
       "multi-lang multi-lang [110M]                  32.0  0.003677  0.004929   \n",
       "           multi-lang [2B]                    32.0  0.003068  0.002749   \n",
       "           multi-lang [350M]                  32.0  0.003209  0.003484   \n",
       "\n",
       "                                                                                \n",
       "                                   min       25%       50%       75%       max  \n",
       "type_model id                                                                   \n",
       "codegen-nl codegen-nl [2B]    0.000328  0.001544  0.002530  0.004495  0.034027  \n",
       "           codegen-nl [350M]  0.000446  0.001472  0.002441  0.004249  0.010201  \n",
       "gpt-3      gpt-3 [1.3B]       0.000572  0.001597  0.002413  0.003842  0.014654  \n",
       "           gpt-3 [125M]       0.000704  0.001649  0.002670  0.004219  0.015722  \n",
       "           gpt-3 [2.7B]       0.000483  0.001517  0.002260  0.004243  0.028127  \n",
       "mono-lang  mono-lang [1.5B]   0.000134  0.001530  0.002150  0.005025  0.012618  \n",
       "           mono-lang [110M]   0.000266  0.001372  0.002021  0.004756  0.027738  \n",
       "           mono-lang [2B]     0.000164  0.001375  0.001999  0.003938  0.011803  \n",
       "           mono-lang [350M]   0.000267  0.001267  0.001955  0.003729  0.010753  \n",
       "multi-lang multi-lang [110M]  0.000322  0.001477  0.002188  0.004052  0.027224  \n",
       "           multi-lang [2B]    0.000168  0.001396  0.002135  0.003356  0.010873  \n",
       "           multi-lang [350M]  0.000313  0.001341  0.002126  0.004000  0.017483  "
      ]
     },
     "execution_count": 13,
     "metadata": {},
     "output_type": "execute_result"
    }
   ],
   "source": [
    "#Quick Summary\n",
    "pd_combined_models_filtered_global.groupby(['type_model','id']).describe()"
   ]
  },
  {
   "cell_type": "code",
   "execution_count": 46,
   "metadata": {},
   "outputs": [
    {
     "data": {
      "text/html": [
       "<div>\n",
       "<style scoped>\n",
       "    .dataframe tbody tr th:only-of-type {\n",
       "        vertical-align: middle;\n",
       "    }\n",
       "\n",
       "    .dataframe tbody tr th {\n",
       "        vertical-align: top;\n",
       "    }\n",
       "\n",
       "    .dataframe thead tr th {\n",
       "        text-align: left;\n",
       "    }\n",
       "\n",
       "    .dataframe thead tr:last-of-type th {\n",
       "        text-align: right;\n",
       "    }\n",
       "</style>\n",
       "<table border=\"1\" class=\"dataframe\">\n",
       "  <thead>\n",
       "    <tr>\n",
       "      <th></th>\n",
       "      <th></th>\n",
       "      <th colspan=\"8\" halign=\"left\">median_bootstrap</th>\n",
       "      <th colspan=\"8\" halign=\"left\">median_standard_error</th>\n",
       "    </tr>\n",
       "    <tr>\n",
       "      <th></th>\n",
       "      <th></th>\n",
       "      <th>count</th>\n",
       "      <th>mean</th>\n",
       "      <th>std</th>\n",
       "      <th>min</th>\n",
       "      <th>25%</th>\n",
       "      <th>50%</th>\n",
       "      <th>75%</th>\n",
       "      <th>max</th>\n",
       "      <th>count</th>\n",
       "      <th>mean</th>\n",
       "      <th>std</th>\n",
       "      <th>min</th>\n",
       "      <th>25%</th>\n",
       "      <th>50%</th>\n",
       "      <th>75%</th>\n",
       "      <th>max</th>\n",
       "    </tr>\n",
       "    <tr>\n",
       "      <th>category</th>\n",
       "      <th>ast_element</th>\n",
       "      <th></th>\n",
       "      <th></th>\n",
       "      <th></th>\n",
       "      <th></th>\n",
       "      <th></th>\n",
       "      <th></th>\n",
       "      <th></th>\n",
       "      <th></th>\n",
       "      <th></th>\n",
       "      <th></th>\n",
       "      <th></th>\n",
       "      <th></th>\n",
       "      <th></th>\n",
       "      <th></th>\n",
       "      <th></th>\n",
       "      <th></th>\n",
       "    </tr>\n",
       "  </thead>\n",
       "  <tbody>\n",
       "    <tr>\n",
       "      <th rowspan=\"4\" valign=\"top\">Data Structures</th>\n",
       "      <th>dictionary</th>\n",
       "      <td>12.0</td>\n",
       "      <td>0.639698</td>\n",
       "      <td>0.075261</td>\n",
       "      <td>0.523786</td>\n",
       "      <td>0.584450</td>\n",
       "      <td>0.641389</td>\n",
       "      <td>0.674365</td>\n",
       "      <td>0.776677</td>\n",
       "      <td>12.0</td>\n",
       "      <td>0.002862</td>\n",
       "      <td>0.001028</td>\n",
       "      <td>0.001853</td>\n",
       "      <td>0.002022</td>\n",
       "      <td>0.002239</td>\n",
       "      <td>0.003790</td>\n",
       "      <td>0.004515</td>\n",
       "    </tr>\n",
       "    <tr>\n",
       "      <th>list</th>\n",
       "      <td>12.0</td>\n",
       "      <td>0.620057</td>\n",
       "      <td>0.093037</td>\n",
       "      <td>0.476209</td>\n",
       "      <td>0.563487</td>\n",
       "      <td>0.612882</td>\n",
       "      <td>0.671759</td>\n",
       "      <td>0.803390</td>\n",
       "      <td>12.0</td>\n",
       "      <td>0.001504</td>\n",
       "      <td>0.000093</td>\n",
       "      <td>0.001383</td>\n",
       "      <td>0.001442</td>\n",
       "      <td>0.001485</td>\n",
       "      <td>0.001550</td>\n",
       "      <td>0.001687</td>\n",
       "    </tr>\n",
       "    <tr>\n",
       "      <th>set</th>\n",
       "      <td>12.0</td>\n",
       "      <td>0.583245</td>\n",
       "      <td>0.080546</td>\n",
       "      <td>0.465487</td>\n",
       "      <td>0.528964</td>\n",
       "      <td>0.582702</td>\n",
       "      <td>0.615273</td>\n",
       "      <td>0.735995</td>\n",
       "      <td>12.0</td>\n",
       "      <td>0.010781</td>\n",
       "      <td>0.002541</td>\n",
       "      <td>0.007779</td>\n",
       "      <td>0.008632</td>\n",
       "      <td>0.010222</td>\n",
       "      <td>0.012007</td>\n",
       "      <td>0.015722</td>\n",
       "    </tr>\n",
       "    <tr>\n",
       "      <th>tuple</th>\n",
       "      <td>12.0</td>\n",
       "      <td>0.673922</td>\n",
       "      <td>0.085778</td>\n",
       "      <td>0.534473</td>\n",
       "      <td>0.623865</td>\n",
       "      <td>0.667704</td>\n",
       "      <td>0.724763</td>\n",
       "      <td>0.835748</td>\n",
       "      <td>12.0</td>\n",
       "      <td>0.001997</td>\n",
       "      <td>0.000317</td>\n",
       "      <td>0.001585</td>\n",
       "      <td>0.001815</td>\n",
       "      <td>0.001898</td>\n",
       "      <td>0.002128</td>\n",
       "      <td>0.002726</td>\n",
       "    </tr>\n",
       "    <tr>\n",
       "      <th rowspan=\"3\" valign=\"top\">Decision</th>\n",
       "      <th>elif</th>\n",
       "      <td>12.0</td>\n",
       "      <td>0.593079</td>\n",
       "      <td>0.141992</td>\n",
       "      <td>0.343786</td>\n",
       "      <td>0.538383</td>\n",
       "      <td>0.624454</td>\n",
       "      <td>0.677058</td>\n",
       "      <td>0.798241</td>\n",
       "      <td>12.0</td>\n",
       "      <td>0.004500</td>\n",
       "      <td>0.002127</td>\n",
       "      <td>0.001984</td>\n",
       "      <td>0.003286</td>\n",
       "      <td>0.003710</td>\n",
       "      <td>0.005614</td>\n",
       "      <td>0.008961</td>\n",
       "    </tr>\n",
       "    <tr>\n",
       "      <th>else</th>\n",
       "      <td>12.0</td>\n",
       "      <td>0.662601</td>\n",
       "      <td>0.229392</td>\n",
       "      <td>0.266732</td>\n",
       "      <td>0.461009</td>\n",
       "      <td>0.756363</td>\n",
       "      <td>0.841051</td>\n",
       "      <td>0.949547</td>\n",
       "      <td>12.0</td>\n",
       "      <td>0.003755</td>\n",
       "      <td>0.000926</td>\n",
       "      <td>0.001919</td>\n",
       "      <td>0.003206</td>\n",
       "      <td>0.003705</td>\n",
       "      <td>0.004058</td>\n",
       "      <td>0.005258</td>\n",
       "    </tr>\n",
       "    <tr>\n",
       "      <th>if_statement</th>\n",
       "      <td>12.0</td>\n",
       "      <td>0.714686</td>\n",
       "      <td>0.071384</td>\n",
       "      <td>0.574919</td>\n",
       "      <td>0.671983</td>\n",
       "      <td>0.733171</td>\n",
       "      <td>0.771320</td>\n",
       "      <td>0.790319</td>\n",
       "      <td>12.0</td>\n",
       "      <td>0.000821</td>\n",
       "      <td>0.000196</td>\n",
       "      <td>0.000543</td>\n",
       "      <td>0.000669</td>\n",
       "      <td>0.000835</td>\n",
       "      <td>0.000929</td>\n",
       "      <td>0.001225</td>\n",
       "    </tr>\n",
       "    <tr>\n",
       "      <th rowspan=\"4\" valign=\"top\">Exceptions</th>\n",
       "      <th>except</th>\n",
       "      <td>12.0</td>\n",
       "      <td>0.889218</td>\n",
       "      <td>0.132508</td>\n",
       "      <td>0.690084</td>\n",
       "      <td>0.774821</td>\n",
       "      <td>0.991348</td>\n",
       "      <td>0.994211</td>\n",
       "      <td>0.997715</td>\n",
       "      <td>12.0</td>\n",
       "      <td>0.002625</td>\n",
       "      <td>0.002998</td>\n",
       "      <td>0.000134</td>\n",
       "      <td>0.000241</td>\n",
       "      <td>0.000360</td>\n",
       "      <td>0.005547</td>\n",
       "      <td>0.007617</td>\n",
       "    </tr>\n",
       "    <tr>\n",
       "      <th>finally</th>\n",
       "      <td>12.0</td>\n",
       "      <td>0.592312</td>\n",
       "      <td>0.357198</td>\n",
       "      <td>0.075211</td>\n",
       "      <td>0.274655</td>\n",
       "      <td>0.710698</td>\n",
       "      <td>0.906704</td>\n",
       "      <td>0.978577</td>\n",
       "      <td>12.0</td>\n",
       "      <td>0.016408</td>\n",
       "      <td>0.010266</td>\n",
       "      <td>0.003327</td>\n",
       "      <td>0.008988</td>\n",
       "      <td>0.012448</td>\n",
       "      <td>0.027353</td>\n",
       "      <td>0.034027</td>\n",
       "    </tr>\n",
       "    <tr>\n",
       "      <th>raise</th>\n",
       "      <td>12.0</td>\n",
       "      <td>0.436525</td>\n",
       "      <td>0.186722</td>\n",
       "      <td>0.180374</td>\n",
       "      <td>0.330503</td>\n",
       "      <td>0.399339</td>\n",
       "      <td>0.540869</td>\n",
       "      <td>0.827327</td>\n",
       "      <td>12.0</td>\n",
       "      <td>0.008498</td>\n",
       "      <td>0.001922</td>\n",
       "      <td>0.005039</td>\n",
       "      <td>0.007193</td>\n",
       "      <td>0.008691</td>\n",
       "      <td>0.010196</td>\n",
       "      <td>0.010873</td>\n",
       "    </tr>\n",
       "    <tr>\n",
       "      <th>try_statement</th>\n",
       "      <td>12.0</td>\n",
       "      <td>0.729356</td>\n",
       "      <td>0.084443</td>\n",
       "      <td>0.562845</td>\n",
       "      <td>0.677306</td>\n",
       "      <td>0.754044</td>\n",
       "      <td>0.797118</td>\n",
       "      <td>0.819610</td>\n",
       "      <td>12.0</td>\n",
       "      <td>0.002346</td>\n",
       "      <td>0.000620</td>\n",
       "      <td>0.001677</td>\n",
       "      <td>0.001806</td>\n",
       "      <td>0.002222</td>\n",
       "      <td>0.002808</td>\n",
       "      <td>0.003497</td>\n",
       "    </tr>\n",
       "    <tr>\n",
       "      <th rowspan=\"4\" valign=\"top\">Functional Programming</th>\n",
       "      <th>for_in_clause</th>\n",
       "      <td>12.0</td>\n",
       "      <td>0.838130</td>\n",
       "      <td>0.085885</td>\n",
       "      <td>0.635896</td>\n",
       "      <td>0.803372</td>\n",
       "      <td>0.844550</td>\n",
       "      <td>0.897939</td>\n",
       "      <td>0.950623</td>\n",
       "      <td>12.0</td>\n",
       "      <td>0.002802</td>\n",
       "      <td>0.000418</td>\n",
       "      <td>0.002023</td>\n",
       "      <td>0.002570</td>\n",
       "      <td>0.002834</td>\n",
       "      <td>0.002996</td>\n",
       "      <td>0.003614</td>\n",
       "    </tr>\n",
       "    <tr>\n",
       "      <th>if_clause</th>\n",
       "      <td>12.0</td>\n",
       "      <td>0.623601</td>\n",
       "      <td>0.100725</td>\n",
       "      <td>0.447407</td>\n",
       "      <td>0.567417</td>\n",
       "      <td>0.613291</td>\n",
       "      <td>0.686431</td>\n",
       "      <td>0.798261</td>\n",
       "      <td>12.0</td>\n",
       "      <td>0.006723</td>\n",
       "      <td>0.001017</td>\n",
       "      <td>0.005020</td>\n",
       "      <td>0.006176</td>\n",
       "      <td>0.006456</td>\n",
       "      <td>0.007407</td>\n",
       "      <td>0.008322</td>\n",
       "    </tr>\n",
       "    <tr>\n",
       "      <th>lambda</th>\n",
       "      <td>12.0</td>\n",
       "      <td>0.585422</td>\n",
       "      <td>0.164976</td>\n",
       "      <td>0.323491</td>\n",
       "      <td>0.461809</td>\n",
       "      <td>0.558811</td>\n",
       "      <td>0.718286</td>\n",
       "      <td>0.872283</td>\n",
       "      <td>12.0</td>\n",
       "      <td>0.005991</td>\n",
       "      <td>0.000734</td>\n",
       "      <td>0.004719</td>\n",
       "      <td>0.005561</td>\n",
       "      <td>0.006097</td>\n",
       "      <td>0.006299</td>\n",
       "      <td>0.007584</td>\n",
       "    </tr>\n",
       "    <tr>\n",
       "      <th>list_comprehension</th>\n",
       "      <td>12.0</td>\n",
       "      <td>0.674370</td>\n",
       "      <td>0.071519</td>\n",
       "      <td>0.539435</td>\n",
       "      <td>0.632725</td>\n",
       "      <td>0.682010</td>\n",
       "      <td>0.714188</td>\n",
       "      <td>0.789970</td>\n",
       "      <td>12.0</td>\n",
       "      <td>0.003038</td>\n",
       "      <td>0.000557</td>\n",
       "      <td>0.002259</td>\n",
       "      <td>0.002595</td>\n",
       "      <td>0.003171</td>\n",
       "      <td>0.003363</td>\n",
       "      <td>0.004008</td>\n",
       "    </tr>\n",
       "    <tr>\n",
       "      <th rowspan=\"2\" valign=\"top\">Iterative</th>\n",
       "      <th>for_statement</th>\n",
       "      <td>12.0</td>\n",
       "      <td>0.732739</td>\n",
       "      <td>0.067452</td>\n",
       "      <td>0.600912</td>\n",
       "      <td>0.694276</td>\n",
       "      <td>0.747907</td>\n",
       "      <td>0.787210</td>\n",
       "      <td>0.808140</td>\n",
       "      <td>12.0</td>\n",
       "      <td>0.001392</td>\n",
       "      <td>0.000359</td>\n",
       "      <td>0.000950</td>\n",
       "      <td>0.001063</td>\n",
       "      <td>0.001375</td>\n",
       "      <td>0.001566</td>\n",
       "      <td>0.001998</td>\n",
       "    </tr>\n",
       "    <tr>\n",
       "      <th>while_statement</th>\n",
       "      <td>12.0</td>\n",
       "      <td>0.745113</td>\n",
       "      <td>0.074485</td>\n",
       "      <td>0.607938</td>\n",
       "      <td>0.699614</td>\n",
       "      <td>0.763725</td>\n",
       "      <td>0.804534</td>\n",
       "      <td>0.825057</td>\n",
       "      <td>12.0</td>\n",
       "      <td>0.004937</td>\n",
       "      <td>0.001382</td>\n",
       "      <td>0.003486</td>\n",
       "      <td>0.003730</td>\n",
       "      <td>0.004682</td>\n",
       "      <td>0.005871</td>\n",
       "      <td>0.007772</td>\n",
       "    </tr>\n",
       "    <tr>\n",
       "      <th rowspan=\"3\" valign=\"top\">Natural Language</th>\n",
       "      <th>comment</th>\n",
       "      <td>12.0</td>\n",
       "      <td>0.274391</td>\n",
       "      <td>0.088992</td>\n",
       "      <td>0.182192</td>\n",
       "      <td>0.217925</td>\n",
       "      <td>0.247082</td>\n",
       "      <td>0.314258</td>\n",
       "      <td>0.496378</td>\n",
       "      <td>12.0</td>\n",
       "      <td>0.001061</td>\n",
       "      <td>0.000553</td>\n",
       "      <td>0.000637</td>\n",
       "      <td>0.000740</td>\n",
       "      <td>0.000816</td>\n",
       "      <td>0.001198</td>\n",
       "      <td>0.002540</td>\n",
       "    </tr>\n",
       "    <tr>\n",
       "      <th>identifier</th>\n",
       "      <td>12.0</td>\n",
       "      <td>0.637528</td>\n",
       "      <td>0.152886</td>\n",
       "      <td>0.379062</td>\n",
       "      <td>0.537096</td>\n",
       "      <td>0.604778</td>\n",
       "      <td>0.749334</td>\n",
       "      <td>0.896273</td>\n",
       "      <td>12.0</td>\n",
       "      <td>0.000567</td>\n",
       "      <td>0.000110</td>\n",
       "      <td>0.000371</td>\n",
       "      <td>0.000479</td>\n",
       "      <td>0.000571</td>\n",
       "      <td>0.000633</td>\n",
       "      <td>0.000745</td>\n",
       "    </tr>\n",
       "    <tr>\n",
       "      <th>string</th>\n",
       "      <td>12.0</td>\n",
       "      <td>0.582051</td>\n",
       "      <td>0.111825</td>\n",
       "      <td>0.403556</td>\n",
       "      <td>0.509297</td>\n",
       "      <td>0.560841</td>\n",
       "      <td>0.653749</td>\n",
       "      <td>0.783332</td>\n",
       "      <td>12.0</td>\n",
       "      <td>0.000802</td>\n",
       "      <td>0.000065</td>\n",
       "      <td>0.000687</td>\n",
       "      <td>0.000775</td>\n",
       "      <td>0.000812</td>\n",
       "      <td>0.000839</td>\n",
       "      <td>0.000904</td>\n",
       "    </tr>\n",
       "    <tr>\n",
       "      <th rowspan=\"4\" valign=\"top\">Operator</th>\n",
       "      <th>binary_operator</th>\n",
       "      <td>12.0</td>\n",
       "      <td>0.634691</td>\n",
       "      <td>0.100969</td>\n",
       "      <td>0.472086</td>\n",
       "      <td>0.572666</td>\n",
       "      <td>0.626943</td>\n",
       "      <td>0.700608</td>\n",
       "      <td>0.824158</td>\n",
       "      <td>12.0</td>\n",
       "      <td>0.001899</td>\n",
       "      <td>0.000264</td>\n",
       "      <td>0.001509</td>\n",
       "      <td>0.001682</td>\n",
       "      <td>0.001868</td>\n",
       "      <td>0.001991</td>\n",
       "      <td>0.002365</td>\n",
       "    </tr>\n",
       "    <tr>\n",
       "      <th>boolean_operator</th>\n",
       "      <td>12.0</td>\n",
       "      <td>0.619850</td>\n",
       "      <td>0.072545</td>\n",
       "      <td>0.508231</td>\n",
       "      <td>0.566262</td>\n",
       "      <td>0.622989</td>\n",
       "      <td>0.652582</td>\n",
       "      <td>0.759321</td>\n",
       "      <td>12.0</td>\n",
       "      <td>0.002336</td>\n",
       "      <td>0.000285</td>\n",
       "      <td>0.001902</td>\n",
       "      <td>0.002126</td>\n",
       "      <td>0.002356</td>\n",
       "      <td>0.002551</td>\n",
       "      <td>0.002736</td>\n",
       "    </tr>\n",
       "    <tr>\n",
       "      <th>comparison_operator</th>\n",
       "      <td>12.0</td>\n",
       "      <td>0.669117</td>\n",
       "      <td>0.083558</td>\n",
       "      <td>0.520790</td>\n",
       "      <td>0.620009</td>\n",
       "      <td>0.655531</td>\n",
       "      <td>0.717707</td>\n",
       "      <td>0.825802</td>\n",
       "      <td>12.0</td>\n",
       "      <td>0.001404</td>\n",
       "      <td>0.000124</td>\n",
       "      <td>0.001236</td>\n",
       "      <td>0.001307</td>\n",
       "      <td>0.001393</td>\n",
       "      <td>0.001483</td>\n",
       "      <td>0.001645</td>\n",
       "    </tr>\n",
       "    <tr>\n",
       "      <th>unary_operator</th>\n",
       "      <td>12.0</td>\n",
       "      <td>0.559105</td>\n",
       "      <td>0.123038</td>\n",
       "      <td>0.422717</td>\n",
       "      <td>0.485970</td>\n",
       "      <td>0.509722</td>\n",
       "      <td>0.607781</td>\n",
       "      <td>0.852524</td>\n",
       "      <td>12.0</td>\n",
       "      <td>0.004170</td>\n",
       "      <td>0.002339</td>\n",
       "      <td>0.001801</td>\n",
       "      <td>0.002429</td>\n",
       "      <td>0.003183</td>\n",
       "      <td>0.006333</td>\n",
       "      <td>0.008642</td>\n",
       "    </tr>\n",
       "    <tr>\n",
       "      <th rowspan=\"5\" valign=\"top\">Scope</th>\n",
       "      <th>)</th>\n",
       "      <td>12.0</td>\n",
       "      <td>0.828915</td>\n",
       "      <td>0.124329</td>\n",
       "      <td>0.528265</td>\n",
       "      <td>0.785206</td>\n",
       "      <td>0.842402</td>\n",
       "      <td>0.911688</td>\n",
       "      <td>0.974759</td>\n",
       "      <td>12.0</td>\n",
       "      <td>0.000587</td>\n",
       "      <td>0.000267</td>\n",
       "      <td>0.000180</td>\n",
       "      <td>0.000419</td>\n",
       "      <td>0.000593</td>\n",
       "      <td>0.000788</td>\n",
       "      <td>0.001086</td>\n",
       "    </tr>\n",
       "    <tr>\n",
       "      <th>:</th>\n",
       "      <td>12.0</td>\n",
       "      <td>0.887685</td>\n",
       "      <td>0.090143</td>\n",
       "      <td>0.664512</td>\n",
       "      <td>0.884118</td>\n",
       "      <td>0.913218</td>\n",
       "      <td>0.936894</td>\n",
       "      <td>0.975108</td>\n",
       "      <td>12.0</td>\n",
       "      <td>0.000707</td>\n",
       "      <td>0.000632</td>\n",
       "      <td>0.000285</td>\n",
       "      <td>0.000326</td>\n",
       "      <td>0.000506</td>\n",
       "      <td>0.000684</td>\n",
       "      <td>0.002509</td>\n",
       "    </tr>\n",
       "    <tr>\n",
       "      <th>]</th>\n",
       "      <td>12.0</td>\n",
       "      <td>0.781575</td>\n",
       "      <td>0.138929</td>\n",
       "      <td>0.519970</td>\n",
       "      <td>0.682421</td>\n",
       "      <td>0.776231</td>\n",
       "      <td>0.875016</td>\n",
       "      <td>0.982958</td>\n",
       "      <td>12.0</td>\n",
       "      <td>0.001744</td>\n",
       "      <td>0.000782</td>\n",
       "      <td>0.000276</td>\n",
       "      <td>0.001292</td>\n",
       "      <td>0.001876</td>\n",
       "      <td>0.002280</td>\n",
       "      <td>0.002667</td>\n",
       "    </tr>\n",
       "    <tr>\n",
       "      <th>return_statement</th>\n",
       "      <td>12.0</td>\n",
       "      <td>0.649318</td>\n",
       "      <td>0.101237</td>\n",
       "      <td>0.451201</td>\n",
       "      <td>0.588582</td>\n",
       "      <td>0.649594</td>\n",
       "      <td>0.711897</td>\n",
       "      <td>0.819809</td>\n",
       "      <td>12.0</td>\n",
       "      <td>0.002002</td>\n",
       "      <td>0.000210</td>\n",
       "      <td>0.001640</td>\n",
       "      <td>0.001898</td>\n",
       "      <td>0.002049</td>\n",
       "      <td>0.002155</td>\n",
       "      <td>0.002272</td>\n",
       "    </tr>\n",
       "    <tr>\n",
       "      <th>}</th>\n",
       "      <td>12.0</td>\n",
       "      <td>0.667290</td>\n",
       "      <td>0.159903</td>\n",
       "      <td>0.407857</td>\n",
       "      <td>0.564081</td>\n",
       "      <td>0.633084</td>\n",
       "      <td>0.784283</td>\n",
       "      <td>0.932041</td>\n",
       "      <td>12.0</td>\n",
       "      <td>0.003655</td>\n",
       "      <td>0.001057</td>\n",
       "      <td>0.001549</td>\n",
       "      <td>0.003205</td>\n",
       "      <td>0.003906</td>\n",
       "      <td>0.004324</td>\n",
       "      <td>0.005048</td>\n",
       "    </tr>\n",
       "    <tr>\n",
       "      <th>Testing</th>\n",
       "      <th>assert_statement</th>\n",
       "      <td>12.0</td>\n",
       "      <td>0.712021</td>\n",
       "      <td>0.070779</td>\n",
       "      <td>0.585264</td>\n",
       "      <td>0.673227</td>\n",
       "      <td>0.705441</td>\n",
       "      <td>0.744304</td>\n",
       "      <td>0.845472</td>\n",
       "      <td>12.0</td>\n",
       "      <td>0.002099</td>\n",
       "      <td>0.000292</td>\n",
       "      <td>0.001569</td>\n",
       "      <td>0.001974</td>\n",
       "      <td>0.002091</td>\n",
       "      <td>0.002265</td>\n",
       "      <td>0.002530</td>\n",
       "    </tr>\n",
       "    <tr>\n",
       "      <th rowspan=\"2\" valign=\"top\">Types</th>\n",
       "      <th>float</th>\n",
       "      <td>12.0</td>\n",
       "      <td>0.587158</td>\n",
       "      <td>0.090691</td>\n",
       "      <td>0.452664</td>\n",
       "      <td>0.531744</td>\n",
       "      <td>0.571082</td>\n",
       "      <td>0.637980</td>\n",
       "      <td>0.787039</td>\n",
       "      <td>12.0</td>\n",
       "      <td>0.004550</td>\n",
       "      <td>0.001081</td>\n",
       "      <td>0.002105</td>\n",
       "      <td>0.004229</td>\n",
       "      <td>0.004689</td>\n",
       "      <td>0.005341</td>\n",
       "      <td>0.005819</td>\n",
       "    </tr>\n",
       "    <tr>\n",
       "      <th>integer</th>\n",
       "      <td>12.0</td>\n",
       "      <td>0.463129</td>\n",
       "      <td>0.194809</td>\n",
       "      <td>0.205286</td>\n",
       "      <td>0.337027</td>\n",
       "      <td>0.405013</td>\n",
       "      <td>0.551179</td>\n",
       "      <td>0.873029</td>\n",
       "      <td>12.0</td>\n",
       "      <td>0.002300</td>\n",
       "      <td>0.000397</td>\n",
       "      <td>0.001511</td>\n",
       "      <td>0.002205</td>\n",
       "      <td>0.002361</td>\n",
       "      <td>0.002542</td>\n",
       "      <td>0.002768</td>\n",
       "    </tr>\n",
       "  </tbody>\n",
       "</table>\n",
       "</div>"
      ],
      "text/plain": [
       "                                           median_bootstrap            \\\n",
       "                                                      count      mean   \n",
       "category               ast_element                                      \n",
       "Data Structures        dictionary                      12.0  0.639698   \n",
       "                       list                            12.0  0.620057   \n",
       "                       set                             12.0  0.583245   \n",
       "                       tuple                           12.0  0.673922   \n",
       "Decision               elif                            12.0  0.593079   \n",
       "                       else                            12.0  0.662601   \n",
       "                       if_statement                    12.0  0.714686   \n",
       "Exceptions             except                          12.0  0.889218   \n",
       "                       finally                         12.0  0.592312   \n",
       "                       raise                           12.0  0.436525   \n",
       "                       try_statement                   12.0  0.729356   \n",
       "Functional Programming for_in_clause                   12.0  0.838130   \n",
       "                       if_clause                       12.0  0.623601   \n",
       "                       lambda                          12.0  0.585422   \n",
       "                       list_comprehension              12.0  0.674370   \n",
       "Iterative              for_statement                   12.0  0.732739   \n",
       "                       while_statement                 12.0  0.745113   \n",
       "Natural Language       comment                         12.0  0.274391   \n",
       "                       identifier                      12.0  0.637528   \n",
       "                       string                          12.0  0.582051   \n",
       "Operator               binary_operator                 12.0  0.634691   \n",
       "                       boolean_operator                12.0  0.619850   \n",
       "                       comparison_operator             12.0  0.669117   \n",
       "                       unary_operator                  12.0  0.559105   \n",
       "Scope                  )                               12.0  0.828915   \n",
       "                       :                               12.0  0.887685   \n",
       "                       ]                               12.0  0.781575   \n",
       "                       return_statement                12.0  0.649318   \n",
       "                       }                               12.0  0.667290   \n",
       "Testing                assert_statement                12.0  0.712021   \n",
       "Types                  float                           12.0  0.587158   \n",
       "                       integer                         12.0  0.463129   \n",
       "\n",
       "                                                                          \\\n",
       "                                                 std       min       25%   \n",
       "category               ast_element                                         \n",
       "Data Structures        dictionary           0.075261  0.523786  0.584450   \n",
       "                       list                 0.093037  0.476209  0.563487   \n",
       "                       set                  0.080546  0.465487  0.528964   \n",
       "                       tuple                0.085778  0.534473  0.623865   \n",
       "Decision               elif                 0.141992  0.343786  0.538383   \n",
       "                       else                 0.229392  0.266732  0.461009   \n",
       "                       if_statement         0.071384  0.574919  0.671983   \n",
       "Exceptions             except               0.132508  0.690084  0.774821   \n",
       "                       finally              0.357198  0.075211  0.274655   \n",
       "                       raise                0.186722  0.180374  0.330503   \n",
       "                       try_statement        0.084443  0.562845  0.677306   \n",
       "Functional Programming for_in_clause        0.085885  0.635896  0.803372   \n",
       "                       if_clause            0.100725  0.447407  0.567417   \n",
       "                       lambda               0.164976  0.323491  0.461809   \n",
       "                       list_comprehension   0.071519  0.539435  0.632725   \n",
       "Iterative              for_statement        0.067452  0.600912  0.694276   \n",
       "                       while_statement      0.074485  0.607938  0.699614   \n",
       "Natural Language       comment              0.088992  0.182192  0.217925   \n",
       "                       identifier           0.152886  0.379062  0.537096   \n",
       "                       string               0.111825  0.403556  0.509297   \n",
       "Operator               binary_operator      0.100969  0.472086  0.572666   \n",
       "                       boolean_operator     0.072545  0.508231  0.566262   \n",
       "                       comparison_operator  0.083558  0.520790  0.620009   \n",
       "                       unary_operator       0.123038  0.422717  0.485970   \n",
       "Scope                  )                    0.124329  0.528265  0.785206   \n",
       "                       :                    0.090143  0.664512  0.884118   \n",
       "                       ]                    0.138929  0.519970  0.682421   \n",
       "                       return_statement     0.101237  0.451201  0.588582   \n",
       "                       }                    0.159903  0.407857  0.564081   \n",
       "Testing                assert_statement     0.070779  0.585264  0.673227   \n",
       "Types                  float                0.090691  0.452664  0.531744   \n",
       "                       integer              0.194809  0.205286  0.337027   \n",
       "\n",
       "                                                                          \\\n",
       "                                                 50%       75%       max   \n",
       "category               ast_element                                         \n",
       "Data Structures        dictionary           0.641389  0.674365  0.776677   \n",
       "                       list                 0.612882  0.671759  0.803390   \n",
       "                       set                  0.582702  0.615273  0.735995   \n",
       "                       tuple                0.667704  0.724763  0.835748   \n",
       "Decision               elif                 0.624454  0.677058  0.798241   \n",
       "                       else                 0.756363  0.841051  0.949547   \n",
       "                       if_statement         0.733171  0.771320  0.790319   \n",
       "Exceptions             except               0.991348  0.994211  0.997715   \n",
       "                       finally              0.710698  0.906704  0.978577   \n",
       "                       raise                0.399339  0.540869  0.827327   \n",
       "                       try_statement        0.754044  0.797118  0.819610   \n",
       "Functional Programming for_in_clause        0.844550  0.897939  0.950623   \n",
       "                       if_clause            0.613291  0.686431  0.798261   \n",
       "                       lambda               0.558811  0.718286  0.872283   \n",
       "                       list_comprehension   0.682010  0.714188  0.789970   \n",
       "Iterative              for_statement        0.747907  0.787210  0.808140   \n",
       "                       while_statement      0.763725  0.804534  0.825057   \n",
       "Natural Language       comment              0.247082  0.314258  0.496378   \n",
       "                       identifier           0.604778  0.749334  0.896273   \n",
       "                       string               0.560841  0.653749  0.783332   \n",
       "Operator               binary_operator      0.626943  0.700608  0.824158   \n",
       "                       boolean_operator     0.622989  0.652582  0.759321   \n",
       "                       comparison_operator  0.655531  0.717707  0.825802   \n",
       "                       unary_operator       0.509722  0.607781  0.852524   \n",
       "Scope                  )                    0.842402  0.911688  0.974759   \n",
       "                       :                    0.913218  0.936894  0.975108   \n",
       "                       ]                    0.776231  0.875016  0.982958   \n",
       "                       return_statement     0.649594  0.711897  0.819809   \n",
       "                       }                    0.633084  0.784283  0.932041   \n",
       "Testing                assert_statement     0.705441  0.744304  0.845472   \n",
       "Types                  float                0.571082  0.637980  0.787039   \n",
       "                       integer              0.405013  0.551179  0.873029   \n",
       "\n",
       "                                           median_standard_error            \\\n",
       "                                                           count      mean   \n",
       "category               ast_element                                           \n",
       "Data Structures        dictionary                           12.0  0.002862   \n",
       "                       list                                 12.0  0.001504   \n",
       "                       set                                  12.0  0.010781   \n",
       "                       tuple                                12.0  0.001997   \n",
       "Decision               elif                                 12.0  0.004500   \n",
       "                       else                                 12.0  0.003755   \n",
       "                       if_statement                         12.0  0.000821   \n",
       "Exceptions             except                               12.0  0.002625   \n",
       "                       finally                              12.0  0.016408   \n",
       "                       raise                                12.0  0.008498   \n",
       "                       try_statement                        12.0  0.002346   \n",
       "Functional Programming for_in_clause                        12.0  0.002802   \n",
       "                       if_clause                            12.0  0.006723   \n",
       "                       lambda                               12.0  0.005991   \n",
       "                       list_comprehension                   12.0  0.003038   \n",
       "Iterative              for_statement                        12.0  0.001392   \n",
       "                       while_statement                      12.0  0.004937   \n",
       "Natural Language       comment                              12.0  0.001061   \n",
       "                       identifier                           12.0  0.000567   \n",
       "                       string                               12.0  0.000802   \n",
       "Operator               binary_operator                      12.0  0.001899   \n",
       "                       boolean_operator                     12.0  0.002336   \n",
       "                       comparison_operator                  12.0  0.001404   \n",
       "                       unary_operator                       12.0  0.004170   \n",
       "Scope                  )                                    12.0  0.000587   \n",
       "                       :                                    12.0  0.000707   \n",
       "                       ]                                    12.0  0.001744   \n",
       "                       return_statement                     12.0  0.002002   \n",
       "                       }                                    12.0  0.003655   \n",
       "Testing                assert_statement                     12.0  0.002099   \n",
       "Types                  float                                12.0  0.004550   \n",
       "                       integer                              12.0  0.002300   \n",
       "\n",
       "                                                                          \\\n",
       "                                                 std       min       25%   \n",
       "category               ast_element                                         \n",
       "Data Structures        dictionary           0.001028  0.001853  0.002022   \n",
       "                       list                 0.000093  0.001383  0.001442   \n",
       "                       set                  0.002541  0.007779  0.008632   \n",
       "                       tuple                0.000317  0.001585  0.001815   \n",
       "Decision               elif                 0.002127  0.001984  0.003286   \n",
       "                       else                 0.000926  0.001919  0.003206   \n",
       "                       if_statement         0.000196  0.000543  0.000669   \n",
       "Exceptions             except               0.002998  0.000134  0.000241   \n",
       "                       finally              0.010266  0.003327  0.008988   \n",
       "                       raise                0.001922  0.005039  0.007193   \n",
       "                       try_statement        0.000620  0.001677  0.001806   \n",
       "Functional Programming for_in_clause        0.000418  0.002023  0.002570   \n",
       "                       if_clause            0.001017  0.005020  0.006176   \n",
       "                       lambda               0.000734  0.004719  0.005561   \n",
       "                       list_comprehension   0.000557  0.002259  0.002595   \n",
       "Iterative              for_statement        0.000359  0.000950  0.001063   \n",
       "                       while_statement      0.001382  0.003486  0.003730   \n",
       "Natural Language       comment              0.000553  0.000637  0.000740   \n",
       "                       identifier           0.000110  0.000371  0.000479   \n",
       "                       string               0.000065  0.000687  0.000775   \n",
       "Operator               binary_operator      0.000264  0.001509  0.001682   \n",
       "                       boolean_operator     0.000285  0.001902  0.002126   \n",
       "                       comparison_operator  0.000124  0.001236  0.001307   \n",
       "                       unary_operator       0.002339  0.001801  0.002429   \n",
       "Scope                  )                    0.000267  0.000180  0.000419   \n",
       "                       :                    0.000632  0.000285  0.000326   \n",
       "                       ]                    0.000782  0.000276  0.001292   \n",
       "                       return_statement     0.000210  0.001640  0.001898   \n",
       "                       }                    0.001057  0.001549  0.003205   \n",
       "Testing                assert_statement     0.000292  0.001569  0.001974   \n",
       "Types                  float                0.001081  0.002105  0.004229   \n",
       "                       integer              0.000397  0.001511  0.002205   \n",
       "\n",
       "                                                                          \n",
       "                                                 50%       75%       max  \n",
       "category               ast_element                                        \n",
       "Data Structures        dictionary           0.002239  0.003790  0.004515  \n",
       "                       list                 0.001485  0.001550  0.001687  \n",
       "                       set                  0.010222  0.012007  0.015722  \n",
       "                       tuple                0.001898  0.002128  0.002726  \n",
       "Decision               elif                 0.003710  0.005614  0.008961  \n",
       "                       else                 0.003705  0.004058  0.005258  \n",
       "                       if_statement         0.000835  0.000929  0.001225  \n",
       "Exceptions             except               0.000360  0.005547  0.007617  \n",
       "                       finally              0.012448  0.027353  0.034027  \n",
       "                       raise                0.008691  0.010196  0.010873  \n",
       "                       try_statement        0.002222  0.002808  0.003497  \n",
       "Functional Programming for_in_clause        0.002834  0.002996  0.003614  \n",
       "                       if_clause            0.006456  0.007407  0.008322  \n",
       "                       lambda               0.006097  0.006299  0.007584  \n",
       "                       list_comprehension   0.003171  0.003363  0.004008  \n",
       "Iterative              for_statement        0.001375  0.001566  0.001998  \n",
       "                       while_statement      0.004682  0.005871  0.007772  \n",
       "Natural Language       comment              0.000816  0.001198  0.002540  \n",
       "                       identifier           0.000571  0.000633  0.000745  \n",
       "                       string               0.000812  0.000839  0.000904  \n",
       "Operator               binary_operator      0.001868  0.001991  0.002365  \n",
       "                       boolean_operator     0.002356  0.002551  0.002736  \n",
       "                       comparison_operator  0.001393  0.001483  0.001645  \n",
       "                       unary_operator       0.003183  0.006333  0.008642  \n",
       "Scope                  )                    0.000593  0.000788  0.001086  \n",
       "                       :                    0.000506  0.000684  0.002509  \n",
       "                       ]                    0.001876  0.002280  0.002667  \n",
       "                       return_statement     0.002049  0.002155  0.002272  \n",
       "                       }                    0.003906  0.004324  0.005048  \n",
       "Testing                assert_statement     0.002091  0.002265  0.002530  \n",
       "Types                  float                0.004689  0.005341  0.005819  \n",
       "                       integer              0.002361  0.002542  0.002768  "
      ]
     },
     "execution_count": 46,
     "metadata": {},
     "output_type": "execute_result"
    }
   ],
   "source": [
    "pd_combined_models_filtered_global.groupby(['category','ast_element']).describe()"
   ]
  },
  {
   "cell_type": "code",
   "execution_count": 14,
   "metadata": {},
   "outputs": [
    {
     "data": {
      "image/png": "[encoded data removed]",
      "text/latex": [
       "$\\displaystyle \\left( 384, \\  11\\right)$"
      ],
      "text/plain": [
       "(384, 11)"
      ]
     },
     "execution_count": 14,
     "metadata": {},
     "output_type": "execute_result"
    }
   ],
   "source": [
    "pd_combined_models_filtered_global.shape"
   ]
  },
  {
   "cell_type": "code",
   "execution_count": 15,
   "metadata": {},
   "outputs": [
    {
     "data": {
      "text/html": [
       "<div>\n",
       "<style scoped>\n",
       "    .dataframe tbody tr th:only-of-type {\n",
       "        vertical-align: middle;\n",
       "    }\n",
       "\n",
       "    .dataframe tbody tr th {\n",
       "        vertical-align: top;\n",
       "    }\n",
       "\n",
       "    .dataframe thead th {\n",
       "        text-align: right;\n",
       "    }\n",
       "</style>\n",
       "<table border=\"1\" class=\"dataframe\">\n",
       "  <thead>\n",
       "    <tr style=\"text-align: right;\">\n",
       "      <th></th>\n",
       "      <th>ast_element</th>\n",
       "      <th>node_type</th>\n",
       "      <th>concept_median_prob</th>\n",
       "      <th>concept_min_prob</th>\n",
       "      <th>concept_max_prob</th>\n",
       "      <th>model</th>\n",
       "      <th>id</th>\n",
       "      <th>type_model</th>\n",
       "      <th>size_model</th>\n",
       "      <th>median_bootstrap</th>\n",
       "      <th>median_standard_error</th>\n",
       "      <th>category</th>\n",
       "    </tr>\n",
       "  </thead>\n",
       "  <tbody>\n",
       "    <tr>\n",
       "      <th>4</th>\n",
       "      <td>]</td>\n",
       "      <td>leaf</td>\n",
       "      <td>[0.5011640191078186, 0.4131472706794739, 0.199...</td>\n",
       "      <td>[0.5011640191078186, 0.4131472706794739, 0.199...</td>\n",
       "      <td>[0.5011640191078186, 0.4131472706794739, 0.199...</td>\n",
       "      <td>EleutherAI/gpt-neo-125m</td>\n",
       "      <td>gpt-3 [125M]</td>\n",
       "      <td>gpt-3</td>\n",
       "      <td>125M</td>\n",
       "      <td>0.51997</td>\n",
       "      <td>0.002649</td>\n",
       "      <td>Scope</td>\n",
       "    </tr>\n",
       "  </tbody>\n",
       "</table>\n",
       "</div>"
      ],
      "text/plain": [
       "  ast_element node_type                                concept_median_prob  \\\n",
       "4           ]      leaf  [0.5011640191078186, 0.4131472706794739, 0.199...   \n",
       "\n",
       "                                    concept_min_prob  \\\n",
       "4  [0.5011640191078186, 0.4131472706794739, 0.199...   \n",
       "\n",
       "                                    concept_max_prob                    model  \\\n",
       "4  [0.5011640191078186, 0.4131472706794739, 0.199...  EleutherAI/gpt-neo-125m   \n",
       "\n",
       "             id type_model size_model  median_bootstrap  \\\n",
       "4  gpt-3 [125M]      gpt-3       125M           0.51997   \n",
       "\n",
       "   median_standard_error category  \n",
       "4               0.002649    Scope  "
      ]
     },
     "execution_count": 15,
     "metadata": {},
     "output_type": "execute_result"
    }
   ],
   "source": [
    "mapping_concepts = {\n",
    "    'for_statement': 'Iterative', #Iterative\n",
    "    'while_statement': 'Iterative', #Iterative\n",
    "    'return_statement': 'Scope', #Ending\n",
    "    ']': 'Scope', #Ending\n",
    "    ')': 'Scope', #Ending\n",
    "    '}': 'Scope', #Ending\n",
    "    ':': 'Scope', #Ending\n",
    "    'if_statement': 'Decision', #Decision\n",
    "    'elif': 'Decision',  #Decision\n",
    "    'else': 'Decision',  #Decision\n",
    "    'comparison_operator': 'Operator', #Operator\n",
    "    'boolean_operator': 'Operator', #Operator\n",
    "    'binary_operator': 'Operator', #Operator\n",
    "    'unary_operator': 'Operator', #Operator\n",
    "    'for_in_clause': 'Functional Programming', #Funct\n",
    "    'if_clause': 'Functional Programming', #Funct\n",
    "    'list_comprehension': 'Functional Programming', #Funct\n",
    "    'lambda': 'Functional Programming',#Funct\n",
    "    'identifier': 'Natural Language', #NL\n",
    "    'string': 'Natural Language', #NL\n",
    "    'comment': 'Natural Language', #NL\n",
    "    'tuple': 'Data Structures', #Data\n",
    "    'dictionary': 'Data Structures', #Data\n",
    "    'list': 'Data Structures', #Data\n",
    "    'set': 'Data Structures', #Data\n",
    "    'try_statement': 'Exceptions', #Exceptions\n",
    "    'except': 'Exceptions', #Exceptions\n",
    "    'raise': 'Exceptions', #Exceptions\n",
    "    'finally': 'Exceptions', #Exceptions\n",
    "    'assert_statement': 'Testing', #Testing\n",
    "    'integer': 'Types', #types\n",
    "    'float': 'Types'#types\n",
    "}\n",
    "\n",
    "pd_combined_models_filtered_global['category'] = pd_combined_models_filtered_global.apply(\n",
    "        lambda row : mapping_concepts[row.ast_element] , axis=1\n",
    "    )\n",
    "\n",
    "pd_combined_models_filtered_global.head(1)"
   ]
  },
  {
   "attachments": {},
   "cell_type": "markdown",
   "metadata": {},
   "source": [
    "### Performance Bars"
   ]
  },
  {
   "cell_type": "code",
   "execution_count": 16,
   "metadata": {},
   "outputs": [],
   "source": [
    "sns.set_theme(style=\"darkgrid\")"
   ]
  },
  {
   "cell_type": "code",
   "execution_count": 17,
   "metadata": {},
   "outputs": [
    {
     "data": {
      "text/plain": [
       "<seaborn.axisgrid.FacetGrid at 0x7f597016fbe0>"
      ]
     },
     "execution_count": 17,
     "metadata": {},
     "output_type": "execute_result"
    },
    {
     "data": {
      "image/png": "[encoded data removed]",
      "text/plain": [
       "<Figure size 2140.38x500 with 4 Axes>"
      ]
     },
     "metadata": {},
     "output_type": "display_data"
    }
   ],
   "source": [
    "sns.displot(\n",
    "    data=pd_combined_models_filtered_global, \n",
    "    x=\"median_bootstrap\", \n",
    "    hue=\"type_model\", \n",
    "    col=\"type_model\",\n",
    "    kde=True,\n",
    "    kind = 'hist'\n",
    "    )"
   ]
  },
  {
   "cell_type": "code",
   "execution_count": 18,
   "metadata": {},
   "outputs": [
    {
     "data": {
      "image/png": "[encoded data removed]",
      "text/plain": [
       "<Figure size 1438.38x400 with 4 Axes>"
      ]
     },
     "metadata": {},
     "output_type": "display_data"
    }
   ],
   "source": [
    "#Generated using: https://seaborn.pydata.org/generated/seaborn.displot.html\n",
    "g = sns.displot(\n",
    "    data=pd_combined_models_filtered_global, \n",
    "    y=\"median_bootstrap\", \n",
    "    hue=\"model\", \n",
    "    col=\"type_model\",\n",
    "    kind=\"kde\", #ecdf\n",
    "    height=4, \n",
    "    aspect=.7,\n",
    ")\n",
    "#g.set_axis_labels(\"Density (a.u.)\", \"Flipper length (mm)\")\n",
    "g.set_titles(\"{col_name}\")\n",
    "for ax in g.axes_dict.values():\n",
    "    ax.axline( (0, 0.5), slope=0, c=\".5\", ls=\"--\", zorder=0 )\n"
   ]
  },
  {
   "cell_type": "code",
   "execution_count": 41,
   "metadata": {},
   "outputs": [
    {
     "data": {
      "image/png": "[encoded data removed]",
      "text/plain": [
       "<Figure size 1400x400 with 2 Axes>"
      ]
     },
     "metadata": {},
     "output_type": "display_data"
    }
   ],
   "source": [
    "f, axs = plt.subplots(1, 2, figsize=(14, 4), gridspec_kw=dict(width_ratios=[4, 3]))\n",
    "g = sns.kdeplot(\n",
    "    data=pd_combined_models_filtered_global, \n",
    "    x=\"median_bootstrap\", \n",
    "    hue=\"type_model\", #model\n",
    "    #complementary=True,\n",
    "    #col=\"type_model\",\n",
    "    #kind=\"ecdf\", #ecdf\n",
    "    #height=4, \n",
    "    #aspect=.7,\n",
    "    ax=axs[1]\n",
    ")\n",
    "h = sns.boxplot(\n",
    "    data=pd_combined_models_filtered_global,\n",
    "    x=\"median_bootstrap\", \n",
    "    y=\"id\", \n",
    "    fliersize = 2.5,\n",
    "    #row=\"model\",\n",
    "    #kind=\"box\", \n",
    "    orient=\"h\",\n",
    "    #legend=False, \n",
    "    #margin_titles=True,\n",
    "    #height=4, \n",
    "    #aspect=3,\n",
    "    ax=axs[0]\n",
    ")\n",
    "h.set(xlabel=\"AsC Performance\", ylabel=\"LLMs\")\n",
    "g.set(xlabel=\"AsC Performance\", ylabel=\"Density\")\n",
    "\n",
    "axs[0].axvline( 0.6, c=\".2\", ls=\"--\", zorder=0, )\n",
    "axs[1].axvline( 0.6, c=\".2\", ls=\"--\", zorder=0, label='random threshold' )\n",
    "#h.set_axis_labels(\"AST Performance\", \"LLMs\")\n",
    "#g.set_titles(\"{col_name}\")\n",
    "#for ax in g.axes_dict.values():\n",
    "#    ax.axline( (0, 0.5), slope=0, c=\".5\", ls=\"--\", zorder=0 )\n",
    "    \n",
    "f.tight_layout()"
   ]
  },
  {
   "attachments": {},
   "cell_type": "markdown",
   "metadata": {},
   "source": [
    "### Tree Maps"
   ]
  },
  {
   "cell_type": "code",
   "execution_count": 26,
   "metadata": {},
   "outputs": [
    {
     "data": {
      "application/vnd.plotly.v1+json": {
       "config": {
        "plotlyServerURL": "https://plot.ly"
       },
       "data": [
        {
         "branchvalues": "total",
         "customdata": [
          [
           0.6473662893945489
          ],
          [
           0.558618342235465
          ],
          [
           0.5984779649890868
          ],
          [
           0.49998865479391214
          ],
          [
           0.6231407282326462
          ],
          [
           0.6697325127049133
          ],
          [
           0.5801371815867217
          ],
          [
           0.7879523353679931
          ],
          [
           0.6770136533096596
          ],
          [
           0.5360027911048688
          ],
          [
           0.7417881657215339
          ],
          [
           0.6305500154583067
          ],
          [
           0.6465691022502961
          ],
          [
           0.5720213235990681
          ],
          [
           0.6118997900855224
          ],
          [
           0.5165657588333388
          ],
          [
           0.626384802029681
          ],
          [
           0.6666449394755537
          ],
          [
           0.5804103972056308
          ],
          [
           0.8447062904930086
          ],
          [
           0.7552180306284108
          ],
          [
           0.5518743376567062
          ],
          [
           0.7916573818339822
          ],
          [
           0.7175128541874827
          ],
          [
           0.5812184593617373
          ],
          [
           0.45128132365624285
          ],
          [
           0.5271801483520289
          ],
          [
           0.42861425015572857
          ],
          [
           0.558655065093774
          ],
          [
           0.8004544388937345
          ],
          [
           0.682553924611182
          ],
          [
           0.8994955857843161
          ],
          [
           0.7817944486754901
          ],
          [
           0.6435130946150021
          ],
          [
           0.8348710708036495
          ],
          [
           0.7526004288203852
          ],
          [
           0.6808210754236506
          ],
          [
           0.5698217833957655
          ],
          [
           0.6225128064011494
          ],
          [
           0.48655717592651426
          ],
          [
           0.6602814343859791
          ],
          [
           0.7576480241125495
          ],
          [
           0.6629878376449394
          ],
          [
           0.8527840924216636
          ],
          [
           0.7592457484458541
          ],
          [
           0.6010544891324048
          ],
          [
           0.8082693202886825
          ],
          [
           0.7025828262218008
          ],
          [
           0.8165985760842602
          ],
          [
           0.772018699258688
          ],
          [
           0.7928943376006702
          ],
          [
           0.739613606191576
          ],
          [
           0.8063665622689469
          ],
          [
           0.6977917311858055
          ],
          [
           0.6255223377476974
          ],
          [
           0.8085826209865155
          ],
          [
           0.7344876792546549
          ],
          [
           0.6044250666111012
          ],
          [
           0.7744095882229048
          ],
          [
           0.694404820057268
          ],
          [
           0.4776254252195902
          ],
          [
           0.38917553761866747
          ],
          [
           0.4300101046209619
          ],
          [
           0.3216032039250595
          ],
          [
           0.45647507046608854
          ],
          [
           0.5877914634091731
          ],
          [
           0.45740763414985325
          ],
          [
           0.7253275422548665
          ],
          [
           0.5673320657344653
          ],
          [
           0.39974143404389534
          ],
          [
           0.6485671359585178
          ],
          [
           0.5148243431472069
          ],
          [
           0.6145083194189946
          ],
          [
           0.5412530303153971
          ],
          [
           0.5741091667399869
          ],
          [
           0.4809559521439489
          ],
          [
           0.5956764823662895
          ],
          [
           0.6647597630458193
          ],
          [
           0.5714344499241893
          ],
          [
           0.8154510397815811
          ],
          [
           0.6848084994828881
          ],
          [
           0.5400001962632722
          ],
          [
           0.7422647910704638
          ],
          [
           0.6230673363477729
          ],
          [
           0.7769290864467621
          ],
          [
           0.6432704026500384
          ],
          [
           0.681341925947009
          ],
          [
           0.5143610835075378
          ],
          [
           0.7400372253188874
          ],
          [
           0.8234575336797111
          ],
          [
           0.7343854927199168
          ],
          [
           0.9369349376065657
          ],
          [
           0.8625042323492538
          ],
          [
           0.7055697276070714
          ],
          [
           0.9077902223382678
          ],
          [
           0.8288959222180502
          ],
          [
           0.7152479606895492
          ],
          [
           0.6435777483774083
          ],
          [
           0.6756075947570415
          ],
          [
           0.5852636254400879
          ],
          [
           0.6956334281358327
          ],
          [
           0.7373885495769736
          ],
          [
           0.6856036741599851
          ],
          [
           0.8454718696219581
          ],
          [
           0.7650518704220535
          ],
          [
           0.6660839572021722
          ],
          [
           0.8042489148350702
          ],
          [
           0.7250689192997669
          ],
          [
           0.4968977339255313
          ],
          [
           0.4033824220920602
          ],
          [
           0.43882871295015013
          ],
          [
           0.328975109528983
          ],
          [
           0.4733014119168123
          ],
          [
           0.643601403106004
          ],
          [
           0.4669155528148015
          ],
          [
           0.8300340647498767
          ],
          [
           0.5782393167416255
          ],
          [
           0.4208887842639039
          ],
          [
           0.7104584227005641
          ],
          [
           0.5102020675937334
          ],
          [
           0.6467226928046352
          ],
          [
           0.5493193908248059
          ],
          [
           0.5925191673638184
          ],
          [
           0.4810380467117033
          ],
          [
           0.6235859362782454
          ],
          [
           0.7147234578200437
          ],
          [
           0.6138848308755984
          ],
          [
           0.8418816762747942
          ],
          [
           0.7275664597782836
          ],
          [
           0.5744278092672355
          ],
          [
           0.7856994685402552
          ],
          [
           0.681593010159036
          ]
         ],
         "domain": {
          "x": [
           0,
           1
          ],
          "y": [
           0,
           1
          ]
         },
         "hovertemplate": "labels=%{label}<br>count=%{value}<br>parent=%{parent}<br>id=%{id}<br>median_bootstrap=%{color}<extra></extra>",
         "ids": [
          "codegen-nl [2B]/Data Structures",
          "codegen-nl [350M]/Data Structures",
          "gpt-3 [1.3B]/Data Structures",
          "gpt-3 [125M]/Data Structures",
          "gpt-3 [2.7B]/Data Structures",
          "mono-lang [1.5B]/Data Structures",
          "mono-lang [110M]/Data Structures",
          "mono-lang [2B]/Data Structures",
          "mono-lang [350M]/Data Structures",
          "multi-lang [110M]/Data Structures",
          "multi-lang [2B]/Data Structures",
          "multi-lang [350M]/Data Structures",
          "codegen-nl [2B]/Decision",
          "codegen-nl [350M]/Decision",
          "gpt-3 [1.3B]/Decision",
          "gpt-3 [125M]/Decision",
          "gpt-3 [2.7B]/Decision",
          "mono-lang [1.5B]/Decision",
          "mono-lang [110M]/Decision",
          "mono-lang [2B]/Decision",
          "mono-lang [350M]/Decision",
          "multi-lang [110M]/Decision",
          "multi-lang [2B]/Decision",
          "multi-lang [350M]/Decision",
          "codegen-nl [2B]/Exceptions",
          "codegen-nl [350M]/Exceptions",
          "gpt-3 [1.3B]/Exceptions",
          "gpt-3 [125M]/Exceptions",
          "gpt-3 [2.7B]/Exceptions",
          "mono-lang [1.5B]/Exceptions",
          "mono-lang [110M]/Exceptions",
          "mono-lang [2B]/Exceptions",
          "mono-lang [350M]/Exceptions",
          "multi-lang [110M]/Exceptions",
          "multi-lang [2B]/Exceptions",
          "multi-lang [350M]/Exceptions",
          "codegen-nl [2B]/Functional Programming",
          "codegen-nl [350M]/Functional Programming",
          "gpt-3 [1.3B]/Functional Programming",
          "gpt-3 [125M]/Functional Programming",
          "gpt-3 [2.7B]/Functional Programming",
          "mono-lang [1.5B]/Functional Programming",
          "mono-lang [110M]/Functional Programming",
          "mono-lang [2B]/Functional Programming",
          "mono-lang [350M]/Functional Programming",
          "multi-lang [110M]/Functional Programming",
          "multi-lang [2B]/Functional Programming",
          "multi-lang [350M]/Functional Programming",
          "codegen-nl [2B]/Iterative",
          "codegen-nl [350M]/Iterative",
          "gpt-3 [1.3B]/Iterative",
          "gpt-3 [125M]/Iterative",
          "gpt-3 [2.7B]/Iterative",
          "mono-lang [1.5B]/Iterative",
          "mono-lang [110M]/Iterative",
          "mono-lang [2B]/Iterative",
          "mono-lang [350M]/Iterative",
          "multi-lang [110M]/Iterative",
          "multi-lang [2B]/Iterative",
          "multi-lang [350M]/Iterative",
          "codegen-nl [2B]/Natural Language",
          "codegen-nl [350M]/Natural Language",
          "gpt-3 [1.3B]/Natural Language",
          "gpt-3 [125M]/Natural Language",
          "gpt-3 [2.7B]/Natural Language",
          "mono-lang [1.5B]/Natural Language",
          "mono-lang [110M]/Natural Language",
          "mono-lang [2B]/Natural Language",
          "mono-lang [350M]/Natural Language",
          "multi-lang [110M]/Natural Language",
          "multi-lang [2B]/Natural Language",
          "multi-lang [350M]/Natural Language",
          "codegen-nl [2B]/Operator",
          "codegen-nl [350M]/Operator",
          "gpt-3 [1.3B]/Operator",
          "gpt-3 [125M]/Operator",
          "gpt-3 [2.7B]/Operator",
          "mono-lang [1.5B]/Operator",
          "mono-lang [110M]/Operator",
          "mono-lang [2B]/Operator",
          "mono-lang [350M]/Operator",
          "multi-lang [110M]/Operator",
          "multi-lang [2B]/Operator",
          "multi-lang [350M]/Operator",
          "codegen-nl [2B]/Scope",
          "codegen-nl [350M]/Scope",
          "gpt-3 [1.3B]/Scope",
          "gpt-3 [125M]/Scope",
          "gpt-3 [2.7B]/Scope",
          "mono-lang [1.5B]/Scope",
          "mono-lang [110M]/Scope",
          "mono-lang [2B]/Scope",
          "mono-lang [350M]/Scope",
          "multi-lang [110M]/Scope",
          "multi-lang [2B]/Scope",
          "multi-lang [350M]/Scope",
          "codegen-nl [2B]/Testing",
          "codegen-nl [350M]/Testing",
          "gpt-3 [1.3B]/Testing",
          "gpt-3 [125M]/Testing",
          "gpt-3 [2.7B]/Testing",
          "mono-lang [1.5B]/Testing",
          "mono-lang [110M]/Testing",
          "mono-lang [2B]/Testing",
          "mono-lang [350M]/Testing",
          "multi-lang [110M]/Testing",
          "multi-lang [2B]/Testing",
          "multi-lang [350M]/Testing",
          "codegen-nl [2B]/Types",
          "codegen-nl [350M]/Types",
          "gpt-3 [1.3B]/Types",
          "gpt-3 [125M]/Types",
          "gpt-3 [2.7B]/Types",
          "mono-lang [1.5B]/Types",
          "mono-lang [110M]/Types",
          "mono-lang [2B]/Types",
          "mono-lang [350M]/Types",
          "multi-lang [110M]/Types",
          "multi-lang [2B]/Types",
          "multi-lang [350M]/Types",
          "codegen-nl [2B]",
          "codegen-nl [350M]",
          "gpt-3 [1.3B]",
          "gpt-3 [125M]",
          "gpt-3 [2.7B]",
          "mono-lang [1.5B]",
          "mono-lang [110M]",
          "mono-lang [2B]",
          "mono-lang [350M]",
          "multi-lang [110M]",
          "multi-lang [2B]",
          "multi-lang [350M]"
         ],
         "labels": [
          "Data Structures",
          "Data Structures",
          "Data Structures",
          "Data Structures",
          "Data Structures",
          "Data Structures",
          "Data Structures",
          "Data Structures",
          "Data Structures",
          "Data Structures",
          "Data Structures",
          "Data Structures",
          "Decision",
          "Decision",
          "Decision",
          "Decision",
          "Decision",
          "Decision",
          "Decision",
          "Decision",
          "Decision",
          "Decision",
          "Decision",
          "Decision",
          "Exceptions",
          "Exceptions",
          "Exceptions",
          "Exceptions",
          "Exceptions",
          "Exceptions",
          "Exceptions",
          "Exceptions",
          "Exceptions",
          "Exceptions",
          "Exceptions",
          "Exceptions",
          "Functional Programming",
          "Functional Programming",
          "Functional Programming",
          "Functional Programming",
          "Functional Programming",
          "Functional Programming",
          "Functional Programming",
          "Functional Programming",
          "Functional Programming",
          "Functional Programming",
          "Functional Programming",
          "Functional Programming",
          "Iterative",
          "Iterative",
          "Iterative",
          "Iterative",
          "Iterative",
          "Iterative",
          "Iterative",
          "Iterative",
          "Iterative",
          "Iterative",
          "Iterative",
          "Iterative",
          "Natural Language",
          "Natural Language",
          "Natural Language",
          "Natural Language",
          "Natural Language",
          "Natural Language",
          "Natural Language",
          "Natural Language",
          "Natural Language",
          "Natural Language",
          "Natural Language",
          "Natural Language",
          "Operator",
          "Operator",
          "Operator",
          "Operator",
          "Operator",
          "Operator",
          "Operator",
          "Operator",
          "Operator",
          "Operator",
          "Operator",
          "Operator",
          "Scope",
          "Scope",
          "Scope",
          "Scope",
          "Scope",
          "Scope",
          "Scope",
          "Scope",
          "Scope",
          "Scope",
          "Scope",
          "Scope",
          "Testing",
          "Testing",
          "Testing",
          "Testing",
          "Testing",
          "Testing",
          "Testing",
          "Testing",
          "Testing",
          "Testing",
          "Testing",
          "Testing",
          "Types",
          "Types",
          "Types",
          "Types",
          "Types",
          "Types",
          "Types",
          "Types",
          "Types",
          "Types",
          "Types",
          "Types",
          "codegen-nl [2B]",
          "codegen-nl [350M]",
          "gpt-3 [1.3B]",
          "gpt-3 [125M]",
          "gpt-3 [2.7B]",
          "mono-lang [1.5B]",
          "mono-lang [110M]",
          "mono-lang [2B]",
          "mono-lang [350M]",
          "multi-lang [110M]",
          "multi-lang [2B]",
          "multi-lang [350M]"
         ],
         "marker": {
          "coloraxis": "coloraxis",
          "colors": [
           0.6473662893945489,
           0.558618342235465,
           0.5984779649890868,
           0.49998865479391214,
           0.6231407282326462,
           0.6697325127049133,
           0.5801371815867217,
           0.7879523353679931,
           0.6770136533096596,
           0.5360027911048688,
           0.7417881657215339,
           0.6305500154583067,
           0.6465691022502961,
           0.5720213235990681,
           0.6118997900855224,
           0.5165657588333388,
           0.626384802029681,
           0.6666449394755537,
           0.5804103972056308,
           0.8447062904930086,
           0.7552180306284108,
           0.5518743376567062,
           0.7916573818339822,
           0.7175128541874827,
           0.5812184593617373,
           0.45128132365624285,
           0.5271801483520289,
           0.42861425015572857,
           0.558655065093774,
           0.8004544388937345,
           0.682553924611182,
           0.8994955857843161,
           0.7817944486754901,
           0.6435130946150021,
           0.8348710708036495,
           0.7526004288203852,
           0.6808210754236506,
           0.5698217833957655,
           0.6225128064011494,
           0.48655717592651426,
           0.6602814343859791,
           0.7576480241125495,
           0.6629878376449394,
           0.8527840924216636,
           0.7592457484458541,
           0.6010544891324048,
           0.8082693202886825,
           0.7025828262218008,
           0.8165985760842602,
           0.772018699258688,
           0.7928943376006702,
           0.739613606191576,
           0.8063665622689469,
           0.6977917311858055,
           0.6255223377476974,
           0.8085826209865155,
           0.7344876792546549,
           0.6044250666111012,
           0.7744095882229048,
           0.694404820057268,
           0.4776254252195902,
           0.38917553761866747,
           0.4300101046209619,
           0.3216032039250595,
           0.45647507046608854,
           0.5877914634091731,
           0.45740763414985325,
           0.7253275422548665,
           0.5673320657344653,
           0.39974143404389534,
           0.6485671359585178,
           0.5148243431472069,
           0.6145083194189946,
           0.5412530303153971,
           0.5741091667399869,
           0.4809559521439489,
           0.5956764823662895,
           0.6647597630458193,
           0.5714344499241893,
           0.8154510397815811,
           0.6848084994828881,
           0.5400001962632722,
           0.7422647910704638,
           0.6230673363477729,
           0.7769290864467621,
           0.6432704026500384,
           0.681341925947009,
           0.5143610835075378,
           0.7400372253188874,
           0.8234575336797111,
           0.7343854927199168,
           0.9369349376065657,
           0.8625042323492538,
           0.7055697276070714,
           0.9077902223382678,
           0.8288959222180502,
           0.7152479606895492,
           0.6435777483774083,
           0.6756075947570415,
           0.5852636254400879,
           0.6956334281358327,
           0.7373885495769736,
           0.6856036741599851,
           0.8454718696219581,
           0.7650518704220535,
           0.6660839572021722,
           0.8042489148350702,
           0.7250689192997669,
           0.4968977339255313,
           0.4033824220920602,
           0.43882871295015013,
           0.328975109528983,
           0.4733014119168123,
           0.643601403106004,
           0.4669155528148015,
           0.8300340647498767,
           0.5782393167416255,
           0.4208887842639039,
           0.7104584227005641,
           0.5102020675937334,
           0.6467226928046352,
           0.5493193908248059,
           0.5925191673638184,
           0.4810380467117033,
           0.6235859362782454,
           0.7147234578200437,
           0.6138848308755984,
           0.8418816762747942,
           0.7275664597782836,
           0.5744278092672355,
           0.7856994685402552,
           0.681593010159036
          ]
         },
         "name": "",
         "parents": [
          "codegen-nl [2B]",
          "codegen-nl [350M]",
          "gpt-3 [1.3B]",
          "gpt-3 [125M]",
          "gpt-3 [2.7B]",
          "mono-lang [1.5B]",
          "mono-lang [110M]",
          "mono-lang [2B]",
          "mono-lang [350M]",
          "multi-lang [110M]",
          "multi-lang [2B]",
          "multi-lang [350M]",
          "codegen-nl [2B]",
          "codegen-nl [350M]",
          "gpt-3 [1.3B]",
          "gpt-3 [125M]",
          "gpt-3 [2.7B]",
          "mono-lang [1.5B]",
          "mono-lang [110M]",
          "mono-lang [2B]",
          "mono-lang [350M]",
          "multi-lang [110M]",
          "multi-lang [2B]",
          "multi-lang [350M]",
          "codegen-nl [2B]",
          "codegen-nl [350M]",
          "gpt-3 [1.3B]",
          "gpt-3 [125M]",
          "gpt-3 [2.7B]",
          "mono-lang [1.5B]",
          "mono-lang [110M]",
          "mono-lang [2B]",
          "mono-lang [350M]",
          "multi-lang [110M]",
          "multi-lang [2B]",
          "multi-lang [350M]",
          "codegen-nl [2B]",
          "codegen-nl [350M]",
          "gpt-3 [1.3B]",
          "gpt-3 [125M]",
          "gpt-3 [2.7B]",
          "mono-lang [1.5B]",
          "mono-lang [110M]",
          "mono-lang [2B]",
          "mono-lang [350M]",
          "multi-lang [110M]",
          "multi-lang [2B]",
          "multi-lang [350M]",
          "codegen-nl [2B]",
          "codegen-nl [350M]",
          "gpt-3 [1.3B]",
          "gpt-3 [125M]",
          "gpt-3 [2.7B]",
          "mono-lang [1.5B]",
          "mono-lang [110M]",
          "mono-lang [2B]",
          "mono-lang [350M]",
          "multi-lang [110M]",
          "multi-lang [2B]",
          "multi-lang [350M]",
          "codegen-nl [2B]",
          "codegen-nl [350M]",
          "gpt-3 [1.3B]",
          "gpt-3 [125M]",
          "gpt-3 [2.7B]",
          "mono-lang [1.5B]",
          "mono-lang [110M]",
          "mono-lang [2B]",
          "mono-lang [350M]",
          "multi-lang [110M]",
          "multi-lang [2B]",
          "multi-lang [350M]",
          "codegen-nl [2B]",
          "codegen-nl [350M]",
          "gpt-3 [1.3B]",
          "gpt-3 [125M]",
          "gpt-3 [2.7B]",
          "mono-lang [1.5B]",
          "mono-lang [110M]",
          "mono-lang [2B]",
          "mono-lang [350M]",
          "multi-lang [110M]",
          "multi-lang [2B]",
          "multi-lang [350M]",
          "codegen-nl [2B]",
          "codegen-nl [350M]",
          "gpt-3 [1.3B]",
          "gpt-3 [125M]",
          "gpt-3 [2.7B]",
          "mono-lang [1.5B]",
          "mono-lang [110M]",
          "mono-lang [2B]",
          "mono-lang [350M]",
          "multi-lang [110M]",
          "multi-lang [2B]",
          "multi-lang [350M]",
          "codegen-nl [2B]",
          "codegen-nl [350M]",
          "gpt-3 [1.3B]",
          "gpt-3 [125M]",
          "gpt-3 [2.7B]",
          "mono-lang [1.5B]",
          "mono-lang [110M]",
          "mono-lang [2B]",
          "mono-lang [350M]",
          "multi-lang [110M]",
          "multi-lang [2B]",
          "multi-lang [350M]",
          "codegen-nl [2B]",
          "codegen-nl [350M]",
          "gpt-3 [1.3B]",
          "gpt-3 [125M]",
          "gpt-3 [2.7B]",
          "mono-lang [1.5B]",
          "mono-lang [110M]",
          "mono-lang [2B]",
          "mono-lang [350M]",
          "multi-lang [110M]",
          "multi-lang [2B]",
          "multi-lang [350M]",
          "",
          "",
          "",
          "",
          "",
          "",
          "",
          "",
          "",
          "",
          "",
          ""
         ],
         "type": "sunburst",
         "values": [
          4,
          4,
          4,
          4,
          4,
          4,
          4,
          4,
          4,
          4,
          4,
          4,
          3,
          3,
          3,
          3,
          3,
          3,
          3,
          3,
          3,
          3,
          3,
          3,
          4,
          4,
          4,
          4,
          4,
          4,
          4,
          4,
          4,
          4,
          4,
          4,
          4,
          4,
          4,
          4,
          4,
          4,
          4,
          4,
          4,
          4,
          4,
          4,
          2,
          2,
          2,
          2,
          2,
          2,
          2,
          2,
          2,
          2,
          2,
          2,
          3,
          3,
          3,
          3,
          3,
          3,
          3,
          3,
          3,
          3,
          3,
          3,
          4,
          4,
          4,
          4,
          4,
          4,
          4,
          4,
          4,
          4,
          4,
          4,
          5,
          5,
          5,
          5,
          5,
          5,
          5,
          5,
          5,
          5,
          5,
          5,
          1,
          1,
          1,
          1,
          1,
          1,
          1,
          1,
          1,
          1,
          1,
          1,
          2,
          2,
          2,
          2,
          2,
          2,
          2,
          2,
          2,
          2,
          2,
          2,
          32,
          32,
          32,
          32,
          32,
          32,
          32,
          32,
          32,
          32,
          32,
          32
         ]
        }
       ],
       "layout": {
        "coloraxis": {
         "cmax": 1,
         "cmin": 0,
         "colorbar": {
          "title": {
           "text": "median_bootstrap"
          }
         },
         "colorscale": [
          [
           0,
           "rgb(103,0,31)"
          ],
          [
           0.1,
           "rgb(178,24,43)"
          ],
          [
           0.2,
           "rgb(214,96,77)"
          ],
          [
           0.3,
           "rgb(244,165,130)"
          ],
          [
           0.4,
           "rgb(253,219,199)"
          ],
          [
           0.5,
           "rgb(247,247,247)"
          ],
          [
           0.6,
           "rgb(209,229,240)"
          ],
          [
           0.7,
           "rgb(146,197,222)"
          ],
          [
           0.8,
           "rgb(67,147,195)"
          ],
          [
           0.9,
           "rgb(33,102,172)"
          ],
          [
           1,
           "rgb(5,48,97)"
          ]
         ]
        },
        "height": 1200,
        "legend": {
         "tracegroupgap": 0
        },
        "margin": {
         "t": 60
        },
        "template": {
         "data": {
          "bar": [
           {
            "error_x": {
             "color": "#2a3f5f"
            },
            "error_y": {
             "color": "#2a3f5f"
            },
            "marker": {
             "line": {
              "color": "#E5ECF6",
              "width": 0.5
             },
             "pattern": {
              "fillmode": "overlay",
              "size": 10,
              "solidity": 0.2
             }
            },
            "type": "bar"
           }
          ],
          "barpolar": [
           {
            "marker": {
             "line": {
              "color": "#E5ECF6",
              "width": 0.5
             },
             "pattern": {
              "fillmode": "overlay",
              "size": 10,
              "solidity": 0.2
             }
            },
            "type": "barpolar"
           }
          ],
          "carpet": [
           {
            "aaxis": {
             "endlinecolor": "#2a3f5f",
             "gridcolor": "white",
             "linecolor": "white",
             "minorgridcolor": "white",
             "startlinecolor": "#2a3f5f"
            },
            "baxis": {
             "endlinecolor": "#2a3f5f",
             "gridcolor": "white",
             "linecolor": "white",
             "minorgridcolor": "white",
             "startlinecolor": "#2a3f5f"
            },
            "type": "carpet"
           }
          ],
          "choropleth": [
           {
            "colorbar": {
             "outlinewidth": 0,
             "ticks": ""
            },
            "type": "choropleth"
           }
          ],
          "contour": [
           {
            "colorbar": {
             "outlinewidth": 0,
             "ticks": ""
            },
            "colorscale": [
             [
              0,
              "#0d0887"
             ],
             [
              0.1111111111111111,
              "#46039f"
             ],
             [
              0.2222222222222222,
              "#7201a8"
             ],
             [
              0.3333333333333333,
              "#9c179e"
             ],
             [
              0.4444444444444444,
              "#bd3786"
             ],
             [
              0.5555555555555556,
              "#d8576b"
             ],
             [
              0.6666666666666666,
              "#ed7953"
             ],
             [
              0.7777777777777778,
              "#fb9f3a"
             ],
             [
              0.8888888888888888,
              "#fdca26"
             ],
             [
              1,
              "#f0f921"
             ]
            ],
            "type": "contour"
           }
          ],
          "contourcarpet": [
           {
            "colorbar": {
             "outlinewidth": 0,
             "ticks": ""
            },
            "type": "contourcarpet"
           }
          ],
          "heatmap": [
           {
            "colorbar": {
             "outlinewidth": 0,
             "ticks": ""
            },
            "colorscale": [
             [
              0,
              "#0d0887"
             ],
             [
              0.1111111111111111,
              "#46039f"
             ],
             [
              0.2222222222222222,
              "#7201a8"
             ],
             [
              0.3333333333333333,
              "#9c179e"
             ],
             [
              0.4444444444444444,
              "#bd3786"
             ],
             [
              0.5555555555555556,
              "#d8576b"
             ],
             [
              0.6666666666666666,
              "#ed7953"
             ],
             [
              0.7777777777777778,
              "#fb9f3a"
             ],
             [
              0.8888888888888888,
              "#fdca26"
             ],
             [
              1,
              "#f0f921"
             ]
            ],
            "type": "heatmap"
           }
          ],
          "heatmapgl": [
           {
            "colorbar": {
             "outlinewidth": 0,
             "ticks": ""
            },
            "colorscale": [
             [
              0,
              "#0d0887"
             ],
             [
              0.1111111111111111,
              "#46039f"
             ],
             [
              0.2222222222222222,
              "#7201a8"
             ],
             [
              0.3333333333333333,
              "#9c179e"
             ],
             [
              0.4444444444444444,
              "#bd3786"
             ],
             [
              0.5555555555555556,
              "#d8576b"
             ],
             [
              0.6666666666666666,
              "#ed7953"
             ],
             [
              0.7777777777777778,
              "#fb9f3a"
             ],
             [
              0.8888888888888888,
              "#fdca26"
             ],
             [
              1,
              "#f0f921"
             ]
            ],
            "type": "heatmapgl"
           }
          ],
          "histogram": [
           {
            "marker": {
             "pattern": {
              "fillmode": "overlay",
              "size": 10,
              "solidity": 0.2
             }
            },
            "type": "histogram"
           }
          ],
          "histogram2d": [
           {
            "colorbar": {
             "outlinewidth": 0,
             "ticks": ""
            },
            "colorscale": [
             [
              0,
              "#0d0887"
             ],
             [
              0.1111111111111111,
              "#46039f"
             ],
             [
              0.2222222222222222,
              "#7201a8"
             ],
             [
              0.3333333333333333,
              "#9c179e"
             ],
             [
              0.4444444444444444,
              "#bd3786"
             ],
             [
              0.5555555555555556,
              "#d8576b"
             ],
             [
              0.6666666666666666,
              "#ed7953"
             ],
             [
              0.7777777777777778,
              "#fb9f3a"
             ],
             [
              0.8888888888888888,
              "#fdca26"
             ],
             [
              1,
              "#f0f921"
             ]
            ],
            "type": "histogram2d"
           }
          ],
          "histogram2dcontour": [
           {
            "colorbar": {
             "outlinewidth": 0,
             "ticks": ""
            },
            "colorscale": [
             [
              0,
              "#0d0887"
             ],
             [
              0.1111111111111111,
              "#46039f"
             ],
             [
              0.2222222222222222,
              "#7201a8"
             ],
             [
              0.3333333333333333,
              "#9c179e"
             ],
             [
              0.4444444444444444,
              "#bd3786"
             ],
             [
              0.5555555555555556,
              "#d8576b"
             ],
             [
              0.6666666666666666,
              "#ed7953"
             ],
             [
              0.7777777777777778,
              "#fb9f3a"
             ],
             [
              0.8888888888888888,
              "#fdca26"
             ],
             [
              1,
              "#f0f921"
             ]
            ],
            "type": "histogram2dcontour"
           }
          ],
          "mesh3d": [
           {
            "colorbar": {
             "outlinewidth": 0,
             "ticks": ""
            },
            "type": "mesh3d"
           }
          ],
          "parcoords": [
           {
            "line": {
             "colorbar": {
              "outlinewidth": 0,
              "ticks": ""
             }
            },
            "type": "parcoords"
           }
          ],
          "pie": [
           {
            "automargin": true,
            "type": "pie"
           }
          ],
          "scatter": [
           {
            "fillpattern": {
             "fillmode": "overlay",
             "size": 10,
             "solidity": 0.2
            },
            "type": "scatter"
           }
          ],
          "scatter3d": [
           {
            "line": {
             "colorbar": {
              "outlinewidth": 0,
              "ticks": ""
             }
            },
            "marker": {
             "colorbar": {
              "outlinewidth": 0,
              "ticks": ""
             }
            },
            "type": "scatter3d"
           }
          ],
          "scattercarpet": [
           {
            "marker": {
             "colorbar": {
              "outlinewidth": 0,
              "ticks": ""
             }
            },
            "type": "scattercarpet"
           }
          ],
          "scattergeo": [
           {
            "marker": {
             "colorbar": {
              "outlinewidth": 0,
              "ticks": ""
             }
            },
            "type": "scattergeo"
           }
          ],
          "scattergl": [
           {
            "marker": {
             "colorbar": {
              "outlinewidth": 0,
              "ticks": ""
             }
            },
            "type": "scattergl"
           }
          ],
          "scattermapbox": [
           {
            "marker": {
             "colorbar": {
              "outlinewidth": 0,
              "ticks": ""
             }
            },
            "type": "scattermapbox"
           }
          ],
          "scatterpolar": [
           {
            "marker": {
             "colorbar": {
              "outlinewidth": 0,
              "ticks": ""
             }
            },
            "type": "scatterpolar"
           }
          ],
          "scatterpolargl": [
           {
            "marker": {
             "colorbar": {
              "outlinewidth": 0,
              "ticks": ""
             }
            },
            "type": "scatterpolargl"
           }
          ],
          "scatterternary": [
           {
            "marker": {
             "colorbar": {
              "outlinewidth": 0,
              "ticks": ""
             }
            },
            "type": "scatterternary"
           }
          ],
          "surface": [
           {
            "colorbar": {
             "outlinewidth": 0,
             "ticks": ""
            },
            "colorscale": [
             [
              0,
              "#0d0887"
             ],
             [
              0.1111111111111111,
              "#46039f"
             ],
             [
              0.2222222222222222,
              "#7201a8"
             ],
             [
              0.3333333333333333,
              "#9c179e"
             ],
             [
              0.4444444444444444,
              "#bd3786"
             ],
             [
              0.5555555555555556,
              "#d8576b"
             ],
             [
              0.6666666666666666,
              "#ed7953"
             ],
             [
              0.7777777777777778,
              "#fb9f3a"
             ],
             [
              0.8888888888888888,
              "#fdca26"
             ],
             [
              1,
              "#f0f921"
             ]
            ],
            "type": "surface"
           }
          ],
          "table": [
           {
            "cells": {
             "fill": {
              "color": "#EBF0F8"
             },
             "line": {
              "color": "white"
             }
            },
            "header": {
             "fill": {
              "color": "#C8D4E3"
             },
             "line": {
              "color": "white"
             }
            },
            "type": "table"
           }
          ]
         },
         "layout": {
          "annotationdefaults": {
           "arrowcolor": "#2a3f5f",
           "arrowhead": 0,
           "arrowwidth": 1
          },
          "autotypenumbers": "strict",
          "coloraxis": {
           "colorbar": {
            "outlinewidth": 0,
            "ticks": ""
           }
          },
          "colorscale": {
           "diverging": [
            [
             0,
             "#8e0152"
            ],
            [
             0.1,
             "#c51b7d"
            ],
            [
             0.2,
             "#de77ae"
            ],
            [
             0.3,
             "#f1b6da"
            ],
            [
             0.4,
             "#fde0ef"
            ],
            [
             0.5,
             "#f7f7f7"
            ],
            [
             0.6,
             "#e6f5d0"
            ],
            [
             0.7,
             "#b8e186"
            ],
            [
             0.8,
             "#7fbc41"
            ],
            [
             0.9,
             "#4d9221"
            ],
            [
             1,
             "#276419"
            ]
           ],
           "sequential": [
            [
             0,
             "#0d0887"
            ],
            [
             0.1111111111111111,
             "#46039f"
            ],
            [
             0.2222222222222222,
             "#7201a8"
            ],
            [
             0.3333333333333333,
             "#9c179e"
            ],
            [
             0.4444444444444444,
             "#bd3786"
            ],
            [
             0.5555555555555556,
             "#d8576b"
            ],
            [
             0.6666666666666666,
             "#ed7953"
            ],
            [
             0.7777777777777778,
             "#fb9f3a"
            ],
            [
             0.8888888888888888,
             "#fdca26"
            ],
            [
             1,
             "#f0f921"
            ]
           ],
           "sequentialminus": [
            [
             0,
             "#0d0887"
            ],
            [
             0.1111111111111111,
             "#46039f"
            ],
            [
             0.2222222222222222,
             "#7201a8"
            ],
            [
             0.3333333333333333,
             "#9c179e"
            ],
            [
             0.4444444444444444,
             "#bd3786"
            ],
            [
             0.5555555555555556,
             "#d8576b"
            ],
            [
             0.6666666666666666,
             "#ed7953"
            ],
            [
             0.7777777777777778,
             "#fb9f3a"
            ],
            [
             0.8888888888888888,
             "#fdca26"
            ],
            [
             1,
             "#f0f921"
            ]
           ]
          },
          "colorway": [
           "#636efa",
           "#EF553B",
           "#00cc96",
           "#ab63fa",
           "#FFA15A",
           "#19d3f3",
           "#FF6692",
           "#B6E880",
           "#FF97FF",
           "#FECB52"
          ],
          "font": {
           "color": "#2a3f5f"
          },
          "geo": {
           "bgcolor": "white",
           "lakecolor": "white",
           "landcolor": "#E5ECF6",
           "showlakes": true,
           "showland": true,
           "subunitcolor": "white"
          },
          "hoverlabel": {
           "align": "left"
          },
          "hovermode": "closest",
          "mapbox": {
           "style": "light"
          },
          "paper_bgcolor": "white",
          "plot_bgcolor": "#E5ECF6",
          "polar": {
           "angularaxis": {
            "gridcolor": "white",
            "linecolor": "white",
            "ticks": ""
           },
           "bgcolor": "#E5ECF6",
           "radialaxis": {
            "gridcolor": "white",
            "linecolor": "white",
            "ticks": ""
           }
          },
          "scene": {
           "xaxis": {
            "backgroundcolor": "#E5ECF6",
            "gridcolor": "white",
            "gridwidth": 2,
            "linecolor": "white",
            "showbackground": true,
            "ticks": "",
            "zerolinecolor": "white"
           },
           "yaxis": {
            "backgroundcolor": "#E5ECF6",
            "gridcolor": "white",
            "gridwidth": 2,
            "linecolor": "white",
            "showbackground": true,
            "ticks": "",
            "zerolinecolor": "white"
           },
           "zaxis": {
            "backgroundcolor": "#E5ECF6",
            "gridcolor": "white",
            "gridwidth": 2,
            "linecolor": "white",
            "showbackground": true,
            "ticks": "",
            "zerolinecolor": "white"
           }
          },
          "shapedefaults": {
           "line": {
            "color": "#2a3f5f"
           }
          },
          "ternary": {
           "aaxis": {
            "gridcolor": "white",
            "linecolor": "white",
            "ticks": ""
           },
           "baxis": {
            "gridcolor": "white",
            "linecolor": "white",
            "ticks": ""
           },
           "bgcolor": "#E5ECF6",
           "caxis": {
            "gridcolor": "white",
            "linecolor": "white",
            "ticks": ""
           }
          },
          "title": {
           "x": 0.05
          },
          "xaxis": {
           "automargin": true,
           "gridcolor": "white",
           "linecolor": "white",
           "ticks": "",
           "title": {
            "standoff": 15
           },
           "zerolinecolor": "white",
           "zerolinewidth": 2
          },
          "yaxis": {
           "automargin": true,
           "gridcolor": "white",
           "linecolor": "white",
           "ticks": "",
           "title": {
            "standoff": 15
           },
           "zerolinecolor": "white",
           "zerolinewidth": 2
          }
         }
        },
        "width": 1200
       }
      },
      "text/html": [
       "<div>                            <div id=\"5b4069d5-a7d7-4d5f-8445-86d8980aa120\" class=\"plotly-graph-div\" style=\"height:1200px; width:1200px;\"></div>            <script type=\"text/javascript\">                require([\"plotly\"], function(Plotly) {                    window.PLOTLYENV=window.PLOTLYENV || {};                                    if (document.getElementById(\"5b4069d5-a7d7-4d5f-8445-86d8980aa120\")) {                    Plotly.newPlot(                        \"5b4069d5-a7d7-4d5f-8445-86d8980aa120\",                        [{\"branchvalues\":\"total\",\"customdata\":[[0.6473662893945489],[0.558618342235465],[0.5984779649890868],[0.49998865479391214],[0.6231407282326462],[0.6697325127049133],[0.5801371815867217],[0.7879523353679931],[0.6770136533096596],[0.5360027911048688],[0.7417881657215339],[0.6305500154583067],[0.6465691022502961],[0.5720213235990681],[0.6118997900855224],[0.5165657588333388],[0.626384802029681],[0.6666449394755537],[0.5804103972056308],[0.8447062904930086],[0.7552180306284108],[0.5518743376567062],[0.7916573818339822],[0.7175128541874827],[0.5812184593617373],[0.45128132365624285],[0.5271801483520289],[0.42861425015572857],[0.558655065093774],[0.8004544388937345],[0.682553924611182],[0.8994955857843161],[0.7817944486754901],[0.6435130946150021],[0.8348710708036495],[0.7526004288203852],[0.6808210754236506],[0.5698217833957655],[0.6225128064011494],[0.48655717592651426],[0.6602814343859791],[0.7576480241125495],[0.6629878376449394],[0.8527840924216636],[0.7592457484458541],[0.6010544891324048],[0.8082693202886825],[0.7025828262218008],[0.8165985760842602],[0.772018699258688],[0.7928943376006702],[0.739613606191576],[0.8063665622689469],[0.6977917311858055],[0.6255223377476974],[0.8085826209865155],[0.7344876792546549],[0.6044250666111012],[0.7744095882229048],[0.694404820057268],[0.4776254252195902],[0.38917553761866747],[0.4300101046209619],[0.3216032039250595],[0.45647507046608854],[0.5877914634091731],[0.45740763414985325],[0.7253275422548665],[0.5673320657344653],[0.39974143404389534],[0.6485671359585178],[0.5148243431472069],[0.6145083194189946],[0.5412530303153971],[0.5741091667399869],[0.4809559521439489],[0.5956764823662895],[0.6647597630458193],[0.5714344499241893],[0.8154510397815811],[0.6848084994828881],[0.5400001962632722],[0.7422647910704638],[0.6230673363477729],[0.7769290864467621],[0.6432704026500384],[0.681341925947009],[0.5143610835075378],[0.7400372253188874],[0.8234575336797111],[0.7343854927199168],[0.9369349376065657],[0.8625042323492538],[0.7055697276070714],[0.9077902223382678],[0.8288959222180502],[0.7152479606895492],[0.6435777483774083],[0.6756075947570415],[0.5852636254400879],[0.6956334281358327],[0.7373885495769736],[0.6856036741599851],[0.8454718696219581],[0.7650518704220535],[0.6660839572021722],[0.8042489148350702],[0.7250689192997669],[0.4968977339255313],[0.4033824220920602],[0.43882871295015013],[0.328975109528983],[0.4733014119168123],[0.643601403106004],[0.4669155528148015],[0.8300340647498767],[0.5782393167416255],[0.4208887842639039],[0.7104584227005641],[0.5102020675937334],[0.6467226928046352],[0.5493193908248059],[0.5925191673638184],[0.4810380467117033],[0.6235859362782454],[0.7147234578200437],[0.6138848308755984],[0.8418816762747942],[0.7275664597782836],[0.5744278092672355],[0.7856994685402552],[0.681593010159036]],\"domain\":{\"x\":[0.0,1.0],\"y\":[0.0,1.0]},\"hovertemplate\":\"labels=%{label}<br>count=%{value}<br>parent=%{parent}<br>id=%{id}<br>median_bootstrap=%{color}<extra></extra>\",\"ids\":[\"codegen-nl [2B]/Data Structures\",\"codegen-nl [350M]/Data Structures\",\"gpt-3 [1.3B]/Data Structures\",\"gpt-3 [125M]/Data Structures\",\"gpt-3 [2.7B]/Data Structures\",\"mono-lang [1.5B]/Data Structures\",\"mono-lang [110M]/Data Structures\",\"mono-lang [2B]/Data Structures\",\"mono-lang [350M]/Data Structures\",\"multi-lang [110M]/Data Structures\",\"multi-lang [2B]/Data Structures\",\"multi-lang [350M]/Data Structures\",\"codegen-nl [2B]/Decision\",\"codegen-nl [350M]/Decision\",\"gpt-3 [1.3B]/Decision\",\"gpt-3 [125M]/Decision\",\"gpt-3 [2.7B]/Decision\",\"mono-lang [1.5B]/Decision\",\"mono-lang [110M]/Decision\",\"mono-lang [2B]/Decision\",\"mono-lang [350M]/Decision\",\"multi-lang [110M]/Decision\",\"multi-lang [2B]/Decision\",\"multi-lang [350M]/Decision\",\"codegen-nl [2B]/Exceptions\",\"codegen-nl [350M]/Exceptions\",\"gpt-3 [1.3B]/Exceptions\",\"gpt-3 [125M]/Exceptions\",\"gpt-3 [2.7B]/Exceptions\",\"mono-lang [1.5B]/Exceptions\",\"mono-lang [110M]/Exceptions\",\"mono-lang [2B]/Exceptions\",\"mono-lang [350M]/Exceptions\",\"multi-lang [110M]/Exceptions\",\"multi-lang [2B]/Exceptions\",\"multi-lang [350M]/Exceptions\",\"codegen-nl [2B]/Functional Programming\",\"codegen-nl [350M]/Functional Programming\",\"gpt-3 [1.3B]/Functional Programming\",\"gpt-3 [125M]/Functional Programming\",\"gpt-3 [2.7B]/Functional Programming\",\"mono-lang [1.5B]/Functional Programming\",\"mono-lang [110M]/Functional Programming\",\"mono-lang [2B]/Functional Programming\",\"mono-lang [350M]/Functional Programming\",\"multi-lang [110M]/Functional Programming\",\"multi-lang [2B]/Functional Programming\",\"multi-lang [350M]/Functional Programming\",\"codegen-nl [2B]/Iterative\",\"codegen-nl [350M]/Iterative\",\"gpt-3 [1.3B]/Iterative\",\"gpt-3 [125M]/Iterative\",\"gpt-3 [2.7B]/Iterative\",\"mono-lang [1.5B]/Iterative\",\"mono-lang [110M]/Iterative\",\"mono-lang [2B]/Iterative\",\"mono-lang [350M]/Iterative\",\"multi-lang [110M]/Iterative\",\"multi-lang [2B]/Iterative\",\"multi-lang [350M]/Iterative\",\"codegen-nl [2B]/Natural Language\",\"codegen-nl [350M]/Natural Language\",\"gpt-3 [1.3B]/Natural Language\",\"gpt-3 [125M]/Natural Language\",\"gpt-3 [2.7B]/Natural Language\",\"mono-lang [1.5B]/Natural Language\",\"mono-lang [110M]/Natural Language\",\"mono-lang [2B]/Natural Language\",\"mono-lang [350M]/Natural Language\",\"multi-lang [110M]/Natural Language\",\"multi-lang [2B]/Natural Language\",\"multi-lang [350M]/Natural Language\",\"codegen-nl [2B]/Operator\",\"codegen-nl [350M]/Operator\",\"gpt-3 [1.3B]/Operator\",\"gpt-3 [125M]/Operator\",\"gpt-3 [2.7B]/Operator\",\"mono-lang [1.5B]/Operator\",\"mono-lang [110M]/Operator\",\"mono-lang [2B]/Operator\",\"mono-lang [350M]/Operator\",\"multi-lang [110M]/Operator\",\"multi-lang [2B]/Operator\",\"multi-lang [350M]/Operator\",\"codegen-nl [2B]/Scope\",\"codegen-nl [350M]/Scope\",\"gpt-3 [1.3B]/Scope\",\"gpt-3 [125M]/Scope\",\"gpt-3 [2.7B]/Scope\",\"mono-lang [1.5B]/Scope\",\"mono-lang [110M]/Scope\",\"mono-lang [2B]/Scope\",\"mono-lang [350M]/Scope\",\"multi-lang [110M]/Scope\",\"multi-lang [2B]/Scope\",\"multi-lang [350M]/Scope\",\"codegen-nl [2B]/Testing\",\"codegen-nl [350M]/Testing\",\"gpt-3 [1.3B]/Testing\",\"gpt-3 [125M]/Testing\",\"gpt-3 [2.7B]/Testing\",\"mono-lang [1.5B]/Testing\",\"mono-lang [110M]/Testing\",\"mono-lang [2B]/Testing\",\"mono-lang [350M]/Testing\",\"multi-lang [110M]/Testing\",\"multi-lang [2B]/Testing\",\"multi-lang [350M]/Testing\",\"codegen-nl [2B]/Types\",\"codegen-nl [350M]/Types\",\"gpt-3 [1.3B]/Types\",\"gpt-3 [125M]/Types\",\"gpt-3 [2.7B]/Types\",\"mono-lang [1.5B]/Types\",\"mono-lang [110M]/Types\",\"mono-lang [2B]/Types\",\"mono-lang [350M]/Types\",\"multi-lang [110M]/Types\",\"multi-lang [2B]/Types\",\"multi-lang [350M]/Types\",\"codegen-nl [2B]\",\"codegen-nl [350M]\",\"gpt-3 [1.3B]\",\"gpt-3 [125M]\",\"gpt-3 [2.7B]\",\"mono-lang [1.5B]\",\"mono-lang [110M]\",\"mono-lang [2B]\",\"mono-lang [350M]\",\"multi-lang [110M]\",\"multi-lang [2B]\",\"multi-lang [350M]\"],\"labels\":[\"Data Structures\",\"Data Structures\",\"Data Structures\",\"Data Structures\",\"Data Structures\",\"Data Structures\",\"Data Structures\",\"Data Structures\",\"Data Structures\",\"Data Structures\",\"Data Structures\",\"Data Structures\",\"Decision\",\"Decision\",\"Decision\",\"Decision\",\"Decision\",\"Decision\",\"Decision\",\"Decision\",\"Decision\",\"Decision\",\"Decision\",\"Decision\",\"Exceptions\",\"Exceptions\",\"Exceptions\",\"Exceptions\",\"Exceptions\",\"Exceptions\",\"Exceptions\",\"Exceptions\",\"Exceptions\",\"Exceptions\",\"Exceptions\",\"Exceptions\",\"Functional Programming\",\"Functional Programming\",\"Functional Programming\",\"Functional Programming\",\"Functional Programming\",\"Functional Programming\",\"Functional Programming\",\"Functional Programming\",\"Functional Programming\",\"Functional Programming\",\"Functional Programming\",\"Functional Programming\",\"Iterative\",\"Iterative\",\"Iterative\",\"Iterative\",\"Iterative\",\"Iterative\",\"Iterative\",\"Iterative\",\"Iterative\",\"Iterative\",\"Iterative\",\"Iterative\",\"Natural Language\",\"Natural Language\",\"Natural Language\",\"Natural Language\",\"Natural Language\",\"Natural Language\",\"Natural Language\",\"Natural Language\",\"Natural Language\",\"Natural Language\",\"Natural Language\",\"Natural Language\",\"Operator\",\"Operator\",\"Operator\",\"Operator\",\"Operator\",\"Operator\",\"Operator\",\"Operator\",\"Operator\",\"Operator\",\"Operator\",\"Operator\",\"Scope\",\"Scope\",\"Scope\",\"Scope\",\"Scope\",\"Scope\",\"Scope\",\"Scope\",\"Scope\",\"Scope\",\"Scope\",\"Scope\",\"Testing\",\"Testing\",\"Testing\",\"Testing\",\"Testing\",\"Testing\",\"Testing\",\"Testing\",\"Testing\",\"Testing\",\"Testing\",\"Testing\",\"Types\",\"Types\",\"Types\",\"Types\",\"Types\",\"Types\",\"Types\",\"Types\",\"Types\",\"Types\",\"Types\",\"Types\",\"codegen-nl [2B]\",\"codegen-nl [350M]\",\"gpt-3 [1.3B]\",\"gpt-3 [125M]\",\"gpt-3 [2.7B]\",\"mono-lang [1.5B]\",\"mono-lang [110M]\",\"mono-lang [2B]\",\"mono-lang [350M]\",\"multi-lang [110M]\",\"multi-lang [2B]\",\"multi-lang [350M]\"],\"marker\":{\"coloraxis\":\"coloraxis\",\"colors\":[0.6473662893945489,0.558618342235465,0.5984779649890868,0.49998865479391214,0.6231407282326462,0.6697325127049133,0.5801371815867217,0.7879523353679931,0.6770136533096596,0.5360027911048688,0.7417881657215339,0.6305500154583067,0.6465691022502961,0.5720213235990681,0.6118997900855224,0.5165657588333388,0.626384802029681,0.6666449394755537,0.5804103972056308,0.8447062904930086,0.7552180306284108,0.5518743376567062,0.7916573818339822,0.7175128541874827,0.5812184593617373,0.45128132365624285,0.5271801483520289,0.42861425015572857,0.558655065093774,0.8004544388937345,0.682553924611182,0.8994955857843161,0.7817944486754901,0.6435130946150021,0.8348710708036495,0.7526004288203852,0.6808210754236506,0.5698217833957655,0.6225128064011494,0.48655717592651426,0.6602814343859791,0.7576480241125495,0.6629878376449394,0.8527840924216636,0.7592457484458541,0.6010544891324048,0.8082693202886825,0.7025828262218008,0.8165985760842602,0.772018699258688,0.7928943376006702,0.739613606191576,0.8063665622689469,0.6977917311858055,0.6255223377476974,0.8085826209865155,0.7344876792546549,0.6044250666111012,0.7744095882229048,0.694404820057268,0.4776254252195902,0.38917553761866747,0.4300101046209619,0.3216032039250595,0.45647507046608854,0.5877914634091731,0.45740763414985325,0.7253275422548665,0.5673320657344653,0.39974143404389534,0.6485671359585178,0.5148243431472069,0.6145083194189946,0.5412530303153971,0.5741091667399869,0.4809559521439489,0.5956764823662895,0.6647597630458193,0.5714344499241893,0.8154510397815811,0.6848084994828881,0.5400001962632722,0.7422647910704638,0.6230673363477729,0.7769290864467621,0.6432704026500384,0.681341925947009,0.5143610835075378,0.7400372253188874,0.8234575336797111,0.7343854927199168,0.9369349376065657,0.8625042323492538,0.7055697276070714,0.9077902223382678,0.8288959222180502,0.7152479606895492,0.6435777483774083,0.6756075947570415,0.5852636254400879,0.6956334281358327,0.7373885495769736,0.6856036741599851,0.8454718696219581,0.7650518704220535,0.6660839572021722,0.8042489148350702,0.7250689192997669,0.4968977339255313,0.4033824220920602,0.43882871295015013,0.328975109528983,0.4733014119168123,0.643601403106004,0.4669155528148015,0.8300340647498767,0.5782393167416255,0.4208887842639039,0.7104584227005641,0.5102020675937334,0.6467226928046352,0.5493193908248059,0.5925191673638184,0.4810380467117033,0.6235859362782454,0.7147234578200437,0.6138848308755984,0.8418816762747942,0.7275664597782836,0.5744278092672355,0.7856994685402552,0.681593010159036]},\"name\":\"\",\"parents\":[\"codegen-nl [2B]\",\"codegen-nl [350M]\",\"gpt-3 [1.3B]\",\"gpt-3 [125M]\",\"gpt-3 [2.7B]\",\"mono-lang [1.5B]\",\"mono-lang [110M]\",\"mono-lang [2B]\",\"mono-lang [350M]\",\"multi-lang [110M]\",\"multi-lang [2B]\",\"multi-lang [350M]\",\"codegen-nl [2B]\",\"codegen-nl [350M]\",\"gpt-3 [1.3B]\",\"gpt-3 [125M]\",\"gpt-3 [2.7B]\",\"mono-lang [1.5B]\",\"mono-lang [110M]\",\"mono-lang [2B]\",\"mono-lang [350M]\",\"multi-lang [110M]\",\"multi-lang [2B]\",\"multi-lang [350M]\",\"codegen-nl [2B]\",\"codegen-nl [350M]\",\"gpt-3 [1.3B]\",\"gpt-3 [125M]\",\"gpt-3 [2.7B]\",\"mono-lang [1.5B]\",\"mono-lang [110M]\",\"mono-lang [2B]\",\"mono-lang [350M]\",\"multi-lang [110M]\",\"multi-lang [2B]\",\"multi-lang [350M]\",\"codegen-nl [2B]\",\"codegen-nl [350M]\",\"gpt-3 [1.3B]\",\"gpt-3 [125M]\",\"gpt-3 [2.7B]\",\"mono-lang [1.5B]\",\"mono-lang [110M]\",\"mono-lang [2B]\",\"mono-lang [350M]\",\"multi-lang [110M]\",\"multi-lang [2B]\",\"multi-lang [350M]\",\"codegen-nl [2B]\",\"codegen-nl [350M]\",\"gpt-3 [1.3B]\",\"gpt-3 [125M]\",\"gpt-3 [2.7B]\",\"mono-lang [1.5B]\",\"mono-lang [110M]\",\"mono-lang [2B]\",\"mono-lang [350M]\",\"multi-lang [110M]\",\"multi-lang [2B]\",\"multi-lang [350M]\",\"codegen-nl [2B]\",\"codegen-nl [350M]\",\"gpt-3 [1.3B]\",\"gpt-3 [125M]\",\"gpt-3 [2.7B]\",\"mono-lang [1.5B]\",\"mono-lang [110M]\",\"mono-lang [2B]\",\"mono-lang [350M]\",\"multi-lang [110M]\",\"multi-lang [2B]\",\"multi-lang [350M]\",\"codegen-nl [2B]\",\"codegen-nl [350M]\",\"gpt-3 [1.3B]\",\"gpt-3 [125M]\",\"gpt-3 [2.7B]\",\"mono-lang [1.5B]\",\"mono-lang [110M]\",\"mono-lang [2B]\",\"mono-lang [350M]\",\"multi-lang [110M]\",\"multi-lang [2B]\",\"multi-lang [350M]\",\"codegen-nl [2B]\",\"codegen-nl [350M]\",\"gpt-3 [1.3B]\",\"gpt-3 [125M]\",\"gpt-3 [2.7B]\",\"mono-lang [1.5B]\",\"mono-lang [110M]\",\"mono-lang [2B]\",\"mono-lang [350M]\",\"multi-lang [110M]\",\"multi-lang [2B]\",\"multi-lang [350M]\",\"codegen-nl [2B]\",\"codegen-nl [350M]\",\"gpt-3 [1.3B]\",\"gpt-3 [125M]\",\"gpt-3 [2.7B]\",\"mono-lang [1.5B]\",\"mono-lang [110M]\",\"mono-lang [2B]\",\"mono-lang [350M]\",\"multi-lang [110M]\",\"multi-lang [2B]\",\"multi-lang [350M]\",\"codegen-nl [2B]\",\"codegen-nl [350M]\",\"gpt-3 [1.3B]\",\"gpt-3 [125M]\",\"gpt-3 [2.7B]\",\"mono-lang [1.5B]\",\"mono-lang [110M]\",\"mono-lang [2B]\",\"mono-lang [350M]\",\"multi-lang [110M]\",\"multi-lang [2B]\",\"multi-lang [350M]\",\"\",\"\",\"\",\"\",\"\",\"\",\"\",\"\",\"\",\"\",\"\",\"\"],\"values\":[4,4,4,4,4,4,4,4,4,4,4,4,3,3,3,3,3,3,3,3,3,3,3,3,4,4,4,4,4,4,4,4,4,4,4,4,4,4,4,4,4,4,4,4,4,4,4,4,2,2,2,2,2,2,2,2,2,2,2,2,3,3,3,3,3,3,3,3,3,3,3,3,4,4,4,4,4,4,4,4,4,4,4,4,5,5,5,5,5,5,5,5,5,5,5,5,1,1,1,1,1,1,1,1,1,1,1,1,2,2,2,2,2,2,2,2,2,2,2,2,32,32,32,32,32,32,32,32,32,32,32,32],\"type\":\"sunburst\"}],                        {\"template\":{\"data\":{\"histogram2dcontour\":[{\"type\":\"histogram2dcontour\",\"colorbar\":{\"outlinewidth\":0,\"ticks\":\"\"},\"colorscale\":[[0.0,\"#0d0887\"],[0.1111111111111111,\"#46039f\"],[0.2222222222222222,\"#7201a8\"],[0.3333333333333333,\"#9c179e\"],[0.4444444444444444,\"#bd3786\"],[0.5555555555555556,\"#d8576b\"],[0.6666666666666666,\"#ed7953\"],[0.7777777777777778,\"#fb9f3a\"],[0.8888888888888888,\"#fdca26\"],[1.0,\"#f0f921\"]]}],\"choropleth\":[{\"type\":\"choropleth\",\"colorbar\":{\"outlinewidth\":0,\"ticks\":\"\"}}],\"histogram2d\":[{\"type\":\"histogram2d\",\"colorbar\":{\"outlinewidth\":0,\"ticks\":\"\"},\"colorscale\":[[0.0,\"#0d0887\"],[0.1111111111111111,\"#46039f\"],[0.2222222222222222,\"#7201a8\"],[0.3333333333333333,\"#9c179e\"],[0.4444444444444444,\"#bd3786\"],[0.5555555555555556,\"#d8576b\"],[0.6666666666666666,\"#ed7953\"],[0.7777777777777778,\"#fb9f3a\"],[0.8888888888888888,\"#fdca26\"],[1.0,\"#f0f921\"]]}],\"heatmap\":[{\"type\":\"heatmap\",\"colorbar\":{\"outlinewidth\":0,\"ticks\":\"\"},\"colorscale\":[[0.0,\"#0d0887\"],[0.1111111111111111,\"#46039f\"],[0.2222222222222222,\"#7201a8\"],[0.3333333333333333,\"#9c179e\"],[0.4444444444444444,\"#bd3786\"],[0.5555555555555556,\"#d8576b\"],[0.6666666666666666,\"#ed7953\"],[0.7777777777777778,\"#fb9f3a\"],[0.8888888888888888,\"#fdca26\"],[1.0,\"#f0f921\"]]}],\"heatmapgl\":[{\"type\":\"heatmapgl\",\"colorbar\":{\"outlinewidth\":0,\"ticks\":\"\"},\"colorscale\":[[0.0,\"#0d0887\"],[0.1111111111111111,\"#46039f\"],[0.2222222222222222,\"#7201a8\"],[0.3333333333333333,\"#9c179e\"],[0.4444444444444444,\"#bd3786\"],[0.5555555555555556,\"#d8576b\"],[0.6666666666666666,\"#ed7953\"],[0.7777777777777778,\"#fb9f3a\"],[0.8888888888888888,\"#fdca26\"],[1.0,\"#f0f921\"]]}],\"contourcarpet\":[{\"type\":\"contourcarpet\",\"colorbar\":{\"outlinewidth\":0,\"ticks\":\"\"}}],\"contour\":[{\"type\":\"contour\",\"colorbar\":{\"outlinewidth\":0,\"ticks\":\"\"},\"colorscale\":[[0.0,\"#0d0887\"],[0.1111111111111111,\"#46039f\"],[0.2222222222222222,\"#7201a8\"],[0.3333333333333333,\"#9c179e\"],[0.4444444444444444,\"#bd3786\"],[0.5555555555555556,\"#d8576b\"],[0.6666666666666666,\"#ed7953\"],[0.7777777777777778,\"#fb9f3a\"],[0.8888888888888888,\"#fdca26\"],[1.0,\"#f0f921\"]]}],\"surface\":[{\"type\":\"surface\",\"colorbar\":{\"outlinewidth\":0,\"ticks\":\"\"},\"colorscale\":[[0.0,\"#0d0887\"],[0.1111111111111111,\"#46039f\"],[0.2222222222222222,\"#7201a8\"],[0.3333333333333333,\"#9c179e\"],[0.4444444444444444,\"#bd3786\"],[0.5555555555555556,\"#d8576b\"],[0.6666666666666666,\"#ed7953\"],[0.7777777777777778,\"#fb9f3a\"],[0.8888888888888888,\"#fdca26\"],[1.0,\"#f0f921\"]]}],\"mesh3d\":[{\"type\":\"mesh3d\",\"colorbar\":{\"outlinewidth\":0,\"ticks\":\"\"}}],\"scatter\":[{\"fillpattern\":{\"fillmode\":\"overlay\",\"size\":10,\"solidity\":0.2},\"type\":\"scatter\"}],\"parcoords\":[{\"type\":\"parcoords\",\"line\":{\"colorbar\":{\"outlinewidth\":0,\"ticks\":\"\"}}}],\"scatterpolargl\":[{\"type\":\"scatterpolargl\",\"marker\":{\"colorbar\":{\"outlinewidth\":0,\"ticks\":\"\"}}}],\"bar\":[{\"error_x\":{\"color\":\"#2a3f5f\"},\"error_y\":{\"color\":\"#2a3f5f\"},\"marker\":{\"line\":{\"color\":\"#E5ECF6\",\"width\":0.5},\"pattern\":{\"fillmode\":\"overlay\",\"size\":10,\"solidity\":0.2}},\"type\":\"bar\"}],\"scattergeo\":[{\"type\":\"scattergeo\",\"marker\":{\"colorbar\":{\"outlinewidth\":0,\"ticks\":\"\"}}}],\"scatterpolar\":[{\"type\":\"scatterpolar\",\"marker\":{\"colorbar\":{\"outlinewidth\":0,\"ticks\":\"\"}}}],\"histogram\":[{\"marker\":{\"pattern\":{\"fillmode\":\"overlay\",\"size\":10,\"solidity\":0.2}},\"type\":\"histogram\"}],\"scattergl\":[{\"type\":\"scattergl\",\"marker\":{\"colorbar\":{\"outlinewidth\":0,\"ticks\":\"\"}}}],\"scatter3d\":[{\"type\":\"scatter3d\",\"line\":{\"colorbar\":{\"outlinewidth\":0,\"ticks\":\"\"}},\"marker\":{\"colorbar\":{\"outlinewidth\":0,\"ticks\":\"\"}}}],\"scattermapbox\":[{\"type\":\"scattermapbox\",\"marker\":{\"colorbar\":{\"outlinewidth\":0,\"ticks\":\"\"}}}],\"scatterternary\":[{\"type\":\"scatterternary\",\"marker\":{\"colorbar\":{\"outlinewidth\":0,\"ticks\":\"\"}}}],\"scattercarpet\":[{\"type\":\"scattercarpet\",\"marker\":{\"colorbar\":{\"outlinewidth\":0,\"ticks\":\"\"}}}],\"carpet\":[{\"aaxis\":{\"endlinecolor\":\"#2a3f5f\",\"gridcolor\":\"white\",\"linecolor\":\"white\",\"minorgridcolor\":\"white\",\"startlinecolor\":\"#2a3f5f\"},\"baxis\":{\"endlinecolor\":\"#2a3f5f\",\"gridcolor\":\"white\",\"linecolor\":\"white\",\"minorgridcolor\":\"white\",\"startlinecolor\":\"#2a3f5f\"},\"type\":\"carpet\"}],\"table\":[{\"cells\":{\"fill\":{\"color\":\"#EBF0F8\"},\"line\":{\"color\":\"white\"}},\"header\":{\"fill\":{\"color\":\"#C8D4E3\"},\"line\":{\"color\":\"white\"}},\"type\":\"table\"}],\"barpolar\":[{\"marker\":{\"line\":{\"color\":\"#E5ECF6\",\"width\":0.5},\"pattern\":{\"fillmode\":\"overlay\",\"size\":10,\"solidity\":0.2}},\"type\":\"barpolar\"}],\"pie\":[{\"automargin\":true,\"type\":\"pie\"}]},\"layout\":{\"autotypenumbers\":\"strict\",\"colorway\":[\"#636efa\",\"#EF553B\",\"#00cc96\",\"#ab63fa\",\"#FFA15A\",\"#19d3f3\",\"#FF6692\",\"#B6E880\",\"#FF97FF\",\"#FECB52\"],\"font\":{\"color\":\"#2a3f5f\"},\"hovermode\":\"closest\",\"hoverlabel\":{\"align\":\"left\"},\"paper_bgcolor\":\"white\",\"plot_bgcolor\":\"#E5ECF6\",\"polar\":{\"bgcolor\":\"#E5ECF6\",\"angularaxis\":{\"gridcolor\":\"white\",\"linecolor\":\"white\",\"ticks\":\"\"},\"radialaxis\":{\"gridcolor\":\"white\",\"linecolor\":\"white\",\"ticks\":\"\"}},\"ternary\":{\"bgcolor\":\"#E5ECF6\",\"aaxis\":{\"gridcolor\":\"white\",\"linecolor\":\"white\",\"ticks\":\"\"},\"baxis\":{\"gridcolor\":\"white\",\"linecolor\":\"white\",\"ticks\":\"\"},\"caxis\":{\"gridcolor\":\"white\",\"linecolor\":\"white\",\"ticks\":\"\"}},\"coloraxis\":{\"colorbar\":{\"outlinewidth\":0,\"ticks\":\"\"}},\"colorscale\":{\"sequential\":[[0.0,\"#0d0887\"],[0.1111111111111111,\"#46039f\"],[0.2222222222222222,\"#7201a8\"],[0.3333333333333333,\"#9c179e\"],[0.4444444444444444,\"#bd3786\"],[0.5555555555555556,\"#d8576b\"],[0.6666666666666666,\"#ed7953\"],[0.7777777777777778,\"#fb9f3a\"],[0.8888888888888888,\"#fdca26\"],[1.0,\"#f0f921\"]],\"sequentialminus\":[[0.0,\"#0d0887\"],[0.1111111111111111,\"#46039f\"],[0.2222222222222222,\"#7201a8\"],[0.3333333333333333,\"#9c179e\"],[0.4444444444444444,\"#bd3786\"],[0.5555555555555556,\"#d8576b\"],[0.6666666666666666,\"#ed7953\"],[0.7777777777777778,\"#fb9f3a\"],[0.8888888888888888,\"#fdca26\"],[1.0,\"#f0f921\"]],\"diverging\":[[0,\"#8e0152\"],[0.1,\"#c51b7d\"],[0.2,\"#de77ae\"],[0.3,\"#f1b6da\"],[0.4,\"#fde0ef\"],[0.5,\"#f7f7f7\"],[0.6,\"#e6f5d0\"],[0.7,\"#b8e186\"],[0.8,\"#7fbc41\"],[0.9,\"#4d9221\"],[1,\"#276419\"]]},\"xaxis\":{\"gridcolor\":\"white\",\"linecolor\":\"white\",\"ticks\":\"\",\"title\":{\"standoff\":15},\"zerolinecolor\":\"white\",\"automargin\":true,\"zerolinewidth\":2},\"yaxis\":{\"gridcolor\":\"white\",\"linecolor\":\"white\",\"ticks\":\"\",\"title\":{\"standoff\":15},\"zerolinecolor\":\"white\",\"automargin\":true,\"zerolinewidth\":2},\"scene\":{\"xaxis\":{\"backgroundcolor\":\"#E5ECF6\",\"gridcolor\":\"white\",\"linecolor\":\"white\",\"showbackground\":true,\"ticks\":\"\",\"zerolinecolor\":\"white\",\"gridwidth\":2},\"yaxis\":{\"backgroundcolor\":\"#E5ECF6\",\"gridcolor\":\"white\",\"linecolor\":\"white\",\"showbackground\":true,\"ticks\":\"\",\"zerolinecolor\":\"white\",\"gridwidth\":2},\"zaxis\":{\"backgroundcolor\":\"#E5ECF6\",\"gridcolor\":\"white\",\"linecolor\":\"white\",\"showbackground\":true,\"ticks\":\"\",\"zerolinecolor\":\"white\",\"gridwidth\":2}},\"shapedefaults\":{\"line\":{\"color\":\"#2a3f5f\"}},\"annotationdefaults\":{\"arrowcolor\":\"#2a3f5f\",\"arrowhead\":0,\"arrowwidth\":1},\"geo\":{\"bgcolor\":\"white\",\"landcolor\":\"#E5ECF6\",\"subunitcolor\":\"white\",\"showland\":true,\"showlakes\":true,\"lakecolor\":\"white\"},\"title\":{\"x\":0.05},\"mapbox\":{\"style\":\"light\"}}},\"coloraxis\":{\"colorbar\":{\"title\":{\"text\":\"median_bootstrap\"}},\"colorscale\":[[0.0,\"rgb(103,0,31)\"],[0.1,\"rgb(178,24,43)\"],[0.2,\"rgb(214,96,77)\"],[0.3,\"rgb(244,165,130)\"],[0.4,\"rgb(253,219,199)\"],[0.5,\"rgb(247,247,247)\"],[0.6,\"rgb(209,229,240)\"],[0.7,\"rgb(146,197,222)\"],[0.8,\"rgb(67,147,195)\"],[0.9,\"rgb(33,102,172)\"],[1.0,\"rgb(5,48,97)\"]],\"cmin\":0,\"cmax\":1},\"legend\":{\"tracegroupgap\":0},\"margin\":{\"t\":60},\"height\":1200,\"width\":1200},                        {\"responsive\": true}                    ).then(function(){\n",
       "                            \n",
       "var gd = document.getElementById('5b4069d5-a7d7-4d5f-8445-86d8980aa120');\n",
       "var x = new MutationObserver(function (mutations, observer) {{\n",
       "        var display = window.getComputedStyle(gd).display;\n",
       "        if (!display || display === 'none') {{\n",
       "            console.log([gd, 'removed!']);\n",
       "            Plotly.purge(gd);\n",
       "            observer.disconnect();\n",
       "        }}\n",
       "}});\n",
       "\n",
       "// Listen for the removal of the full notebook cells\n",
       "var notebookContainer = gd.closest('#notebook-container');\n",
       "if (notebookContainer) {{\n",
       "    x.observe(notebookContainer, {childList: true});\n",
       "}}\n",
       "\n",
       "// Listen for the clearing of the current output cell\n",
       "var outputEl = gd.closest('.output');\n",
       "if (outputEl) {{\n",
       "    x.observe(outputEl, {childList: true});\n",
       "}}\n",
       "\n",
       "                        })                };                });            </script>        </div>"
      ]
     },
     "metadata": {},
     "output_type": "display_data"
    }
   ],
   "source": [
    "fig = px.sunburst(pd_combined_models_filtered_global, path=['id','category'], \n",
    "                  #values='median_bootstrap',\n",
    "                  color='median_bootstrap', \n",
    "                  #hover_data=['iso_alpha'],\n",
    "                  color_continuous_scale='RdBu',\n",
    "                  range_color = [0,1],\n",
    "                  width = 1200,\n",
    "                  height= 1200,\n",
    "                  #color_continuous_midpoint=np.average(df['lifeExp'], weights=df['pop']))\n",
    "                )\n",
    "fig.show()"
   ]
  },
  {
   "cell_type": "code",
   "execution_count": 28,
   "metadata": {},
   "outputs": [
    {
     "data": {
      "application/vnd.plotly.v1+json": {
       "config": {
        "plotlyServerURL": "https://plot.ly"
       },
       "data": [
        {
         "branchvalues": "total",
         "customdata": [
          [
           0.5984779649890868
          ],
          [
           0.6697325127049133
          ],
          [
           0.5801371815867217
          ],
          [
           0.5360027911048688
          ],
          [
           0.49998865479391214
          ],
          [
           0.6231407282326462
          ],
          [
           0.6473662893945489
          ],
          [
           0.7879523353679931
          ],
          [
           0.7417881657215339
          ],
          [
           0.558618342235465
          ],
          [
           0.6770136533096596
          ],
          [
           0.6305500154583067
          ],
          [
           0.6118997900855224
          ],
          [
           0.6666449394755537
          ],
          [
           0.5804103972056308
          ],
          [
           0.5518743376567062
          ],
          [
           0.5165657588333388
          ],
          [
           0.626384802029681
          ],
          [
           0.6465691022502961
          ],
          [
           0.8447062904930086
          ],
          [
           0.7916573818339822
          ],
          [
           0.5720213235990681
          ],
          [
           0.7552180306284108
          ],
          [
           0.7175128541874827
          ],
          [
           0.5271801483520289
          ],
          [
           0.8004544388937345
          ],
          [
           0.682553924611182
          ],
          [
           0.6435130946150021
          ],
          [
           0.42861425015572857
          ],
          [
           0.558655065093774
          ],
          [
           0.5812184593617373
          ],
          [
           0.8994955857843161
          ],
          [
           0.8348710708036495
          ],
          [
           0.45128132365624285
          ],
          [
           0.7817944486754901
          ],
          [
           0.7526004288203852
          ],
          [
           0.6225128064011494
          ],
          [
           0.7576480241125495
          ],
          [
           0.6629878376449394
          ],
          [
           0.6010544891324048
          ],
          [
           0.48655717592651426
          ],
          [
           0.6602814343859791
          ],
          [
           0.6808210754236506
          ],
          [
           0.8527840924216636
          ],
          [
           0.8082693202886825
          ],
          [
           0.5698217833957655
          ],
          [
           0.7592457484458541
          ],
          [
           0.7025828262218008
          ],
          [
           0.7928943376006702
          ],
          [
           0.6977917311858055
          ],
          [
           0.6255223377476974
          ],
          [
           0.6044250666111012
          ],
          [
           0.739613606191576
          ],
          [
           0.8063665622689469
          ],
          [
           0.8165985760842602
          ],
          [
           0.8085826209865155
          ],
          [
           0.7744095882229048
          ],
          [
           0.772018699258688
          ],
          [
           0.7344876792546549
          ],
          [
           0.694404820057268
          ],
          [
           0.4300101046209619
          ],
          [
           0.5877914634091731
          ],
          [
           0.45740763414985325
          ],
          [
           0.39974143404389534
          ],
          [
           0.3216032039250595
          ],
          [
           0.45647507046608854
          ],
          [
           0.4776254252195902
          ],
          [
           0.7253275422548665
          ],
          [
           0.6485671359585178
          ],
          [
           0.38917553761866747
          ],
          [
           0.5673320657344653
          ],
          [
           0.5148243431472069
          ],
          [
           0.5741091667399869
          ],
          [
           0.6647597630458193
          ],
          [
           0.5714344499241893
          ],
          [
           0.5400001962632722
          ],
          [
           0.4809559521439489
          ],
          [
           0.5956764823662895
          ],
          [
           0.6145083194189946
          ],
          [
           0.8154510397815811
          ],
          [
           0.7422647910704638
          ],
          [
           0.5412530303153971
          ],
          [
           0.6848084994828881
          ],
          [
           0.6230673363477729
          ],
          [
           0.681341925947009
          ],
          [
           0.8234575336797111
          ],
          [
           0.7343854927199168
          ],
          [
           0.7055697276070714
          ],
          [
           0.5143610835075378
          ],
          [
           0.7400372253188874
          ],
          [
           0.7769290864467621
          ],
          [
           0.9369349376065657
          ],
          [
           0.9077902223382678
          ],
          [
           0.6432704026500384
          ],
          [
           0.8625042323492538
          ],
          [
           0.8288959222180502
          ],
          [
           0.6756075947570415
          ],
          [
           0.7373885495769736
          ],
          [
           0.6856036741599851
          ],
          [
           0.6660839572021722
          ],
          [
           0.5852636254400879
          ],
          [
           0.6956334281358327
          ],
          [
           0.7152479606895492
          ],
          [
           0.8454718696219581
          ],
          [
           0.8042489148350702
          ],
          [
           0.6435777483774083
          ],
          [
           0.7650518704220535
          ],
          [
           0.7250689192997669
          ],
          [
           0.43882871295015013
          ],
          [
           0.643601403106004
          ],
          [
           0.4669155528148015
          ],
          [
           0.4208887842639039
          ],
          [
           0.328975109528983
          ],
          [
           0.4733014119168123
          ],
          [
           0.4968977339255313
          ],
          [
           0.8300340647498767
          ],
          [
           0.7104584227005641
          ],
          [
           0.4033824220920602
          ],
          [
           0.5782393167416255
          ],
          [
           0.5102020675937334
          ],
          [
           0.5925191673638184
          ],
          [
           0.7147234578200437
          ],
          [
           0.6138848308755984
          ],
          [
           0.5744278092672355
          ],
          [
           0.4810380467117033
          ],
          [
           0.6235859362782454
          ],
          [
           0.6467226928046352
          ],
          [
           0.8418816762747942
          ],
          [
           0.7856994685402552
          ],
          [
           0.5493193908248059
          ],
          [
           0.7275664597782836
          ],
          [
           0.681593010159036
          ],
          [
           0.5980210418147205
          ],
          [
           0.5657143834512558
          ],
          [
           0.72451410618718
          ],
          [
           0.6805734293221755
          ],
          [
           0.6527468288915378
          ]
         ],
         "domain": {
          "x": [
           0,
           1
          ],
          "y": [
           0,
           1
          ]
         },
         "hovertemplate": "labels=%{label}<br>count=%{value}<br>parent=%{parent}<br>id=%{id}<br>median_bootstrap=%{color}<extra></extra>",
         "ids": [
          "Large Language Models/gpt-3/1.3B/Data Structures",
          "Large Language Models/mono-lang/1.5B/Data Structures",
          "Large Language Models/mono-lang/110M/Data Structures",
          "Large Language Models/multi-lang/110M/Data Structures",
          "Large Language Models/gpt-3/125M/Data Structures",
          "Large Language Models/gpt-3/2.7B/Data Structures",
          "Large Language Models/codegen-nl/2B/Data Structures",
          "Large Language Models/mono-lang/2B/Data Structures",
          "Large Language Models/multi-lang/2B/Data Structures",
          "Large Language Models/codegen-nl/350M/Data Structures",
          "Large Language Models/mono-lang/350M/Data Structures",
          "Large Language Models/multi-lang/350M/Data Structures",
          "Large Language Models/gpt-3/1.3B/Decision",
          "Large Language Models/mono-lang/1.5B/Decision",
          "Large Language Models/mono-lang/110M/Decision",
          "Large Language Models/multi-lang/110M/Decision",
          "Large Language Models/gpt-3/125M/Decision",
          "Large Language Models/gpt-3/2.7B/Decision",
          "Large Language Models/codegen-nl/2B/Decision",
          "Large Language Models/mono-lang/2B/Decision",
          "Large Language Models/multi-lang/2B/Decision",
          "Large Language Models/codegen-nl/350M/Decision",
          "Large Language Models/mono-lang/350M/Decision",
          "Large Language Models/multi-lang/350M/Decision",
          "Large Language Models/gpt-3/1.3B/Exceptions",
          "Large Language Models/mono-lang/1.5B/Exceptions",
          "Large Language Models/mono-lang/110M/Exceptions",
          "Large Language Models/multi-lang/110M/Exceptions",
          "Large Language Models/gpt-3/125M/Exceptions",
          "Large Language Models/gpt-3/2.7B/Exceptions",
          "Large Language Models/codegen-nl/2B/Exceptions",
          "Large Language Models/mono-lang/2B/Exceptions",
          "Large Language Models/multi-lang/2B/Exceptions",
          "Large Language Models/codegen-nl/350M/Exceptions",
          "Large Language Models/mono-lang/350M/Exceptions",
          "Large Language Models/multi-lang/350M/Exceptions",
          "Large Language Models/gpt-3/1.3B/Functional Programming",
          "Large Language Models/mono-lang/1.5B/Functional Programming",
          "Large Language Models/mono-lang/110M/Functional Programming",
          "Large Language Models/multi-lang/110M/Functional Programming",
          "Large Language Models/gpt-3/125M/Functional Programming",
          "Large Language Models/gpt-3/2.7B/Functional Programming",
          "Large Language Models/codegen-nl/2B/Functional Programming",
          "Large Language Models/mono-lang/2B/Functional Programming",
          "Large Language Models/multi-lang/2B/Functional Programming",
          "Large Language Models/codegen-nl/350M/Functional Programming",
          "Large Language Models/mono-lang/350M/Functional Programming",
          "Large Language Models/multi-lang/350M/Functional Programming",
          "Large Language Models/gpt-3/1.3B/Iterative",
          "Large Language Models/mono-lang/1.5B/Iterative",
          "Large Language Models/mono-lang/110M/Iterative",
          "Large Language Models/multi-lang/110M/Iterative",
          "Large Language Models/gpt-3/125M/Iterative",
          "Large Language Models/gpt-3/2.7B/Iterative",
          "Large Language Models/codegen-nl/2B/Iterative",
          "Large Language Models/mono-lang/2B/Iterative",
          "Large Language Models/multi-lang/2B/Iterative",
          "Large Language Models/codegen-nl/350M/Iterative",
          "Large Language Models/mono-lang/350M/Iterative",
          "Large Language Models/multi-lang/350M/Iterative",
          "Large Language Models/gpt-3/1.3B/Natural Language",
          "Large Language Models/mono-lang/1.5B/Natural Language",
          "Large Language Models/mono-lang/110M/Natural Language",
          "Large Language Models/multi-lang/110M/Natural Language",
          "Large Language Models/gpt-3/125M/Natural Language",
          "Large Language Models/gpt-3/2.7B/Natural Language",
          "Large Language Models/codegen-nl/2B/Natural Language",
          "Large Language Models/mono-lang/2B/Natural Language",
          "Large Language Models/multi-lang/2B/Natural Language",
          "Large Language Models/codegen-nl/350M/Natural Language",
          "Large Language Models/mono-lang/350M/Natural Language",
          "Large Language Models/multi-lang/350M/Natural Language",
          "Large Language Models/gpt-3/1.3B/Operator",
          "Large Language Models/mono-lang/1.5B/Operator",
          "Large Language Models/mono-lang/110M/Operator",
          "Large Language Models/multi-lang/110M/Operator",
          "Large Language Models/gpt-3/125M/Operator",
          "Large Language Models/gpt-3/2.7B/Operator",
          "Large Language Models/codegen-nl/2B/Operator",
          "Large Language Models/mono-lang/2B/Operator",
          "Large Language Models/multi-lang/2B/Operator",
          "Large Language Models/codegen-nl/350M/Operator",
          "Large Language Models/mono-lang/350M/Operator",
          "Large Language Models/multi-lang/350M/Operator",
          "Large Language Models/gpt-3/1.3B/Scope",
          "Large Language Models/mono-lang/1.5B/Scope",
          "Large Language Models/mono-lang/110M/Scope",
          "Large Language Models/multi-lang/110M/Scope",
          "Large Language Models/gpt-3/125M/Scope",
          "Large Language Models/gpt-3/2.7B/Scope",
          "Large Language Models/codegen-nl/2B/Scope",
          "Large Language Models/mono-lang/2B/Scope",
          "Large Language Models/multi-lang/2B/Scope",
          "Large Language Models/codegen-nl/350M/Scope",
          "Large Language Models/mono-lang/350M/Scope",
          "Large Language Models/multi-lang/350M/Scope",
          "Large Language Models/gpt-3/1.3B/Testing",
          "Large Language Models/mono-lang/1.5B/Testing",
          "Large Language Models/mono-lang/110M/Testing",
          "Large Language Models/multi-lang/110M/Testing",
          "Large Language Models/gpt-3/125M/Testing",
          "Large Language Models/gpt-3/2.7B/Testing",
          "Large Language Models/codegen-nl/2B/Testing",
          "Large Language Models/mono-lang/2B/Testing",
          "Large Language Models/multi-lang/2B/Testing",
          "Large Language Models/codegen-nl/350M/Testing",
          "Large Language Models/mono-lang/350M/Testing",
          "Large Language Models/multi-lang/350M/Testing",
          "Large Language Models/gpt-3/1.3B/Types",
          "Large Language Models/mono-lang/1.5B/Types",
          "Large Language Models/mono-lang/110M/Types",
          "Large Language Models/multi-lang/110M/Types",
          "Large Language Models/gpt-3/125M/Types",
          "Large Language Models/gpt-3/2.7B/Types",
          "Large Language Models/codegen-nl/2B/Types",
          "Large Language Models/mono-lang/2B/Types",
          "Large Language Models/multi-lang/2B/Types",
          "Large Language Models/codegen-nl/350M/Types",
          "Large Language Models/mono-lang/350M/Types",
          "Large Language Models/multi-lang/350M/Types",
          "Large Language Models/gpt-3/1.3B",
          "Large Language Models/mono-lang/1.5B",
          "Large Language Models/mono-lang/110M",
          "Large Language Models/multi-lang/110M",
          "Large Language Models/gpt-3/125M",
          "Large Language Models/gpt-3/2.7B",
          "Large Language Models/codegen-nl/2B",
          "Large Language Models/mono-lang/2B",
          "Large Language Models/multi-lang/2B",
          "Large Language Models/codegen-nl/350M",
          "Large Language Models/mono-lang/350M",
          "Large Language Models/multi-lang/350M",
          "Large Language Models/codegen-nl",
          "Large Language Models/gpt-3",
          "Large Language Models/mono-lang",
          "Large Language Models/multi-lang",
          "Large Language Models"
         ],
         "labels": [
          "Data Structures",
          "Data Structures",
          "Data Structures",
          "Data Structures",
          "Data Structures",
          "Data Structures",
          "Data Structures",
          "Data Structures",
          "Data Structures",
          "Data Structures",
          "Data Structures",
          "Data Structures",
          "Decision",
          "Decision",
          "Decision",
          "Decision",
          "Decision",
          "Decision",
          "Decision",
          "Decision",
          "Decision",
          "Decision",
          "Decision",
          "Decision",
          "Exceptions",
          "Exceptions",
          "Exceptions",
          "Exceptions",
          "Exceptions",
          "Exceptions",
          "Exceptions",
          "Exceptions",
          "Exceptions",
          "Exceptions",
          "Exceptions",
          "Exceptions",
          "Functional Programming",
          "Functional Programming",
          "Functional Programming",
          "Functional Programming",
          "Functional Programming",
          "Functional Programming",
          "Functional Programming",
          "Functional Programming",
          "Functional Programming",
          "Functional Programming",
          "Functional Programming",
          "Functional Programming",
          "Iterative",
          "Iterative",
          "Iterative",
          "Iterative",
          "Iterative",
          "Iterative",
          "Iterative",
          "Iterative",
          "Iterative",
          "Iterative",
          "Iterative",
          "Iterative",
          "Natural Language",
          "Natural Language",
          "Natural Language",
          "Natural Language",
          "Natural Language",
          "Natural Language",
          "Natural Language",
          "Natural Language",
          "Natural Language",
          "Natural Language",
          "Natural Language",
          "Natural Language",
          "Operator",
          "Operator",
          "Operator",
          "Operator",
          "Operator",
          "Operator",
          "Operator",
          "Operator",
          "Operator",
          "Operator",
          "Operator",
          "Operator",
          "Scope",
          "Scope",
          "Scope",
          "Scope",
          "Scope",
          "Scope",
          "Scope",
          "Scope",
          "Scope",
          "Scope",
          "Scope",
          "Scope",
          "Testing",
          "Testing",
          "Testing",
          "Testing",
          "Testing",
          "Testing",
          "Testing",
          "Testing",
          "Testing",
          "Testing",
          "Testing",
          "Testing",
          "Types",
          "Types",
          "Types",
          "Types",
          "Types",
          "Types",
          "Types",
          "Types",
          "Types",
          "Types",
          "Types",
          "Types",
          "1.3B",
          "1.5B",
          "110M",
          "110M",
          "125M",
          "2.7B",
          "2B",
          "2B",
          "2B",
          "350M",
          "350M",
          "350M",
          "codegen-nl",
          "gpt-3",
          "mono-lang",
          "multi-lang",
          "Large Language Models"
         ],
         "marker": {
          "coloraxis": "coloraxis",
          "colors": [
           0.5984779649890868,
           0.6697325127049133,
           0.5801371815867217,
           0.5360027911048688,
           0.49998865479391214,
           0.6231407282326462,
           0.6473662893945489,
           0.7879523353679931,
           0.7417881657215339,
           0.558618342235465,
           0.6770136533096596,
           0.6305500154583067,
           0.6118997900855224,
           0.6666449394755537,
           0.5804103972056308,
           0.5518743376567062,
           0.5165657588333388,
           0.626384802029681,
           0.6465691022502961,
           0.8447062904930086,
           0.7916573818339822,
           0.5720213235990681,
           0.7552180306284108,
           0.7175128541874827,
           0.5271801483520289,
           0.8004544388937345,
           0.682553924611182,
           0.6435130946150021,
           0.42861425015572857,
           0.558655065093774,
           0.5812184593617373,
           0.8994955857843161,
           0.8348710708036495,
           0.45128132365624285,
           0.7817944486754901,
           0.7526004288203852,
           0.6225128064011494,
           0.7576480241125495,
           0.6629878376449394,
           0.6010544891324048,
           0.48655717592651426,
           0.6602814343859791,
           0.6808210754236506,
           0.8527840924216636,
           0.8082693202886825,
           0.5698217833957655,
           0.7592457484458541,
           0.7025828262218008,
           0.7928943376006702,
           0.6977917311858055,
           0.6255223377476974,
           0.6044250666111012,
           0.739613606191576,
           0.8063665622689469,
           0.8165985760842602,
           0.8085826209865155,
           0.7744095882229048,
           0.772018699258688,
           0.7344876792546549,
           0.694404820057268,
           0.4300101046209619,
           0.5877914634091731,
           0.45740763414985325,
           0.39974143404389534,
           0.3216032039250595,
           0.45647507046608854,
           0.4776254252195902,
           0.7253275422548665,
           0.6485671359585178,
           0.38917553761866747,
           0.5673320657344653,
           0.5148243431472069,
           0.5741091667399869,
           0.6647597630458193,
           0.5714344499241893,
           0.5400001962632722,
           0.4809559521439489,
           0.5956764823662895,
           0.6145083194189946,
           0.8154510397815811,
           0.7422647910704638,
           0.5412530303153971,
           0.6848084994828881,
           0.6230673363477729,
           0.681341925947009,
           0.8234575336797111,
           0.7343854927199168,
           0.7055697276070714,
           0.5143610835075378,
           0.7400372253188874,
           0.7769290864467621,
           0.9369349376065657,
           0.9077902223382678,
           0.6432704026500384,
           0.8625042323492538,
           0.8288959222180502,
           0.6756075947570415,
           0.7373885495769736,
           0.6856036741599851,
           0.6660839572021722,
           0.5852636254400879,
           0.6956334281358327,
           0.7152479606895492,
           0.8454718696219581,
           0.8042489148350702,
           0.6435777483774083,
           0.7650518704220535,
           0.7250689192997669,
           0.43882871295015013,
           0.643601403106004,
           0.4669155528148015,
           0.4208887842639039,
           0.328975109528983,
           0.4733014119168123,
           0.4968977339255313,
           0.8300340647498767,
           0.7104584227005641,
           0.4033824220920602,
           0.5782393167416255,
           0.5102020675937334,
           0.5925191673638184,
           0.7147234578200437,
           0.6138848308755984,
           0.5744278092672355,
           0.4810380467117033,
           0.6235859362782454,
           0.6467226928046352,
           0.8418816762747942,
           0.7856994685402552,
           0.5493193908248059,
           0.7275664597782836,
           0.681593010159036,
           0.5980210418147205,
           0.5657143834512558,
           0.72451410618718,
           0.6805734293221755,
           0.6527468288915378
          ]
         },
         "name": "",
         "parents": [
          "Large Language Models/gpt-3/1.3B",
          "Large Language Models/mono-lang/1.5B",
          "Large Language Models/mono-lang/110M",
          "Large Language Models/multi-lang/110M",
          "Large Language Models/gpt-3/125M",
          "Large Language Models/gpt-3/2.7B",
          "Large Language Models/codegen-nl/2B",
          "Large Language Models/mono-lang/2B",
          "Large Language Models/multi-lang/2B",
          "Large Language Models/codegen-nl/350M",
          "Large Language Models/mono-lang/350M",
          "Large Language Models/multi-lang/350M",
          "Large Language Models/gpt-3/1.3B",
          "Large Language Models/mono-lang/1.5B",
          "Large Language Models/mono-lang/110M",
          "Large Language Models/multi-lang/110M",
          "Large Language Models/gpt-3/125M",
          "Large Language Models/gpt-3/2.7B",
          "Large Language Models/codegen-nl/2B",
          "Large Language Models/mono-lang/2B",
          "Large Language Models/multi-lang/2B",
          "Large Language Models/codegen-nl/350M",
          "Large Language Models/mono-lang/350M",
          "Large Language Models/multi-lang/350M",
          "Large Language Models/gpt-3/1.3B",
          "Large Language Models/mono-lang/1.5B",
          "Large Language Models/mono-lang/110M",
          "Large Language Models/multi-lang/110M",
          "Large Language Models/gpt-3/125M",
          "Large Language Models/gpt-3/2.7B",
          "Large Language Models/codegen-nl/2B",
          "Large Language Models/mono-lang/2B",
          "Large Language Models/multi-lang/2B",
          "Large Language Models/codegen-nl/350M",
          "Large Language Models/mono-lang/350M",
          "Large Language Models/multi-lang/350M",
          "Large Language Models/gpt-3/1.3B",
          "Large Language Models/mono-lang/1.5B",
          "Large Language Models/mono-lang/110M",
          "Large Language Models/multi-lang/110M",
          "Large Language Models/gpt-3/125M",
          "Large Language Models/gpt-3/2.7B",
          "Large Language Models/codegen-nl/2B",
          "Large Language Models/mono-lang/2B",
          "Large Language Models/multi-lang/2B",
          "Large Language Models/codegen-nl/350M",
          "Large Language Models/mono-lang/350M",
          "Large Language Models/multi-lang/350M",
          "Large Language Models/gpt-3/1.3B",
          "Large Language Models/mono-lang/1.5B",
          "Large Language Models/mono-lang/110M",
          "Large Language Models/multi-lang/110M",
          "Large Language Models/gpt-3/125M",
          "Large Language Models/gpt-3/2.7B",
          "Large Language Models/codegen-nl/2B",
          "Large Language Models/mono-lang/2B",
          "Large Language Models/multi-lang/2B",
          "Large Language Models/codegen-nl/350M",
          "Large Language Models/mono-lang/350M",
          "Large Language Models/multi-lang/350M",
          "Large Language Models/gpt-3/1.3B",
          "Large Language Models/mono-lang/1.5B",
          "Large Language Models/mono-lang/110M",
          "Large Language Models/multi-lang/110M",
          "Large Language Models/gpt-3/125M",
          "Large Language Models/gpt-3/2.7B",
          "Large Language Models/codegen-nl/2B",
          "Large Language Models/mono-lang/2B",
          "Large Language Models/multi-lang/2B",
          "Large Language Models/codegen-nl/350M",
          "Large Language Models/mono-lang/350M",
          "Large Language Models/multi-lang/350M",
          "Large Language Models/gpt-3/1.3B",
          "Large Language Models/mono-lang/1.5B",
          "Large Language Models/mono-lang/110M",
          "Large Language Models/multi-lang/110M",
          "Large Language Models/gpt-3/125M",
          "Large Language Models/gpt-3/2.7B",
          "Large Language Models/codegen-nl/2B",
          "Large Language Models/mono-lang/2B",
          "Large Language Models/multi-lang/2B",
          "Large Language Models/codegen-nl/350M",
          "Large Language Models/mono-lang/350M",
          "Large Language Models/multi-lang/350M",
          "Large Language Models/gpt-3/1.3B",
          "Large Language Models/mono-lang/1.5B",
          "Large Language Models/mono-lang/110M",
          "Large Language Models/multi-lang/110M",
          "Large Language Models/gpt-3/125M",
          "Large Language Models/gpt-3/2.7B",
          "Large Language Models/codegen-nl/2B",
          "Large Language Models/mono-lang/2B",
          "Large Language Models/multi-lang/2B",
          "Large Language Models/codegen-nl/350M",
          "Large Language Models/mono-lang/350M",
          "Large Language Models/multi-lang/350M",
          "Large Language Models/gpt-3/1.3B",
          "Large Language Models/mono-lang/1.5B",
          "Large Language Models/mono-lang/110M",
          "Large Language Models/multi-lang/110M",
          "Large Language Models/gpt-3/125M",
          "Large Language Models/gpt-3/2.7B",
          "Large Language Models/codegen-nl/2B",
          "Large Language Models/mono-lang/2B",
          "Large Language Models/multi-lang/2B",
          "Large Language Models/codegen-nl/350M",
          "Large Language Models/mono-lang/350M",
          "Large Language Models/multi-lang/350M",
          "Large Language Models/gpt-3/1.3B",
          "Large Language Models/mono-lang/1.5B",
          "Large Language Models/mono-lang/110M",
          "Large Language Models/multi-lang/110M",
          "Large Language Models/gpt-3/125M",
          "Large Language Models/gpt-3/2.7B",
          "Large Language Models/codegen-nl/2B",
          "Large Language Models/mono-lang/2B",
          "Large Language Models/multi-lang/2B",
          "Large Language Models/codegen-nl/350M",
          "Large Language Models/mono-lang/350M",
          "Large Language Models/multi-lang/350M",
          "Large Language Models/gpt-3",
          "Large Language Models/mono-lang",
          "Large Language Models/mono-lang",
          "Large Language Models/multi-lang",
          "Large Language Models/gpt-3",
          "Large Language Models/gpt-3",
          "Large Language Models/codegen-nl",
          "Large Language Models/mono-lang",
          "Large Language Models/multi-lang",
          "Large Language Models/codegen-nl",
          "Large Language Models/mono-lang",
          "Large Language Models/multi-lang",
          "Large Language Models",
          "Large Language Models",
          "Large Language Models",
          "Large Language Models",
          ""
         ],
         "type": "treemap",
         "values": [
          4,
          4,
          4,
          4,
          4,
          4,
          4,
          4,
          4,
          4,
          4,
          4,
          3,
          3,
          3,
          3,
          3,
          3,
          3,
          3,
          3,
          3,
          3,
          3,
          4,
          4,
          4,
          4,
          4,
          4,
          4,
          4,
          4,
          4,
          4,
          4,
          4,
          4,
          4,
          4,
          4,
          4,
          4,
          4,
          4,
          4,
          4,
          4,
          2,
          2,
          2,
          2,
          2,
          2,
          2,
          2,
          2,
          2,
          2,
          2,
          3,
          3,
          3,
          3,
          3,
          3,
          3,
          3,
          3,
          3,
          3,
          3,
          4,
          4,
          4,
          4,
          4,
          4,
          4,
          4,
          4,
          4,
          4,
          4,
          5,
          5,
          5,
          5,
          5,
          5,
          5,
          5,
          5,
          5,
          5,
          5,
          1,
          1,
          1,
          1,
          1,
          1,
          1,
          1,
          1,
          1,
          1,
          1,
          2,
          2,
          2,
          2,
          2,
          2,
          2,
          2,
          2,
          2,
          2,
          2,
          32,
          32,
          32,
          32,
          32,
          32,
          32,
          32,
          32,
          32,
          32,
          32,
          64,
          96,
          128,
          96,
          384
         ]
        }
       ],
       "layout": {
        "coloraxis": {
         "cmax": 1,
         "cmin": 0,
         "colorbar": {
          "title": {
           "text": "median_bootstrap"
          }
         },
         "colorscale": [
          [
           0,
           "rgb(103,0,31)"
          ],
          [
           0.1,
           "rgb(178,24,43)"
          ],
          [
           0.2,
           "rgb(214,96,77)"
          ],
          [
           0.3,
           "rgb(244,165,130)"
          ],
          [
           0.4,
           "rgb(253,219,199)"
          ],
          [
           0.5,
           "rgb(247,247,247)"
          ],
          [
           0.6,
           "rgb(209,229,240)"
          ],
          [
           0.7,
           "rgb(146,197,222)"
          ],
          [
           0.8,
           "rgb(67,147,195)"
          ],
          [
           0.9,
           "rgb(33,102,172)"
          ],
          [
           1,
           "rgb(5,48,97)"
          ]
         ]
        },
        "height": 600,
        "legend": {
         "tracegroupgap": 0
        },
        "margin": {
         "b": 25,
         "l": 25,
         "r": 25,
         "t": 50
        },
        "template": {
         "data": {
          "bar": [
           {
            "error_x": {
             "color": "#2a3f5f"
            },
            "error_y": {
             "color": "#2a3f5f"
            },
            "marker": {
             "line": {
              "color": "#E5ECF6",
              "width": 0.5
             },
             "pattern": {
              "fillmode": "overlay",
              "size": 10,
              "solidity": 0.2
             }
            },
            "type": "bar"
           }
          ],
          "barpolar": [
           {
            "marker": {
             "line": {
              "color": "#E5ECF6",
              "width": 0.5
             },
             "pattern": {
              "fillmode": "overlay",
              "size": 10,
              "solidity": 0.2
             }
            },
            "type": "barpolar"
           }
          ],
          "carpet": [
           {
            "aaxis": {
             "endlinecolor": "#2a3f5f",
             "gridcolor": "white",
             "linecolor": "white",
             "minorgridcolor": "white",
             "startlinecolor": "#2a3f5f"
            },
            "baxis": {
             "endlinecolor": "#2a3f5f",
             "gridcolor": "white",
             "linecolor": "white",
             "minorgridcolor": "white",
             "startlinecolor": "#2a3f5f"
            },
            "type": "carpet"
           }
          ],
          "choropleth": [
           {
            "colorbar": {
             "outlinewidth": 0,
             "ticks": ""
            },
            "type": "choropleth"
           }
          ],
          "contour": [
           {
            "colorbar": {
             "outlinewidth": 0,
             "ticks": ""
            },
            "colorscale": [
             [
              0,
              "#0d0887"
             ],
             [
              0.1111111111111111,
              "#46039f"
             ],
             [
              0.2222222222222222,
              "#7201a8"
             ],
             [
              0.3333333333333333,
              "#9c179e"
             ],
             [
              0.4444444444444444,
              "#bd3786"
             ],
             [
              0.5555555555555556,
              "#d8576b"
             ],
             [
              0.6666666666666666,
              "#ed7953"
             ],
             [
              0.7777777777777778,
              "#fb9f3a"
             ],
             [
              0.8888888888888888,
              "#fdca26"
             ],
             [
              1,
              "#f0f921"
             ]
            ],
            "type": "contour"
           }
          ],
          "contourcarpet": [
           {
            "colorbar": {
             "outlinewidth": 0,
             "ticks": ""
            },
            "type": "contourcarpet"
           }
          ],
          "heatmap": [
           {
            "colorbar": {
             "outlinewidth": 0,
             "ticks": ""
            },
            "colorscale": [
             [
              0,
              "#0d0887"
             ],
             [
              0.1111111111111111,
              "#46039f"
             ],
             [
              0.2222222222222222,
              "#7201a8"
             ],
             [
              0.3333333333333333,
              "#9c179e"
             ],
             [
              0.4444444444444444,
              "#bd3786"
             ],
             [
              0.5555555555555556,
              "#d8576b"
             ],
             [
              0.6666666666666666,
              "#ed7953"
             ],
             [
              0.7777777777777778,
              "#fb9f3a"
             ],
             [
              0.8888888888888888,
              "#fdca26"
             ],
             [
              1,
              "#f0f921"
             ]
            ],
            "type": "heatmap"
           }
          ],
          "heatmapgl": [
           {
            "colorbar": {
             "outlinewidth": 0,
             "ticks": ""
            },
            "colorscale": [
             [
              0,
              "#0d0887"
             ],
             [
              0.1111111111111111,
              "#46039f"
             ],
             [
              0.2222222222222222,
              "#7201a8"
             ],
             [
              0.3333333333333333,
              "#9c179e"
             ],
             [
              0.4444444444444444,
              "#bd3786"
             ],
             [
              0.5555555555555556,
              "#d8576b"
             ],
             [
              0.6666666666666666,
              "#ed7953"
             ],
             [
              0.7777777777777778,
              "#fb9f3a"
             ],
             [
              0.8888888888888888,
              "#fdca26"
             ],
             [
              1,
              "#f0f921"
             ]
            ],
            "type": "heatmapgl"
           }
          ],
          "histogram": [
           {
            "marker": {
             "pattern": {
              "fillmode": "overlay",
              "size": 10,
              "solidity": 0.2
             }
            },
            "type": "histogram"
           }
          ],
          "histogram2d": [
           {
            "colorbar": {
             "outlinewidth": 0,
             "ticks": ""
            },
            "colorscale": [
             [
              0,
              "#0d0887"
             ],
             [
              0.1111111111111111,
              "#46039f"
             ],
             [
              0.2222222222222222,
              "#7201a8"
             ],
             [
              0.3333333333333333,
              "#9c179e"
             ],
             [
              0.4444444444444444,
              "#bd3786"
             ],
             [
              0.5555555555555556,
              "#d8576b"
             ],
             [
              0.6666666666666666,
              "#ed7953"
             ],
             [
              0.7777777777777778,
              "#fb9f3a"
             ],
             [
              0.8888888888888888,
              "#fdca26"
             ],
             [
              1,
              "#f0f921"
             ]
            ],
            "type": "histogram2d"
           }
          ],
          "histogram2dcontour": [
           {
            "colorbar": {
             "outlinewidth": 0,
             "ticks": ""
            },
            "colorscale": [
             [
              0,
              "#0d0887"
             ],
             [
              0.1111111111111111,
              "#46039f"
             ],
             [
              0.2222222222222222,
              "#7201a8"
             ],
             [
              0.3333333333333333,
              "#9c179e"
             ],
             [
              0.4444444444444444,
              "#bd3786"
             ],
             [
              0.5555555555555556,
              "#d8576b"
             ],
             [
              0.6666666666666666,
              "#ed7953"
             ],
             [
              0.7777777777777778,
              "#fb9f3a"
             ],
             [
              0.8888888888888888,
              "#fdca26"
             ],
             [
              1,
              "#f0f921"
             ]
            ],
            "type": "histogram2dcontour"
           }
          ],
          "mesh3d": [
           {
            "colorbar": {
             "outlinewidth": 0,
             "ticks": ""
            },
            "type": "mesh3d"
           }
          ],
          "parcoords": [
           {
            "line": {
             "colorbar": {
              "outlinewidth": 0,
              "ticks": ""
             }
            },
            "type": "parcoords"
           }
          ],
          "pie": [
           {
            "automargin": true,
            "type": "pie"
           }
          ],
          "scatter": [
           {
            "fillpattern": {
             "fillmode": "overlay",
             "size": 10,
             "solidity": 0.2
            },
            "type": "scatter"
           }
          ],
          "scatter3d": [
           {
            "line": {
             "colorbar": {
              "outlinewidth": 0,
              "ticks": ""
             }
            },
            "marker": {
             "colorbar": {
              "outlinewidth": 0,
              "ticks": ""
             }
            },
            "type": "scatter3d"
           }
          ],
          "scattercarpet": [
           {
            "marker": {
             "colorbar": {
              "outlinewidth": 0,
              "ticks": ""
             }
            },
            "type": "scattercarpet"
           }
          ],
          "scattergeo": [
           {
            "marker": {
             "colorbar": {
              "outlinewidth": 0,
              "ticks": ""
             }
            },
            "type": "scattergeo"
           }
          ],
          "scattergl": [
           {
            "marker": {
             "colorbar": {
              "outlinewidth": 0,
              "ticks": ""
             }
            },
            "type": "scattergl"
           }
          ],
          "scattermapbox": [
           {
            "marker": {
             "colorbar": {
              "outlinewidth": 0,
              "ticks": ""
             }
            },
            "type": "scattermapbox"
           }
          ],
          "scatterpolar": [
           {
            "marker": {
             "colorbar": {
              "outlinewidth": 0,
              "ticks": ""
             }
            },
            "type": "scatterpolar"
           }
          ],
          "scatterpolargl": [
           {
            "marker": {
             "colorbar": {
              "outlinewidth": 0,
              "ticks": ""
             }
            },
            "type": "scatterpolargl"
           }
          ],
          "scatterternary": [
           {
            "marker": {
             "colorbar": {
              "outlinewidth": 0,
              "ticks": ""
             }
            },
            "type": "scatterternary"
           }
          ],
          "surface": [
           {
            "colorbar": {
             "outlinewidth": 0,
             "ticks": ""
            },
            "colorscale": [
             [
              0,
              "#0d0887"
             ],
             [
              0.1111111111111111,
              "#46039f"
             ],
             [
              0.2222222222222222,
              "#7201a8"
             ],
             [
              0.3333333333333333,
              "#9c179e"
             ],
             [
              0.4444444444444444,
              "#bd3786"
             ],
             [
              0.5555555555555556,
              "#d8576b"
             ],
             [
              0.6666666666666666,
              "#ed7953"
             ],
             [
              0.7777777777777778,
              "#fb9f3a"
             ],
             [
              0.8888888888888888,
              "#fdca26"
             ],
             [
              1,
              "#f0f921"
             ]
            ],
            "type": "surface"
           }
          ],
          "table": [
           {
            "cells": {
             "fill": {
              "color": "#EBF0F8"
             },
             "line": {
              "color": "white"
             }
            },
            "header": {
             "fill": {
              "color": "#C8D4E3"
             },
             "line": {
              "color": "white"
             }
            },
            "type": "table"
           }
          ]
         },
         "layout": {
          "annotationdefaults": {
           "arrowcolor": "#2a3f5f",
           "arrowhead": 0,
           "arrowwidth": 1
          },
          "autotypenumbers": "strict",
          "coloraxis": {
           "colorbar": {
            "outlinewidth": 0,
            "ticks": ""
           }
          },
          "colorscale": {
           "diverging": [
            [
             0,
             "#8e0152"
            ],
            [
             0.1,
             "#c51b7d"
            ],
            [
             0.2,
             "#de77ae"
            ],
            [
             0.3,
             "#f1b6da"
            ],
            [
             0.4,
             "#fde0ef"
            ],
            [
             0.5,
             "#f7f7f7"
            ],
            [
             0.6,
             "#e6f5d0"
            ],
            [
             0.7,
             "#b8e186"
            ],
            [
             0.8,
             "#7fbc41"
            ],
            [
             0.9,
             "#4d9221"
            ],
            [
             1,
             "#276419"
            ]
           ],
           "sequential": [
            [
             0,
             "#0d0887"
            ],
            [
             0.1111111111111111,
             "#46039f"
            ],
            [
             0.2222222222222222,
             "#7201a8"
            ],
            [
             0.3333333333333333,
             "#9c179e"
            ],
            [
             0.4444444444444444,
             "#bd3786"
            ],
            [
             0.5555555555555556,
             "#d8576b"
            ],
            [
             0.6666666666666666,
             "#ed7953"
            ],
            [
             0.7777777777777778,
             "#fb9f3a"
            ],
            [
             0.8888888888888888,
             "#fdca26"
            ],
            [
             1,
             "#f0f921"
            ]
           ],
           "sequentialminus": [
            [
             0,
             "#0d0887"
            ],
            [
             0.1111111111111111,
             "#46039f"
            ],
            [
             0.2222222222222222,
             "#7201a8"
            ],
            [
             0.3333333333333333,
             "#9c179e"
            ],
            [
             0.4444444444444444,
             "#bd3786"
            ],
            [
             0.5555555555555556,
             "#d8576b"
            ],
            [
             0.6666666666666666,
             "#ed7953"
            ],
            [
             0.7777777777777778,
             "#fb9f3a"
            ],
            [
             0.8888888888888888,
             "#fdca26"
            ],
            [
             1,
             "#f0f921"
            ]
           ]
          },
          "colorway": [
           "#636efa",
           "#EF553B",
           "#00cc96",
           "#ab63fa",
           "#FFA15A",
           "#19d3f3",
           "#FF6692",
           "#B6E880",
           "#FF97FF",
           "#FECB52"
          ],
          "font": {
           "color": "#2a3f5f"
          },
          "geo": {
           "bgcolor": "white",
           "lakecolor": "white",
           "landcolor": "#E5ECF6",
           "showlakes": true,
           "showland": true,
           "subunitcolor": "white"
          },
          "hoverlabel": {
           "align": "left"
          },
          "hovermode": "closest",
          "mapbox": {
           "style": "light"
          },
          "paper_bgcolor": "white",
          "plot_bgcolor": "#E5ECF6",
          "polar": {
           "angularaxis": {
            "gridcolor": "white",
            "linecolor": "white",
            "ticks": ""
           },
           "bgcolor": "#E5ECF6",
           "radialaxis": {
            "gridcolor": "white",
            "linecolor": "white",
            "ticks": ""
           }
          },
          "scene": {
           "xaxis": {
            "backgroundcolor": "#E5ECF6",
            "gridcolor": "white",
            "gridwidth": 2,
            "linecolor": "white",
            "showbackground": true,
            "ticks": "",
            "zerolinecolor": "white"
           },
           "yaxis": {
            "backgroundcolor": "#E5ECF6",
            "gridcolor": "white",
            "gridwidth": 2,
            "linecolor": "white",
            "showbackground": true,
            "ticks": "",
            "zerolinecolor": "white"
           },
           "zaxis": {
            "backgroundcolor": "#E5ECF6",
            "gridcolor": "white",
            "gridwidth": 2,
            "linecolor": "white",
            "showbackground": true,
            "ticks": "",
            "zerolinecolor": "white"
           }
          },
          "shapedefaults": {
           "line": {
            "color": "#2a3f5f"
           }
          },
          "ternary": {
           "aaxis": {
            "gridcolor": "white",
            "linecolor": "white",
            "ticks": ""
           },
           "baxis": {
            "gridcolor": "white",
            "linecolor": "white",
            "ticks": ""
           },
           "bgcolor": "#E5ECF6",
           "caxis": {
            "gridcolor": "white",
            "linecolor": "white",
            "ticks": ""
           }
          },
          "title": {
           "x": 0.05
          },
          "xaxis": {
           "automargin": true,
           "gridcolor": "white",
           "linecolor": "white",
           "ticks": "",
           "title": {
            "standoff": 15
           },
           "zerolinecolor": "white",
           "zerolinewidth": 2
          },
          "yaxis": {
           "automargin": true,
           "gridcolor": "white",
           "linecolor": "white",
           "ticks": "",
           "title": {
            "standoff": 15
           },
           "zerolinecolor": "white",
           "zerolinewidth": 2
          }
         }
        },
        "width": 1800
       }
      },
      "text/html": [
       "<div>                            <div id=\"a3915a46-1a48-477b-8d2c-a3d246dd30fb\" class=\"plotly-graph-div\" style=\"height:600px; width:1800px;\"></div>            <script type=\"text/javascript\">                require([\"plotly\"], function(Plotly) {                    window.PLOTLYENV=window.PLOTLYENV || {};                                    if (document.getElementById(\"a3915a46-1a48-477b-8d2c-a3d246dd30fb\")) {                    Plotly.newPlot(                        \"a3915a46-1a48-477b-8d2c-a3d246dd30fb\",                        [{\"branchvalues\":\"total\",\"customdata\":[[0.5984779649890868],[0.6697325127049133],[0.5801371815867217],[0.5360027911048688],[0.49998865479391214],[0.6231407282326462],[0.6473662893945489],[0.7879523353679931],[0.7417881657215339],[0.558618342235465],[0.6770136533096596],[0.6305500154583067],[0.6118997900855224],[0.6666449394755537],[0.5804103972056308],[0.5518743376567062],[0.5165657588333388],[0.626384802029681],[0.6465691022502961],[0.8447062904930086],[0.7916573818339822],[0.5720213235990681],[0.7552180306284108],[0.7175128541874827],[0.5271801483520289],[0.8004544388937345],[0.682553924611182],[0.6435130946150021],[0.42861425015572857],[0.558655065093774],[0.5812184593617373],[0.8994955857843161],[0.8348710708036495],[0.45128132365624285],[0.7817944486754901],[0.7526004288203852],[0.6225128064011494],[0.7576480241125495],[0.6629878376449394],[0.6010544891324048],[0.48655717592651426],[0.6602814343859791],[0.6808210754236506],[0.8527840924216636],[0.8082693202886825],[0.5698217833957655],[0.7592457484458541],[0.7025828262218008],[0.7928943376006702],[0.6977917311858055],[0.6255223377476974],[0.6044250666111012],[0.739613606191576],[0.8063665622689469],[0.8165985760842602],[0.8085826209865155],[0.7744095882229048],[0.772018699258688],[0.7344876792546549],[0.694404820057268],[0.4300101046209619],[0.5877914634091731],[0.45740763414985325],[0.39974143404389534],[0.3216032039250595],[0.45647507046608854],[0.4776254252195902],[0.7253275422548665],[0.6485671359585178],[0.38917553761866747],[0.5673320657344653],[0.5148243431472069],[0.5741091667399869],[0.6647597630458193],[0.5714344499241893],[0.5400001962632722],[0.4809559521439489],[0.5956764823662895],[0.6145083194189946],[0.8154510397815811],[0.7422647910704638],[0.5412530303153971],[0.6848084994828881],[0.6230673363477729],[0.681341925947009],[0.8234575336797111],[0.7343854927199168],[0.7055697276070714],[0.5143610835075378],[0.7400372253188874],[0.7769290864467621],[0.9369349376065657],[0.9077902223382678],[0.6432704026500384],[0.8625042323492538],[0.8288959222180502],[0.6756075947570415],[0.7373885495769736],[0.6856036741599851],[0.6660839572021722],[0.5852636254400879],[0.6956334281358327],[0.7152479606895492],[0.8454718696219581],[0.8042489148350702],[0.6435777483774083],[0.7650518704220535],[0.7250689192997669],[0.43882871295015013],[0.643601403106004],[0.4669155528148015],[0.4208887842639039],[0.328975109528983],[0.4733014119168123],[0.4968977339255313],[0.8300340647498767],[0.7104584227005641],[0.4033824220920602],[0.5782393167416255],[0.5102020675937334],[0.5925191673638184],[0.7147234578200437],[0.6138848308755984],[0.5744278092672355],[0.4810380467117033],[0.6235859362782454],[0.6467226928046352],[0.8418816762747942],[0.7856994685402552],[0.5493193908248059],[0.7275664597782836],[0.681593010159036],[0.5980210418147205],[0.5657143834512558],[0.72451410618718],[0.6805734293221755],[0.6527468288915378]],\"domain\":{\"x\":[0.0,1.0],\"y\":[0.0,1.0]},\"hovertemplate\":\"labels=%{label}<br>count=%{value}<br>parent=%{parent}<br>id=%{id}<br>median_bootstrap=%{color}<extra></extra>\",\"ids\":[\"Large Language Models/gpt-3/1.3B/Data Structures\",\"Large Language Models/mono-lang/1.5B/Data Structures\",\"Large Language Models/mono-lang/110M/Data Structures\",\"Large Language Models/multi-lang/110M/Data Structures\",\"Large Language Models/gpt-3/125M/Data Structures\",\"Large Language Models/gpt-3/2.7B/Data Structures\",\"Large Language Models/codegen-nl/2B/Data Structures\",\"Large Language Models/mono-lang/2B/Data Structures\",\"Large Language Models/multi-lang/2B/Data Structures\",\"Large Language Models/codegen-nl/350M/Data Structures\",\"Large Language Models/mono-lang/350M/Data Structures\",\"Large Language Models/multi-lang/350M/Data Structures\",\"Large Language Models/gpt-3/1.3B/Decision\",\"Large Language Models/mono-lang/1.5B/Decision\",\"Large Language Models/mono-lang/110M/Decision\",\"Large Language Models/multi-lang/110M/Decision\",\"Large Language Models/gpt-3/125M/Decision\",\"Large Language Models/gpt-3/2.7B/Decision\",\"Large Language Models/codegen-nl/2B/Decision\",\"Large Language Models/mono-lang/2B/Decision\",\"Large Language Models/multi-lang/2B/Decision\",\"Large Language Models/codegen-nl/350M/Decision\",\"Large Language Models/mono-lang/350M/Decision\",\"Large Language Models/multi-lang/350M/Decision\",\"Large Language Models/gpt-3/1.3B/Exceptions\",\"Large Language Models/mono-lang/1.5B/Exceptions\",\"Large Language Models/mono-lang/110M/Exceptions\",\"Large Language Models/multi-lang/110M/Exceptions\",\"Large Language Models/gpt-3/125M/Exceptions\",\"Large Language Models/gpt-3/2.7B/Exceptions\",\"Large Language Models/codegen-nl/2B/Exceptions\",\"Large Language Models/mono-lang/2B/Exceptions\",\"Large Language Models/multi-lang/2B/Exceptions\",\"Large Language Models/codegen-nl/350M/Exceptions\",\"Large Language Models/mono-lang/350M/Exceptions\",\"Large Language Models/multi-lang/350M/Exceptions\",\"Large Language Models/gpt-3/1.3B/Functional Programming\",\"Large Language Models/mono-lang/1.5B/Functional Programming\",\"Large Language Models/mono-lang/110M/Functional Programming\",\"Large Language Models/multi-lang/110M/Functional Programming\",\"Large Language Models/gpt-3/125M/Functional Programming\",\"Large Language Models/gpt-3/2.7B/Functional Programming\",\"Large Language Models/codegen-nl/2B/Functional Programming\",\"Large Language Models/mono-lang/2B/Functional Programming\",\"Large Language Models/multi-lang/2B/Functional Programming\",\"Large Language Models/codegen-nl/350M/Functional Programming\",\"Large Language Models/mono-lang/350M/Functional Programming\",\"Large Language Models/multi-lang/350M/Functional Programming\",\"Large Language Models/gpt-3/1.3B/Iterative\",\"Large Language Models/mono-lang/1.5B/Iterative\",\"Large Language Models/mono-lang/110M/Iterative\",\"Large Language Models/multi-lang/110M/Iterative\",\"Large Language Models/gpt-3/125M/Iterative\",\"Large Language Models/gpt-3/2.7B/Iterative\",\"Large Language Models/codegen-nl/2B/Iterative\",\"Large Language Models/mono-lang/2B/Iterative\",\"Large Language Models/multi-lang/2B/Iterative\",\"Large Language Models/codegen-nl/350M/Iterative\",\"Large Language Models/mono-lang/350M/Iterative\",\"Large Language Models/multi-lang/350M/Iterative\",\"Large Language Models/gpt-3/1.3B/Natural Language\",\"Large Language Models/mono-lang/1.5B/Natural Language\",\"Large Language Models/mono-lang/110M/Natural Language\",\"Large Language Models/multi-lang/110M/Natural Language\",\"Large Language Models/gpt-3/125M/Natural Language\",\"Large Language Models/gpt-3/2.7B/Natural Language\",\"Large Language Models/codegen-nl/2B/Natural Language\",\"Large Language Models/mono-lang/2B/Natural Language\",\"Large Language Models/multi-lang/2B/Natural Language\",\"Large Language Models/codegen-nl/350M/Natural Language\",\"Large Language Models/mono-lang/350M/Natural Language\",\"Large Language Models/multi-lang/350M/Natural Language\",\"Large Language Models/gpt-3/1.3B/Operator\",\"Large Language Models/mono-lang/1.5B/Operator\",\"Large Language Models/mono-lang/110M/Operator\",\"Large Language Models/multi-lang/110M/Operator\",\"Large Language Models/gpt-3/125M/Operator\",\"Large Language Models/gpt-3/2.7B/Operator\",\"Large Language Models/codegen-nl/2B/Operator\",\"Large Language Models/mono-lang/2B/Operator\",\"Large Language Models/multi-lang/2B/Operator\",\"Large Language Models/codegen-nl/350M/Operator\",\"Large Language Models/mono-lang/350M/Operator\",\"Large Language Models/multi-lang/350M/Operator\",\"Large Language Models/gpt-3/1.3B/Scope\",\"Large Language Models/mono-lang/1.5B/Scope\",\"Large Language Models/mono-lang/110M/Scope\",\"Large Language Models/multi-lang/110M/Scope\",\"Large Language Models/gpt-3/125M/Scope\",\"Large Language Models/gpt-3/2.7B/Scope\",\"Large Language Models/codegen-nl/2B/Scope\",\"Large Language Models/mono-lang/2B/Scope\",\"Large Language Models/multi-lang/2B/Scope\",\"Large Language Models/codegen-nl/350M/Scope\",\"Large Language Models/mono-lang/350M/Scope\",\"Large Language Models/multi-lang/350M/Scope\",\"Large Language Models/gpt-3/1.3B/Testing\",\"Large Language Models/mono-lang/1.5B/Testing\",\"Large Language Models/mono-lang/110M/Testing\",\"Large Language Models/multi-lang/110M/Testing\",\"Large Language Models/gpt-3/125M/Testing\",\"Large Language Models/gpt-3/2.7B/Testing\",\"Large Language Models/codegen-nl/2B/Testing\",\"Large Language Models/mono-lang/2B/Testing\",\"Large Language Models/multi-lang/2B/Testing\",\"Large Language Models/codegen-nl/350M/Testing\",\"Large Language Models/mono-lang/350M/Testing\",\"Large Language Models/multi-lang/350M/Testing\",\"Large Language Models/gpt-3/1.3B/Types\",\"Large Language Models/mono-lang/1.5B/Types\",\"Large Language Models/mono-lang/110M/Types\",\"Large Language Models/multi-lang/110M/Types\",\"Large Language Models/gpt-3/125M/Types\",\"Large Language Models/gpt-3/2.7B/Types\",\"Large Language Models/codegen-nl/2B/Types\",\"Large Language Models/mono-lang/2B/Types\",\"Large Language Models/multi-lang/2B/Types\",\"Large Language Models/codegen-nl/350M/Types\",\"Large Language Models/mono-lang/350M/Types\",\"Large Language Models/multi-lang/350M/Types\",\"Large Language Models/gpt-3/1.3B\",\"Large Language Models/mono-lang/1.5B\",\"Large Language Models/mono-lang/110M\",\"Large Language Models/multi-lang/110M\",\"Large Language Models/gpt-3/125M\",\"Large Language Models/gpt-3/2.7B\",\"Large Language Models/codegen-nl/2B\",\"Large Language Models/mono-lang/2B\",\"Large Language Models/multi-lang/2B\",\"Large Language Models/codegen-nl/350M\",\"Large Language Models/mono-lang/350M\",\"Large Language Models/multi-lang/350M\",\"Large Language Models/codegen-nl\",\"Large Language Models/gpt-3\",\"Large Language Models/mono-lang\",\"Large Language Models/multi-lang\",\"Large Language Models\"],\"labels\":[\"Data Structures\",\"Data Structures\",\"Data Structures\",\"Data Structures\",\"Data Structures\",\"Data Structures\",\"Data Structures\",\"Data Structures\",\"Data Structures\",\"Data Structures\",\"Data Structures\",\"Data Structures\",\"Decision\",\"Decision\",\"Decision\",\"Decision\",\"Decision\",\"Decision\",\"Decision\",\"Decision\",\"Decision\",\"Decision\",\"Decision\",\"Decision\",\"Exceptions\",\"Exceptions\",\"Exceptions\",\"Exceptions\",\"Exceptions\",\"Exceptions\",\"Exceptions\",\"Exceptions\",\"Exceptions\",\"Exceptions\",\"Exceptions\",\"Exceptions\",\"Functional Programming\",\"Functional Programming\",\"Functional Programming\",\"Functional Programming\",\"Functional Programming\",\"Functional Programming\",\"Functional Programming\",\"Functional Programming\",\"Functional Programming\",\"Functional Programming\",\"Functional Programming\",\"Functional Programming\",\"Iterative\",\"Iterative\",\"Iterative\",\"Iterative\",\"Iterative\",\"Iterative\",\"Iterative\",\"Iterative\",\"Iterative\",\"Iterative\",\"Iterative\",\"Iterative\",\"Natural Language\",\"Natural Language\",\"Natural Language\",\"Natural Language\",\"Natural Language\",\"Natural Language\",\"Natural Language\",\"Natural Language\",\"Natural Language\",\"Natural Language\",\"Natural Language\",\"Natural Language\",\"Operator\",\"Operator\",\"Operator\",\"Operator\",\"Operator\",\"Operator\",\"Operator\",\"Operator\",\"Operator\",\"Operator\",\"Operator\",\"Operator\",\"Scope\",\"Scope\",\"Scope\",\"Scope\",\"Scope\",\"Scope\",\"Scope\",\"Scope\",\"Scope\",\"Scope\",\"Scope\",\"Scope\",\"Testing\",\"Testing\",\"Testing\",\"Testing\",\"Testing\",\"Testing\",\"Testing\",\"Testing\",\"Testing\",\"Testing\",\"Testing\",\"Testing\",\"Types\",\"Types\",\"Types\",\"Types\",\"Types\",\"Types\",\"Types\",\"Types\",\"Types\",\"Types\",\"Types\",\"Types\",\"1.3B\",\"1.5B\",\"110M\",\"110M\",\"125M\",\"2.7B\",\"2B\",\"2B\",\"2B\",\"350M\",\"350M\",\"350M\",\"codegen-nl\",\"gpt-3\",\"mono-lang\",\"multi-lang\",\"Large Language Models\"],\"marker\":{\"coloraxis\":\"coloraxis\",\"colors\":[0.5984779649890868,0.6697325127049133,0.5801371815867217,0.5360027911048688,0.49998865479391214,0.6231407282326462,0.6473662893945489,0.7879523353679931,0.7417881657215339,0.558618342235465,0.6770136533096596,0.6305500154583067,0.6118997900855224,0.6666449394755537,0.5804103972056308,0.5518743376567062,0.5165657588333388,0.626384802029681,0.6465691022502961,0.8447062904930086,0.7916573818339822,0.5720213235990681,0.7552180306284108,0.7175128541874827,0.5271801483520289,0.8004544388937345,0.682553924611182,0.6435130946150021,0.42861425015572857,0.558655065093774,0.5812184593617373,0.8994955857843161,0.8348710708036495,0.45128132365624285,0.7817944486754901,0.7526004288203852,0.6225128064011494,0.7576480241125495,0.6629878376449394,0.6010544891324048,0.48655717592651426,0.6602814343859791,0.6808210754236506,0.8527840924216636,0.8082693202886825,0.5698217833957655,0.7592457484458541,0.7025828262218008,0.7928943376006702,0.6977917311858055,0.6255223377476974,0.6044250666111012,0.739613606191576,0.8063665622689469,0.8165985760842602,0.8085826209865155,0.7744095882229048,0.772018699258688,0.7344876792546549,0.694404820057268,0.4300101046209619,0.5877914634091731,0.45740763414985325,0.39974143404389534,0.3216032039250595,0.45647507046608854,0.4776254252195902,0.7253275422548665,0.6485671359585178,0.38917553761866747,0.5673320657344653,0.5148243431472069,0.5741091667399869,0.6647597630458193,0.5714344499241893,0.5400001962632722,0.4809559521439489,0.5956764823662895,0.6145083194189946,0.8154510397815811,0.7422647910704638,0.5412530303153971,0.6848084994828881,0.6230673363477729,0.681341925947009,0.8234575336797111,0.7343854927199168,0.7055697276070714,0.5143610835075378,0.7400372253188874,0.7769290864467621,0.9369349376065657,0.9077902223382678,0.6432704026500384,0.8625042323492538,0.8288959222180502,0.6756075947570415,0.7373885495769736,0.6856036741599851,0.6660839572021722,0.5852636254400879,0.6956334281358327,0.7152479606895492,0.8454718696219581,0.8042489148350702,0.6435777483774083,0.7650518704220535,0.7250689192997669,0.43882871295015013,0.643601403106004,0.4669155528148015,0.4208887842639039,0.328975109528983,0.4733014119168123,0.4968977339255313,0.8300340647498767,0.7104584227005641,0.4033824220920602,0.5782393167416255,0.5102020675937334,0.5925191673638184,0.7147234578200437,0.6138848308755984,0.5744278092672355,0.4810380467117033,0.6235859362782454,0.6467226928046352,0.8418816762747942,0.7856994685402552,0.5493193908248059,0.7275664597782836,0.681593010159036,0.5980210418147205,0.5657143834512558,0.72451410618718,0.6805734293221755,0.6527468288915378]},\"name\":\"\",\"parents\":[\"Large Language Models/gpt-3/1.3B\",\"Large Language Models/mono-lang/1.5B\",\"Large Language Models/mono-lang/110M\",\"Large Language Models/multi-lang/110M\",\"Large Language Models/gpt-3/125M\",\"Large Language Models/gpt-3/2.7B\",\"Large Language Models/codegen-nl/2B\",\"Large Language Models/mono-lang/2B\",\"Large Language Models/multi-lang/2B\",\"Large Language Models/codegen-nl/350M\",\"Large Language Models/mono-lang/350M\",\"Large Language Models/multi-lang/350M\",\"Large Language Models/gpt-3/1.3B\",\"Large Language Models/mono-lang/1.5B\",\"Large Language Models/mono-lang/110M\",\"Large Language Models/multi-lang/110M\",\"Large Language Models/gpt-3/125M\",\"Large Language Models/gpt-3/2.7B\",\"Large Language Models/codegen-nl/2B\",\"Large Language Models/mono-lang/2B\",\"Large Language Models/multi-lang/2B\",\"Large Language Models/codegen-nl/350M\",\"Large Language Models/mono-lang/350M\",\"Large Language Models/multi-lang/350M\",\"Large Language Models/gpt-3/1.3B\",\"Large Language Models/mono-lang/1.5B\",\"Large Language Models/mono-lang/110M\",\"Large Language Models/multi-lang/110M\",\"Large Language Models/gpt-3/125M\",\"Large Language Models/gpt-3/2.7B\",\"Large Language Models/codegen-nl/2B\",\"Large Language Models/mono-lang/2B\",\"Large Language Models/multi-lang/2B\",\"Large Language Models/codegen-nl/350M\",\"Large Language Models/mono-lang/350M\",\"Large Language Models/multi-lang/350M\",\"Large Language Models/gpt-3/1.3B\",\"Large Language Models/mono-lang/1.5B\",\"Large Language Models/mono-lang/110M\",\"Large Language Models/multi-lang/110M\",\"Large Language Models/gpt-3/125M\",\"Large Language Models/gpt-3/2.7B\",\"Large Language Models/codegen-nl/2B\",\"Large Language Models/mono-lang/2B\",\"Large Language Models/multi-lang/2B\",\"Large Language Models/codegen-nl/350M\",\"Large Language Models/mono-lang/350M\",\"Large Language Models/multi-lang/350M\",\"Large Language Models/gpt-3/1.3B\",\"Large Language Models/mono-lang/1.5B\",\"Large Language Models/mono-lang/110M\",\"Large Language Models/multi-lang/110M\",\"Large Language Models/gpt-3/125M\",\"Large Language Models/gpt-3/2.7B\",\"Large Language Models/codegen-nl/2B\",\"Large Language Models/mono-lang/2B\",\"Large Language Models/multi-lang/2B\",\"Large Language Models/codegen-nl/350M\",\"Large Language Models/mono-lang/350M\",\"Large Language Models/multi-lang/350M\",\"Large Language Models/gpt-3/1.3B\",\"Large Language Models/mono-lang/1.5B\",\"Large Language Models/mono-lang/110M\",\"Large Language Models/multi-lang/110M\",\"Large Language Models/gpt-3/125M\",\"Large Language Models/gpt-3/2.7B\",\"Large Language Models/codegen-nl/2B\",\"Large Language Models/mono-lang/2B\",\"Large Language Models/multi-lang/2B\",\"Large Language Models/codegen-nl/350M\",\"Large Language Models/mono-lang/350M\",\"Large Language Models/multi-lang/350M\",\"Large Language Models/gpt-3/1.3B\",\"Large Language Models/mono-lang/1.5B\",\"Large Language Models/mono-lang/110M\",\"Large Language Models/multi-lang/110M\",\"Large Language Models/gpt-3/125M\",\"Large Language Models/gpt-3/2.7B\",\"Large Language Models/codegen-nl/2B\",\"Large Language Models/mono-lang/2B\",\"Large Language Models/multi-lang/2B\",\"Large Language Models/codegen-nl/350M\",\"Large Language Models/mono-lang/350M\",\"Large Language Models/multi-lang/350M\",\"Large Language Models/gpt-3/1.3B\",\"Large Language Models/mono-lang/1.5B\",\"Large Language Models/mono-lang/110M\",\"Large Language Models/multi-lang/110M\",\"Large Language Models/gpt-3/125M\",\"Large Language Models/gpt-3/2.7B\",\"Large Language Models/codegen-nl/2B\",\"Large Language Models/mono-lang/2B\",\"Large Language Models/multi-lang/2B\",\"Large Language Models/codegen-nl/350M\",\"Large Language Models/mono-lang/350M\",\"Large Language Models/multi-lang/350M\",\"Large Language Models/gpt-3/1.3B\",\"Large Language Models/mono-lang/1.5B\",\"Large Language Models/mono-lang/110M\",\"Large Language Models/multi-lang/110M\",\"Large Language Models/gpt-3/125M\",\"Large Language Models/gpt-3/2.7B\",\"Large Language Models/codegen-nl/2B\",\"Large Language Models/mono-lang/2B\",\"Large Language Models/multi-lang/2B\",\"Large Language Models/codegen-nl/350M\",\"Large Language Models/mono-lang/350M\",\"Large Language Models/multi-lang/350M\",\"Large Language Models/gpt-3/1.3B\",\"Large Language Models/mono-lang/1.5B\",\"Large Language Models/mono-lang/110M\",\"Large Language Models/multi-lang/110M\",\"Large Language Models/gpt-3/125M\",\"Large Language Models/gpt-3/2.7B\",\"Large Language Models/codegen-nl/2B\",\"Large Language Models/mono-lang/2B\",\"Large Language Models/multi-lang/2B\",\"Large Language Models/codegen-nl/350M\",\"Large Language Models/mono-lang/350M\",\"Large Language Models/multi-lang/350M\",\"Large Language Models/gpt-3\",\"Large Language Models/mono-lang\",\"Large Language Models/mono-lang\",\"Large Language Models/multi-lang\",\"Large Language Models/gpt-3\",\"Large Language Models/gpt-3\",\"Large Language Models/codegen-nl\",\"Large Language Models/mono-lang\",\"Large Language Models/multi-lang\",\"Large Language Models/codegen-nl\",\"Large Language Models/mono-lang\",\"Large Language Models/multi-lang\",\"Large Language Models\",\"Large Language Models\",\"Large Language Models\",\"Large Language Models\",\"\"],\"values\":[4,4,4,4,4,4,4,4,4,4,4,4,3,3,3,3,3,3,3,3,3,3,3,3,4,4,4,4,4,4,4,4,4,4,4,4,4,4,4,4,4,4,4,4,4,4,4,4,2,2,2,2,2,2,2,2,2,2,2,2,3,3,3,3,3,3,3,3,3,3,3,3,4,4,4,4,4,4,4,4,4,4,4,4,5,5,5,5,5,5,5,5,5,5,5,5,1,1,1,1,1,1,1,1,1,1,1,1,2,2,2,2,2,2,2,2,2,2,2,2,32,32,32,32,32,32,32,32,32,32,32,32,64,96,128,96,384],\"type\":\"treemap\"}],                        {\"template\":{\"data\":{\"histogram2dcontour\":[{\"type\":\"histogram2dcontour\",\"colorbar\":{\"outlinewidth\":0,\"ticks\":\"\"},\"colorscale\":[[0.0,\"#0d0887\"],[0.1111111111111111,\"#46039f\"],[0.2222222222222222,\"#7201a8\"],[0.3333333333333333,\"#9c179e\"],[0.4444444444444444,\"#bd3786\"],[0.5555555555555556,\"#d8576b\"],[0.6666666666666666,\"#ed7953\"],[0.7777777777777778,\"#fb9f3a\"],[0.8888888888888888,\"#fdca26\"],[1.0,\"#f0f921\"]]}],\"choropleth\":[{\"type\":\"choropleth\",\"colorbar\":{\"outlinewidth\":0,\"ticks\":\"\"}}],\"histogram2d\":[{\"type\":\"histogram2d\",\"colorbar\":{\"outlinewidth\":0,\"ticks\":\"\"},\"colorscale\":[[0.0,\"#0d0887\"],[0.1111111111111111,\"#46039f\"],[0.2222222222222222,\"#7201a8\"],[0.3333333333333333,\"#9c179e\"],[0.4444444444444444,\"#bd3786\"],[0.5555555555555556,\"#d8576b\"],[0.6666666666666666,\"#ed7953\"],[0.7777777777777778,\"#fb9f3a\"],[0.8888888888888888,\"#fdca26\"],[1.0,\"#f0f921\"]]}],\"heatmap\":[{\"type\":\"heatmap\",\"colorbar\":{\"outlinewidth\":0,\"ticks\":\"\"},\"colorscale\":[[0.0,\"#0d0887\"],[0.1111111111111111,\"#46039f\"],[0.2222222222222222,\"#7201a8\"],[0.3333333333333333,\"#9c179e\"],[0.4444444444444444,\"#bd3786\"],[0.5555555555555556,\"#d8576b\"],[0.6666666666666666,\"#ed7953\"],[0.7777777777777778,\"#fb9f3a\"],[0.8888888888888888,\"#fdca26\"],[1.0,\"#f0f921\"]]}],\"heatmapgl\":[{\"type\":\"heatmapgl\",\"colorbar\":{\"outlinewidth\":0,\"ticks\":\"\"},\"colorscale\":[[0.0,\"#0d0887\"],[0.1111111111111111,\"#46039f\"],[0.2222222222222222,\"#7201a8\"],[0.3333333333333333,\"#9c179e\"],[0.4444444444444444,\"#bd3786\"],[0.5555555555555556,\"#d8576b\"],[0.6666666666666666,\"#ed7953\"],[0.7777777777777778,\"#fb9f3a\"],[0.8888888888888888,\"#fdca26\"],[1.0,\"#f0f921\"]]}],\"contourcarpet\":[{\"type\":\"contourcarpet\",\"colorbar\":{\"outlinewidth\":0,\"ticks\":\"\"}}],\"contour\":[{\"type\":\"contour\",\"colorbar\":{\"outlinewidth\":0,\"ticks\":\"\"},\"colorscale\":[[0.0,\"#0d0887\"],[0.1111111111111111,\"#46039f\"],[0.2222222222222222,\"#7201a8\"],[0.3333333333333333,\"#9c179e\"],[0.4444444444444444,\"#bd3786\"],[0.5555555555555556,\"#d8576b\"],[0.6666666666666666,\"#ed7953\"],[0.7777777777777778,\"#fb9f3a\"],[0.8888888888888888,\"#fdca26\"],[1.0,\"#f0f921\"]]}],\"surface\":[{\"type\":\"surface\",\"colorbar\":{\"outlinewidth\":0,\"ticks\":\"\"},\"colorscale\":[[0.0,\"#0d0887\"],[0.1111111111111111,\"#46039f\"],[0.2222222222222222,\"#7201a8\"],[0.3333333333333333,\"#9c179e\"],[0.4444444444444444,\"#bd3786\"],[0.5555555555555556,\"#d8576b\"],[0.6666666666666666,\"#ed7953\"],[0.7777777777777778,\"#fb9f3a\"],[0.8888888888888888,\"#fdca26\"],[1.0,\"#f0f921\"]]}],\"mesh3d\":[{\"type\":\"mesh3d\",\"colorbar\":{\"outlinewidth\":0,\"ticks\":\"\"}}],\"scatter\":[{\"fillpattern\":{\"fillmode\":\"overlay\",\"size\":10,\"solidity\":0.2},\"type\":\"scatter\"}],\"parcoords\":[{\"type\":\"parcoords\",\"line\":{\"colorbar\":{\"outlinewidth\":0,\"ticks\":\"\"}}}],\"scatterpolargl\":[{\"type\":\"scatterpolargl\",\"marker\":{\"colorbar\":{\"outlinewidth\":0,\"ticks\":\"\"}}}],\"bar\":[{\"error_x\":{\"color\":\"#2a3f5f\"},\"error_y\":{\"color\":\"#2a3f5f\"},\"marker\":{\"line\":{\"color\":\"#E5ECF6\",\"width\":0.5},\"pattern\":{\"fillmode\":\"overlay\",\"size\":10,\"solidity\":0.2}},\"type\":\"bar\"}],\"scattergeo\":[{\"type\":\"scattergeo\",\"marker\":{\"colorbar\":{\"outlinewidth\":0,\"ticks\":\"\"}}}],\"scatterpolar\":[{\"type\":\"scatterpolar\",\"marker\":{\"colorbar\":{\"outlinewidth\":0,\"ticks\":\"\"}}}],\"histogram\":[{\"marker\":{\"pattern\":{\"fillmode\":\"overlay\",\"size\":10,\"solidity\":0.2}},\"type\":\"histogram\"}],\"scattergl\":[{\"type\":\"scattergl\",\"marker\":{\"colorbar\":{\"outlinewidth\":0,\"ticks\":\"\"}}}],\"scatter3d\":[{\"type\":\"scatter3d\",\"line\":{\"colorbar\":{\"outlinewidth\":0,\"ticks\":\"\"}},\"marker\":{\"colorbar\":{\"outlinewidth\":0,\"ticks\":\"\"}}}],\"scattermapbox\":[{\"type\":\"scattermapbox\",\"marker\":{\"colorbar\":{\"outlinewidth\":0,\"ticks\":\"\"}}}],\"scatterternary\":[{\"type\":\"scatterternary\",\"marker\":{\"colorbar\":{\"outlinewidth\":0,\"ticks\":\"\"}}}],\"scattercarpet\":[{\"type\":\"scattercarpet\",\"marker\":{\"colorbar\":{\"outlinewidth\":0,\"ticks\":\"\"}}}],\"carpet\":[{\"aaxis\":{\"endlinecolor\":\"#2a3f5f\",\"gridcolor\":\"white\",\"linecolor\":\"white\",\"minorgridcolor\":\"white\",\"startlinecolor\":\"#2a3f5f\"},\"baxis\":{\"endlinecolor\":\"#2a3f5f\",\"gridcolor\":\"white\",\"linecolor\":\"white\",\"minorgridcolor\":\"white\",\"startlinecolor\":\"#2a3f5f\"},\"type\":\"carpet\"}],\"table\":[{\"cells\":{\"fill\":{\"color\":\"#EBF0F8\"},\"line\":{\"color\":\"white\"}},\"header\":{\"fill\":{\"color\":\"#C8D4E3\"},\"line\":{\"color\":\"white\"}},\"type\":\"table\"}],\"barpolar\":[{\"marker\":{\"line\":{\"color\":\"#E5ECF6\",\"width\":0.5},\"pattern\":{\"fillmode\":\"overlay\",\"size\":10,\"solidity\":0.2}},\"type\":\"barpolar\"}],\"pie\":[{\"automargin\":true,\"type\":\"pie\"}]},\"layout\":{\"autotypenumbers\":\"strict\",\"colorway\":[\"#636efa\",\"#EF553B\",\"#00cc96\",\"#ab63fa\",\"#FFA15A\",\"#19d3f3\",\"#FF6692\",\"#B6E880\",\"#FF97FF\",\"#FECB52\"],\"font\":{\"color\":\"#2a3f5f\"},\"hovermode\":\"closest\",\"hoverlabel\":{\"align\":\"left\"},\"paper_bgcolor\":\"white\",\"plot_bgcolor\":\"#E5ECF6\",\"polar\":{\"bgcolor\":\"#E5ECF6\",\"angularaxis\":{\"gridcolor\":\"white\",\"linecolor\":\"white\",\"ticks\":\"\"},\"radialaxis\":{\"gridcolor\":\"white\",\"linecolor\":\"white\",\"ticks\":\"\"}},\"ternary\":{\"bgcolor\":\"#E5ECF6\",\"aaxis\":{\"gridcolor\":\"white\",\"linecolor\":\"white\",\"ticks\":\"\"},\"baxis\":{\"gridcolor\":\"white\",\"linecolor\":\"white\",\"ticks\":\"\"},\"caxis\":{\"gridcolor\":\"white\",\"linecolor\":\"white\",\"ticks\":\"\"}},\"coloraxis\":{\"colorbar\":{\"outlinewidth\":0,\"ticks\":\"\"}},\"colorscale\":{\"sequential\":[[0.0,\"#0d0887\"],[0.1111111111111111,\"#46039f\"],[0.2222222222222222,\"#7201a8\"],[0.3333333333333333,\"#9c179e\"],[0.4444444444444444,\"#bd3786\"],[0.5555555555555556,\"#d8576b\"],[0.6666666666666666,\"#ed7953\"],[0.7777777777777778,\"#fb9f3a\"],[0.8888888888888888,\"#fdca26\"],[1.0,\"#f0f921\"]],\"sequentialminus\":[[0.0,\"#0d0887\"],[0.1111111111111111,\"#46039f\"],[0.2222222222222222,\"#7201a8\"],[0.3333333333333333,\"#9c179e\"],[0.4444444444444444,\"#bd3786\"],[0.5555555555555556,\"#d8576b\"],[0.6666666666666666,\"#ed7953\"],[0.7777777777777778,\"#fb9f3a\"],[0.8888888888888888,\"#fdca26\"],[1.0,\"#f0f921\"]],\"diverging\":[[0,\"#8e0152\"],[0.1,\"#c51b7d\"],[0.2,\"#de77ae\"],[0.3,\"#f1b6da\"],[0.4,\"#fde0ef\"],[0.5,\"#f7f7f7\"],[0.6,\"#e6f5d0\"],[0.7,\"#b8e186\"],[0.8,\"#7fbc41\"],[0.9,\"#4d9221\"],[1,\"#276419\"]]},\"xaxis\":{\"gridcolor\":\"white\",\"linecolor\":\"white\",\"ticks\":\"\",\"title\":{\"standoff\":15},\"zerolinecolor\":\"white\",\"automargin\":true,\"zerolinewidth\":2},\"yaxis\":{\"gridcolor\":\"white\",\"linecolor\":\"white\",\"ticks\":\"\",\"title\":{\"standoff\":15},\"zerolinecolor\":\"white\",\"automargin\":true,\"zerolinewidth\":2},\"scene\":{\"xaxis\":{\"backgroundcolor\":\"#E5ECF6\",\"gridcolor\":\"white\",\"linecolor\":\"white\",\"showbackground\":true,\"ticks\":\"\",\"zerolinecolor\":\"white\",\"gridwidth\":2},\"yaxis\":{\"backgroundcolor\":\"#E5ECF6\",\"gridcolor\":\"white\",\"linecolor\":\"white\",\"showbackground\":true,\"ticks\":\"\",\"zerolinecolor\":\"white\",\"gridwidth\":2},\"zaxis\":{\"backgroundcolor\":\"#E5ECF6\",\"gridcolor\":\"white\",\"linecolor\":\"white\",\"showbackground\":true,\"ticks\":\"\",\"zerolinecolor\":\"white\",\"gridwidth\":2}},\"shapedefaults\":{\"line\":{\"color\":\"#2a3f5f\"}},\"annotationdefaults\":{\"arrowcolor\":\"#2a3f5f\",\"arrowhead\":0,\"arrowwidth\":1},\"geo\":{\"bgcolor\":\"white\",\"landcolor\":\"#E5ECF6\",\"subunitcolor\":\"white\",\"showland\":true,\"showlakes\":true,\"lakecolor\":\"white\"},\"title\":{\"x\":0.05},\"mapbox\":{\"style\":\"light\"}}},\"coloraxis\":{\"colorbar\":{\"title\":{\"text\":\"median_bootstrap\"}},\"colorscale\":[[0.0,\"rgb(103,0,31)\"],[0.1,\"rgb(178,24,43)\"],[0.2,\"rgb(214,96,77)\"],[0.3,\"rgb(244,165,130)\"],[0.4,\"rgb(253,219,199)\"],[0.5,\"rgb(247,247,247)\"],[0.6,\"rgb(209,229,240)\"],[0.7,\"rgb(146,197,222)\"],[0.8,\"rgb(67,147,195)\"],[0.9,\"rgb(33,102,172)\"],[1.0,\"rgb(5,48,97)\"]],\"cmin\":0,\"cmax\":1},\"legend\":{\"tracegroupgap\":0},\"margin\":{\"t\":50,\"l\":25,\"r\":25,\"b\":25},\"height\":600,\"width\":1800},                        {\"responsive\": true}                    ).then(function(){\n",
       "                            \n",
       "var gd = document.getElementById('a3915a46-1a48-477b-8d2c-a3d246dd30fb');\n",
       "var x = new MutationObserver(function (mutations, observer) {{\n",
       "        var display = window.getComputedStyle(gd).display;\n",
       "        if (!display || display === 'none') {{\n",
       "            console.log([gd, 'removed!']);\n",
       "            Plotly.purge(gd);\n",
       "            observer.disconnect();\n",
       "        }}\n",
       "}});\n",
       "\n",
       "// Listen for the removal of the full notebook cells\n",
       "var notebookContainer = gd.closest('#notebook-container');\n",
       "if (notebookContainer) {{\n",
       "    x.observe(notebookContainer, {childList: true});\n",
       "}}\n",
       "\n",
       "// Listen for the clearing of the current output cell\n",
       "var outputEl = gd.closest('.output');\n",
       "if (outputEl) {{\n",
       "    x.observe(outputEl, {childList: true});\n",
       "}}\n",
       "\n",
       "                        })                };                });            </script>        </div>"
      ]
     },
     "metadata": {},
     "output_type": "display_data"
    }
   ],
   "source": [
    "#def treemap_generator( model_name ):\n",
    "fig = px.treemap(pd_combined_models_filtered_global, \n",
    "                 path = [px.Constant(\"Large Language Models\"), 'type_model', 'size_model', 'category'], \n",
    "                 #labels=['for_statement', 'while_statement'],\n",
    "                 #values = 'median_bootstrap',\n",
    "                 color = 'median_bootstrap', \n",
    "                 #hover_data=['iso_alpha'],\n",
    "                 color_continuous_scale='RdBu',\n",
    "                 width = 1800,\n",
    "                 height= 600,\n",
    "                 range_color = [0,1],\n",
    "                 #color_continuous_midpoint=np.average(pd_combined_models_filtered_global['median_standard_error'], weights=pd_combined_models_filtered_global['median_bootstrap']),\n",
    "                 )\n",
    "fig.update_layout(margin = dict(t=50, l=25, r=25, b=25))\n",
    "    #fig.update_layout(margin = dict(t=50, l=15, r=15, b=15))\n",
    "fig.show()"
   ]
  },
  {
   "cell_type": "code",
   "execution_count": 29,
   "metadata": {},
   "outputs": [],
   "source": [
    "def treemap_generator( model_name ):\n",
    "    fig = px.treemap(pd_combined_models_filtered_global[pd_combined_models_filtered_global['model']==model_name], \n",
    "                 path = [px.Constant(model_name), 'category', 'ast_element'], \n",
    "                 #labels=['for_statement', 'while_statement'],\n",
    "                 #values = 'median_bootstrap',\n",
    "                 color = 'median_bootstrap', \n",
    "                 #hover_data=['iso_alpha'],\n",
    "                 color_continuous_scale='RdBu',\n",
    "                 width = 900,\n",
    "                 height= 600,\n",
    "                 range_color = [0,1],\n",
    "                 #color_continuous_midpoint=np.average(df['lifeExp'], weights=df['pop'])\n",
    "                 )\n",
    "    fig.update_layout(margin = dict(t=50, l=25, r=25, b=25))\n",
    "    #fig.update_layout(margin = dict(t=50, l=15, r=15, b=15))\n",
    "    fig.show()"
   ]
  },
  {
   "cell_type": "code",
   "execution_count": 44,
   "metadata": {},
   "outputs": [
    {
     "data": {
      "application/vnd.plotly.v1+json": {
       "config": {
        "plotlyServerURL": "https://plot.ly"
       },
       "data": [
        {
         "branchvalues": "total",
         "customdata": [
          [
           0.5282647907733917
          ],
          [
           0.6645123362541199
          ],
          [
           0.5199697911739349
          ],
          [
           0.5852636254400879
          ],
          [
           0.4720862933678463
          ],
          [
           0.5082305107757242
          ],
          [
           0.18219180674974
          ],
          [
           0.5207900454600651
          ],
          [
           0.5237857557136014
          ],
          [
           0.5624581798911095
          ],
          [
           0.2667316496372223
          ],
          [
           0.7002597451210022
          ],
          [
           0.0752114355564117
          ],
          [
           0.4526643753051758
          ],
          [
           0.6358957236322265
          ],
          [
           0.7312944358653102
          ],
          [
           0.3790619113951834
          ],
          [
           0.4474071570296297
          ],
          [
           0.7205074469716845
          ],
          [
           0.2052858437527902
          ],
          [
           0.3234911060925307
          ],
          [
           0.4762086745128423
          ],
          [
           0.5394347169516702
          ],
          [
           0.1803735196590423
          ],
          [
           0.4512013494968414
          ],
          [
           0.4654873407225952
          ],
          [
           0.403555893630255
          ],
          [
           0.758612300286458
          ],
          [
           0.5344728482266095
          ],
          [
           0.4227169589721598
          ],
          [
           0.7479327765178418
          ],
          [
           0.4078571498394012
          ],
          [
           0.49998865479391214
          ],
          [
           0.5165657588333388
          ],
          [
           0.42861425015572857
          ],
          [
           0.48655717592651426
          ],
          [
           0.739613606191576
          ],
          [
           0.3216032039250595
          ],
          [
           0.4809559521439489
          ],
          [
           0.5143610835075378
          ],
          [
           0.5852636254400879
          ],
          [
           0.328975109528983
          ],
          [
           0.4810380467117033
          ]
         ],
         "domain": {
          "x": [
           0,
           1
          ],
          "y": [
           0,
           1
          ]
         },
         "hovertemplate": "labels=%{label}<br>count=%{value}<br>parent=%{parent}<br>id=%{id}<br>median_bootstrap=%{color}<extra></extra>",
         "ids": [
          "EleutherAI/gpt-neo-125m/Scope/)",
          "EleutherAI/gpt-neo-125m/Scope/:",
          "EleutherAI/gpt-neo-125m/Scope/]",
          "EleutherAI/gpt-neo-125m/Testing/assert_statement",
          "EleutherAI/gpt-neo-125m/Operator/binary_operator",
          "EleutherAI/gpt-neo-125m/Operator/boolean_operator",
          "EleutherAI/gpt-neo-125m/Natural Language/comment",
          "EleutherAI/gpt-neo-125m/Operator/comparison_operator",
          "EleutherAI/gpt-neo-125m/Data Structures/dictionary",
          "EleutherAI/gpt-neo-125m/Decision/elif",
          "EleutherAI/gpt-neo-125m/Decision/else",
          "EleutherAI/gpt-neo-125m/Exceptions/except",
          "EleutherAI/gpt-neo-125m/Exceptions/finally",
          "EleutherAI/gpt-neo-125m/Types/float",
          "EleutherAI/gpt-neo-125m/Functional Programming/for_in_clause",
          "EleutherAI/gpt-neo-125m/Iterative/for_statement",
          "EleutherAI/gpt-neo-125m/Natural Language/identifier",
          "EleutherAI/gpt-neo-125m/Functional Programming/if_clause",
          "EleutherAI/gpt-neo-125m/Decision/if_statement",
          "EleutherAI/gpt-neo-125m/Types/integer",
          "EleutherAI/gpt-neo-125m/Functional Programming/lambda",
          "EleutherAI/gpt-neo-125m/Data Structures/list",
          "EleutherAI/gpt-neo-125m/Functional Programming/list_comprehension",
          "EleutherAI/gpt-neo-125m/Exceptions/raise",
          "EleutherAI/gpt-neo-125m/Scope/return_statement",
          "EleutherAI/gpt-neo-125m/Data Structures/set",
          "EleutherAI/gpt-neo-125m/Natural Language/string",
          "EleutherAI/gpt-neo-125m/Exceptions/try_statement",
          "EleutherAI/gpt-neo-125m/Data Structures/tuple",
          "EleutherAI/gpt-neo-125m/Operator/unary_operator",
          "EleutherAI/gpt-neo-125m/Iterative/while_statement",
          "EleutherAI/gpt-neo-125m/Scope/}",
          "EleutherAI/gpt-neo-125m/Data Structures",
          "EleutherAI/gpt-neo-125m/Decision",
          "EleutherAI/gpt-neo-125m/Exceptions",
          "EleutherAI/gpt-neo-125m/Functional Programming",
          "EleutherAI/gpt-neo-125m/Iterative",
          "EleutherAI/gpt-neo-125m/Natural Language",
          "EleutherAI/gpt-neo-125m/Operator",
          "EleutherAI/gpt-neo-125m/Scope",
          "EleutherAI/gpt-neo-125m/Testing",
          "EleutherAI/gpt-neo-125m/Types",
          "EleutherAI/gpt-neo-125m"
         ],
         "labels": [
          ")",
          ":",
          "]",
          "assert_statement",
          "binary_operator",
          "boolean_operator",
          "comment",
          "comparison_operator",
          "dictionary",
          "elif",
          "else",
          "except",
          "finally",
          "float",
          "for_in_clause",
          "for_statement",
          "identifier",
          "if_clause",
          "if_statement",
          "integer",
          "lambda",
          "list",
          "list_comprehension",
          "raise",
          "return_statement",
          "set",
          "string",
          "try_statement",
          "tuple",
          "unary_operator",
          "while_statement",
          "}",
          "Data Structures",
          "Decision",
          "Exceptions",
          "Functional Programming",
          "Iterative",
          "Natural Language",
          "Operator",
          "Scope",
          "Testing",
          "Types",
          "EleutherAI/gpt-neo-125m"
         ],
         "marker": {
          "coloraxis": "coloraxis",
          "colors": [
           0.5282647907733917,
           0.6645123362541199,
           0.5199697911739349,
           0.5852636254400879,
           0.4720862933678463,
           0.5082305107757242,
           0.18219180674974,
           0.5207900454600651,
           0.5237857557136014,
           0.5624581798911095,
           0.2667316496372223,
           0.7002597451210022,
           0.0752114355564117,
           0.4526643753051758,
           0.6358957236322265,
           0.7312944358653102,
           0.3790619113951834,
           0.4474071570296297,
           0.7205074469716845,
           0.2052858437527902,
           0.3234911060925307,
           0.4762086745128423,
           0.5394347169516702,
           0.1803735196590423,
           0.4512013494968414,
           0.4654873407225952,
           0.403555893630255,
           0.758612300286458,
           0.5344728482266095,
           0.4227169589721598,
           0.7479327765178418,
           0.4078571498394012,
           0.49998865479391214,
           0.5165657588333388,
           0.42861425015572857,
           0.48655717592651426,
           0.739613606191576,
           0.3216032039250595,
           0.4809559521439489,
           0.5143610835075378,
           0.5852636254400879,
           0.328975109528983,
           0.4810380467117033
          ]
         },
         "name": "",
         "parents": [
          "EleutherAI/gpt-neo-125m/Scope",
          "EleutherAI/gpt-neo-125m/Scope",
          "EleutherAI/gpt-neo-125m/Scope",
          "EleutherAI/gpt-neo-125m/Testing",
          "EleutherAI/gpt-neo-125m/Operator",
          "EleutherAI/gpt-neo-125m/Operator",
          "EleutherAI/gpt-neo-125m/Natural Language",
          "EleutherAI/gpt-neo-125m/Operator",
          "EleutherAI/gpt-neo-125m/Data Structures",
          "EleutherAI/gpt-neo-125m/Decision",
          "EleutherAI/gpt-neo-125m/Decision",
          "EleutherAI/gpt-neo-125m/Exceptions",
          "EleutherAI/gpt-neo-125m/Exceptions",
          "EleutherAI/gpt-neo-125m/Types",
          "EleutherAI/gpt-neo-125m/Functional Programming",
          "EleutherAI/gpt-neo-125m/Iterative",
          "EleutherAI/gpt-neo-125m/Natural Language",
          "EleutherAI/gpt-neo-125m/Functional Programming",
          "EleutherAI/gpt-neo-125m/Decision",
          "EleutherAI/gpt-neo-125m/Types",
          "EleutherAI/gpt-neo-125m/Functional Programming",
          "EleutherAI/gpt-neo-125m/Data Structures",
          "EleutherAI/gpt-neo-125m/Functional Programming",
          "EleutherAI/gpt-neo-125m/Exceptions",
          "EleutherAI/gpt-neo-125m/Scope",
          "EleutherAI/gpt-neo-125m/Data Structures",
          "EleutherAI/gpt-neo-125m/Natural Language",
          "EleutherAI/gpt-neo-125m/Exceptions",
          "EleutherAI/gpt-neo-125m/Data Structures",
          "EleutherAI/gpt-neo-125m/Operator",
          "EleutherAI/gpt-neo-125m/Iterative",
          "EleutherAI/gpt-neo-125m/Scope",
          "EleutherAI/gpt-neo-125m",
          "EleutherAI/gpt-neo-125m",
          "EleutherAI/gpt-neo-125m",
          "EleutherAI/gpt-neo-125m",
          "EleutherAI/gpt-neo-125m",
          "EleutherAI/gpt-neo-125m",
          "EleutherAI/gpt-neo-125m",
          "EleutherAI/gpt-neo-125m",
          "EleutherAI/gpt-neo-125m",
          "EleutherAI/gpt-neo-125m",
          ""
         ],
         "type": "treemap",
         "values": [
          1,
          1,
          1,
          1,
          1,
          1,
          1,
          1,
          1,
          1,
          1,
          1,
          1,
          1,
          1,
          1,
          1,
          1,
          1,
          1,
          1,
          1,
          1,
          1,
          1,
          1,
          1,
          1,
          1,
          1,
          1,
          1,
          4,
          3,
          4,
          4,
          2,
          3,
          4,
          5,
          1,
          2,
          32
         ]
        }
       ],
       "layout": {
        "coloraxis": {
         "cmax": 1,
         "cmin": 0,
         "colorbar": {
          "title": {
           "text": "median_bootstrap"
          }
         },
         "colorscale": [
          [
           0,
           "rgb(103,0,31)"
          ],
          [
           0.1,
           "rgb(178,24,43)"
          ],
          [
           0.2,
           "rgb(214,96,77)"
          ],
          [
           0.3,
           "rgb(244,165,130)"
          ],
          [
           0.4,
           "rgb(253,219,199)"
          ],
          [
           0.5,
           "rgb(247,247,247)"
          ],
          [
           0.6,
           "rgb(209,229,240)"
          ],
          [
           0.7,
           "rgb(146,197,222)"
          ],
          [
           0.8,
           "rgb(67,147,195)"
          ],
          [
           0.9,
           "rgb(33,102,172)"
          ],
          [
           1,
           "rgb(5,48,97)"
          ]
         ]
        },
        "height": 600,
        "legend": {
         "tracegroupgap": 0
        },
        "margin": {
         "b": 25,
         "l": 25,
         "r": 25,
         "t": 50
        },
        "template": {
         "data": {
          "bar": [
           {
            "error_x": {
             "color": "#2a3f5f"
            },
            "error_y": {
             "color": "#2a3f5f"
            },
            "marker": {
             "line": {
              "color": "#E5ECF6",
              "width": 0.5
             },
             "pattern": {
              "fillmode": "overlay",
              "size": 10,
              "solidity": 0.2
             }
            },
            "type": "bar"
           }
          ],
          "barpolar": [
           {
            "marker": {
             "line": {
              "color": "#E5ECF6",
              "width": 0.5
             },
             "pattern": {
              "fillmode": "overlay",
              "size": 10,
              "solidity": 0.2
             }
            },
            "type": "barpolar"
           }
          ],
          "carpet": [
           {
            "aaxis": {
             "endlinecolor": "#2a3f5f",
             "gridcolor": "white",
             "linecolor": "white",
             "minorgridcolor": "white",
             "startlinecolor": "#2a3f5f"
            },
            "baxis": {
             "endlinecolor": "#2a3f5f",
             "gridcolor": "white",
             "linecolor": "white",
             "minorgridcolor": "white",
             "startlinecolor": "#2a3f5f"
            },
            "type": "carpet"
           }
          ],
          "choropleth": [
           {
            "colorbar": {
             "outlinewidth": 0,
             "ticks": ""
            },
            "type": "choropleth"
           }
          ],
          "contour": [
           {
            "colorbar": {
             "outlinewidth": 0,
             "ticks": ""
            },
            "colorscale": [
             [
              0,
              "#0d0887"
             ],
             [
              0.1111111111111111,
              "#46039f"
             ],
             [
              0.2222222222222222,
              "#7201a8"
             ],
             [
              0.3333333333333333,
              "#9c179e"
             ],
             [
              0.4444444444444444,
              "#bd3786"
             ],
             [
              0.5555555555555556,
              "#d8576b"
             ],
             [
              0.6666666666666666,
              "#ed7953"
             ],
             [
              0.7777777777777778,
              "#fb9f3a"
             ],
             [
              0.8888888888888888,
              "#fdca26"
             ],
             [
              1,
              "#f0f921"
             ]
            ],
            "type": "contour"
           }
          ],
          "contourcarpet": [
           {
            "colorbar": {
             "outlinewidth": 0,
             "ticks": ""
            },
            "type": "contourcarpet"
           }
          ],
          "heatmap": [
           {
            "colorbar": {
             "outlinewidth": 0,
             "ticks": ""
            },
            "colorscale": [
             [
              0,
              "#0d0887"
             ],
             [
              0.1111111111111111,
              "#46039f"
             ],
             [
              0.2222222222222222,
              "#7201a8"
             ],
             [
              0.3333333333333333,
              "#9c179e"
             ],
             [
              0.4444444444444444,
              "#bd3786"
             ],
             [
              0.5555555555555556,
              "#d8576b"
             ],
             [
              0.6666666666666666,
              "#ed7953"
             ],
             [
              0.7777777777777778,
              "#fb9f3a"
             ],
             [
              0.8888888888888888,
              "#fdca26"
             ],
             [
              1,
              "#f0f921"
             ]
            ],
            "type": "heatmap"
           }
          ],
          "heatmapgl": [
           {
            "colorbar": {
             "outlinewidth": 0,
             "ticks": ""
            },
            "colorscale": [
             [
              0,
              "#0d0887"
             ],
             [
              0.1111111111111111,
              "#46039f"
             ],
             [
              0.2222222222222222,
              "#7201a8"
             ],
             [
              0.3333333333333333,
              "#9c179e"
             ],
             [
              0.4444444444444444,
              "#bd3786"
             ],
             [
              0.5555555555555556,
              "#d8576b"
             ],
             [
              0.6666666666666666,
              "#ed7953"
             ],
             [
              0.7777777777777778,
              "#fb9f3a"
             ],
             [
              0.8888888888888888,
              "#fdca26"
             ],
             [
              1,
              "#f0f921"
             ]
            ],
            "type": "heatmapgl"
           }
          ],
          "histogram": [
           {
            "marker": {
             "pattern": {
              "fillmode": "overlay",
              "size": 10,
              "solidity": 0.2
             }
            },
            "type": "histogram"
           }
          ],
          "histogram2d": [
           {
            "colorbar": {
             "outlinewidth": 0,
             "ticks": ""
            },
            "colorscale": [
             [
              0,
              "#0d0887"
             ],
             [
              0.1111111111111111,
              "#46039f"
             ],
             [
              0.2222222222222222,
              "#7201a8"
             ],
             [
              0.3333333333333333,
              "#9c179e"
             ],
             [
              0.4444444444444444,
              "#bd3786"
             ],
             [
              0.5555555555555556,
              "#d8576b"
             ],
             [
              0.6666666666666666,
              "#ed7953"
             ],
             [
              0.7777777777777778,
              "#fb9f3a"
             ],
             [
              0.8888888888888888,
              "#fdca26"
             ],
             [
              1,
              "#f0f921"
             ]
            ],
            "type": "histogram2d"
           }
          ],
          "histogram2dcontour": [
           {
            "colorbar": {
             "outlinewidth": 0,
             "ticks": ""
            },
            "colorscale": [
             [
              0,
              "#0d0887"
             ],
             [
              0.1111111111111111,
              "#46039f"
             ],
             [
              0.2222222222222222,
              "#7201a8"
             ],
             [
              0.3333333333333333,
              "#9c179e"
             ],
             [
              0.4444444444444444,
              "#bd3786"
             ],
             [
              0.5555555555555556,
              "#d8576b"
             ],
             [
              0.6666666666666666,
              "#ed7953"
             ],
             [
              0.7777777777777778,
              "#fb9f3a"
             ],
             [
              0.8888888888888888,
              "#fdca26"
             ],
             [
              1,
              "#f0f921"
             ]
            ],
            "type": "histogram2dcontour"
           }
          ],
          "mesh3d": [
           {
            "colorbar": {
             "outlinewidth": 0,
             "ticks": ""
            },
            "type": "mesh3d"
           }
          ],
          "parcoords": [
           {
            "line": {
             "colorbar": {
              "outlinewidth": 0,
              "ticks": ""
             }
            },
            "type": "parcoords"
           }
          ],
          "pie": [
           {
            "automargin": true,
            "type": "pie"
           }
          ],
          "scatter": [
           {
            "fillpattern": {
             "fillmode": "overlay",
             "size": 10,
             "solidity": 0.2
            },
            "type": "scatter"
           }
          ],
          "scatter3d": [
           {
            "line": {
             "colorbar": {
              "outlinewidth": 0,
              "ticks": ""
             }
            },
            "marker": {
             "colorbar": {
              "outlinewidth": 0,
              "ticks": ""
             }
            },
            "type": "scatter3d"
           }
          ],
          "scattercarpet": [
           {
            "marker": {
             "colorbar": {
              "outlinewidth": 0,
              "ticks": ""
             }
            },
            "type": "scattercarpet"
           }
          ],
          "scattergeo": [
           {
            "marker": {
             "colorbar": {
              "outlinewidth": 0,
              "ticks": ""
             }
            },
            "type": "scattergeo"
           }
          ],
          "scattergl": [
           {
            "marker": {
             "colorbar": {
              "outlinewidth": 0,
              "ticks": ""
             }
            },
            "type": "scattergl"
           }
          ],
          "scattermapbox": [
           {
            "marker": {
             "colorbar": {
              "outlinewidth": 0,
              "ticks": ""
             }
            },
            "type": "scattermapbox"
           }
          ],
          "scatterpolar": [
           {
            "marker": {
             "colorbar": {
              "outlinewidth": 0,
              "ticks": ""
             }
            },
            "type": "scatterpolar"
           }
          ],
          "scatterpolargl": [
           {
            "marker": {
             "colorbar": {
              "outlinewidth": 0,
              "ticks": ""
             }
            },
            "type": "scatterpolargl"
           }
          ],
          "scatterternary": [
           {
            "marker": {
             "colorbar": {
              "outlinewidth": 0,
              "ticks": ""
             }
            },
            "type": "scatterternary"
           }
          ],
          "surface": [
           {
            "colorbar": {
             "outlinewidth": 0,
             "ticks": ""
            },
            "colorscale": [
             [
              0,
              "#0d0887"
             ],
             [
              0.1111111111111111,
              "#46039f"
             ],
             [
              0.2222222222222222,
              "#7201a8"
             ],
             [
              0.3333333333333333,
              "#9c179e"
             ],
             [
              0.4444444444444444,
              "#bd3786"
             ],
             [
              0.5555555555555556,
              "#d8576b"
             ],
             [
              0.6666666666666666,
              "#ed7953"
             ],
             [
              0.7777777777777778,
              "#fb9f3a"
             ],
             [
              0.8888888888888888,
              "#fdca26"
             ],
             [
              1,
              "#f0f921"
             ]
            ],
            "type": "surface"
           }
          ],
          "table": [
           {
            "cells": {
             "fill": {
              "color": "#EBF0F8"
             },
             "line": {
              "color": "white"
             }
            },
            "header": {
             "fill": {
              "color": "#C8D4E3"
             },
             "line": {
              "color": "white"
             }
            },
            "type": "table"
           }
          ]
         },
         "layout": {
          "annotationdefaults": {
           "arrowcolor": "#2a3f5f",
           "arrowhead": 0,
           "arrowwidth": 1
          },
          "autotypenumbers": "strict",
          "coloraxis": {
           "colorbar": {
            "outlinewidth": 0,
            "ticks": ""
           }
          },
          "colorscale": {
           "diverging": [
            [
             0,
             "#8e0152"
            ],
            [
             0.1,
             "#c51b7d"
            ],
            [
             0.2,
             "#de77ae"
            ],
            [
             0.3,
             "#f1b6da"
            ],
            [
             0.4,
             "#fde0ef"
            ],
            [
             0.5,
             "#f7f7f7"
            ],
            [
             0.6,
             "#e6f5d0"
            ],
            [
             0.7,
             "#b8e186"
            ],
            [
             0.8,
             "#7fbc41"
            ],
            [
             0.9,
             "#4d9221"
            ],
            [
             1,
             "#276419"
            ]
           ],
           "sequential": [
            [
             0,
             "#0d0887"
            ],
            [
             0.1111111111111111,
             "#46039f"
            ],
            [
             0.2222222222222222,
             "#7201a8"
            ],
            [
             0.3333333333333333,
             "#9c179e"
            ],
            [
             0.4444444444444444,
             "#bd3786"
            ],
            [
             0.5555555555555556,
             "#d8576b"
            ],
            [
             0.6666666666666666,
             "#ed7953"
            ],
            [
             0.7777777777777778,
             "#fb9f3a"
            ],
            [
             0.8888888888888888,
             "#fdca26"
            ],
            [
             1,
             "#f0f921"
            ]
           ],
           "sequentialminus": [
            [
             0,
             "#0d0887"
            ],
            [
             0.1111111111111111,
             "#46039f"
            ],
            [
             0.2222222222222222,
             "#7201a8"
            ],
            [
             0.3333333333333333,
             "#9c179e"
            ],
            [
             0.4444444444444444,
             "#bd3786"
            ],
            [
             0.5555555555555556,
             "#d8576b"
            ],
            [
             0.6666666666666666,
             "#ed7953"
            ],
            [
             0.7777777777777778,
             "#fb9f3a"
            ],
            [
             0.8888888888888888,
             "#fdca26"
            ],
            [
             1,
             "#f0f921"
            ]
           ]
          },
          "colorway": [
           "#636efa",
           "#EF553B",
           "#00cc96",
           "#ab63fa",
           "#FFA15A",
           "#19d3f3",
           "#FF6692",
           "#B6E880",
           "#FF97FF",
           "#FECB52"
          ],
          "font": {
           "color": "#2a3f5f"
          },
          "geo": {
           "bgcolor": "white",
           "lakecolor": "white",
           "landcolor": "#E5ECF6",
           "showlakes": true,
           "showland": true,
           "subunitcolor": "white"
          },
          "hoverlabel": {
           "align": "left"
          },
          "hovermode": "closest",
          "mapbox": {
           "style": "light"
          },
          "paper_bgcolor": "white",
          "plot_bgcolor": "#E5ECF6",
          "polar": {
           "angularaxis": {
            "gridcolor": "white",
            "linecolor": "white",
            "ticks": ""
           },
           "bgcolor": "#E5ECF6",
           "radialaxis": {
            "gridcolor": "white",
            "linecolor": "white",
            "ticks": ""
           }
          },
          "scene": {
           "xaxis": {
            "backgroundcolor": "#E5ECF6",
            "gridcolor": "white",
            "gridwidth": 2,
            "linecolor": "white",
            "showbackground": true,
            "ticks": "",
            "zerolinecolor": "white"
           },
           "yaxis": {
            "backgroundcolor": "#E5ECF6",
            "gridcolor": "white",
            "gridwidth": 2,
            "linecolor": "white",
            "showbackground": true,
            "ticks": "",
            "zerolinecolor": "white"
           },
           "zaxis": {
            "backgroundcolor": "#E5ECF6",
            "gridcolor": "white",
            "gridwidth": 2,
            "linecolor": "white",
            "showbackground": true,
            "ticks": "",
            "zerolinecolor": "white"
           }
          },
          "shapedefaults": {
           "line": {
            "color": "#2a3f5f"
           }
          },
          "ternary": {
           "aaxis": {
            "gridcolor": "white",
            "linecolor": "white",
            "ticks": ""
           },
           "baxis": {
            "gridcolor": "white",
            "linecolor": "white",
            "ticks": ""
           },
           "bgcolor": "#E5ECF6",
           "caxis": {
            "gridcolor": "white",
            "linecolor": "white",
            "ticks": ""
           }
          },
          "title": {
           "x": 0.05
          },
          "xaxis": {
           "automargin": true,
           "gridcolor": "white",
           "linecolor": "white",
           "ticks": "",
           "title": {
            "standoff": 15
           },
           "zerolinecolor": "white",
           "zerolinewidth": 2
          },
          "yaxis": {
           "automargin": true,
           "gridcolor": "white",
           "linecolor": "white",
           "ticks": "",
           "title": {
            "standoff": 15
           },
           "zerolinecolor": "white",
           "zerolinewidth": 2
          }
         }
        },
        "width": 900
       }
      },
      "text/html": [
       "<div>                            <div id=\"1a24dae1-ab07-4765-9478-281a767feb5e\" class=\"plotly-graph-div\" style=\"height:600px; width:900px;\"></div>            <script type=\"text/javascript\">                require([\"plotly\"], function(Plotly) {                    window.PLOTLYENV=window.PLOTLYENV || {};                                    if (document.getElementById(\"1a24dae1-ab07-4765-9478-281a767feb5e\")) {                    Plotly.newPlot(                        \"1a24dae1-ab07-4765-9478-281a767feb5e\",                        [{\"branchvalues\":\"total\",\"customdata\":[[0.5282647907733917],[0.6645123362541199],[0.5199697911739349],[0.5852636254400879],[0.4720862933678463],[0.5082305107757242],[0.18219180674974],[0.5207900454600651],[0.5237857557136014],[0.5624581798911095],[0.2667316496372223],[0.7002597451210022],[0.0752114355564117],[0.4526643753051758],[0.6358957236322265],[0.7312944358653102],[0.3790619113951834],[0.4474071570296297],[0.7205074469716845],[0.2052858437527902],[0.3234911060925307],[0.4762086745128423],[0.5394347169516702],[0.1803735196590423],[0.4512013494968414],[0.4654873407225952],[0.403555893630255],[0.758612300286458],[0.5344728482266095],[0.4227169589721598],[0.7479327765178418],[0.4078571498394012],[0.49998865479391214],[0.5165657588333388],[0.42861425015572857],[0.48655717592651426],[0.739613606191576],[0.3216032039250595],[0.4809559521439489],[0.5143610835075378],[0.5852636254400879],[0.328975109528983],[0.4810380467117033]],\"domain\":{\"x\":[0.0,1.0],\"y\":[0.0,1.0]},\"hovertemplate\":\"labels=%{label}<br>count=%{value}<br>parent=%{parent}<br>id=%{id}<br>median_bootstrap=%{color}<extra></extra>\",\"ids\":[\"EleutherAI/gpt-neo-125m/Scope/)\",\"EleutherAI/gpt-neo-125m/Scope/:\",\"EleutherAI/gpt-neo-125m/Scope/]\",\"EleutherAI/gpt-neo-125m/Testing/assert_statement\",\"EleutherAI/gpt-neo-125m/Operator/binary_operator\",\"EleutherAI/gpt-neo-125m/Operator/boolean_operator\",\"EleutherAI/gpt-neo-125m/Natural Language/comment\",\"EleutherAI/gpt-neo-125m/Operator/comparison_operator\",\"EleutherAI/gpt-neo-125m/Data Structures/dictionary\",\"EleutherAI/gpt-neo-125m/Decision/elif\",\"EleutherAI/gpt-neo-125m/Decision/else\",\"EleutherAI/gpt-neo-125m/Exceptions/except\",\"EleutherAI/gpt-neo-125m/Exceptions/finally\",\"EleutherAI/gpt-neo-125m/Types/float\",\"EleutherAI/gpt-neo-125m/Functional Programming/for_in_clause\",\"EleutherAI/gpt-neo-125m/Iterative/for_statement\",\"EleutherAI/gpt-neo-125m/Natural Language/identifier\",\"EleutherAI/gpt-neo-125m/Functional Programming/if_clause\",\"EleutherAI/gpt-neo-125m/Decision/if_statement\",\"EleutherAI/gpt-neo-125m/Types/integer\",\"EleutherAI/gpt-neo-125m/Functional Programming/lambda\",\"EleutherAI/gpt-neo-125m/Data Structures/list\",\"EleutherAI/gpt-neo-125m/Functional Programming/list_comprehension\",\"EleutherAI/gpt-neo-125m/Exceptions/raise\",\"EleutherAI/gpt-neo-125m/Scope/return_statement\",\"EleutherAI/gpt-neo-125m/Data Structures/set\",\"EleutherAI/gpt-neo-125m/Natural Language/string\",\"EleutherAI/gpt-neo-125m/Exceptions/try_statement\",\"EleutherAI/gpt-neo-125m/Data Structures/tuple\",\"EleutherAI/gpt-neo-125m/Operator/unary_operator\",\"EleutherAI/gpt-neo-125m/Iterative/while_statement\",\"EleutherAI/gpt-neo-125m/Scope/}\",\"EleutherAI/gpt-neo-125m/Data Structures\",\"EleutherAI/gpt-neo-125m/Decision\",\"EleutherAI/gpt-neo-125m/Exceptions\",\"EleutherAI/gpt-neo-125m/Functional Programming\",\"EleutherAI/gpt-neo-125m/Iterative\",\"EleutherAI/gpt-neo-125m/Natural Language\",\"EleutherAI/gpt-neo-125m/Operator\",\"EleutherAI/gpt-neo-125m/Scope\",\"EleutherAI/gpt-neo-125m/Testing\",\"EleutherAI/gpt-neo-125m/Types\",\"EleutherAI/gpt-neo-125m\"],\"labels\":[\")\",\":\",\"]\",\"assert_statement\",\"binary_operator\",\"boolean_operator\",\"comment\",\"comparison_operator\",\"dictionary\",\"elif\",\"else\",\"except\",\"finally\",\"float\",\"for_in_clause\",\"for_statement\",\"identifier\",\"if_clause\",\"if_statement\",\"integer\",\"lambda\",\"list\",\"list_comprehension\",\"raise\",\"return_statement\",\"set\",\"string\",\"try_statement\",\"tuple\",\"unary_operator\",\"while_statement\",\"}\",\"Data Structures\",\"Decision\",\"Exceptions\",\"Functional Programming\",\"Iterative\",\"Natural Language\",\"Operator\",\"Scope\",\"Testing\",\"Types\",\"EleutherAI/gpt-neo-125m\"],\"marker\":{\"coloraxis\":\"coloraxis\",\"colors\":[0.5282647907733917,0.6645123362541199,0.5199697911739349,0.5852636254400879,0.4720862933678463,0.5082305107757242,0.18219180674974,0.5207900454600651,0.5237857557136014,0.5624581798911095,0.2667316496372223,0.7002597451210022,0.0752114355564117,0.4526643753051758,0.6358957236322265,0.7312944358653102,0.3790619113951834,0.4474071570296297,0.7205074469716845,0.2052858437527902,0.3234911060925307,0.4762086745128423,0.5394347169516702,0.1803735196590423,0.4512013494968414,0.4654873407225952,0.403555893630255,0.758612300286458,0.5344728482266095,0.4227169589721598,0.7479327765178418,0.4078571498394012,0.49998865479391214,0.5165657588333388,0.42861425015572857,0.48655717592651426,0.739613606191576,0.3216032039250595,0.4809559521439489,0.5143610835075378,0.5852636254400879,0.328975109528983,0.4810380467117033]},\"name\":\"\",\"parents\":[\"EleutherAI/gpt-neo-125m/Scope\",\"EleutherAI/gpt-neo-125m/Scope\",\"EleutherAI/gpt-neo-125m/Scope\",\"EleutherAI/gpt-neo-125m/Testing\",\"EleutherAI/gpt-neo-125m/Operator\",\"EleutherAI/gpt-neo-125m/Operator\",\"EleutherAI/gpt-neo-125m/Natural Language\",\"EleutherAI/gpt-neo-125m/Operator\",\"EleutherAI/gpt-neo-125m/Data Structures\",\"EleutherAI/gpt-neo-125m/Decision\",\"EleutherAI/gpt-neo-125m/Decision\",\"EleutherAI/gpt-neo-125m/Exceptions\",\"EleutherAI/gpt-neo-125m/Exceptions\",\"EleutherAI/gpt-neo-125m/Types\",\"EleutherAI/gpt-neo-125m/Functional Programming\",\"EleutherAI/gpt-neo-125m/Iterative\",\"EleutherAI/gpt-neo-125m/Natural Language\",\"EleutherAI/gpt-neo-125m/Functional Programming\",\"EleutherAI/gpt-neo-125m/Decision\",\"EleutherAI/gpt-neo-125m/Types\",\"EleutherAI/gpt-neo-125m/Functional Programming\",\"EleutherAI/gpt-neo-125m/Data Structures\",\"EleutherAI/gpt-neo-125m/Functional Programming\",\"EleutherAI/gpt-neo-125m/Exceptions\",\"EleutherAI/gpt-neo-125m/Scope\",\"EleutherAI/gpt-neo-125m/Data Structures\",\"EleutherAI/gpt-neo-125m/Natural Language\",\"EleutherAI/gpt-neo-125m/Exceptions\",\"EleutherAI/gpt-neo-125m/Data Structures\",\"EleutherAI/gpt-neo-125m/Operator\",\"EleutherAI/gpt-neo-125m/Iterative\",\"EleutherAI/gpt-neo-125m/Scope\",\"EleutherAI/gpt-neo-125m\",\"EleutherAI/gpt-neo-125m\",\"EleutherAI/gpt-neo-125m\",\"EleutherAI/gpt-neo-125m\",\"EleutherAI/gpt-neo-125m\",\"EleutherAI/gpt-neo-125m\",\"EleutherAI/gpt-neo-125m\",\"EleutherAI/gpt-neo-125m\",\"EleutherAI/gpt-neo-125m\",\"EleutherAI/gpt-neo-125m\",\"\"],\"values\":[1,1,1,1,1,1,1,1,1,1,1,1,1,1,1,1,1,1,1,1,1,1,1,1,1,1,1,1,1,1,1,1,4,3,4,4,2,3,4,5,1,2,32],\"type\":\"treemap\"}],                        {\"template\":{\"data\":{\"histogram2dcontour\":[{\"type\":\"histogram2dcontour\",\"colorbar\":{\"outlinewidth\":0,\"ticks\":\"\"},\"colorscale\":[[0.0,\"#0d0887\"],[0.1111111111111111,\"#46039f\"],[0.2222222222222222,\"#7201a8\"],[0.3333333333333333,\"#9c179e\"],[0.4444444444444444,\"#bd3786\"],[0.5555555555555556,\"#d8576b\"],[0.6666666666666666,\"#ed7953\"],[0.7777777777777778,\"#fb9f3a\"],[0.8888888888888888,\"#fdca26\"],[1.0,\"#f0f921\"]]}],\"choropleth\":[{\"type\":\"choropleth\",\"colorbar\":{\"outlinewidth\":0,\"ticks\":\"\"}}],\"histogram2d\":[{\"type\":\"histogram2d\",\"colorbar\":{\"outlinewidth\":0,\"ticks\":\"\"},\"colorscale\":[[0.0,\"#0d0887\"],[0.1111111111111111,\"#46039f\"],[0.2222222222222222,\"#7201a8\"],[0.3333333333333333,\"#9c179e\"],[0.4444444444444444,\"#bd3786\"],[0.5555555555555556,\"#d8576b\"],[0.6666666666666666,\"#ed7953\"],[0.7777777777777778,\"#fb9f3a\"],[0.8888888888888888,\"#fdca26\"],[1.0,\"#f0f921\"]]}],\"heatmap\":[{\"type\":\"heatmap\",\"colorbar\":{\"outlinewidth\":0,\"ticks\":\"\"},\"colorscale\":[[0.0,\"#0d0887\"],[0.1111111111111111,\"#46039f\"],[0.2222222222222222,\"#7201a8\"],[0.3333333333333333,\"#9c179e\"],[0.4444444444444444,\"#bd3786\"],[0.5555555555555556,\"#d8576b\"],[0.6666666666666666,\"#ed7953\"],[0.7777777777777778,\"#fb9f3a\"],[0.8888888888888888,\"#fdca26\"],[1.0,\"#f0f921\"]]}],\"heatmapgl\":[{\"type\":\"heatmapgl\",\"colorbar\":{\"outlinewidth\":0,\"ticks\":\"\"},\"colorscale\":[[0.0,\"#0d0887\"],[0.1111111111111111,\"#46039f\"],[0.2222222222222222,\"#7201a8\"],[0.3333333333333333,\"#9c179e\"],[0.4444444444444444,\"#bd3786\"],[0.5555555555555556,\"#d8576b\"],[0.6666666666666666,\"#ed7953\"],[0.7777777777777778,\"#fb9f3a\"],[0.8888888888888888,\"#fdca26\"],[1.0,\"#f0f921\"]]}],\"contourcarpet\":[{\"type\":\"contourcarpet\",\"colorbar\":{\"outlinewidth\":0,\"ticks\":\"\"}}],\"contour\":[{\"type\":\"contour\",\"colorbar\":{\"outlinewidth\":0,\"ticks\":\"\"},\"colorscale\":[[0.0,\"#0d0887\"],[0.1111111111111111,\"#46039f\"],[0.2222222222222222,\"#7201a8\"],[0.3333333333333333,\"#9c179e\"],[0.4444444444444444,\"#bd3786\"],[0.5555555555555556,\"#d8576b\"],[0.6666666666666666,\"#ed7953\"],[0.7777777777777778,\"#fb9f3a\"],[0.8888888888888888,\"#fdca26\"],[1.0,\"#f0f921\"]]}],\"surface\":[{\"type\":\"surface\",\"colorbar\":{\"outlinewidth\":0,\"ticks\":\"\"},\"colorscale\":[[0.0,\"#0d0887\"],[0.1111111111111111,\"#46039f\"],[0.2222222222222222,\"#7201a8\"],[0.3333333333333333,\"#9c179e\"],[0.4444444444444444,\"#bd3786\"],[0.5555555555555556,\"#d8576b\"],[0.6666666666666666,\"#ed7953\"],[0.7777777777777778,\"#fb9f3a\"],[0.8888888888888888,\"#fdca26\"],[1.0,\"#f0f921\"]]}],\"mesh3d\":[{\"type\":\"mesh3d\",\"colorbar\":{\"outlinewidth\":0,\"ticks\":\"\"}}],\"scatter\":[{\"fillpattern\":{\"fillmode\":\"overlay\",\"size\":10,\"solidity\":0.2},\"type\":\"scatter\"}],\"parcoords\":[{\"type\":\"parcoords\",\"line\":{\"colorbar\":{\"outlinewidth\":0,\"ticks\":\"\"}}}],\"scatterpolargl\":[{\"type\":\"scatterpolargl\",\"marker\":{\"colorbar\":{\"outlinewidth\":0,\"ticks\":\"\"}}}],\"bar\":[{\"error_x\":{\"color\":\"#2a3f5f\"},\"error_y\":{\"color\":\"#2a3f5f\"},\"marker\":{\"line\":{\"color\":\"#E5ECF6\",\"width\":0.5},\"pattern\":{\"fillmode\":\"overlay\",\"size\":10,\"solidity\":0.2}},\"type\":\"bar\"}],\"scattergeo\":[{\"type\":\"scattergeo\",\"marker\":{\"colorbar\":{\"outlinewidth\":0,\"ticks\":\"\"}}}],\"scatterpolar\":[{\"type\":\"scatterpolar\",\"marker\":{\"colorbar\":{\"outlinewidth\":0,\"ticks\":\"\"}}}],\"histogram\":[{\"marker\":{\"pattern\":{\"fillmode\":\"overlay\",\"size\":10,\"solidity\":0.2}},\"type\":\"histogram\"}],\"scattergl\":[{\"type\":\"scattergl\",\"marker\":{\"colorbar\":{\"outlinewidth\":0,\"ticks\":\"\"}}}],\"scatter3d\":[{\"type\":\"scatter3d\",\"line\":{\"colorbar\":{\"outlinewidth\":0,\"ticks\":\"\"}},\"marker\":{\"colorbar\":{\"outlinewidth\":0,\"ticks\":\"\"}}}],\"scattermapbox\":[{\"type\":\"scattermapbox\",\"marker\":{\"colorbar\":{\"outlinewidth\":0,\"ticks\":\"\"}}}],\"scatterternary\":[{\"type\":\"scatterternary\",\"marker\":{\"colorbar\":{\"outlinewidth\":0,\"ticks\":\"\"}}}],\"scattercarpet\":[{\"type\":\"scattercarpet\",\"marker\":{\"colorbar\":{\"outlinewidth\":0,\"ticks\":\"\"}}}],\"carpet\":[{\"aaxis\":{\"endlinecolor\":\"#2a3f5f\",\"gridcolor\":\"white\",\"linecolor\":\"white\",\"minorgridcolor\":\"white\",\"startlinecolor\":\"#2a3f5f\"},\"baxis\":{\"endlinecolor\":\"#2a3f5f\",\"gridcolor\":\"white\",\"linecolor\":\"white\",\"minorgridcolor\":\"white\",\"startlinecolor\":\"#2a3f5f\"},\"type\":\"carpet\"}],\"table\":[{\"cells\":{\"fill\":{\"color\":\"#EBF0F8\"},\"line\":{\"color\":\"white\"}},\"header\":{\"fill\":{\"color\":\"#C8D4E3\"},\"line\":{\"color\":\"white\"}},\"type\":\"table\"}],\"barpolar\":[{\"marker\":{\"line\":{\"color\":\"#E5ECF6\",\"width\":0.5},\"pattern\":{\"fillmode\":\"overlay\",\"size\":10,\"solidity\":0.2}},\"type\":\"barpolar\"}],\"pie\":[{\"automargin\":true,\"type\":\"pie\"}]},\"layout\":{\"autotypenumbers\":\"strict\",\"colorway\":[\"#636efa\",\"#EF553B\",\"#00cc96\",\"#ab63fa\",\"#FFA15A\",\"#19d3f3\",\"#FF6692\",\"#B6E880\",\"#FF97FF\",\"#FECB52\"],\"font\":{\"color\":\"#2a3f5f\"},\"hovermode\":\"closest\",\"hoverlabel\":{\"align\":\"left\"},\"paper_bgcolor\":\"white\",\"plot_bgcolor\":\"#E5ECF6\",\"polar\":{\"bgcolor\":\"#E5ECF6\",\"angularaxis\":{\"gridcolor\":\"white\",\"linecolor\":\"white\",\"ticks\":\"\"},\"radialaxis\":{\"gridcolor\":\"white\",\"linecolor\":\"white\",\"ticks\":\"\"}},\"ternary\":{\"bgcolor\":\"#E5ECF6\",\"aaxis\":{\"gridcolor\":\"white\",\"linecolor\":\"white\",\"ticks\":\"\"},\"baxis\":{\"gridcolor\":\"white\",\"linecolor\":\"white\",\"ticks\":\"\"},\"caxis\":{\"gridcolor\":\"white\",\"linecolor\":\"white\",\"ticks\":\"\"}},\"coloraxis\":{\"colorbar\":{\"outlinewidth\":0,\"ticks\":\"\"}},\"colorscale\":{\"sequential\":[[0.0,\"#0d0887\"],[0.1111111111111111,\"#46039f\"],[0.2222222222222222,\"#7201a8\"],[0.3333333333333333,\"#9c179e\"],[0.4444444444444444,\"#bd3786\"],[0.5555555555555556,\"#d8576b\"],[0.6666666666666666,\"#ed7953\"],[0.7777777777777778,\"#fb9f3a\"],[0.8888888888888888,\"#fdca26\"],[1.0,\"#f0f921\"]],\"sequentialminus\":[[0.0,\"#0d0887\"],[0.1111111111111111,\"#46039f\"],[0.2222222222222222,\"#7201a8\"],[0.3333333333333333,\"#9c179e\"],[0.4444444444444444,\"#bd3786\"],[0.5555555555555556,\"#d8576b\"],[0.6666666666666666,\"#ed7953\"],[0.7777777777777778,\"#fb9f3a\"],[0.8888888888888888,\"#fdca26\"],[1.0,\"#f0f921\"]],\"diverging\":[[0,\"#8e0152\"],[0.1,\"#c51b7d\"],[0.2,\"#de77ae\"],[0.3,\"#f1b6da\"],[0.4,\"#fde0ef\"],[0.5,\"#f7f7f7\"],[0.6,\"#e6f5d0\"],[0.7,\"#b8e186\"],[0.8,\"#7fbc41\"],[0.9,\"#4d9221\"],[1,\"#276419\"]]},\"xaxis\":{\"gridcolor\":\"white\",\"linecolor\":\"white\",\"ticks\":\"\",\"title\":{\"standoff\":15},\"zerolinecolor\":\"white\",\"automargin\":true,\"zerolinewidth\":2},\"yaxis\":{\"gridcolor\":\"white\",\"linecolor\":\"white\",\"ticks\":\"\",\"title\":{\"standoff\":15},\"zerolinecolor\":\"white\",\"automargin\":true,\"zerolinewidth\":2},\"scene\":{\"xaxis\":{\"backgroundcolor\":\"#E5ECF6\",\"gridcolor\":\"white\",\"linecolor\":\"white\",\"showbackground\":true,\"ticks\":\"\",\"zerolinecolor\":\"white\",\"gridwidth\":2},\"yaxis\":{\"backgroundcolor\":\"#E5ECF6\",\"gridcolor\":\"white\",\"linecolor\":\"white\",\"showbackground\":true,\"ticks\":\"\",\"zerolinecolor\":\"white\",\"gridwidth\":2},\"zaxis\":{\"backgroundcolor\":\"#E5ECF6\",\"gridcolor\":\"white\",\"linecolor\":\"white\",\"showbackground\":true,\"ticks\":\"\",\"zerolinecolor\":\"white\",\"gridwidth\":2}},\"shapedefaults\":{\"line\":{\"color\":\"#2a3f5f\"}},\"annotationdefaults\":{\"arrowcolor\":\"#2a3f5f\",\"arrowhead\":0,\"arrowwidth\":1},\"geo\":{\"bgcolor\":\"white\",\"landcolor\":\"#E5ECF6\",\"subunitcolor\":\"white\",\"showland\":true,\"showlakes\":true,\"lakecolor\":\"white\"},\"title\":{\"x\":0.05},\"mapbox\":{\"style\":\"light\"}}},\"coloraxis\":{\"colorbar\":{\"title\":{\"text\":\"median_bootstrap\"}},\"colorscale\":[[0.0,\"rgb(103,0,31)\"],[0.1,\"rgb(178,24,43)\"],[0.2,\"rgb(214,96,77)\"],[0.3,\"rgb(244,165,130)\"],[0.4,\"rgb(253,219,199)\"],[0.5,\"rgb(247,247,247)\"],[0.6,\"rgb(209,229,240)\"],[0.7,\"rgb(146,197,222)\"],[0.8,\"rgb(67,147,195)\"],[0.9,\"rgb(33,102,172)\"],[1.0,\"rgb(5,48,97)\"]],\"cmin\":0,\"cmax\":1},\"legend\":{\"tracegroupgap\":0},\"margin\":{\"t\":50,\"l\":25,\"r\":25,\"b\":25},\"height\":600,\"width\":900},                        {\"responsive\": true}                    ).then(function(){\n",
       "                            \n",
       "var gd = document.getElementById('1a24dae1-ab07-4765-9478-281a767feb5e');\n",
       "var x = new MutationObserver(function (mutations, observer) {{\n",
       "        var display = window.getComputedStyle(gd).display;\n",
       "        if (!display || display === 'none') {{\n",
       "            console.log([gd, 'removed!']);\n",
       "            Plotly.purge(gd);\n",
       "            observer.disconnect();\n",
       "        }}\n",
       "}});\n",
       "\n",
       "// Listen for the removal of the full notebook cells\n",
       "var notebookContainer = gd.closest('#notebook-container');\n",
       "if (notebookContainer) {{\n",
       "    x.observe(notebookContainer, {childList: true});\n",
       "}}\n",
       "\n",
       "// Listen for the clearing of the current output cell\n",
       "var outputEl = gd.closest('.output');\n",
       "if (outputEl) {{\n",
       "    x.observe(outputEl, {childList: true});\n",
       "}}\n",
       "\n",
       "                        })                };                });            </script>        </div>"
      ]
     },
     "metadata": {},
     "output_type": "display_data"
    }
   ],
   "source": [
    "treemap_generator( model_name = 'EleutherAI/gpt-neo-125m' )"
   ]
  },
  {
   "cell_type": "code",
   "execution_count": 31,
   "metadata": {},
   "outputs": [
    {
     "data": {
      "application/vnd.plotly.v1+json": {
       "config": {
        "plotlyServerURL": "https://plot.ly"
       },
       "data": [
        {
         "branchvalues": "total",
         "customdata": [
          [
           0.974758803844452
          ],
          [
           0.9751078486442566
          ],
          [
           0.9829583019018172
          ],
          [
           0.8454718696219581
          ],
          [
           0.8241584996382395
          ],
          [
           0.7593205364258029
          ],
          [
           0.4963776182802474
          ],
          [
           0.825801504551491
          ],
          [
           0.7766766812696908
          ],
          [
           0.7982414364814758
          ],
          [
           0.9495472609996796
          ],
          [
           0.996509686112404
          ],
          [
           0.9785772562026978
          ],
          [
           0.787039448817571
          ],
          [
           0.9506229062875112
          ],
          [
           0.7949579526662898
          ],
          [
           0.8962729821602504
          ],
          [
           0.7982606225543551
          ],
          [
           0.7863301739978704
          ],
          [
           0.8730286806821823
          ],
          [
           0.8722825559600702
          ],
          [
           0.8033898508810025
          ],
          [
           0.7899702848847179
          ],
          [
           0.8273274302482605
          ],
          [
           0.8198089230572805
          ],
          [
           0.7359949563997938
          ],
          [
           0.7833320263241019
          ],
          [
           0.7955679705739022
          ],
          [
           0.8357478529214859
          ],
          [
           0.8525236185107912
          ],
          [
           0.822207289306741
          ],
          [
           0.932040810585022
          ],
          [
           0.7879523353679931
          ],
          [
           0.8447062904930086
          ],
          [
           0.8994955857843161
          ],
          [
           0.8527840924216636
          ],
          [
           0.8085826209865155
          ],
          [
           0.7253275422548665
          ],
          [
           0.8154510397815811
          ],
          [
           0.9369349376065657
          ],
          [
           0.8454718696219581
          ],
          [
           0.8300340647498767
          ],
          [
           0.8418816762747942
          ]
         ],
         "domain": {
          "x": [
           0,
           1
          ],
          "y": [
           0,
           1
          ]
         },
         "hovertemplate": "labels=%{label}<br>count=%{value}<br>parent=%{parent}<br>id=%{id}<br>median_bootstrap=%{color}<extra></extra>",
         "ids": [
          "Salesforce/codegen-2B-mono/Scope/)",
          "Salesforce/codegen-2B-mono/Scope/:",
          "Salesforce/codegen-2B-mono/Scope/]",
          "Salesforce/codegen-2B-mono/Testing/assert_statement",
          "Salesforce/codegen-2B-mono/Operator/binary_operator",
          "Salesforce/codegen-2B-mono/Operator/boolean_operator",
          "Salesforce/codegen-2B-mono/Natural Language/comment",
          "Salesforce/codegen-2B-mono/Operator/comparison_operator",
          "Salesforce/codegen-2B-mono/Data Structures/dictionary",
          "Salesforce/codegen-2B-mono/Decision/elif",
          "Salesforce/codegen-2B-mono/Decision/else",
          "Salesforce/codegen-2B-mono/Exceptions/except",
          "Salesforce/codegen-2B-mono/Exceptions/finally",
          "Salesforce/codegen-2B-mono/Types/float",
          "Salesforce/codegen-2B-mono/Functional Programming/for_in_clause",
          "Salesforce/codegen-2B-mono/Iterative/for_statement",
          "Salesforce/codegen-2B-mono/Natural Language/identifier",
          "Salesforce/codegen-2B-mono/Functional Programming/if_clause",
          "Salesforce/codegen-2B-mono/Decision/if_statement",
          "Salesforce/codegen-2B-mono/Types/integer",
          "Salesforce/codegen-2B-mono/Functional Programming/lambda",
          "Salesforce/codegen-2B-mono/Data Structures/list",
          "Salesforce/codegen-2B-mono/Functional Programming/list_comprehension",
          "Salesforce/codegen-2B-mono/Exceptions/raise",
          "Salesforce/codegen-2B-mono/Scope/return_statement",
          "Salesforce/codegen-2B-mono/Data Structures/set",
          "Salesforce/codegen-2B-mono/Natural Language/string",
          "Salesforce/codegen-2B-mono/Exceptions/try_statement",
          "Salesforce/codegen-2B-mono/Data Structures/tuple",
          "Salesforce/codegen-2B-mono/Operator/unary_operator",
          "Salesforce/codegen-2B-mono/Iterative/while_statement",
          "Salesforce/codegen-2B-mono/Scope/}",
          "Salesforce/codegen-2B-mono/Data Structures",
          "Salesforce/codegen-2B-mono/Decision",
          "Salesforce/codegen-2B-mono/Exceptions",
          "Salesforce/codegen-2B-mono/Functional Programming",
          "Salesforce/codegen-2B-mono/Iterative",
          "Salesforce/codegen-2B-mono/Natural Language",
          "Salesforce/codegen-2B-mono/Operator",
          "Salesforce/codegen-2B-mono/Scope",
          "Salesforce/codegen-2B-mono/Testing",
          "Salesforce/codegen-2B-mono/Types",
          "Salesforce/codegen-2B-mono"
         ],
         "labels": [
          ")",
          ":",
          "]",
          "assert_statement",
          "binary_operator",
          "boolean_operator",
          "comment",
          "comparison_operator",
          "dictionary",
          "elif",
          "else",
          "except",
          "finally",
          "float",
          "for_in_clause",
          "for_statement",
          "identifier",
          "if_clause",
          "if_statement",
          "integer",
          "lambda",
          "list",
          "list_comprehension",
          "raise",
          "return_statement",
          "set",
          "string",
          "try_statement",
          "tuple",
          "unary_operator",
          "while_statement",
          "}",
          "Data Structures",
          "Decision",
          "Exceptions",
          "Functional Programming",
          "Iterative",
          "Natural Language",
          "Operator",
          "Scope",
          "Testing",
          "Types",
          "Salesforce/codegen-2B-mono"
         ],
         "marker": {
          "coloraxis": "coloraxis",
          "colors": [
           0.974758803844452,
           0.9751078486442566,
           0.9829583019018172,
           0.8454718696219581,
           0.8241584996382395,
           0.7593205364258029,
           0.4963776182802474,
           0.825801504551491,
           0.7766766812696908,
           0.7982414364814758,
           0.9495472609996796,
           0.996509686112404,
           0.9785772562026978,
           0.787039448817571,
           0.9506229062875112,
           0.7949579526662898,
           0.8962729821602504,
           0.7982606225543551,
           0.7863301739978704,
           0.8730286806821823,
           0.8722825559600702,
           0.8033898508810025,
           0.7899702848847179,
           0.8273274302482605,
           0.8198089230572805,
           0.7359949563997938,
           0.7833320263241019,
           0.7955679705739022,
           0.8357478529214859,
           0.8525236185107912,
           0.822207289306741,
           0.932040810585022,
           0.7879523353679931,
           0.8447062904930086,
           0.8994955857843161,
           0.8527840924216636,
           0.8085826209865155,
           0.7253275422548665,
           0.8154510397815811,
           0.9369349376065657,
           0.8454718696219581,
           0.8300340647498767,
           0.8418816762747942
          ]
         },
         "name": "",
         "parents": [
          "Salesforce/codegen-2B-mono/Scope",
          "Salesforce/codegen-2B-mono/Scope",
          "Salesforce/codegen-2B-mono/Scope",
          "Salesforce/codegen-2B-mono/Testing",
          "Salesforce/codegen-2B-mono/Operator",
          "Salesforce/codegen-2B-mono/Operator",
          "Salesforce/codegen-2B-mono/Natural Language",
          "Salesforce/codegen-2B-mono/Operator",
          "Salesforce/codegen-2B-mono/Data Structures",
          "Salesforce/codegen-2B-mono/Decision",
          "Salesforce/codegen-2B-mono/Decision",
          "Salesforce/codegen-2B-mono/Exceptions",
          "Salesforce/codegen-2B-mono/Exceptions",
          "Salesforce/codegen-2B-mono/Types",
          "Salesforce/codegen-2B-mono/Functional Programming",
          "Salesforce/codegen-2B-mono/Iterative",
          "Salesforce/codegen-2B-mono/Natural Language",
          "Salesforce/codegen-2B-mono/Functional Programming",
          "Salesforce/codegen-2B-mono/Decision",
          "Salesforce/codegen-2B-mono/Types",
          "Salesforce/codegen-2B-mono/Functional Programming",
          "Salesforce/codegen-2B-mono/Data Structures",
          "Salesforce/codegen-2B-mono/Functional Programming",
          "Salesforce/codegen-2B-mono/Exceptions",
          "Salesforce/codegen-2B-mono/Scope",
          "Salesforce/codegen-2B-mono/Data Structures",
          "Salesforce/codegen-2B-mono/Natural Language",
          "Salesforce/codegen-2B-mono/Exceptions",
          "Salesforce/codegen-2B-mono/Data Structures",
          "Salesforce/codegen-2B-mono/Operator",
          "Salesforce/codegen-2B-mono/Iterative",
          "Salesforce/codegen-2B-mono/Scope",
          "Salesforce/codegen-2B-mono",
          "Salesforce/codegen-2B-mono",
          "Salesforce/codegen-2B-mono",
          "Salesforce/codegen-2B-mono",
          "Salesforce/codegen-2B-mono",
          "Salesforce/codegen-2B-mono",
          "Salesforce/codegen-2B-mono",
          "Salesforce/codegen-2B-mono",
          "Salesforce/codegen-2B-mono",
          "Salesforce/codegen-2B-mono",
          ""
         ],
         "type": "treemap",
         "values": [
          1,
          1,
          1,
          1,
          1,
          1,
          1,
          1,
          1,
          1,
          1,
          1,
          1,
          1,
          1,
          1,
          1,
          1,
          1,
          1,
          1,
          1,
          1,
          1,
          1,
          1,
          1,
          1,
          1,
          1,
          1,
          1,
          4,
          3,
          4,
          4,
          2,
          3,
          4,
          5,
          1,
          2,
          32
         ]
        }
       ],
       "layout": {
        "coloraxis": {
         "cmax": 1,
         "cmin": 0,
         "colorbar": {
          "title": {
           "text": "median_bootstrap"
          }
         },
         "colorscale": [
          [
           0,
           "rgb(103,0,31)"
          ],
          [
           0.1,
           "rgb(178,24,43)"
          ],
          [
           0.2,
           "rgb(214,96,77)"
          ],
          [
           0.3,
           "rgb(244,165,130)"
          ],
          [
           0.4,
           "rgb(253,219,199)"
          ],
          [
           0.5,
           "rgb(247,247,247)"
          ],
          [
           0.6,
           "rgb(209,229,240)"
          ],
          [
           0.7,
           "rgb(146,197,222)"
          ],
          [
           0.8,
           "rgb(67,147,195)"
          ],
          [
           0.9,
           "rgb(33,102,172)"
          ],
          [
           1,
           "rgb(5,48,97)"
          ]
         ]
        },
        "height": 600,
        "legend": {
         "tracegroupgap": 0
        },
        "margin": {
         "b": 25,
         "l": 25,
         "r": 25,
         "t": 50
        },
        "template": {
         "data": {
          "bar": [
           {
            "error_x": {
             "color": "#2a3f5f"
            },
            "error_y": {
             "color": "#2a3f5f"
            },
            "marker": {
             "line": {
              "color": "#E5ECF6",
              "width": 0.5
             },
             "pattern": {
              "fillmode": "overlay",
              "size": 10,
              "solidity": 0.2
             }
            },
            "type": "bar"
           }
          ],
          "barpolar": [
           {
            "marker": {
             "line": {
              "color": "#E5ECF6",
              "width": 0.5
             },
             "pattern": {
              "fillmode": "overlay",
              "size": 10,
              "solidity": 0.2
             }
            },
            "type": "barpolar"
           }
          ],
          "carpet": [
           {
            "aaxis": {
             "endlinecolor": "#2a3f5f",
             "gridcolor": "white",
             "linecolor": "white",
             "minorgridcolor": "white",
             "startlinecolor": "#2a3f5f"
            },
            "baxis": {
             "endlinecolor": "#2a3f5f",
             "gridcolor": "white",
             "linecolor": "white",
             "minorgridcolor": "white",
             "startlinecolor": "#2a3f5f"
            },
            "type": "carpet"
           }
          ],
          "choropleth": [
           {
            "colorbar": {
             "outlinewidth": 0,
             "ticks": ""
            },
            "type": "choropleth"
           }
          ],
          "contour": [
           {
            "colorbar": {
             "outlinewidth": 0,
             "ticks": ""
            },
            "colorscale": [
             [
              0,
              "#0d0887"
             ],
             [
              0.1111111111111111,
              "#46039f"
             ],
             [
              0.2222222222222222,
              "#7201a8"
             ],
             [
              0.3333333333333333,
              "#9c179e"
             ],
             [
              0.4444444444444444,
              "#bd3786"
             ],
             [
              0.5555555555555556,
              "#d8576b"
             ],
             [
              0.6666666666666666,
              "#ed7953"
             ],
             [
              0.7777777777777778,
              "#fb9f3a"
             ],
             [
              0.8888888888888888,
              "#fdca26"
             ],
             [
              1,
              "#f0f921"
             ]
            ],
            "type": "contour"
           }
          ],
          "contourcarpet": [
           {
            "colorbar": {
             "outlinewidth": 0,
             "ticks": ""
            },
            "type": "contourcarpet"
           }
          ],
          "heatmap": [
           {
            "colorbar": {
             "outlinewidth": 0,
             "ticks": ""
            },
            "colorscale": [
             [
              0,
              "#0d0887"
             ],
             [
              0.1111111111111111,
              "#46039f"
             ],
             [
              0.2222222222222222,
              "#7201a8"
             ],
             [
              0.3333333333333333,
              "#9c179e"
             ],
             [
              0.4444444444444444,
              "#bd3786"
             ],
             [
              0.5555555555555556,
              "#d8576b"
             ],
             [
              0.6666666666666666,
              "#ed7953"
             ],
             [
              0.7777777777777778,
              "#fb9f3a"
             ],
             [
              0.8888888888888888,
              "#fdca26"
             ],
             [
              1,
              "#f0f921"
             ]
            ],
            "type": "heatmap"
           }
          ],
          "heatmapgl": [
           {
            "colorbar": {
             "outlinewidth": 0,
             "ticks": ""
            },
            "colorscale": [
             [
              0,
              "#0d0887"
             ],
             [
              0.1111111111111111,
              "#46039f"
             ],
             [
              0.2222222222222222,
              "#7201a8"
             ],
             [
              0.3333333333333333,
              "#9c179e"
             ],
             [
              0.4444444444444444,
              "#bd3786"
             ],
             [
              0.5555555555555556,
              "#d8576b"
             ],
             [
              0.6666666666666666,
              "#ed7953"
             ],
             [
              0.7777777777777778,
              "#fb9f3a"
             ],
             [
              0.8888888888888888,
              "#fdca26"
             ],
             [
              1,
              "#f0f921"
             ]
            ],
            "type": "heatmapgl"
           }
          ],
          "histogram": [
           {
            "marker": {
             "pattern": {
              "fillmode": "overlay",
              "size": 10,
              "solidity": 0.2
             }
            },
            "type": "histogram"
           }
          ],
          "histogram2d": [
           {
            "colorbar": {
             "outlinewidth": 0,
             "ticks": ""
            },
            "colorscale": [
             [
              0,
              "#0d0887"
             ],
             [
              0.1111111111111111,
              "#46039f"
             ],
             [
              0.2222222222222222,
              "#7201a8"
             ],
             [
              0.3333333333333333,
              "#9c179e"
             ],
             [
              0.4444444444444444,
              "#bd3786"
             ],
             [
              0.5555555555555556,
              "#d8576b"
             ],
             [
              0.6666666666666666,
              "#ed7953"
             ],
             [
              0.7777777777777778,
              "#fb9f3a"
             ],
             [
              0.8888888888888888,
              "#fdca26"
             ],
             [
              1,
              "#f0f921"
             ]
            ],
            "type": "histogram2d"
           }
          ],
          "histogram2dcontour": [
           {
            "colorbar": {
             "outlinewidth": 0,
             "ticks": ""
            },
            "colorscale": [
             [
              0,
              "#0d0887"
             ],
             [
              0.1111111111111111,
              "#46039f"
             ],
             [
              0.2222222222222222,
              "#7201a8"
             ],
             [
              0.3333333333333333,
              "#9c179e"
             ],
             [
              0.4444444444444444,
              "#bd3786"
             ],
             [
              0.5555555555555556,
              "#d8576b"
             ],
             [
              0.6666666666666666,
              "#ed7953"
             ],
             [
              0.7777777777777778,
              "#fb9f3a"
             ],
             [
              0.8888888888888888,
              "#fdca26"
             ],
             [
              1,
              "#f0f921"
             ]
            ],
            "type": "histogram2dcontour"
           }
          ],
          "mesh3d": [
           {
            "colorbar": {
             "outlinewidth": 0,
             "ticks": ""
            },
            "type": "mesh3d"
           }
          ],
          "parcoords": [
           {
            "line": {
             "colorbar": {
              "outlinewidth": 0,
              "ticks": ""
             }
            },
            "type": "parcoords"
           }
          ],
          "pie": [
           {
            "automargin": true,
            "type": "pie"
           }
          ],
          "scatter": [
           {
            "fillpattern": {
             "fillmode": "overlay",
             "size": 10,
             "solidity": 0.2
            },
            "type": "scatter"
           }
          ],
          "scatter3d": [
           {
            "line": {
             "colorbar": {
              "outlinewidth": 0,
              "ticks": ""
             }
            },
            "marker": {
             "colorbar": {
              "outlinewidth": 0,
              "ticks": ""
             }
            },
            "type": "scatter3d"
           }
          ],
          "scattercarpet": [
           {
            "marker": {
             "colorbar": {
              "outlinewidth": 0,
              "ticks": ""
             }
            },
            "type": "scattercarpet"
           }
          ],
          "scattergeo": [
           {
            "marker": {
             "colorbar": {
              "outlinewidth": 0,
              "ticks": ""
             }
            },
            "type": "scattergeo"
           }
          ],
          "scattergl": [
           {
            "marker": {
             "colorbar": {
              "outlinewidth": 0,
              "ticks": ""
             }
            },
            "type": "scattergl"
           }
          ],
          "scattermapbox": [
           {
            "marker": {
             "colorbar": {
              "outlinewidth": 0,
              "ticks": ""
             }
            },
            "type": "scattermapbox"
           }
          ],
          "scatterpolar": [
           {
            "marker": {
             "colorbar": {
              "outlinewidth": 0,
              "ticks": ""
             }
            },
            "type": "scatterpolar"
           }
          ],
          "scatterpolargl": [
           {
            "marker": {
             "colorbar": {
              "outlinewidth": 0,
              "ticks": ""
             }
            },
            "type": "scatterpolargl"
           }
          ],
          "scatterternary": [
           {
            "marker": {
             "colorbar": {
              "outlinewidth": 0,
              "ticks": ""
             }
            },
            "type": "scatterternary"
           }
          ],
          "surface": [
           {
            "colorbar": {
             "outlinewidth": 0,
             "ticks": ""
            },
            "colorscale": [
             [
              0,
              "#0d0887"
             ],
             [
              0.1111111111111111,
              "#46039f"
             ],
             [
              0.2222222222222222,
              "#7201a8"
             ],
             [
              0.3333333333333333,
              "#9c179e"
             ],
             [
              0.4444444444444444,
              "#bd3786"
             ],
             [
              0.5555555555555556,
              "#d8576b"
             ],
             [
              0.6666666666666666,
              "#ed7953"
             ],
             [
              0.7777777777777778,
              "#fb9f3a"
             ],
             [
              0.8888888888888888,
              "#fdca26"
             ],
             [
              1,
              "#f0f921"
             ]
            ],
            "type": "surface"
           }
          ],
          "table": [
           {
            "cells": {
             "fill": {
              "color": "#EBF0F8"
             },
             "line": {
              "color": "white"
             }
            },
            "header": {
             "fill": {
              "color": "#C8D4E3"
             },
             "line": {
              "color": "white"
             }
            },
            "type": "table"
           }
          ]
         },
         "layout": {
          "annotationdefaults": {
           "arrowcolor": "#2a3f5f",
           "arrowhead": 0,
           "arrowwidth": 1
          },
          "autotypenumbers": "strict",
          "coloraxis": {
           "colorbar": {
            "outlinewidth": 0,
            "ticks": ""
           }
          },
          "colorscale": {
           "diverging": [
            [
             0,
             "#8e0152"
            ],
            [
             0.1,
             "#c51b7d"
            ],
            [
             0.2,
             "#de77ae"
            ],
            [
             0.3,
             "#f1b6da"
            ],
            [
             0.4,
             "#fde0ef"
            ],
            [
             0.5,
             "#f7f7f7"
            ],
            [
             0.6,
             "#e6f5d0"
            ],
            [
             0.7,
             "#b8e186"
            ],
            [
             0.8,
             "#7fbc41"
            ],
            [
             0.9,
             "#4d9221"
            ],
            [
             1,
             "#276419"
            ]
           ],
           "sequential": [
            [
             0,
             "#0d0887"
            ],
            [
             0.1111111111111111,
             "#46039f"
            ],
            [
             0.2222222222222222,
             "#7201a8"
            ],
            [
             0.3333333333333333,
             "#9c179e"
            ],
            [
             0.4444444444444444,
             "#bd3786"
            ],
            [
             0.5555555555555556,
             "#d8576b"
            ],
            [
             0.6666666666666666,
             "#ed7953"
            ],
            [
             0.7777777777777778,
             "#fb9f3a"
            ],
            [
             0.8888888888888888,
             "#fdca26"
            ],
            [
             1,
             "#f0f921"
            ]
           ],
           "sequentialminus": [
            [
             0,
             "#0d0887"
            ],
            [
             0.1111111111111111,
             "#46039f"
            ],
            [
             0.2222222222222222,
             "#7201a8"
            ],
            [
             0.3333333333333333,
             "#9c179e"
            ],
            [
             0.4444444444444444,
             "#bd3786"
            ],
            [
             0.5555555555555556,
             "#d8576b"
            ],
            [
             0.6666666666666666,
             "#ed7953"
            ],
            [
             0.7777777777777778,
             "#fb9f3a"
            ],
            [
             0.8888888888888888,
             "#fdca26"
            ],
            [
             1,
             "#f0f921"
            ]
           ]
          },
          "colorway": [
           "#636efa",
           "#EF553B",
           "#00cc96",
           "#ab63fa",
           "#FFA15A",
           "#19d3f3",
           "#FF6692",
           "#B6E880",
           "#FF97FF",
           "#FECB52"
          ],
          "font": {
           "color": "#2a3f5f"
          },
          "geo": {
           "bgcolor": "white",
           "lakecolor": "white",
           "landcolor": "#E5ECF6",
           "showlakes": true,
           "showland": true,
           "subunitcolor": "white"
          },
          "hoverlabel": {
           "align": "left"
          },
          "hovermode": "closest",
          "mapbox": {
           "style": "light"
          },
          "paper_bgcolor": "white",
          "plot_bgcolor": "#E5ECF6",
          "polar": {
           "angularaxis": {
            "gridcolor": "white",
            "linecolor": "white",
            "ticks": ""
           },
           "bgcolor": "#E5ECF6",
           "radialaxis": {
            "gridcolor": "white",
            "linecolor": "white",
            "ticks": ""
           }
          },
          "scene": {
           "xaxis": {
            "backgroundcolor": "#E5ECF6",
            "gridcolor": "white",
            "gridwidth": 2,
            "linecolor": "white",
            "showbackground": true,
            "ticks": "",
            "zerolinecolor": "white"
           },
           "yaxis": {
            "backgroundcolor": "#E5ECF6",
            "gridcolor": "white",
            "gridwidth": 2,
            "linecolor": "white",
            "showbackground": true,
            "ticks": "",
            "zerolinecolor": "white"
           },
           "zaxis": {
            "backgroundcolor": "#E5ECF6",
            "gridcolor": "white",
            "gridwidth": 2,
            "linecolor": "white",
            "showbackground": true,
            "ticks": "",
            "zerolinecolor": "white"
           }
          },
          "shapedefaults": {
           "line": {
            "color": "#2a3f5f"
           }
          },
          "ternary": {
           "aaxis": {
            "gridcolor": "white",
            "linecolor": "white",
            "ticks": ""
           },
           "baxis": {
            "gridcolor": "white",
            "linecolor": "white",
            "ticks": ""
           },
           "bgcolor": "#E5ECF6",
           "caxis": {
            "gridcolor": "white",
            "linecolor": "white",
            "ticks": ""
           }
          },
          "title": {
           "x": 0.05
          },
          "xaxis": {
           "automargin": true,
           "gridcolor": "white",
           "linecolor": "white",
           "ticks": "",
           "title": {
            "standoff": 15
           },
           "zerolinecolor": "white",
           "zerolinewidth": 2
          },
          "yaxis": {
           "automargin": true,
           "gridcolor": "white",
           "linecolor": "white",
           "ticks": "",
           "title": {
            "standoff": 15
           },
           "zerolinecolor": "white",
           "zerolinewidth": 2
          }
         }
        },
        "width": 900
       }
      },
      "text/html": [
       "<div>                            <div id=\"2fc39fc6-e54e-4e44-a862-57ad66b9176a\" class=\"plotly-graph-div\" style=\"height:600px; width:900px;\"></div>            <script type=\"text/javascript\">                require([\"plotly\"], function(Plotly) {                    window.PLOTLYENV=window.PLOTLYENV || {};                                    if (document.getElementById(\"2fc39fc6-e54e-4e44-a862-57ad66b9176a\")) {                    Plotly.newPlot(                        \"2fc39fc6-e54e-4e44-a862-57ad66b9176a\",                        [{\"branchvalues\":\"total\",\"customdata\":[[0.974758803844452],[0.9751078486442566],[0.9829583019018172],[0.8454718696219581],[0.8241584996382395],[0.7593205364258029],[0.4963776182802474],[0.825801504551491],[0.7766766812696908],[0.7982414364814758],[0.9495472609996796],[0.996509686112404],[0.9785772562026978],[0.787039448817571],[0.9506229062875112],[0.7949579526662898],[0.8962729821602504],[0.7982606225543551],[0.7863301739978704],[0.8730286806821823],[0.8722825559600702],[0.8033898508810025],[0.7899702848847179],[0.8273274302482605],[0.8198089230572805],[0.7359949563997938],[0.7833320263241019],[0.7955679705739022],[0.8357478529214859],[0.8525236185107912],[0.822207289306741],[0.932040810585022],[0.7879523353679931],[0.8447062904930086],[0.8994955857843161],[0.8527840924216636],[0.8085826209865155],[0.7253275422548665],[0.8154510397815811],[0.9369349376065657],[0.8454718696219581],[0.8300340647498767],[0.8418816762747942]],\"domain\":{\"x\":[0.0,1.0],\"y\":[0.0,1.0]},\"hovertemplate\":\"labels=%{label}<br>count=%{value}<br>parent=%{parent}<br>id=%{id}<br>median_bootstrap=%{color}<extra></extra>\",\"ids\":[\"Salesforce/codegen-2B-mono/Scope/)\",\"Salesforce/codegen-2B-mono/Scope/:\",\"Salesforce/codegen-2B-mono/Scope/]\",\"Salesforce/codegen-2B-mono/Testing/assert_statement\",\"Salesforce/codegen-2B-mono/Operator/binary_operator\",\"Salesforce/codegen-2B-mono/Operator/boolean_operator\",\"Salesforce/codegen-2B-mono/Natural Language/comment\",\"Salesforce/codegen-2B-mono/Operator/comparison_operator\",\"Salesforce/codegen-2B-mono/Data Structures/dictionary\",\"Salesforce/codegen-2B-mono/Decision/elif\",\"Salesforce/codegen-2B-mono/Decision/else\",\"Salesforce/codegen-2B-mono/Exceptions/except\",\"Salesforce/codegen-2B-mono/Exceptions/finally\",\"Salesforce/codegen-2B-mono/Types/float\",\"Salesforce/codegen-2B-mono/Functional Programming/for_in_clause\",\"Salesforce/codegen-2B-mono/Iterative/for_statement\",\"Salesforce/codegen-2B-mono/Natural Language/identifier\",\"Salesforce/codegen-2B-mono/Functional Programming/if_clause\",\"Salesforce/codegen-2B-mono/Decision/if_statement\",\"Salesforce/codegen-2B-mono/Types/integer\",\"Salesforce/codegen-2B-mono/Functional Programming/lambda\",\"Salesforce/codegen-2B-mono/Data Structures/list\",\"Salesforce/codegen-2B-mono/Functional Programming/list_comprehension\",\"Salesforce/codegen-2B-mono/Exceptions/raise\",\"Salesforce/codegen-2B-mono/Scope/return_statement\",\"Salesforce/codegen-2B-mono/Data Structures/set\",\"Salesforce/codegen-2B-mono/Natural Language/string\",\"Salesforce/codegen-2B-mono/Exceptions/try_statement\",\"Salesforce/codegen-2B-mono/Data Structures/tuple\",\"Salesforce/codegen-2B-mono/Operator/unary_operator\",\"Salesforce/codegen-2B-mono/Iterative/while_statement\",\"Salesforce/codegen-2B-mono/Scope/}\",\"Salesforce/codegen-2B-mono/Data Structures\",\"Salesforce/codegen-2B-mono/Decision\",\"Salesforce/codegen-2B-mono/Exceptions\",\"Salesforce/codegen-2B-mono/Functional Programming\",\"Salesforce/codegen-2B-mono/Iterative\",\"Salesforce/codegen-2B-mono/Natural Language\",\"Salesforce/codegen-2B-mono/Operator\",\"Salesforce/codegen-2B-mono/Scope\",\"Salesforce/codegen-2B-mono/Testing\",\"Salesforce/codegen-2B-mono/Types\",\"Salesforce/codegen-2B-mono\"],\"labels\":[\")\",\":\",\"]\",\"assert_statement\",\"binary_operator\",\"boolean_operator\",\"comment\",\"comparison_operator\",\"dictionary\",\"elif\",\"else\",\"except\",\"finally\",\"float\",\"for_in_clause\",\"for_statement\",\"identifier\",\"if_clause\",\"if_statement\",\"integer\",\"lambda\",\"list\",\"list_comprehension\",\"raise\",\"return_statement\",\"set\",\"string\",\"try_statement\",\"tuple\",\"unary_operator\",\"while_statement\",\"}\",\"Data Structures\",\"Decision\",\"Exceptions\",\"Functional Programming\",\"Iterative\",\"Natural Language\",\"Operator\",\"Scope\",\"Testing\",\"Types\",\"Salesforce/codegen-2B-mono\"],\"marker\":{\"coloraxis\":\"coloraxis\",\"colors\":[0.974758803844452,0.9751078486442566,0.9829583019018172,0.8454718696219581,0.8241584996382395,0.7593205364258029,0.4963776182802474,0.825801504551491,0.7766766812696908,0.7982414364814758,0.9495472609996796,0.996509686112404,0.9785772562026978,0.787039448817571,0.9506229062875112,0.7949579526662898,0.8962729821602504,0.7982606225543551,0.7863301739978704,0.8730286806821823,0.8722825559600702,0.8033898508810025,0.7899702848847179,0.8273274302482605,0.8198089230572805,0.7359949563997938,0.7833320263241019,0.7955679705739022,0.8357478529214859,0.8525236185107912,0.822207289306741,0.932040810585022,0.7879523353679931,0.8447062904930086,0.8994955857843161,0.8527840924216636,0.8085826209865155,0.7253275422548665,0.8154510397815811,0.9369349376065657,0.8454718696219581,0.8300340647498767,0.8418816762747942]},\"name\":\"\",\"parents\":[\"Salesforce/codegen-2B-mono/Scope\",\"Salesforce/codegen-2B-mono/Scope\",\"Salesforce/codegen-2B-mono/Scope\",\"Salesforce/codegen-2B-mono/Testing\",\"Salesforce/codegen-2B-mono/Operator\",\"Salesforce/codegen-2B-mono/Operator\",\"Salesforce/codegen-2B-mono/Natural Language\",\"Salesforce/codegen-2B-mono/Operator\",\"Salesforce/codegen-2B-mono/Data Structures\",\"Salesforce/codegen-2B-mono/Decision\",\"Salesforce/codegen-2B-mono/Decision\",\"Salesforce/codegen-2B-mono/Exceptions\",\"Salesforce/codegen-2B-mono/Exceptions\",\"Salesforce/codegen-2B-mono/Types\",\"Salesforce/codegen-2B-mono/Functional Programming\",\"Salesforce/codegen-2B-mono/Iterative\",\"Salesforce/codegen-2B-mono/Natural Language\",\"Salesforce/codegen-2B-mono/Functional Programming\",\"Salesforce/codegen-2B-mono/Decision\",\"Salesforce/codegen-2B-mono/Types\",\"Salesforce/codegen-2B-mono/Functional Programming\",\"Salesforce/codegen-2B-mono/Data Structures\",\"Salesforce/codegen-2B-mono/Functional Programming\",\"Salesforce/codegen-2B-mono/Exceptions\",\"Salesforce/codegen-2B-mono/Scope\",\"Salesforce/codegen-2B-mono/Data Structures\",\"Salesforce/codegen-2B-mono/Natural Language\",\"Salesforce/codegen-2B-mono/Exceptions\",\"Salesforce/codegen-2B-mono/Data Structures\",\"Salesforce/codegen-2B-mono/Operator\",\"Salesforce/codegen-2B-mono/Iterative\",\"Salesforce/codegen-2B-mono/Scope\",\"Salesforce/codegen-2B-mono\",\"Salesforce/codegen-2B-mono\",\"Salesforce/codegen-2B-mono\",\"Salesforce/codegen-2B-mono\",\"Salesforce/codegen-2B-mono\",\"Salesforce/codegen-2B-mono\",\"Salesforce/codegen-2B-mono\",\"Salesforce/codegen-2B-mono\",\"Salesforce/codegen-2B-mono\",\"Salesforce/codegen-2B-mono\",\"\"],\"values\":[1,1,1,1,1,1,1,1,1,1,1,1,1,1,1,1,1,1,1,1,1,1,1,1,1,1,1,1,1,1,1,1,4,3,4,4,2,3,4,5,1,2,32],\"type\":\"treemap\"}],                        {\"template\":{\"data\":{\"histogram2dcontour\":[{\"type\":\"histogram2dcontour\",\"colorbar\":{\"outlinewidth\":0,\"ticks\":\"\"},\"colorscale\":[[0.0,\"#0d0887\"],[0.1111111111111111,\"#46039f\"],[0.2222222222222222,\"#7201a8\"],[0.3333333333333333,\"#9c179e\"],[0.4444444444444444,\"#bd3786\"],[0.5555555555555556,\"#d8576b\"],[0.6666666666666666,\"#ed7953\"],[0.7777777777777778,\"#fb9f3a\"],[0.8888888888888888,\"#fdca26\"],[1.0,\"#f0f921\"]]}],\"choropleth\":[{\"type\":\"choropleth\",\"colorbar\":{\"outlinewidth\":0,\"ticks\":\"\"}}],\"histogram2d\":[{\"type\":\"histogram2d\",\"colorbar\":{\"outlinewidth\":0,\"ticks\":\"\"},\"colorscale\":[[0.0,\"#0d0887\"],[0.1111111111111111,\"#46039f\"],[0.2222222222222222,\"#7201a8\"],[0.3333333333333333,\"#9c179e\"],[0.4444444444444444,\"#bd3786\"],[0.5555555555555556,\"#d8576b\"],[0.6666666666666666,\"#ed7953\"],[0.7777777777777778,\"#fb9f3a\"],[0.8888888888888888,\"#fdca26\"],[1.0,\"#f0f921\"]]}],\"heatmap\":[{\"type\":\"heatmap\",\"colorbar\":{\"outlinewidth\":0,\"ticks\":\"\"},\"colorscale\":[[0.0,\"#0d0887\"],[0.1111111111111111,\"#46039f\"],[0.2222222222222222,\"#7201a8\"],[0.3333333333333333,\"#9c179e\"],[0.4444444444444444,\"#bd3786\"],[0.5555555555555556,\"#d8576b\"],[0.6666666666666666,\"#ed7953\"],[0.7777777777777778,\"#fb9f3a\"],[0.8888888888888888,\"#fdca26\"],[1.0,\"#f0f921\"]]}],\"heatmapgl\":[{\"type\":\"heatmapgl\",\"colorbar\":{\"outlinewidth\":0,\"ticks\":\"\"},\"colorscale\":[[0.0,\"#0d0887\"],[0.1111111111111111,\"#46039f\"],[0.2222222222222222,\"#7201a8\"],[0.3333333333333333,\"#9c179e\"],[0.4444444444444444,\"#bd3786\"],[0.5555555555555556,\"#d8576b\"],[0.6666666666666666,\"#ed7953\"],[0.7777777777777778,\"#fb9f3a\"],[0.8888888888888888,\"#fdca26\"],[1.0,\"#f0f921\"]]}],\"contourcarpet\":[{\"type\":\"contourcarpet\",\"colorbar\":{\"outlinewidth\":0,\"ticks\":\"\"}}],\"contour\":[{\"type\":\"contour\",\"colorbar\":{\"outlinewidth\":0,\"ticks\":\"\"},\"colorscale\":[[0.0,\"#0d0887\"],[0.1111111111111111,\"#46039f\"],[0.2222222222222222,\"#7201a8\"],[0.3333333333333333,\"#9c179e\"],[0.4444444444444444,\"#bd3786\"],[0.5555555555555556,\"#d8576b\"],[0.6666666666666666,\"#ed7953\"],[0.7777777777777778,\"#fb9f3a\"],[0.8888888888888888,\"#fdca26\"],[1.0,\"#f0f921\"]]}],\"surface\":[{\"type\":\"surface\",\"colorbar\":{\"outlinewidth\":0,\"ticks\":\"\"},\"colorscale\":[[0.0,\"#0d0887\"],[0.1111111111111111,\"#46039f\"],[0.2222222222222222,\"#7201a8\"],[0.3333333333333333,\"#9c179e\"],[0.4444444444444444,\"#bd3786\"],[0.5555555555555556,\"#d8576b\"],[0.6666666666666666,\"#ed7953\"],[0.7777777777777778,\"#fb9f3a\"],[0.8888888888888888,\"#fdca26\"],[1.0,\"#f0f921\"]]}],\"mesh3d\":[{\"type\":\"mesh3d\",\"colorbar\":{\"outlinewidth\":0,\"ticks\":\"\"}}],\"scatter\":[{\"fillpattern\":{\"fillmode\":\"overlay\",\"size\":10,\"solidity\":0.2},\"type\":\"scatter\"}],\"parcoords\":[{\"type\":\"parcoords\",\"line\":{\"colorbar\":{\"outlinewidth\":0,\"ticks\":\"\"}}}],\"scatterpolargl\":[{\"type\":\"scatterpolargl\",\"marker\":{\"colorbar\":{\"outlinewidth\":0,\"ticks\":\"\"}}}],\"bar\":[{\"error_x\":{\"color\":\"#2a3f5f\"},\"error_y\":{\"color\":\"#2a3f5f\"},\"marker\":{\"line\":{\"color\":\"#E5ECF6\",\"width\":0.5},\"pattern\":{\"fillmode\":\"overlay\",\"size\":10,\"solidity\":0.2}},\"type\":\"bar\"}],\"scattergeo\":[{\"type\":\"scattergeo\",\"marker\":{\"colorbar\":{\"outlinewidth\":0,\"ticks\":\"\"}}}],\"scatterpolar\":[{\"type\":\"scatterpolar\",\"marker\":{\"colorbar\":{\"outlinewidth\":0,\"ticks\":\"\"}}}],\"histogram\":[{\"marker\":{\"pattern\":{\"fillmode\":\"overlay\",\"size\":10,\"solidity\":0.2}},\"type\":\"histogram\"}],\"scattergl\":[{\"type\":\"scattergl\",\"marker\":{\"colorbar\":{\"outlinewidth\":0,\"ticks\":\"\"}}}],\"scatter3d\":[{\"type\":\"scatter3d\",\"line\":{\"colorbar\":{\"outlinewidth\":0,\"ticks\":\"\"}},\"marker\":{\"colorbar\":{\"outlinewidth\":0,\"ticks\":\"\"}}}],\"scattermapbox\":[{\"type\":\"scattermapbox\",\"marker\":{\"colorbar\":{\"outlinewidth\":0,\"ticks\":\"\"}}}],\"scatterternary\":[{\"type\":\"scatterternary\",\"marker\":{\"colorbar\":{\"outlinewidth\":0,\"ticks\":\"\"}}}],\"scattercarpet\":[{\"type\":\"scattercarpet\",\"marker\":{\"colorbar\":{\"outlinewidth\":0,\"ticks\":\"\"}}}],\"carpet\":[{\"aaxis\":{\"endlinecolor\":\"#2a3f5f\",\"gridcolor\":\"white\",\"linecolor\":\"white\",\"minorgridcolor\":\"white\",\"startlinecolor\":\"#2a3f5f\"},\"baxis\":{\"endlinecolor\":\"#2a3f5f\",\"gridcolor\":\"white\",\"linecolor\":\"white\",\"minorgridcolor\":\"white\",\"startlinecolor\":\"#2a3f5f\"},\"type\":\"carpet\"}],\"table\":[{\"cells\":{\"fill\":{\"color\":\"#EBF0F8\"},\"line\":{\"color\":\"white\"}},\"header\":{\"fill\":{\"color\":\"#C8D4E3\"},\"line\":{\"color\":\"white\"}},\"type\":\"table\"}],\"barpolar\":[{\"marker\":{\"line\":{\"color\":\"#E5ECF6\",\"width\":0.5},\"pattern\":{\"fillmode\":\"overlay\",\"size\":10,\"solidity\":0.2}},\"type\":\"barpolar\"}],\"pie\":[{\"automargin\":true,\"type\":\"pie\"}]},\"layout\":{\"autotypenumbers\":\"strict\",\"colorway\":[\"#636efa\",\"#EF553B\",\"#00cc96\",\"#ab63fa\",\"#FFA15A\",\"#19d3f3\",\"#FF6692\",\"#B6E880\",\"#FF97FF\",\"#FECB52\"],\"font\":{\"color\":\"#2a3f5f\"},\"hovermode\":\"closest\",\"hoverlabel\":{\"align\":\"left\"},\"paper_bgcolor\":\"white\",\"plot_bgcolor\":\"#E5ECF6\",\"polar\":{\"bgcolor\":\"#E5ECF6\",\"angularaxis\":{\"gridcolor\":\"white\",\"linecolor\":\"white\",\"ticks\":\"\"},\"radialaxis\":{\"gridcolor\":\"white\",\"linecolor\":\"white\",\"ticks\":\"\"}},\"ternary\":{\"bgcolor\":\"#E5ECF6\",\"aaxis\":{\"gridcolor\":\"white\",\"linecolor\":\"white\",\"ticks\":\"\"},\"baxis\":{\"gridcolor\":\"white\",\"linecolor\":\"white\",\"ticks\":\"\"},\"caxis\":{\"gridcolor\":\"white\",\"linecolor\":\"white\",\"ticks\":\"\"}},\"coloraxis\":{\"colorbar\":{\"outlinewidth\":0,\"ticks\":\"\"}},\"colorscale\":{\"sequential\":[[0.0,\"#0d0887\"],[0.1111111111111111,\"#46039f\"],[0.2222222222222222,\"#7201a8\"],[0.3333333333333333,\"#9c179e\"],[0.4444444444444444,\"#bd3786\"],[0.5555555555555556,\"#d8576b\"],[0.6666666666666666,\"#ed7953\"],[0.7777777777777778,\"#fb9f3a\"],[0.8888888888888888,\"#fdca26\"],[1.0,\"#f0f921\"]],\"sequentialminus\":[[0.0,\"#0d0887\"],[0.1111111111111111,\"#46039f\"],[0.2222222222222222,\"#7201a8\"],[0.3333333333333333,\"#9c179e\"],[0.4444444444444444,\"#bd3786\"],[0.5555555555555556,\"#d8576b\"],[0.6666666666666666,\"#ed7953\"],[0.7777777777777778,\"#fb9f3a\"],[0.8888888888888888,\"#fdca26\"],[1.0,\"#f0f921\"]],\"diverging\":[[0,\"#8e0152\"],[0.1,\"#c51b7d\"],[0.2,\"#de77ae\"],[0.3,\"#f1b6da\"],[0.4,\"#fde0ef\"],[0.5,\"#f7f7f7\"],[0.6,\"#e6f5d0\"],[0.7,\"#b8e186\"],[0.8,\"#7fbc41\"],[0.9,\"#4d9221\"],[1,\"#276419\"]]},\"xaxis\":{\"gridcolor\":\"white\",\"linecolor\":\"white\",\"ticks\":\"\",\"title\":{\"standoff\":15},\"zerolinecolor\":\"white\",\"automargin\":true,\"zerolinewidth\":2},\"yaxis\":{\"gridcolor\":\"white\",\"linecolor\":\"white\",\"ticks\":\"\",\"title\":{\"standoff\":15},\"zerolinecolor\":\"white\",\"automargin\":true,\"zerolinewidth\":2},\"scene\":{\"xaxis\":{\"backgroundcolor\":\"#E5ECF6\",\"gridcolor\":\"white\",\"linecolor\":\"white\",\"showbackground\":true,\"ticks\":\"\",\"zerolinecolor\":\"white\",\"gridwidth\":2},\"yaxis\":{\"backgroundcolor\":\"#E5ECF6\",\"gridcolor\":\"white\",\"linecolor\":\"white\",\"showbackground\":true,\"ticks\":\"\",\"zerolinecolor\":\"white\",\"gridwidth\":2},\"zaxis\":{\"backgroundcolor\":\"#E5ECF6\",\"gridcolor\":\"white\",\"linecolor\":\"white\",\"showbackground\":true,\"ticks\":\"\",\"zerolinecolor\":\"white\",\"gridwidth\":2}},\"shapedefaults\":{\"line\":{\"color\":\"#2a3f5f\"}},\"annotationdefaults\":{\"arrowcolor\":\"#2a3f5f\",\"arrowhead\":0,\"arrowwidth\":1},\"geo\":{\"bgcolor\":\"white\",\"landcolor\":\"#E5ECF6\",\"subunitcolor\":\"white\",\"showland\":true,\"showlakes\":true,\"lakecolor\":\"white\"},\"title\":{\"x\":0.05},\"mapbox\":{\"style\":\"light\"}}},\"coloraxis\":{\"colorbar\":{\"title\":{\"text\":\"median_bootstrap\"}},\"colorscale\":[[0.0,\"rgb(103,0,31)\"],[0.1,\"rgb(178,24,43)\"],[0.2,\"rgb(214,96,77)\"],[0.3,\"rgb(244,165,130)\"],[0.4,\"rgb(253,219,199)\"],[0.5,\"rgb(247,247,247)\"],[0.6,\"rgb(209,229,240)\"],[0.7,\"rgb(146,197,222)\"],[0.8,\"rgb(67,147,195)\"],[0.9,\"rgb(33,102,172)\"],[1.0,\"rgb(5,48,97)\"]],\"cmin\":0,\"cmax\":1},\"legend\":{\"tracegroupgap\":0},\"margin\":{\"t\":50,\"l\":25,\"r\":25,\"b\":25},\"height\":600,\"width\":900},                        {\"responsive\": true}                    ).then(function(){\n",
       "                            \n",
       "var gd = document.getElementById('2fc39fc6-e54e-4e44-a862-57ad66b9176a');\n",
       "var x = new MutationObserver(function (mutations, observer) {{\n",
       "        var display = window.getComputedStyle(gd).display;\n",
       "        if (!display || display === 'none') {{\n",
       "            console.log([gd, 'removed!']);\n",
       "            Plotly.purge(gd);\n",
       "            observer.disconnect();\n",
       "        }}\n",
       "}});\n",
       "\n",
       "// Listen for the removal of the full notebook cells\n",
       "var notebookContainer = gd.closest('#notebook-container');\n",
       "if (notebookContainer) {{\n",
       "    x.observe(notebookContainer, {childList: true});\n",
       "}}\n",
       "\n",
       "// Listen for the clearing of the current output cell\n",
       "var outputEl = gd.closest('.output');\n",
       "if (outputEl) {{\n",
       "    x.observe(outputEl, {childList: true});\n",
       "}}\n",
       "\n",
       "                        })                };                });            </script>        </div>"
      ]
     },
     "metadata": {},
     "output_type": "display_data"
    }
   ],
   "source": [
    "treemap_generator( model_name = 'Salesforce/codegen-2B-mono' )"
   ]
  },
  {
   "attachments": {},
   "cell_type": "markdown",
   "metadata": {},
   "source": [
    "### Aggregation of Concepts"
   ]
  },
  {
   "cell_type": "code",
   "execution_count": null,
   "metadata": {},
   "outputs": [],
   "source": []
  },
  {
   "attachments": {},
   "cell_type": "markdown",
   "metadata": {},
   "source": [
    "# Other Statistics"
   ]
  },
  {
   "attachments": {},
   "cell_type": "markdown",
   "metadata": {},
   "source": [
    "## Leaf Agreggation"
   ]
  },
  {
   "cell_type": "code",
   "execution_count": 105,
   "metadata": {},
   "outputs": [
    {
     "data": {
      "text/html": [
       "<div>\n",
       "<style scoped>\n",
       "    .dataframe tbody tr th:only-of-type {\n",
       "        vertical-align: middle;\n",
       "    }\n",
       "\n",
       "    .dataframe tbody tr th {\n",
       "        vertical-align: top;\n",
       "    }\n",
       "\n",
       "    .dataframe thead th {\n",
       "        text-align: right;\n",
       "    }\n",
       "</style>\n",
       "<table border=\"1\" class=\"dataframe\">\n",
       "  <thead>\n",
       "    <tr style=\"text-align: right;\">\n",
       "      <th></th>\n",
       "      <th>ast_element</th>\n",
       "      <th>median_bootstrap</th>\n",
       "      <th>median_standard_error</th>\n",
       "    </tr>\n",
       "  </thead>\n",
       "  <tbody>\n",
       "    <tr>\n",
       "      <th>113</th>\n",
       "      <td>^</td>\n",
       "      <td>0.982604</td>\n",
       "      <td>0.011872</td>\n",
       "    </tr>\n",
       "    <tr>\n",
       "      <th>74</th>\n",
       "      <td>%</td>\n",
       "      <td>0.933755</td>\n",
       "      <td>0.003862</td>\n",
       "    </tr>\n",
       "    <tr>\n",
       "      <th>128</th>\n",
       "      <td>as</td>\n",
       "      <td>0.924103</td>\n",
       "      <td>0.022626</td>\n",
       "    </tr>\n",
       "    <tr>\n",
       "      <th>88</th>\n",
       "      <td>.</td>\n",
       "      <td>0.863973</td>\n",
       "      <td>0.001717</td>\n",
       "    </tr>\n",
       "    <tr>\n",
       "      <th>111</th>\n",
       "      <td>in</td>\n",
       "      <td>0.826170</td>\n",
       "      <td>0.004363</td>\n",
       "    </tr>\n",
       "    <tr>\n",
       "      <th>164</th>\n",
       "      <td>=</td>\n",
       "      <td>0.801372</td>\n",
       "      <td>0.001738</td>\n",
       "    </tr>\n",
       "    <tr>\n",
       "      <th>131</th>\n",
       "      <td>:</td>\n",
       "      <td>0.788136</td>\n",
       "      <td>0.002989</td>\n",
       "    </tr>\n",
       "    <tr>\n",
       "      <th>103</th>\n",
       "      <td>except</td>\n",
       "      <td>0.740165</td>\n",
       "      <td>0.005830</td>\n",
       "    </tr>\n",
       "    <tr>\n",
       "      <th>17</th>\n",
       "      <td>import</td>\n",
       "      <td>0.723340</td>\n",
       "      <td>0.029346</td>\n",
       "    </tr>\n",
       "    <tr>\n",
       "      <th>92</th>\n",
       "      <td>|=</td>\n",
       "      <td>0.720718</td>\n",
       "      <td>0.131313</td>\n",
       "    </tr>\n",
       "    <tr>\n",
       "      <th>32</th>\n",
       "      <td>]</td>\n",
       "      <td>0.678847</td>\n",
       "      <td>0.004874</td>\n",
       "    </tr>\n",
       "    <tr>\n",
       "      <th>44</th>\n",
       "      <td>(</td>\n",
       "      <td>0.604449</td>\n",
       "      <td>0.003787</td>\n",
       "    </tr>\n",
       "    <tr>\n",
       "      <th>124</th>\n",
       "      <td>elif</td>\n",
       "      <td>0.594925</td>\n",
       "      <td>0.004397</td>\n",
       "    </tr>\n",
       "    <tr>\n",
       "      <th>35</th>\n",
       "      <td>)</td>\n",
       "      <td>0.559057</td>\n",
       "      <td>0.002205</td>\n",
       "    </tr>\n",
       "    <tr>\n",
       "      <th>148</th>\n",
       "      <td>none</td>\n",
       "      <td>0.551869</td>\n",
       "      <td>0.011873</td>\n",
       "    </tr>\n",
       "    <tr>\n",
       "      <th>135</th>\n",
       "      <td>,</td>\n",
       "      <td>0.526347</td>\n",
       "      <td>0.002265</td>\n",
       "    </tr>\n",
       "    <tr>\n",
       "      <th>4</th>\n",
       "      <td>+=</td>\n",
       "      <td>0.510072</td>\n",
       "      <td>0.027724</td>\n",
       "    </tr>\n",
       "    <tr>\n",
       "      <th>12</th>\n",
       "      <td>escape_sequence</td>\n",
       "      <td>0.506237</td>\n",
       "      <td>0.005184</td>\n",
       "    </tr>\n",
       "    <tr>\n",
       "      <th>89</th>\n",
       "      <td>/=</td>\n",
       "      <td>0.496479</td>\n",
       "      <td>0.004400</td>\n",
       "    </tr>\n",
       "    <tr>\n",
       "      <th>155</th>\n",
       "      <td>^=</td>\n",
       "      <td>0.494717</td>\n",
       "      <td>0.000000</td>\n",
       "    </tr>\n",
       "    <tr>\n",
       "      <th>63</th>\n",
       "      <td>*=</td>\n",
       "      <td>0.493241</td>\n",
       "      <td>0.006284</td>\n",
       "    </tr>\n",
       "    <tr>\n",
       "      <th>26</th>\n",
       "      <td>&amp;=</td>\n",
       "      <td>0.490805</td>\n",
       "      <td>0.075123</td>\n",
       "    </tr>\n",
       "    <tr>\n",
       "      <th>22</th>\n",
       "      <td>\"</td>\n",
       "      <td>0.457762</td>\n",
       "      <td>0.002542</td>\n",
       "    </tr>\n",
       "    <tr>\n",
       "      <th>168</th>\n",
       "      <td>-&gt;</td>\n",
       "      <td>0.453950</td>\n",
       "      <td>0.023983</td>\n",
       "    </tr>\n",
       "    <tr>\n",
       "      <th>144</th>\n",
       "      <td>%=</td>\n",
       "      <td>0.444072</td>\n",
       "      <td>0.000000</td>\n",
       "    </tr>\n",
       "    <tr>\n",
       "      <th>53</th>\n",
       "      <td>&lt;&lt;=</td>\n",
       "      <td>0.420013</td>\n",
       "      <td>0.000000</td>\n",
       "    </tr>\n",
       "    <tr>\n",
       "      <th>75</th>\n",
       "      <td>[</td>\n",
       "      <td>0.382749</td>\n",
       "      <td>0.009982</td>\n",
       "    </tr>\n",
       "    <tr>\n",
       "      <th>120</th>\n",
       "      <td>identifier</td>\n",
       "      <td>0.374333</td>\n",
       "      <td>0.001502</td>\n",
       "    </tr>\n",
       "    <tr>\n",
       "      <th>83</th>\n",
       "      <td>==</td>\n",
       "      <td>0.371035</td>\n",
       "      <td>0.006124</td>\n",
       "    </tr>\n",
       "    <tr>\n",
       "      <th>36</th>\n",
       "      <td>true</td>\n",
       "      <td>0.367583</td>\n",
       "      <td>0.014420</td>\n",
       "    </tr>\n",
       "  </tbody>\n",
       "</table>\n",
       "</div>"
      ],
      "text/plain": [
       "         ast_element  median_bootstrap  median_standard_error\n",
       "113                ^          0.982604               0.011872\n",
       "74                 %          0.933755               0.003862\n",
       "128               as          0.924103               0.022626\n",
       "88                 .          0.863973               0.001717\n",
       "111               in          0.826170               0.004363\n",
       "164                =          0.801372               0.001738\n",
       "131                :          0.788136               0.002989\n",
       "103           except          0.740165               0.005830\n",
       "17            import          0.723340               0.029346\n",
       "92                |=          0.720718               0.131313\n",
       "32                 ]          0.678847               0.004874\n",
       "44                 (          0.604449               0.003787\n",
       "124             elif          0.594925               0.004397\n",
       "35                 )          0.559057               0.002205\n",
       "148             none          0.551869               0.011873\n",
       "135                ,          0.526347               0.002265\n",
       "4                 +=          0.510072               0.027724\n",
       "12   escape_sequence          0.506237               0.005184\n",
       "89                /=          0.496479               0.004400\n",
       "155               ^=          0.494717               0.000000\n",
       "63                *=          0.493241               0.006284\n",
       "26                &=          0.490805               0.075123\n",
       "22                 \"          0.457762               0.002542\n",
       "168               ->          0.453950               0.023983\n",
       "144               %=          0.444072               0.000000\n",
       "53               <<=          0.420013               0.000000\n",
       "75                 [          0.382749               0.009982\n",
       "120       identifier          0.374333               0.001502\n",
       "83                ==          0.371035               0.006124\n",
       "36              true          0.367583               0.014420"
      ]
     },
     "execution_count": 105,
     "metadata": {},
     "output_type": "execute_result"
    }
   ],
   "source": [
    "pd_processed_logits_global[(pd_processed_logits_global['node_type']=='leaf') & (pd_processed_logits_global['model']=='125M') ][['ast_element','median_bootstrap','median_standard_error']].nlargest(30, 'median_bootstrap')"
   ]
  },
  {
   "attachments": {},
   "cell_type": "markdown",
   "metadata": {},
   "source": [
    "## Parents Aggregations"
   ]
  },
  {
   "cell_type": "code",
   "execution_count": 108,
   "metadata": {},
   "outputs": [
    {
     "data": {
      "text/html": [
       "<div>\n",
       "<style scoped>\n",
       "    .dataframe tbody tr th:only-of-type {\n",
       "        vertical-align: middle;\n",
       "    }\n",
       "\n",
       "    .dataframe tbody tr th {\n",
       "        vertical-align: top;\n",
       "    }\n",
       "\n",
       "    .dataframe thead th {\n",
       "        text-align: right;\n",
       "    }\n",
       "</style>\n",
       "<table border=\"1\" class=\"dataframe\">\n",
       "  <thead>\n",
       "    <tr style=\"text-align: right;\">\n",
       "      <th></th>\n",
       "      <th>ast_element</th>\n",
       "      <th>median_bootstrap</th>\n",
       "      <th>median_standard_error</th>\n",
       "    </tr>\n",
       "  </thead>\n",
       "  <tbody>\n",
       "    <tr>\n",
       "      <th>126</th>\n",
       "      <td>import_prefix</td>\n",
       "      <td>0.969144</td>\n",
       "      <td>0.058085</td>\n",
       "    </tr>\n",
       "    <tr>\n",
       "      <th>79</th>\n",
       "      <td>relative_import</td>\n",
       "      <td>0.892930</td>\n",
       "      <td>0.048136</td>\n",
       "    </tr>\n",
       "    <tr>\n",
       "      <th>133</th>\n",
       "      <td>aliased_import</td>\n",
       "      <td>0.860397</td>\n",
       "      <td>0.074128</td>\n",
       "    </tr>\n",
       "    <tr>\n",
       "      <th>39</th>\n",
       "      <td>finally_clause</td>\n",
       "      <td>0.846666</td>\n",
       "      <td>0.009892</td>\n",
       "    </tr>\n",
       "    <tr>\n",
       "      <th>94</th>\n",
       "      <td>elif_clause</td>\n",
       "      <td>0.834726</td>\n",
       "      <td>0.003695</td>\n",
       "    </tr>\n",
       "    <tr>\n",
       "      <th>55</th>\n",
       "      <td>else_clause</td>\n",
       "      <td>0.827451</td>\n",
       "      <td>0.002142</td>\n",
       "    </tr>\n",
       "    <tr>\n",
       "      <th>18</th>\n",
       "      <td>except_clause</td>\n",
       "      <td>0.775656</td>\n",
       "      <td>0.002943</td>\n",
       "    </tr>\n",
       "    <tr>\n",
       "      <th>129</th>\n",
       "      <td>try_statement</td>\n",
       "      <td>0.775513</td>\n",
       "      <td>0.002269</td>\n",
       "    </tr>\n",
       "    <tr>\n",
       "      <th>46</th>\n",
       "      <td>while_statement</td>\n",
       "      <td>0.773447</td>\n",
       "      <td>0.004801</td>\n",
       "    </tr>\n",
       "    <tr>\n",
       "      <th>5</th>\n",
       "      <td>for_statement</td>\n",
       "      <td>0.756424</td>\n",
       "      <td>0.001350</td>\n",
       "    </tr>\n",
       "    <tr>\n",
       "      <th>68</th>\n",
       "      <td>if_statement</td>\n",
       "      <td>0.752642</td>\n",
       "      <td>0.000974</td>\n",
       "    </tr>\n",
       "    <tr>\n",
       "      <th>114</th>\n",
       "      <td>decorated_definition</td>\n",
       "      <td>0.751065</td>\n",
       "      <td>0.016396</td>\n",
       "    </tr>\n",
       "    <tr>\n",
       "      <th>15</th>\n",
       "      <td>with_statement</td>\n",
       "      <td>0.736043</td>\n",
       "      <td>0.004094</td>\n",
       "    </tr>\n",
       "    <tr>\n",
       "      <th>143</th>\n",
       "      <td>dictionary_splat</td>\n",
       "      <td>0.725408</td>\n",
       "      <td>0.013935</td>\n",
       "    </tr>\n",
       "    <tr>\n",
       "      <th>29</th>\n",
       "      <td>class_definition</td>\n",
       "      <td>0.719707</td>\n",
       "      <td>0.034463</td>\n",
       "    </tr>\n",
       "    <tr>\n",
       "      <th>162</th>\n",
       "      <td>list_pattern</td>\n",
       "      <td>0.680420</td>\n",
       "      <td>0.154463</td>\n",
       "    </tr>\n",
       "    <tr>\n",
       "      <th>110</th>\n",
       "      <td>concatenated_string</td>\n",
       "      <td>0.679554</td>\n",
       "      <td>0.005537</td>\n",
       "    </tr>\n",
       "    <tr>\n",
       "      <th>41</th>\n",
       "      <td>for_in_clause</td>\n",
       "      <td>0.677293</td>\n",
       "      <td>0.006489</td>\n",
       "    </tr>\n",
       "    <tr>\n",
       "      <th>31</th>\n",
       "      <td>block</td>\n",
       "      <td>0.676806</td>\n",
       "      <td>0.000994</td>\n",
       "    </tr>\n",
       "    <tr>\n",
       "      <th>1</th>\n",
       "      <td>function_definition</td>\n",
       "      <td>0.654970</td>\n",
       "      <td>0.001063</td>\n",
       "    </tr>\n",
       "    <tr>\n",
       "      <th>102</th>\n",
       "      <td>module</td>\n",
       "      <td>0.651386</td>\n",
       "      <td>0.001200</td>\n",
       "    </tr>\n",
       "    <tr>\n",
       "      <th>48</th>\n",
       "      <td>chevron</td>\n",
       "      <td>0.630823</td>\n",
       "      <td>0.158155</td>\n",
       "    </tr>\n",
       "    <tr>\n",
       "      <th>98</th>\n",
       "      <td>delete_statement</td>\n",
       "      <td>0.613818</td>\n",
       "      <td>0.016431</td>\n",
       "    </tr>\n",
       "    <tr>\n",
       "      <th>163</th>\n",
       "      <td>argument_list</td>\n",
       "      <td>0.611295</td>\n",
       "      <td>0.001491</td>\n",
       "    </tr>\n",
       "    <tr>\n",
       "      <th>136</th>\n",
       "      <td>pair</td>\n",
       "      <td>0.596427</td>\n",
       "      <td>0.006278</td>\n",
       "    </tr>\n",
       "    <tr>\n",
       "      <th>115</th>\n",
       "      <td>subscript</td>\n",
       "      <td>0.591260</td>\n",
       "      <td>0.002775</td>\n",
       "    </tr>\n",
       "    <tr>\n",
       "      <th>121</th>\n",
       "      <td>with_item</td>\n",
       "      <td>0.577654</td>\n",
       "      <td>0.011512</td>\n",
       "    </tr>\n",
       "    <tr>\n",
       "      <th>139</th>\n",
       "      <td>with_clause</td>\n",
       "      <td>0.576771</td>\n",
       "      <td>0.010448</td>\n",
       "    </tr>\n",
       "    <tr>\n",
       "      <th>13</th>\n",
       "      <td>decorator</td>\n",
       "      <td>0.573255</td>\n",
       "      <td>0.019625</td>\n",
       "    </tr>\n",
       "    <tr>\n",
       "      <th>87</th>\n",
       "      <td>interpolation</td>\n",
       "      <td>0.572007</td>\n",
       "      <td>0.020618</td>\n",
       "    </tr>\n",
       "  </tbody>\n",
       "</table>\n",
       "</div>"
      ],
      "text/plain": [
       "              ast_element  median_bootstrap  median_standard_error\n",
       "126         import_prefix          0.969144               0.058085\n",
       "79        relative_import          0.892930               0.048136\n",
       "133        aliased_import          0.860397               0.074128\n",
       "39         finally_clause          0.846666               0.009892\n",
       "94            elif_clause          0.834726               0.003695\n",
       "55            else_clause          0.827451               0.002142\n",
       "18          except_clause          0.775656               0.002943\n",
       "129         try_statement          0.775513               0.002269\n",
       "46        while_statement          0.773447               0.004801\n",
       "5           for_statement          0.756424               0.001350\n",
       "68           if_statement          0.752642               0.000974\n",
       "114  decorated_definition          0.751065               0.016396\n",
       "15         with_statement          0.736043               0.004094\n",
       "143      dictionary_splat          0.725408               0.013935\n",
       "29       class_definition          0.719707               0.034463\n",
       "162          list_pattern          0.680420               0.154463\n",
       "110   concatenated_string          0.679554               0.005537\n",
       "41          for_in_clause          0.677293               0.006489\n",
       "31                  block          0.676806               0.000994\n",
       "1     function_definition          0.654970               0.001063\n",
       "102                module          0.651386               0.001200\n",
       "48                chevron          0.630823               0.158155\n",
       "98       delete_statement          0.613818               0.016431\n",
       "163         argument_list          0.611295               0.001491\n",
       "136                  pair          0.596427               0.006278\n",
       "115             subscript          0.591260               0.002775\n",
       "121             with_item          0.577654               0.011512\n",
       "139           with_clause          0.576771               0.010448\n",
       "13              decorator          0.573255               0.019625\n",
       "87          interpolation          0.572007               0.020618"
      ]
     },
     "execution_count": 108,
     "metadata": {},
     "output_type": "execute_result"
    }
   ],
   "source": [
    "pd_processed_logits_global[(pd_processed_logits_global['node_type']=='parent') & (pd_processed_logits_global['model']=='125M') ][['ast_element','median_bootstrap','median_standard_error']].nlargest(30, 'median_bootstrap')"
   ]
  }
 ],
 "metadata": {
  "kernelspec": {
   "display_name": "Python 3.9.2 64-bit",
   "language": "python",
   "name": "python3"
  },
  "language_info": {
   "codemirror_mode": {
    "name": "ipython",
    "version": 3
   },
   "file_extension": ".py",
   "mimetype": "text/x-python",
   "name": "python",
   "nbconvert_exporter": "python",
   "pygments_lexer": "ipython3",
   "version": "3.8.10"
  },
  "orig_nbformat": 4,
  "vscode": {
   "interpreter": {
    "hash": "31f2aee4e71d21fbe5cf8b01ff0e069b9275f58929596ceb00d14d90e3e16cd6"
   }
  }
 },
 "nbformat": 4,
 "nbformat_minor": 2
}
