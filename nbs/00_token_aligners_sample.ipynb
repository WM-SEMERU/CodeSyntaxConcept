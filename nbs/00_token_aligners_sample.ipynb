{
 "cells": [
  {
   "cell_type": "code",
   "execution_count": 5,
   "metadata": {},
   "outputs": [],
   "source": [
    "# default_exp core"
   ]
  },
  {
   "cell_type": "code",
   "execution_count": 1,
   "metadata": {},
   "outputs": [],
   "source": [
    "import ast\n",
    "\n",
    "from transformers import AutoTokenizer, AutoModelWithLMHead\n",
    "\n",
    "\n",
    "from core.aligners.custom_aligner import CustomAligner\n",
    "from core.aligners.needleman_wunch import NeedlemanWunch\n",
    "from core.parsers.ast_unparser import UnparserTokenizer"
   ]
  },
  {
   "cell_type": "markdown",
   "metadata": {},
   "source": [
    "# Demo"
   ]
  },
  {
   "cell_type": "code",
   "execution_count": 2,
   "metadata": {},
   "outputs": [
    {
     "name": "stderr",
     "output_type": "stream",
     "text": [
      "/usr/local/lib/python3.10/dist-packages/transformers/models/auto/modeling_auto.py:998: FutureWarning: The class `AutoModelWithLMHead` is deprecated and will be removed in a future version. Please use `AutoModelForCausalLM` for causal language models, `AutoModelForMaskedLM` for masked language models and `AutoModelForSeq2SeqLM` for encoder-decoder models.\n",
      "  warnings.warn(\n"
     ]
    },
    {
     "data": {
      "application/vnd.jupyter.widget-view+json": {
       "model_id": "bb43ce25915d4bfc984ba3e1a18405f6",
       "version_major": 2,
       "version_minor": 0
      },
      "text/plain": [
       "Downloading config.json:   0%|          | 0.00/665 [00:00<?, ?B/s]"
      ]
     },
     "metadata": {},
     "output_type": "display_data"
    },
    {
     "data": {
      "application/vnd.jupyter.widget-view+json": {
       "model_id": "72ba23206594426cb0eb65d457dbbf3b",
       "version_major": 2,
       "version_minor": 0
      },
      "text/plain": [
       "Downloading pytorch_model.bin:   0%|          | 0.00/523M [00:00<?, ?B/s]"
      ]
     },
     "metadata": {},
     "output_type": "display_data"
    },
    {
     "data": {
      "application/vnd.jupyter.widget-view+json": {
       "model_id": "1bc4e6dbb1d34f12ae49bd01e3b36640",
       "version_major": 2,
       "version_minor": 0
      },
      "text/plain": [
       "Downloading vocab.json:   0%|          | 0.00/0.99M [00:00<?, ?B/s]"
      ]
     },
     "metadata": {},
     "output_type": "display_data"
    },
    {
     "data": {
      "application/vnd.jupyter.widget-view+json": {
       "model_id": "98bacd39ee2e43f08847f06a0e741f47",
       "version_major": 2,
       "version_minor": 0
      },
      "text/plain": [
       "Downloading merges.txt:   0%|          | 0.00/446k [00:00<?, ?B/s]"
      ]
     },
     "metadata": {},
     "output_type": "display_data"
    },
    {
     "data": {
      "application/vnd.jupyter.widget-view+json": {
       "model_id": "e3b3301abc724a6ca5344587bab58af7",
       "version_major": 2,
       "version_minor": 0
      },
      "text/plain": [
       "Downloading tokenizer.json:   0%|          | 0.00/1.29M [00:00<?, ?B/s]"
      ]
     },
     "metadata": {},
     "output_type": "display_data"
    }
   ],
   "source": [
    "# Model\n",
    "model = AutoModelWithLMHead.from_pretrained(\"gpt2\")\n",
    "# Define the tokenizer\n",
    "tokenizer = AutoTokenizer.from_pretrained(\"gpt2\")"
   ]
  },
  {
   "cell_type": "code",
   "execution_count": 3,
   "metadata": {},
   "outputs": [],
   "source": [
    "# source code\n",
    "source_code = 'def testing(a,b):\\n variable_1=5656556\\n variable_2=5656556\\n while true: return a*b'"
   ]
  },
  {
   "cell_type": "code",
   "execution_count": 4,
   "metadata": {},
   "outputs": [],
   "source": [
    "# unparser tokenizer\n",
    "unparser_tokenizer = UnparserTokenizer()\n",
    "parsed_ast = ast.parse(source_code, mode='exec')"
   ]
  },
  {
   "cell_type": "code",
   "execution_count": 5,
   "metadata": {},
   "outputs": [],
   "source": [
    "# deep model output\n",
    "model_tokens = tokenizer.tokenize(source_code)"
   ]
  },
  {
   "cell_type": "code",
   "execution_count": 6,
   "metadata": {},
   "outputs": [],
   "source": [
    "# python unparser tokenizer output\n",
    "ast_tokens = unparser_tokenizer.find_tokens(parsed_ast)"
   ]
  },
  {
   "cell_type": "code",
   "execution_count": 7,
   "metadata": {},
   "outputs": [],
   "source": [
    "# neddleman wunch to find association\n",
    "needleman_wunch = NeedlemanWunch(model_tokens.copy(), ast_tokens.copy())\n",
    "needleman_wunch.find_optimal_sequence()"
   ]
  },
  {
   "cell_type": "code",
   "execution_count": 8,
   "metadata": {},
   "outputs": [],
   "source": [
    "# custon aligner\n",
    "custom_aligner = CustomAligner(model_tokens.copy(), ast_tokens.copy())\n",
    "custom_aligner.align_tokens()"
   ]
  },
  {
   "cell_type": "code",
   "execution_count": 9,
   "metadata": {},
   "outputs": [],
   "source": [
    "# get results\n",
    "needleman_output = needleman_wunch.get_model_tokens_queue()\n",
    "custom_aligner_output = custom_aligner.get_model_tokens_queue()"
   ]
  },
  {
   "cell_type": "code",
   "execution_count": 10,
   "metadata": {},
   "outputs": [
    {
     "name": "stdout",
     "output_type": "stream",
     "text": [
      "\n",
      "-------------------- NEEDLEMAN WUNCH ALIGNER -------------------\n",
      "\n",
      "{'token': 'def', 'association': {'token': '\\n', 'family': '_FunctionDef'}}\n",
      "{'token': 'Ġtesting', 'association': {'token': '\\ndef testing(', 'family': '_FunctionDef'}}\n",
      "{'token': '(', 'association': {'token': 'a', 'family': '_arg'}}\n",
      "{'token': 'a', 'association': {'token': ', ', 'family': '_arguments'}}\n",
      "{'token': ',', 'association': {'token': 'b', 'family': '_arg'}}\n",
      "{'token': 'b', 'association': {'token': ')', 'family': '_FunctionDef'}}\n",
      "{'token': '):', 'association': {'token': ':', 'family': '_Ident'}}\n",
      "{'token': 'Ċ', 'association': {'token': '\\n    ', 'family': '_Assign'}}\n",
      "{'token': 'Ġvariable', 'association': {'token': 'variable_1', 'family': '_Name'}}\n",
      "{'token': '_', 'association': {'token': ' = ', 'family': '_Assign'}}\n",
      "{'token': '1', 'association': {'token': '5656556', 'family': '_Constant'}}\n",
      "{'token': '=', 'association': {'token': '\\n    ', 'family': '_Assign'}}\n",
      "{'token': '565', 'association': {'token': 'variable_2', 'family': '_Name'}}\n",
      "{'token': '655', 'association': {'token': ' = ', 'family': '_Assign'}}\n",
      "{'token': '6', 'association': {'token': '5656556', 'family': '_Constant'}}\n",
      "{'token': 'Ċ', 'association': {'token': '\\n    while ', 'family': '_While'}}\n",
      "{'token': 'Ġvariable', 'association': {'token': 'true', 'family': '_Name'}}\n",
      "{'token': '_', 'association': {'token': ':', 'family': '_While'}}\n",
      "{'token': '2', 'association': {'token': '\\n        return', 'family': '_Return'}}\n",
      "{'token': '=', 'association': {'token': ' ', 'family': '_Return'}}\n",
      "{'token': '565', 'association': {'token': '(', 'family': '_BinOp'}}\n",
      "{'token': '655', 'association': {'token': 'a', 'family': '_Name'}}\n",
      "{'token': '6', 'association': {'token': ' * ', 'family': '_BinOp'}}\n",
      "{'token': 'Ċ', 'association': {'token': 'b', 'family': '_Name'}}\n",
      "{'token': 'Ġwhile', 'association': {'token': ')', 'family': '_BinOp'}}\n",
      "{'token': 'Ġtrue', 'association': {'token': ')', 'family': '_BinOp'}}\n",
      "{'token': ':', 'association': {'token': ')', 'family': '_BinOp'}}\n",
      "{'token': 'Ġreturn', 'association': {'token': ')', 'family': '_BinOp'}}\n",
      "{'token': 'Ġa', 'association': {'token': ')', 'family': '_BinOp'}}\n",
      "{'token': '*', 'association': {'token': ')', 'family': '_BinOp'}}\n",
      "{'token': 'b', 'association': {'token': ')', 'family': '_BinOp'}}\n"
     ]
    }
   ],
   "source": [
    "print('\\n-------------------- NEEDLEMAN WUNCH ALIGNER -------------------\\n')\n",
    "for token in needleman_output:\n",
    "    print(token)"
   ]
  },
  {
   "cell_type": "code",
   "execution_count": 11,
   "metadata": {},
   "outputs": [
    {
     "name": "stdout",
     "output_type": "stream",
     "text": [
      "\n",
      "------------------------- CUSTOM ALIGNER -----------------------\n",
      "\n",
      "{'token': 'def', 'association': {'token': '\\ndef testing(', 'family': '_FunctionDef'}}\n",
      "{'token': 'Ġtesting', 'association': {'token': '\\ndef testing(', 'family': '_FunctionDef'}}\n",
      "{'token': '(', 'association': {'token': '\\ndef testing(', 'family': '_FunctionDef'}}\n",
      "{'token': 'a', 'association': {'token': 'a', 'family': '_arg'}}\n",
      "{'token': ',', 'association': {'token': ', ', 'family': '_arguments'}}\n",
      "{'token': 'b', 'association': {'token': 'b', 'family': '_arg'}}\n",
      "{'token': '):', 'association': {'token': ':', 'family': '_Ident'}}\n",
      "{'token': 'Ċ', 'association': None}\n",
      "{'token': 'Ġvariable', 'association': {'token': 'variable_1', 'family': '_Name'}}\n",
      "{'token': '_', 'association': {'token': 'variable_1', 'family': '_Name'}}\n",
      "{'token': '1', 'association': {'token': 'variable_1', 'family': '_Name'}}\n",
      "{'token': '=', 'association': {'token': ' = ', 'family': '_Assign'}}\n",
      "{'token': '565', 'association': {'token': '5656556', 'family': '_Constant'}}\n",
      "{'token': '655', 'association': {'token': '5656556', 'family': '_Constant'}}\n",
      "{'token': '6', 'association': {'token': '5656556', 'family': '_Constant'}}\n",
      "{'token': 'Ċ', 'association': None}\n",
      "{'token': 'Ġvariable', 'association': {'token': 'variable_2', 'family': '_Name'}}\n",
      "{'token': '_', 'association': {'token': 'variable_2', 'family': '_Name'}}\n",
      "{'token': '2', 'association': {'token': 'variable_2', 'family': '_Name'}}\n",
      "{'token': '=', 'association': {'token': ' = ', 'family': '_Assign'}}\n",
      "{'token': '565', 'association': {'token': '5656556', 'family': '_Constant'}}\n",
      "{'token': '655', 'association': {'token': '5656556', 'family': '_Constant'}}\n",
      "{'token': '6', 'association': {'token': '5656556', 'family': '_Constant'}}\n",
      "{'token': 'Ċ', 'association': None}\n",
      "{'token': 'Ġwhile', 'association': {'token': '\\n    while ', 'family': '_While'}}\n",
      "{'token': 'Ġtrue', 'association': {'token': 'true', 'family': '_Name'}}\n",
      "{'token': ':', 'association': {'token': ':', 'family': '_While'}}\n",
      "{'token': 'Ġreturn', 'association': {'token': '\\n        return', 'family': '_Return'}}\n",
      "{'token': 'Ġa', 'association': {'token': 'a', 'family': '_Name'}}\n",
      "{'token': '*', 'association': {'token': ' * ', 'family': '_BinOp'}}\n",
      "{'token': 'b', 'association': {'token': 'b', 'family': '_Name'}}\n"
     ]
    }
   ],
   "source": [
    "print('\\n------------------------- CUSTOM ALIGNER -----------------------\\n')\n",
    "for token in custom_aligner_output:\n",
    "    print(token)"
   ]
  },
  {
   "cell_type": "code",
   "execution_count": null,
   "metadata": {},
   "outputs": [],
   "source": []
  }
 ],
 "metadata": {
  "kernelspec": {
   "display_name": "Python 3 (ipykernel)",
   "language": "python",
   "name": "python3"
  },
  "language_info": {
   "codemirror_mode": {
    "name": "ipython",
    "version": 3
   },
   "file_extension": ".py",
   "mimetype": "text/x-python",
   "name": "python",
   "nbconvert_exporter": "python",
   "pygments_lexer": "ipython3",
   "version": "3.10.4"
  }
 },
 "nbformat": 4,
 "nbformat_minor": 2
}
