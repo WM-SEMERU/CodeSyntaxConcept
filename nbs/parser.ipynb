{
 "cells": [
  {
   "cell_type": "markdown",
   "metadata": {},
   "source": [
    "# Parser "
   ]
  },
  {
   "cell_type": "code",
   "execution_count": 61,
   "metadata": {},
   "outputs": [],
   "source": [
    "#| default_exp parser"
   ]
  },
  {
   "cell_type": "code",
   "execution_count": 62,
   "metadata": {},
   "outputs": [],
   "source": [
    "#| export\n",
    "import CodeSyntaxConcept\n",
    "\n",
    "from CodeSyntaxConcept.tokenizer import CodeTokenizer, get_token_type\n",
    "import CodeSyntaxConcept.utils as utils\n",
    "import pandas as pd"
   ]
  },
  {
   "cell_type": "code",
   "execution_count": 63,
   "metadata": {},
   "outputs": [],
   "source": [
    "#| hide\n",
    "from nbdev.showdoc import *"
   ]
  },
  {
   "cell_type": "code",
   "execution_count": 80,
   "metadata": {},
   "outputs": [],
   "source": [
    "#| export\n",
    "class TreeSitterParser:\n",
    "    \n",
    "    def __init__(self, tokenizer: CodeTokenizer):\n",
    "        self.tokenizer = tokenizer\n",
    "\n",
    "    def process_source_code(self,source_code: str):\n",
    "        ast_representation = self.tokenizer.parser.parse(bytes(source_code, \"utf8\"))\n",
    "        ast_nodes = []\n",
    "        utils.traverse(ast_representation.root_node, ast_nodes)\n",
    "        source_code_ast_types = []\n",
    "        for node_index, node in enumerate(ast_nodes):\n",
    "            #source_code_ast_types.append([node.text.decode(\"utf-8\"), self.tokenizer.node_types.index(node.type), self.tokenizer.node_types.index(node.parent.type)])\n",
    "            source_code_ast_types.append((node.text.decode(\"utf-8\"), node.type, node.parent.type))\n",
    "        return pd.DataFrame(source_code_ast_types, columns=['input', 'ast_concept', 'parent_ast_concept'])\n",
    "\n",
    "    def process_model_source_code(self, source_code: str):\n",
    "        source_code_encoding = self.tokenizer(source_code)\n",
    "        source_code_ast_types = []\n",
    "        for input_id_index, input_id in enumerate(source_code_encoding['input_ids']):\n",
    "            #source_code_ast_types.append([input_id, source_code_encoding['ast_ids'][input_id_index], source_code_encoding['parent_ast_ids'][input_id_index]])\n",
    "            source_code_ast_types.append((\n",
    "                input_id, \n",
    "                'ERROR' if source_code_encoding['ast_ids'][input_id_index] == -1 else self.tokenizer.node_types[source_code_encoding['ast_ids'][input_id_index]], \n",
    "                'ERROR' if source_code_encoding['ast_ids'][input_id_index] == -1 else self.tokenizer.node_types[source_code_encoding['parent_ast_ids'][input_id_index]]))\n",
    "        return source_code_encoding, pd.DataFrame(source_code_ast_types, columns=['input_id', 'ast_concept', 'parent_ast_concept'])"
   ]
  },
  {
   "cell_type": "markdown",
   "metadata": {},
   "source": [
    "# Testing"
   ]
  },
  {
   "cell_type": "code",
   "execution_count": 81,
   "metadata": {},
   "outputs": [],
   "source": [
    "checkpoint = \"EleutherAI/gpt-neo-125M\"\n",
    "#checkpoint = \"EleutherAI/gpt-neo-1.3B\"\n",
    "\n",
    "tokenizer = CodeTokenizer.from_pretrained(checkpoint, \"python\")\n",
    "parser = TreeSitterParser(tokenizer)\n",
    "\n",
    "source_code = \"def multiply_numbers(a,b):\\n    return a*b\""
   ]
  },
  {
   "cell_type": "code",
   "execution_count": 82,
   "metadata": {},
   "outputs": [
    {
     "name": "stdout",
     "output_type": "stream",
     "text": [
      "               input ast_concept   parent_ast_concept\n",
      "0                def         def  function_definition\n",
      "1   multiply_numbers  identifier  function_definition\n",
      "2                  (           (           parameters\n",
      "3                  a  identifier           parameters\n",
      "4                  ,           ,           parameters\n",
      "5                  b  identifier           parameters\n",
      "6                  )           )           parameters\n",
      "7                  :           :  function_definition\n",
      "8             return      return     return_statement\n",
      "9                  a  identifier      binary_operator\n",
      "10                 *           *      binary_operator\n",
      "11                 b  identifier      binary_operator\n"
     ]
    }
   ],
   "source": [
    "print(parser.process_source_code(source_code))"
   ]
  },
  {
   "cell_type": "code",
   "execution_count": 85,
   "metadata": {},
   "outputs": [
    {
     "name": "stdout",
     "output_type": "stream",
     "text": [
      "[4299, 29162, 62, 77, 17024, 7, 64, 11, 65, 2599, 198, 220, 220, 220, 1441, 257, 9, 65]\n",
      "    input_id ast_concept   parent_ast_concept\n",
      "0       4299         def  function_definition\n",
      "1      29162  identifier  function_definition\n",
      "2         62  identifier  function_definition\n",
      "3         77  identifier  function_definition\n",
      "4      17024  identifier  function_definition\n",
      "5          7           (           parameters\n",
      "6         64  identifier           parameters\n",
      "7         11           ,           parameters\n",
      "8         65  identifier           parameters\n",
      "9       2599           )           parameters\n",
      "10       198       ERROR                ERROR\n",
      "11       220       ERROR                ERROR\n",
      "12       220       ERROR                ERROR\n",
      "13       220       ERROR                ERROR\n",
      "14      1441      return     return_statement\n",
      "15       257  identifier      binary_operator\n",
      "16         9           *      binary_operator\n",
      "17        65  identifier      binary_operator\n"
     ]
    }
   ],
   "source": [
    "source_code_encoding, source_code_dataframe = parser.process_model_source_code(source_code)\n",
    "print(source_code_encoding['input_ids'])\n",
    "print(source_code_dataframe)"
   ]
  }
 ],
 "metadata": {
  "kernelspec": {
   "display_name": "Python 3.10.8 (conda)",
   "language": "python",
   "name": "python3"
  },
  "language_info": {
   "codemirror_mode": {
    "name": "ipython",
    "version": 3
   },
   "file_extension": ".py",
   "mimetype": "text/x-python",
   "name": "python",
   "nbconvert_exporter": "python",
   "pygments_lexer": "ipython3",
   "version": "3.10.8"
  },
  "orig_nbformat": 4,
  "vscode": {
   "interpreter": {
    "hash": "49b68b9c38357b2088122ab1ddc655dffe83bd2309642e44c64d6d94a1d66aec"
   }
  }
 },
 "nbformat": 4,
 "nbformat_minor": 2
}
