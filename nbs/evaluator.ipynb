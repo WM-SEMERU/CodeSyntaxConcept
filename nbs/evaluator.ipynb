{
 "cells": [
  {
   "cell_type": "markdown",
   "metadata": {},
   "source": [
    "# Evaluation Module"
   ]
  },
  {
   "cell_type": "code",
   "execution_count": 1,
   "metadata": {},
   "outputs": [],
   "source": [
    "#| default_exp evaluator"
   ]
  },
  {
   "cell_type": "code",
   "execution_count": 2,
   "metadata": {},
   "outputs": [
    {
     "name": "stderr",
     "output_type": "stream",
     "text": [
      "/home/svelascodimate/miniconda3/envs/code-syntax-concept/lib/python3.10/site-packages/tqdm/auto.py:22: TqdmWarning: IProgress not found. Please update jupyter and ipywidgets. See https://ipywidgets.readthedocs.io/en/stable/user_install.html\n",
      "  from .autonotebook import tqdm as notebook_tqdm\n"
     ]
    }
   ],
   "source": [
    "#| export\n",
    "import CodeSyntaxConcept\n",
    "\n",
    "from CodeSyntaxConcept.tokenizer import CodeTokenizer\n",
    "from CodeSyntaxConcept.parser import TreeSitterParser\n",
    "import CodeSyntaxConcept.utils as utils\n",
    "import pandas as pd"
   ]
  },
  {
   "cell_type": "code",
   "execution_count": 3,
   "metadata": {},
   "outputs": [],
   "source": [
    "#| hide\n",
    "from nbdev.showdoc import *"
   ]
  },
  {
   "cell_type": "code",
   "execution_count": 14,
   "metadata": {},
   "outputs": [],
   "source": [
    "#| export\n",
    "class Evaluator:\n",
    "\n",
    "    def __init__(self, checkpoint: str, language):\n",
    "        self.tokenizer = CodeTokenizer.from_pretrained(checkpoint, language)\n",
    "        self.parser = TreeSitterParser(self.tokenizer)\n",
    "    \n",
    "    def __call__(self, test_set):\n",
    "        test_set_concepts = pd.DataFrame([], columns=['whole_func_string', 'ast_concepts', 'model_tokenizer_concepts', 'model_input_ids', 'model_total_input_ids'])\n",
    "        for test_sample in test_set: \n",
    "            ast_concepts = self.parser.process_source_code(test_sample['whole_func_string'])\n",
    "            source_code_encoding, tokenizer_concepts =  self.parser.process_model_source_code(test_sample['whole_func_string'])\n",
    "            test_set_concepts.loc[len(test_set_concepts.index)] = (test_sample['whole_func_string'], ast_concepts, tokenizer_concepts, source_code_encoding['input_ids'], len(source_code_encoding['input_ids']))\n",
    "        return test_set_concepts"
   ]
  },
  {
   "cell_type": "markdown",
   "metadata": {},
   "source": [
    "# Testing"
   ]
  },
  {
   "cell_type": "code",
   "execution_count": 15,
   "metadata": {},
   "outputs": [
    {
     "name": "stderr",
     "output_type": "stream",
     "text": [
      "No config specified, defaulting to: code_search_net/all\n",
      "Found cached dataset code_search_net (/home/svelascodimate/.cache/huggingface/datasets/code_search_net/all/1.0.0/80a244ab541c6b2125350b764dc5c2b715f65f00de7a56107a28915fac173a27)\n",
      "  0%|          | 0/101 [00:00<?, ?ba/s]Token indices sequence length is longer than the specified maximum sequence length for this model (2272 > 2048). Running this sequence through the model will result in indexing errors\n",
      " 99%|█████████▉| 100/101 [00:20<00:00,  5.00ba/s]\n"
     ]
    }
   ],
   "source": [
    "from datasets import load_dataset    \n",
    "import pandas as pd\n",
    "\n",
    "\n",
    "checkpoint = \"EleutherAI/gpt-neo-125M\"\n",
    "language = \"python\"\n",
    "maximun_number_of_samples = 1\n",
    "\n",
    "evaluator = Evaluator(checkpoint, language)\n",
    "\n",
    "test_set = utils.get_sub_set_test_set(utils.get_test_sets(load_dataset(\"code_search_net\", split='test'), \"python\", 2048, evaluator.tokenizer), maximun_number_of_samples)"
   ]
  },
  {
   "cell_type": "code",
   "execution_count": 16,
   "metadata": {},
   "outputs": [
    {
     "name": "stdout",
     "output_type": "stream",
     "text": [
      "                                   whole_func_string  \\\n",
      "0  def get_vid_from_url(url):\\n        \"\"\"Extract...   \n",
      "\n",
      "                                        ast_concepts  \\\n",
      "0  [(def, def, function_definition), (get_vid_fro...   \n",
      "\n",
      "                            model_tokenizer_concepts  \\\n",
      "0  [(4299, def, function_definition), (651, ident...   \n",
      "\n",
      "                                     model_input_ids  model_total_input_ids  \n",
      "0  [4299, 651, 62, 16921, 62, 6738, 62, 6371, 7, ...                    212  \n"
     ]
    }
   ],
   "source": [
    "print(evaluator(test_set))"
   ]
  },
  {
   "cell_type": "code",
   "execution_count": 17,
   "metadata": {},
   "outputs": [
    {
     "name": "stdout",
     "output_type": "stream",
     "text": [
      "2048\n"
     ]
    }
   ],
   "source": [
    "print(evaluator.tokenizer.tokenizer.max_len_single_sentence)"
   ]
  }
 ],
 "metadata": {
  "kernelspec": {
   "display_name": "Python 3.10.8 (conda)",
   "language": "python",
   "name": "python3"
  },
  "language_info": {
   "codemirror_mode": {
    "name": "ipython",
    "version": 3
   },
   "file_extension": ".py",
   "mimetype": "text/x-python",
   "name": "python",
   "nbconvert_exporter": "python",
   "pygments_lexer": "ipython3",
   "version": "3.10.8"
  },
  "orig_nbformat": 4,
  "vscode": {
   "interpreter": {
    "hash": "49b68b9c38357b2088122ab1ddc655dffe83bd2309642e44c64d6d94a1d66aec"
   }
  }
 },
 "nbformat": 4,
 "nbformat_minor": 2
}
