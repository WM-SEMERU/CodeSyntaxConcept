{
 "cells": [
  {
   "cell_type": "markdown",
   "metadata": {},
   "source": [
    "# Core Module Tokenizer"
   ]
  },
  {
   "cell_type": "code",
   "execution_count": 1,
   "metadata": {},
   "outputs": [],
   "source": [
    "#| default_exp tokenizer"
   ]
  },
  {
   "cell_type": "code",
   "execution_count": 2,
   "metadata": {},
   "outputs": [
    {
     "name": "stderr",
     "output_type": "stream",
     "text": [
      "/home/svelascodimate/miniconda3/envs/code-syntax-concept/lib/python3.10/site-packages/tqdm/auto.py:22: TqdmWarning: IProgress not found. Please update jupyter and ipywidgets. See https://ipywidgets.readthedocs.io/en/stable/user_install.html\n",
      "  from .autonotebook import tqdm as notebook_tqdm\n"
     ]
    }
   ],
   "source": [
    "#| export\n",
    "import CodeSyntaxConcept\n",
    "import CodeSyntaxConcept.utils as utils\n",
    "\n",
    "import json\n",
    "from transformers import AutoTokenizer\n",
    "from tree_sitter import Language, Parser"
   ]
  },
  {
   "cell_type": "code",
   "execution_count": 3,
   "metadata": {},
   "outputs": [],
   "source": [
    "#| hide\n",
    "from nbdev.showdoc import *"
   ]
  },
  {
   "cell_type": "code",
   "execution_count": 4,
   "metadata": {},
   "outputs": [],
   "source": [
    "#| export\n",
    "def get_token_type(\n",
    "    tok_span: tuple, # (start, end) position of a token in tokenizer\n",
    "    nodes: list,     # list of tree-sitter nodes\n",
    "    lines: list,     # list of lines in the code\n",
    ") -> tuple: # (parent_type, token_type) of the token\n",
    "    \"\"\"Get the parent AST type and token AST type of a token.\"\"\"\n",
    "    def get_node_span(node):\n",
    "        start_span = utils.convert_to_offset(node.start_point, lines)\n",
    "        end_span = utils.convert_to_offset(node.end_point, lines)\n",
    "        return start_span, end_span\n",
    "    \n",
    "    node_spans = [get_node_span(node) for node in nodes]\n",
    "    for i, span in enumerate(node_spans):\n",
    "        if (span[0] <= tok_span[0] and tok_span[0] < span[1]) or (span[0] < tok_span[1] and tok_span[1] <= span[1]):\n",
    "            return nodes[i].parent.type, nodes[i].type"
   ]
  },
  {
   "cell_type": "code",
   "execution_count": 5,
   "metadata": {},
   "outputs": [],
   "source": [
    "#| export\n",
    "class CodeTokenizer():\n",
    "    \"\"\"A tokenizer for code, which aligns the tokens with the AST nodes.\"\"\"\n",
    "    def __init__(self, tokenizer, parser, node_types):\n",
    "        self.tokenizer = tokenizer\n",
    "        self.parser = parser\n",
    "        self.node_types = node_types\n",
    "    \n",
    "    def __call__(self, code):\n",
    "        encoding = self.tokenizer(code, return_offsets_mapping=True)\n",
    "        tree = self.parser.parse(bytes(code, \"utf8\"))\n",
    "        nodes = []\n",
    "        utils.traverse(tree.root_node, nodes)\n",
    "\n",
    "        encoding[\"ast_ids\"] = []\n",
    "        encoding[\"parent_ast_ids\"] = []\n",
    "        for i, (start, end) in enumerate(encoding.offset_mapping):\n",
    "            if encoding[\"input_ids\"][i] in self.tokenizer.all_special_ids:\n",
    "                encoding[\"ast_ids\"].append(-1)\n",
    "                encoding[\"parent_ast_ids\"].append(-1)\n",
    "                continue\n",
    "            if start == None or end == None:\n",
    "                encoding[\"ast_ids\"].append(-1)\n",
    "                encoding[\"parent_ast_ids\"].append(-1)\n",
    "                continue\n",
    "            type_info = get_token_type((start, end), nodes, code.split(\"\\n\"))\n",
    "            if type_info is None:\n",
    "                encoding[\"ast_ids\"].append(-1)\n",
    "                encoding[\"parent_ast_ids\"].append(-1)\n",
    "            else:\n",
    "                parent_node_type, node_type = type_info\n",
    "                try:\n",
    "                    encoding[\"ast_ids\"].append(self.node_types.index(node_type))\n",
    "                    encoding[\"parent_ast_ids\"].append(self.node_types.index(parent_node_type))\n",
    "                except Exception as e:\n",
    "                    print(type_info)\n",
    "                    print(code)\n",
    "                    print(self.tokenizer.decode(encoding[\"input_ids\"][i]))\n",
    "                    encoding[\"ast_ids\"].append(-1)\n",
    "                    encoding[\"parent_ast_ids\"].append(-1)\n",
    "                    raise e\n",
    "            \n",
    "        return encoding\n",
    "\n",
    "    @staticmethod\n",
    "    def from_pretrained(\n",
    "        name_or_path: str,  # name or path of the tokenizer\n",
    "        lang: str,          # language of the tokenizer\n",
    "    ):                      # CodeTokenizer for the given language\n",
    "        \"\"\"Create a CodeTokenizer from a pretrained tokenizer for a given language.\"\"\"\n",
    "        tokenizer = AutoTokenizer.from_pretrained(name_or_path)\n",
    "\n",
    "        # Grab the node types from the tree-sitter language\n",
    "        language = Language(f\"{CodeSyntaxConcept.__path__[0]}/grammars/tree-sitter-languages.so\", lang)\n",
    "        node_path = f\"{CodeSyntaxConcept.__path__[0]}/grammars/tree-sitter-{lang}/src/node-types.json\"\n",
    "        with open(node_path) as f:\n",
    "            node_types = json.load(f)\n",
    "        node_types = utils.unroll_node_types(node_types)\n",
    "\n",
    "        # Create a parser for the language\n",
    "        parser = Parser()\n",
    "        parser.set_language(language)\n",
    "        \n",
    "        return CodeTokenizer(tokenizer, parser, node_types)"
   ]
  },
  {
   "cell_type": "markdown",
   "metadata": {},
   "source": [
    "# Testing"
   ]
  },
  {
   "cell_type": "code",
   "execution_count": 6,
   "metadata": {},
   "outputs": [
    {
     "name": "stdout",
     "output_type": "stream",
     "text": [
      "/home/svelascodimate/miniconda3/envs/code-syntax-concept/lib/python3.10/site-packages/CodeSyntaxConcept/grammars\n"
     ]
    }
   ],
   "source": [
    "from CodeSyntaxConcept import loader\n",
    "\n",
    "\"\"\"define language\"\"\"\n",
    "python_language = \"python\"\n",
    "\n",
    "languages = [python_language]\n",
    "\n",
    "loader.download_grammars(languages)"
   ]
  },
  {
   "cell_type": "code",
   "execution_count": 7,
   "metadata": {},
   "outputs": [
    {
     "name": "stdout",
     "output_type": "stream",
     "text": [
      "('ERROR', 'identifier')\n",
      "def reserve_free_tcp_port(self):\n",
      "        \"\"\"\"\"\"\n",
      "        Reserve free TCP port to be used by Cloud SQL Proxy\n",
      "        \"\"\"\"\"\"\n",
      "        self.reserved_tcp_socket = socket.socket(socket.AF_INET, socket.SOCK_STREAM)\n",
      "        self.reserved_tcp_socket.bind(('127.0.0.1', 0))\n",
      "        self.sql_proxy_tcp_port = self.reserved_tcp_socket.getsockname()[1]\n",
      " Reserve\n"
     ]
    },
    {
     "ename": "ValueError",
     "evalue": "'ERROR' is not in list",
     "output_type": "error",
     "traceback": [
      "\u001b[0;31m---------------------------------------------------------------------------\u001b[0m",
      "\u001b[0;31mValueError\u001b[0m                                Traceback (most recent call last)",
      "Cell \u001b[0;32mIn [7], line 8\u001b[0m\n\u001b[1;32m      4\u001b[0m code \u001b[39m=\u001b[39m  \u001b[39m\"\u001b[39m\u001b[39mdef reserve_free_tcp_port(self):\u001b[39m\u001b[39m\\n\u001b[39;00m\u001b[39m        \u001b[39m\u001b[39m\\\"\u001b[39;00m\u001b[39m\\\"\u001b[39;00m\u001b[39m\\\"\u001b[39;00m\u001b[39m\\\"\u001b[39;00m\u001b[39m\\\"\u001b[39;00m\u001b[39m\\\"\u001b[39;00m\u001b[39m\\n\u001b[39;00m\u001b[39m        Reserve free TCP port to be used by Cloud SQL Proxy\u001b[39m\u001b[39m\\n\u001b[39;00m\u001b[39m        \u001b[39m\u001b[39m\\\"\u001b[39;00m\u001b[39m\\\"\u001b[39;00m\u001b[39m\\\"\u001b[39;00m\u001b[39m\\\"\u001b[39;00m\u001b[39m\\\"\u001b[39;00m\u001b[39m\\\"\u001b[39;00m\u001b[39m\\n\u001b[39;00m\u001b[39m        self.reserved_tcp_socket = socket.socket(socket.AF_INET, socket.SOCK_STREAM)\u001b[39m\u001b[39m\\n\u001b[39;00m\u001b[39m        self.reserved_tcp_socket.bind((\u001b[39m\u001b[39m'\u001b[39m\u001b[39m127.0.0.1\u001b[39m\u001b[39m'\u001b[39m\u001b[39m, 0))\u001b[39m\u001b[39m\\n\u001b[39;00m\u001b[39m        self.sql_proxy_tcp_port = self.reserved_tcp_socket.getsockname()[1]\u001b[39m\u001b[39m\"\u001b[39m\n\u001b[1;32m      6\u001b[0m \u001b[39m#print(py_tokenizer.node_types)\u001b[39;00m\n\u001b[0;32m----> 8\u001b[0m encoding \u001b[39m=\u001b[39m py_tokenizer(code)\n\u001b[1;32m     10\u001b[0m \u001b[39massert\u001b[39;00m \u001b[39m\"\u001b[39m\u001b[39mast_ids\u001b[39m\u001b[39m\"\u001b[39m \u001b[39min\u001b[39;00m encoding\n\u001b[1;32m     11\u001b[0m \u001b[39massert\u001b[39;00m \u001b[39m\"\u001b[39m\u001b[39mparent_ast_ids\u001b[39m\u001b[39m\"\u001b[39m \u001b[39min\u001b[39;00m encoding\n",
      "Cell \u001b[0;32mIn [5], line 41\u001b[0m, in \u001b[0;36mCodeTokenizer.__call__\u001b[0;34m(self, code)\u001b[0m\n\u001b[1;32m     39\u001b[0m             encoding[\u001b[39m\"\u001b[39m\u001b[39mast_ids\u001b[39m\u001b[39m\"\u001b[39m]\u001b[39m.\u001b[39mappend(\u001b[39m-\u001b[39m\u001b[39m1\u001b[39m)\n\u001b[1;32m     40\u001b[0m             encoding[\u001b[39m\"\u001b[39m\u001b[39mparent_ast_ids\u001b[39m\u001b[39m\"\u001b[39m]\u001b[39m.\u001b[39mappend(\u001b[39m-\u001b[39m\u001b[39m1\u001b[39m)\n\u001b[0;32m---> 41\u001b[0m             \u001b[39mraise\u001b[39;00m e\n\u001b[1;32m     43\u001b[0m \u001b[39mreturn\u001b[39;00m encoding\n",
      "Cell \u001b[0;32mIn [5], line 34\u001b[0m, in \u001b[0;36mCodeTokenizer.__call__\u001b[0;34m(self, code)\u001b[0m\n\u001b[1;32m     32\u001b[0m \u001b[39mtry\u001b[39;00m:\n\u001b[1;32m     33\u001b[0m     encoding[\u001b[39m\"\u001b[39m\u001b[39mast_ids\u001b[39m\u001b[39m\"\u001b[39m]\u001b[39m.\u001b[39mappend(\u001b[39mself\u001b[39m\u001b[39m.\u001b[39mnode_types\u001b[39m.\u001b[39mindex(node_type))\n\u001b[0;32m---> 34\u001b[0m     encoding[\u001b[39m\"\u001b[39m\u001b[39mparent_ast_ids\u001b[39m\u001b[39m\"\u001b[39m]\u001b[39m.\u001b[39mappend(\u001b[39mself\u001b[39;49m\u001b[39m.\u001b[39;49mnode_types\u001b[39m.\u001b[39;49mindex(parent_node_type))\n\u001b[1;32m     35\u001b[0m \u001b[39mexcept\u001b[39;00m \u001b[39mException\u001b[39;00m \u001b[39mas\u001b[39;00m e:\n\u001b[1;32m     36\u001b[0m     \u001b[39mprint\u001b[39m(type_info)\n",
      "\u001b[0;31mValueError\u001b[0m: 'ERROR' is not in list"
     ]
    }
   ],
   "source": [
    "# test the tokenizer\n",
    "py_tokenizer = CodeTokenizer.from_pretrained(\"gpt2\", \"python\")\n",
    "code = \"def foo():\\n    print('hello world')\"\n",
    "#code =  \"def reserve_free_tcp_port(self):\\n        \\\"\\\"\\\"\\\"\\\"\\\"\\n        Reserve free TCP port to be used by Cloud SQL Proxy\\n        \\\"\\\"\\\"\\\"\\\"\\\"\\n        self.reserved_tcp_socket = socket.socket(socket.AF_INET, socket.SOCK_STREAM)\\n        self.reserved_tcp_socket.bind(('127.0.0.1', 0))\\n        self.sql_proxy_tcp_port = self.reserved_tcp_socket.getsockname()[1]\"\n",
    "\n",
    "#print(py_tokenizer.node_types)\n",
    "\n",
    "encoding = py_tokenizer(code)\n",
    "\n",
    "assert \"ast_ids\" in encoding\n",
    "assert \"parent_ast_ids\" in encoding\n",
    "assert len(encoding[\"ast_ids\"]) == len(encoding[\"input_ids\"])\n",
    "assert len(encoding[\"parent_ast_ids\"]) == len(encoding[\"input_ids\"])\n",
    "\n",
    "print(encoding)\n",
    "print(py_tokenizer.tokenizer.convert_ids_to_tokens(encoding[\"input_ids\"]))"
   ]
  }
 ],
 "metadata": {
  "kernelspec": {
   "display_name": "Python 3.10.8 (conda)",
   "language": "python",
   "name": "python3"
  },
  "language_info": {
   "codemirror_mode": {
    "name": "ipython",
    "version": 3
   },
   "file_extension": ".py",
   "mimetype": "text/x-python",
   "name": "python",
   "nbconvert_exporter": "python",
   "pygments_lexer": "ipython3",
   "version": "3.10.8"
  },
  "orig_nbformat": 4,
  "vscode": {
   "interpreter": {
    "hash": "49b68b9c38357b2088122ab1ddc655dffe83bd2309642e44c64d6d94a1d66aec"
   }
  }
 },
 "nbformat": 4,
 "nbformat_minor": 2
}
