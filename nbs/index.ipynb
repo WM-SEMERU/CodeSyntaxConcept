{
 "cells": [
  {
   "attachments": {},
   "cell_type": "markdown",
   "metadata": {},
   "source": [
    "# ASTxplainer\n",
    "## Evaluating and Explaining LLMs for Code Using Syntactic Structures\n",
    "\n",
    "> Syntax Code Concept Library for Neural Code Model Interpretability (API)[https://github.com/WM-SEMERU/CodeSyntaxConcept]"
   ]
  },
  {
   "attachments": {},
   "cell_type": "markdown",
   "metadata": {},
   "source": [
    "## What is ASTxplainer?\n",
    "ASTxplainer is an explainability method specific to LLMs for code. ASTxplainer enables both new methods for LLM evaluation and visualizations of LLM predictions that aid end-users in understanding model predictions. At its core, ASTxplainer provides an automated method for aligning token predictions with AST nodes, by extracting and aggregating normalized model logits within AST structures. Our approach is composed of AsC-*Eval*, AsC-*Causal*, and AsC-*Viz*\n",
    "\n",
    "![boxplot](/figures/approach/AstEval.png \"Approach\")\n",
    "\n",
    "The preconditions to use ASTxplainer is to have held-out testbed and a LLM under analysis. The first step, **inference**, is to generate Next Token Predictions of each sample in the testbed. The second, **evaluation**, step is to compute *Cross-Entropy Loss* and our aggregation metric AsC-*Eval*. The third step, **explainability**, measures the causal effect of AsC-*Eval* to Cross-Entropy. "
   ]
  },
  {
   "attachments": {},
   "cell_type": "markdown",
   "metadata": {},
   "source": [
    "## What is AsC-*Eval*?\n",
    "![boxplot](/figures/approach/asceval.png \"Eval\")"
   ]
  },
  {
   "attachments": {},
   "cell_type": "markdown",
   "metadata": {},
   "source": [
    "## What is AsC-*Causal*?\n",
    "![boxplot](/figures/approach/asccausal.png \"Causal\")"
   ]
  },
  {
   "attachments": {},
   "cell_type": "markdown",
   "metadata": {},
   "source": [
    "## Replication Package"
   ]
  },
  {
   "attachments": {},
   "cell_type": "markdown",
   "metadata": {},
   "source": [
    "### Code & Data\n",
    "Below we provide links to the ASTxplainer data set and framework API. "
   ]
  },
  {
   "attachments": {},
   "cell_type": "markdown",
   "metadata": {},
   "source": [
    "Step 4 - install dependencies\n",
    "\n",
    "```sh\n",
    "pip install .\n",
    "```"
   ]
  },
  {
   "attachments": {},
   "cell_type": "markdown",
   "metadata": {},
   "source": [
    "## Empirical Results\n",
    "### RQ1 AsC Performance Evaluation\n",
    "![boxplot](/figures/results/rq1/ascperformance.png \"ascperformance\")\n",
    "\n",
    "### RQ2 Empirical Causal Evaluation\n",
    "![boxplot](/figures/results/rq2/output_2.7B_corr_loss.png \"corr_loss_ccp\")\n",
    "\n",
    "### RQ3 User Study on AsC Visualization\n",
    "![boxplot](/figures/approach/ascviz.png \"ascviz\")"
   ]
  }
 ],
 "metadata": {
  "kernelspec": {
   "display_name": "python3",
   "language": "python",
   "name": "python3"
  }
 },
 "nbformat": 4,
 "nbformat_minor": 4
}
